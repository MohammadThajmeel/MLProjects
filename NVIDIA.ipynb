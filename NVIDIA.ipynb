{
 "cells": [
  {
   "cell_type": "code",
   "execution_count": 1,
   "id": "f0c0d514-add0-47d5-9b38-0995a6c39181",
   "metadata": {},
   "outputs": [
    {
     "name": "stdout",
     "output_type": "stream",
     "text": [
      "Defaulting to user installation because normal site-packages is not writeable\n",
      "Requirement already satisfied: autots in c:\\users\\moham\\appdata\\local\\packages\\pythonsoftwarefoundation.python.3.12_qbz5n2kfra8p0\\localcache\\local-packages\\python312\\site-packages (0.6.14)\n",
      "Requirement already satisfied: numpy>=1.14.6 in c:\\users\\moham\\appdata\\local\\packages\\pythonsoftwarefoundation.python.3.12_qbz5n2kfra8p0\\localcache\\local-packages\\python312\\site-packages (from autots) (1.26.4)\n",
      "Requirement already satisfied: pandas>=0.25.0 in c:\\users\\moham\\appdata\\local\\packages\\pythonsoftwarefoundation.python.3.12_qbz5n2kfra8p0\\localcache\\local-packages\\python312\\site-packages (from autots) (2.2.1)\n",
      "Requirement already satisfied: statsmodels>=0.10.0 in c:\\users\\moham\\appdata\\local\\packages\\pythonsoftwarefoundation.python.3.12_qbz5n2kfra8p0\\localcache\\local-packages\\python312\\site-packages (from autots) (0.14.2)\n",
      "Requirement already satisfied: scikit-learn>=0.20.0 in c:\\users\\moham\\appdata\\local\\packages\\pythonsoftwarefoundation.python.3.12_qbz5n2kfra8p0\\localcache\\local-packages\\python312\\site-packages (from autots) (1.4.1.post1)\n",
      "Requirement already satisfied: python-dateutil>=2.8.2 in c:\\users\\moham\\appdata\\local\\packages\\pythonsoftwarefoundation.python.3.12_qbz5n2kfra8p0\\localcache\\local-packages\\python312\\site-packages (from pandas>=0.25.0->autots) (2.9.0.post0)\n",
      "Requirement already satisfied: pytz>=2020.1 in c:\\users\\moham\\appdata\\local\\packages\\pythonsoftwarefoundation.python.3.12_qbz5n2kfra8p0\\localcache\\local-packages\\python312\\site-packages (from pandas>=0.25.0->autots) (2024.1)\n",
      "Requirement already satisfied: tzdata>=2022.7 in c:\\users\\moham\\appdata\\local\\packages\\pythonsoftwarefoundation.python.3.12_qbz5n2kfra8p0\\localcache\\local-packages\\python312\\site-packages (from pandas>=0.25.0->autots) (2024.1)\n",
      "Requirement already satisfied: scipy>=1.6.0 in c:\\users\\moham\\appdata\\local\\packages\\pythonsoftwarefoundation.python.3.12_qbz5n2kfra8p0\\localcache\\local-packages\\python312\\site-packages (from scikit-learn>=0.20.0->autots) (1.12.0)\n",
      "Requirement already satisfied: joblib>=1.2.0 in c:\\users\\moham\\appdata\\local\\packages\\pythonsoftwarefoundation.python.3.12_qbz5n2kfra8p0\\localcache\\local-packages\\python312\\site-packages (from scikit-learn>=0.20.0->autots) (1.3.2)\n",
      "Requirement already satisfied: threadpoolctl>=2.0.0 in c:\\users\\moham\\appdata\\local\\packages\\pythonsoftwarefoundation.python.3.12_qbz5n2kfra8p0\\localcache\\local-packages\\python312\\site-packages (from scikit-learn>=0.20.0->autots) (3.4.0)\n",
      "Requirement already satisfied: patsy>=0.5.6 in c:\\users\\moham\\appdata\\local\\packages\\pythonsoftwarefoundation.python.3.12_qbz5n2kfra8p0\\localcache\\local-packages\\python312\\site-packages (from statsmodels>=0.10.0->autots) (0.5.6)\n",
      "Requirement already satisfied: packaging>=21.3 in c:\\users\\moham\\appdata\\local\\packages\\pythonsoftwarefoundation.python.3.12_qbz5n2kfra8p0\\localcache\\local-packages\\python312\\site-packages (from statsmodels>=0.10.0->autots) (24.0)\n",
      "Requirement already satisfied: six in c:\\users\\moham\\appdata\\local\\packages\\pythonsoftwarefoundation.python.3.12_qbz5n2kfra8p0\\localcache\\local-packages\\python312\\site-packages (from patsy>=0.5.6->statsmodels>=0.10.0->autots) (1.16.0)\n",
      "Note: you may need to restart the kernel to use updated packages.\n"
     ]
    }
   ],
   "source": [
    "pip install autots"
   ]
  },
  {
   "cell_type": "code",
   "execution_count": 3,
   "id": "855b610a-b842-4c7a-b2a6-ea39eeecca2f",
   "metadata": {},
   "outputs": [],
   "source": [
    "import pandas as pd"
   ]
  },
  {
   "cell_type": "code",
   "execution_count": 4,
   "id": "f95416e6-f8e6-4487-a464-843e2f232ee1",
   "metadata": {},
   "outputs": [
    {
     "ename": "ModuleNotFoundError",
     "evalue": "No module named 'matplotlib.pylot'",
     "output_type": "error",
     "traceback": [
      "\u001b[1;31m---------------------------------------------------------------------------\u001b[0m",
      "\u001b[1;31mModuleNotFoundError\u001b[0m                       Traceback (most recent call last)",
      "Cell \u001b[1;32mIn[4], line 1\u001b[0m\n\u001b[1;32m----> 1\u001b[0m \u001b[38;5;28;01mimport\u001b[39;00m \u001b[38;5;21;01mmatplotlib\u001b[39;00m\u001b[38;5;21;01m.\u001b[39;00m\u001b[38;5;21;01mpylot\u001b[39;00m \u001b[38;5;28;01mas\u001b[39;00m \u001b[38;5;21;01mplt\u001b[39;00m\n",
      "\u001b[1;31mModuleNotFoundError\u001b[0m: No module named 'matplotlib.pylot'"
     ]
    }
   ],
   "source": [
    "import matplotlib.pylot as plt"
   ]
  },
  {
   "cell_type": "code",
   "execution_count": 5,
   "id": "d0e6a46d-40e3-49a0-af38-5b63d7f07a5f",
   "metadata": {},
   "outputs": [
    {
     "name": "stdout",
     "output_type": "stream",
     "text": [
      "Defaulting to user installation because normal site-packages is not writeable\n",
      "Requirement already satisfied: matplotlib in c:\\users\\moham\\appdata\\local\\packages\\pythonsoftwarefoundation.python.3.12_qbz5n2kfra8p0\\localcache\\local-packages\\python312\\site-packages (3.9.0)\n",
      "Requirement already satisfied: contourpy>=1.0.1 in c:\\users\\moham\\appdata\\local\\packages\\pythonsoftwarefoundation.python.3.12_qbz5n2kfra8p0\\localcache\\local-packages\\python312\\site-packages (from matplotlib) (1.2.1)\n",
      "Requirement already satisfied: cycler>=0.10 in c:\\users\\moham\\appdata\\local\\packages\\pythonsoftwarefoundation.python.3.12_qbz5n2kfra8p0\\localcache\\local-packages\\python312\\site-packages (from matplotlib) (0.12.1)\n",
      "Requirement already satisfied: fonttools>=4.22.0 in c:\\users\\moham\\appdata\\local\\packages\\pythonsoftwarefoundation.python.3.12_qbz5n2kfra8p0\\localcache\\local-packages\\python312\\site-packages (from matplotlib) (4.53.0)\n",
      "Requirement already satisfied: kiwisolver>=1.3.1 in c:\\users\\moham\\appdata\\local\\packages\\pythonsoftwarefoundation.python.3.12_qbz5n2kfra8p0\\localcache\\local-packages\\python312\\site-packages (from matplotlib) (1.4.5)\n",
      "Requirement already satisfied: numpy>=1.23 in c:\\users\\moham\\appdata\\local\\packages\\pythonsoftwarefoundation.python.3.12_qbz5n2kfra8p0\\localcache\\local-packages\\python312\\site-packages (from matplotlib) (1.26.4)\n",
      "Requirement already satisfied: packaging>=20.0 in c:\\users\\moham\\appdata\\local\\packages\\pythonsoftwarefoundation.python.3.12_qbz5n2kfra8p0\\localcache\\local-packages\\python312\\site-packages (from matplotlib) (24.0)\n",
      "Requirement already satisfied: pillow>=8 in c:\\users\\moham\\appdata\\local\\packages\\pythonsoftwarefoundation.python.3.12_qbz5n2kfra8p0\\localcache\\local-packages\\python312\\site-packages (from matplotlib) (10.3.0)\n",
      "Requirement already satisfied: pyparsing>=2.3.1 in c:\\users\\moham\\appdata\\local\\packages\\pythonsoftwarefoundation.python.3.12_qbz5n2kfra8p0\\localcache\\local-packages\\python312\\site-packages (from matplotlib) (3.1.2)\n",
      "Requirement already satisfied: python-dateutil>=2.7 in c:\\users\\moham\\appdata\\local\\packages\\pythonsoftwarefoundation.python.3.12_qbz5n2kfra8p0\\localcache\\local-packages\\python312\\site-packages (from matplotlib) (2.9.0.post0)\n",
      "Requirement already satisfied: six>=1.5 in c:\\users\\moham\\appdata\\local\\packages\\pythonsoftwarefoundation.python.3.12_qbz5n2kfra8p0\\localcache\\local-packages\\python312\\site-packages (from python-dateutil>=2.7->matplotlib) (1.16.0)\n",
      "Note: you may need to restart the kernel to use updated packages.\n"
     ]
    }
   ],
   "source": [
    "pip install matplotlib"
   ]
  },
  {
   "cell_type": "code",
   "execution_count": 6,
   "id": "b2f5132f-f1c6-44ce-851f-fe0465ba6ef7",
   "metadata": {},
   "outputs": [
    {
     "ename": "ModuleNotFoundError",
     "evalue": "No module named 'matplotlib.pylot'",
     "output_type": "error",
     "traceback": [
      "\u001b[1;31m---------------------------------------------------------------------------\u001b[0m",
      "\u001b[1;31mModuleNotFoundError\u001b[0m                       Traceback (most recent call last)",
      "Cell \u001b[1;32mIn[6], line 1\u001b[0m\n\u001b[1;32m----> 1\u001b[0m \u001b[38;5;28;01mimport\u001b[39;00m \u001b[38;5;21;01mmatplotlib\u001b[39;00m\u001b[38;5;21;01m.\u001b[39;00m\u001b[38;5;21;01mpylot\u001b[39;00m \u001b[38;5;28;01mas\u001b[39;00m \u001b[38;5;21;01mplt\u001b[39;00m\n",
      "\u001b[1;31mModuleNotFoundError\u001b[0m: No module named 'matplotlib.pylot'"
     ]
    }
   ],
   "source": [
    "import matplotlib.pylot as plt"
   ]
  },
  {
   "cell_type": "code",
   "execution_count": 7,
   "id": "d3fcd942-be30-4c5d-a349-189de9473cef",
   "metadata": {},
   "outputs": [],
   "source": [
    "import matplotlib.pyplot as plt"
   ]
  },
  {
   "cell_type": "code",
   "execution_count": 8,
   "id": "d6be733c-8371-4b58-8457-24dda1020a09",
   "metadata": {},
   "outputs": [
    {
     "ename": "SyntaxError",
     "evalue": "f-string: unmatched ')' (2146878769.py, line 10)",
     "output_type": "error",
     "traceback": [
      "\u001b[1;36m  Cell \u001b[1;32mIn[8], line 10\u001b[1;36m\u001b[0m\n\u001b[1;33m    print(f\"File not found: {\"C:/Users/moham/OneDrive/Desktop/NVDA (1).csv\")\u001b[0m\n\u001b[1;37m                                                                           ^\u001b[0m\n\u001b[1;31mSyntaxError\u001b[0m\u001b[1;31m:\u001b[0m f-string: unmatched ')'\n"
     ]
    }
   ],
   "source": [
    "import pandas as pd\n",
    "\n",
    "# Use the correct file path\n",
    "file_path = \"C:/Users/moham/OneDrive/Desktop/NVDA (1).csv\"\n",
    "\n",
    "try:\n",
    "    data = pd.read_csv(\"C:/Users/moham/OneDrive/Desktop/NVDA (1).csv\")\n",
    "    print(\"File loaded successfully\")\n",
    "except FileNotFoundError:\n",
    "    print(f\"File not found: {\"C:/Users/moham/OneDrive/Desktop/NVDA (1).csv\")"
   ]
  },
  {
   "cell_type": "code",
   "execution_count": 9,
   "id": "b502b800-9ff9-43a9-a94b-1ac1ce3c82e5",
   "metadata": {},
   "outputs": [],
   "source": [
    "data = pd.read_csv(\"NVDA (1).csv\")"
   ]
  },
  {
   "cell_type": "code",
   "execution_count": 10,
   "id": "abf910de-1397-46c5-8c73-94fd0f5db772",
   "metadata": {},
   "outputs": [
    {
     "data": {
      "text/html": [
       "<div>\n",
       "<style scoped>\n",
       "    .dataframe tbody tr th:only-of-type {\n",
       "        vertical-align: middle;\n",
       "    }\n",
       "\n",
       "    .dataframe tbody tr th {\n",
       "        vertical-align: top;\n",
       "    }\n",
       "\n",
       "    .dataframe thead th {\n",
       "        text-align: right;\n",
       "    }\n",
       "</style>\n",
       "<table border=\"1\" class=\"dataframe\">\n",
       "  <thead>\n",
       "    <tr style=\"text-align: right;\">\n",
       "      <th></th>\n",
       "      <th>Date</th>\n",
       "      <th>Open</th>\n",
       "      <th>High</th>\n",
       "      <th>Low</th>\n",
       "      <th>Close</th>\n",
       "      <th>Adj Close</th>\n",
       "      <th>Volume</th>\n",
       "    </tr>\n",
       "  </thead>\n",
       "  <tbody>\n",
       "    <tr>\n",
       "      <th>0</th>\n",
       "      <td>6/25/2019</td>\n",
       "      <td>3.821500</td>\n",
       "      <td>3.897000</td>\n",
       "      <td>3.784250</td>\n",
       "      <td>3.787000</td>\n",
       "      <td>3.765265</td>\n",
       "      <td>311868000</td>\n",
       "    </tr>\n",
       "    <tr>\n",
       "      <th>1</th>\n",
       "      <td>6/26/2019</td>\n",
       "      <td>3.915250</td>\n",
       "      <td>4.043000</td>\n",
       "      <td>3.902250</td>\n",
       "      <td>3.981500</td>\n",
       "      <td>3.958648</td>\n",
       "      <td>584072000</td>\n",
       "    </tr>\n",
       "    <tr>\n",
       "      <th>2</th>\n",
       "      <td>6/27/2019</td>\n",
       "      <td>4.067750</td>\n",
       "      <td>4.100000</td>\n",
       "      <td>4.031500</td>\n",
       "      <td>4.080750</td>\n",
       "      <td>4.057328</td>\n",
       "      <td>445440000</td>\n",
       "    </tr>\n",
       "    <tr>\n",
       "      <th>3</th>\n",
       "      <td>6/28/2019</td>\n",
       "      <td>4.125000</td>\n",
       "      <td>4.134250</td>\n",
       "      <td>4.058750</td>\n",
       "      <td>4.105750</td>\n",
       "      <td>4.082185</td>\n",
       "      <td>397668000</td>\n",
       "    </tr>\n",
       "    <tr>\n",
       "      <th>4</th>\n",
       "      <td>7/1/2019</td>\n",
       "      <td>4.314250</td>\n",
       "      <td>4.348750</td>\n",
       "      <td>4.116500</td>\n",
       "      <td>4.154250</td>\n",
       "      <td>4.130407</td>\n",
       "      <td>709756000</td>\n",
       "    </tr>\n",
       "    <tr>\n",
       "      <th>...</th>\n",
       "      <td>...</td>\n",
       "      <td>...</td>\n",
       "      <td>...</td>\n",
       "      <td>...</td>\n",
       "      <td>...</td>\n",
       "      <td>...</td>\n",
       "      <td>...</td>\n",
       "    </tr>\n",
       "    <tr>\n",
       "      <th>1254</th>\n",
       "      <td>6/18/2024</td>\n",
       "      <td>131.139999</td>\n",
       "      <td>136.330002</td>\n",
       "      <td>130.690002</td>\n",
       "      <td>135.580002</td>\n",
       "      <td>135.580002</td>\n",
       "      <td>294335100</td>\n",
       "    </tr>\n",
       "    <tr>\n",
       "      <th>1255</th>\n",
       "      <td>6/20/2024</td>\n",
       "      <td>139.800003</td>\n",
       "      <td>140.759995</td>\n",
       "      <td>129.520004</td>\n",
       "      <td>130.779999</td>\n",
       "      <td>130.779999</td>\n",
       "      <td>517768400</td>\n",
       "    </tr>\n",
       "    <tr>\n",
       "      <th>1256</th>\n",
       "      <td>6/21/2024</td>\n",
       "      <td>127.120003</td>\n",
       "      <td>130.630005</td>\n",
       "      <td>124.300003</td>\n",
       "      <td>126.570000</td>\n",
       "      <td>126.570000</td>\n",
       "      <td>655484700</td>\n",
       "    </tr>\n",
       "    <tr>\n",
       "      <th>1257</th>\n",
       "      <td>6/24/2024</td>\n",
       "      <td>123.239998</td>\n",
       "      <td>124.459999</td>\n",
       "      <td>118.040001</td>\n",
       "      <td>118.110001</td>\n",
       "      <td>118.110001</td>\n",
       "      <td>476060900</td>\n",
       "    </tr>\n",
       "    <tr>\n",
       "      <th>1258</th>\n",
       "      <td>6/25/2024</td>\n",
       "      <td>121.199997</td>\n",
       "      <td>126.500000</td>\n",
       "      <td>119.320000</td>\n",
       "      <td>126.089996</td>\n",
       "      <td>126.089996</td>\n",
       "      <td>413127202</td>\n",
       "    </tr>\n",
       "  </tbody>\n",
       "</table>\n",
       "<p>1259 rows × 7 columns</p>\n",
       "</div>"
      ],
      "text/plain": [
       "           Date        Open        High         Low       Close   Adj Close  \\\n",
       "0     6/25/2019    3.821500    3.897000    3.784250    3.787000    3.765265   \n",
       "1     6/26/2019    3.915250    4.043000    3.902250    3.981500    3.958648   \n",
       "2     6/27/2019    4.067750    4.100000    4.031500    4.080750    4.057328   \n",
       "3     6/28/2019    4.125000    4.134250    4.058750    4.105750    4.082185   \n",
       "4      7/1/2019    4.314250    4.348750    4.116500    4.154250    4.130407   \n",
       "...         ...         ...         ...         ...         ...         ...   \n",
       "1254  6/18/2024  131.139999  136.330002  130.690002  135.580002  135.580002   \n",
       "1255  6/20/2024  139.800003  140.759995  129.520004  130.779999  130.779999   \n",
       "1256  6/21/2024  127.120003  130.630005  124.300003  126.570000  126.570000   \n",
       "1257  6/24/2024  123.239998  124.459999  118.040001  118.110001  118.110001   \n",
       "1258  6/25/2024  121.199997  126.500000  119.320000  126.089996  126.089996   \n",
       "\n",
       "         Volume  \n",
       "0     311868000  \n",
       "1     584072000  \n",
       "2     445440000  \n",
       "3     397668000  \n",
       "4     709756000  \n",
       "...         ...  \n",
       "1254  294335100  \n",
       "1255  517768400  \n",
       "1256  655484700  \n",
       "1257  476060900  \n",
       "1258  413127202  \n",
       "\n",
       "[1259 rows x 7 columns]"
      ]
     },
     "execution_count": 10,
     "metadata": {},
     "output_type": "execute_result"
    }
   ],
   "source": [
    "data"
   ]
  },
  {
   "cell_type": "code",
   "execution_count": 11,
   "id": "98e37e88-1e74-497b-bb86-5a876d26224f",
   "metadata": {},
   "outputs": [
    {
     "name": "stderr",
     "output_type": "stream",
     "text": [
      "C:\\Users\\moham\\AppData\\Local\\Temp\\ipykernel_23280\\3984801161.py:2: SettingWithCopyWarning: \n",
      "A value is trying to be set on a copy of a slice from a DataFrame.\n",
      "Try using .loc[row_indexer,col_indexer] = value instead\n",
      "\n",
      "See the caveats in the documentation: https://pandas.pydata.org/pandas-docs/stable/user_guide/indexing.html#returning-a-view-versus-a-copy\n",
      "  data[\"Date\"] = pd.to_datetime(data.Date)\n"
     ]
    },
    {
     "data": {
      "image/png": "[encoded data removed]",
      "text/plain": [
       "<Figure size 1200x800 with 1 Axes>"
      ]
     },
     "metadata": {},
     "output_type": "display_data"
    }
   ],
   "source": [
    "data = data[[\"Date\", \"Close\"]]\n",
    "data[\"Date\"] = pd.to_datetime(data.Date)\n",
    "data[\"Close\"].plot(figsize=(12, 8), title=\"NVIDIA Stock Prices\", fontsize=20, label=\"Close Price\")\n",
    "plt.legend()\n",
    "plt.grid()\n",
    "plt.show()"
   ]
  },
  {
   "cell_type": "code",
   "execution_count": 12,
   "id": "0bf7c970-4d95-456d-ba5e-6d8235d6dd3d",
   "metadata": {},
   "outputs": [
    {
     "name": "stdout",
     "output_type": "stream",
     "text": [
      "Using 6 cpus for n_jobs.\n",
      "Data frequency is: None, used frequency is: None\n",
      "Frequency is 'None'! Data frequency not recognized.\n",
      "Old data dropped by `drop_data_older_than_periods`.\n",
      "Model Number: 1 with model ARIMA in generation 0 of 20\n",
      "Model Number: 2 with model AverageValueNaive in generation 0 of 20\n",
      "Model Number: 3 with model AverageValueNaive in generation 0 of 20\n",
      "Model Number: 4 with model AverageValueNaive in generation 0 of 20\n",
      "Model Number: 5 with model DatepartRegression in generation 0 of 20\n",
      "Model Number: 6 with model DatepartRegression in generation 0 of 20\n",
      "Model Number: 7 with model DatepartRegression in generation 0 of 20\n"
     ]
    },
    {
     "name": "stderr",
     "output_type": "stream",
     "text": [
      "C:\\Users\\moham\\AppData\\Local\\Packages\\PythonSoftwareFoundation.Python.3.12_qbz5n2kfra8p0\\LocalCache\\local-packages\\Python312\\site-packages\\sklearn\\svm\\_classes.py:31: FutureWarning: The default value of `dual` will change from `True` to `'auto'` in 1.5. Set the value of `dual` explicitly to suppress the warning.\n",
      "  warnings.warn(\n",
      "C:\\Users\\moham\\AppData\\Local\\Packages\\PythonSoftwareFoundation.Python.3.12_qbz5n2kfra8p0\\LocalCache\\local-packages\\Python312\\site-packages\\sklearn\\svm\\_base.py:1237: ConvergenceWarning: Liblinear failed to converge, increase the number of iterations.\n",
      "  warnings.warn(\n"
     ]
    },
    {
     "name": "stdout",
     "output_type": "stream",
     "text": [
      "Model Number: 8 with model DatepartRegression in generation 0 of 20\n",
      "Template Eval Error: ImportError('Tensorflow not available, install with pip install tensorflow.') in model 8 in generation 0: DatepartRegression\n",
      "Model Number: 9 with model ETS in generation 0 of 20\n",
      "Model Number: 10 with model ETS in generation 0 of 20\n",
      "Model Number: 11 with model GLM in generation 0 of 20\n",
      "Model Number: 12 with model GLM in generation 0 of 20\n",
      "Model Number: 13 with model GLS in generation 0 of 20\n",
      "Model Number: 14 with model GLS in generation 0 of 20\n"
     ]
    },
    {
     "name": "stderr",
     "output_type": "stream",
     "text": [
      "C:\\Users\\moham\\AppData\\Local\\Packages\\PythonSoftwareFoundation.Python.3.12_qbz5n2kfra8p0\\LocalCache\\local-packages\\Python312\\site-packages\\sklearn\\neural_network\\_multilayer_perceptron.py:546: ConvergenceWarning: lbfgs failed to converge (status=1):\n",
      "STOP: TOTAL NO. of ITERATIONS REACHED LIMIT.\n",
      "\n",
      "Increase the number of iterations (max_iter) or scale the data as shown in:\n",
      "    https://scikit-learn.org/stable/modules/preprocessing.html\n",
      "  self.n_iter_ = _check_optimize_result(\"lbfgs\", opt_res, self.max_iter)\n"
     ]
    },
    {
     "name": "stdout",
     "output_type": "stream",
     "text": [
      "Model Number: 15 with model LastValueNaive in generation 0 of 20\n",
      "Model Number: 16 with model LastValueNaive in generation 0 of 20\n",
      "Model Number: 17 with model LastValueNaive in generation 0 of 20\n",
      "Model Number: 18 with model LastValueNaive in generation 0 of 20\n",
      "Model Number: 19 with model SeasonalNaive in generation 0 of 20\n",
      "Template Eval Error: Exception(\"Transformer PowerTransformer failed on fit from params rolling_mean_24 {'0': {}, '1': {'model': 'middle', 'decimals': 2, 'on_transform': False, 'on_inverse': True}, '2': {}}\") in model 19 in generation 0: SeasonalNaive\n",
      "Model Number: 20 with model SeasonalNaive in generation 0 of 20\n",
      "Model Number: 21 with model SeasonalNaive in generation 0 of 20\n",
      "Model Number: 22 with model UnobservedComponents in generation 0 of 20\n"
     ]
    },
    {
     "name": "stderr",
     "output_type": "stream",
     "text": [
      "C:\\Users\\moham\\AppData\\Local\\Packages\\PythonSoftwareFoundation.Python.3.12_qbz5n2kfra8p0\\LocalCache\\local-packages\\Python312\\site-packages\\sklearn\\preprocessing\\_data.py:3412: RuntimeWarning: overflow encountered in power\n",
      "  out[~pos] = -(np.power(-x[~pos] + 1, 2 - lmbda) - 1) / (2 - lmbda)\n"
     ]
    },
    {
     "name": "stdout",
     "output_type": "stream",
     "text": [
      "Model Number: 23 with model UnobservedComponents in generation 0 of 20\n",
      "Model Number: 24 with model UnobservedComponents in generation 0 of 20\n",
      "Model Number: 25 with model VAR in generation 0 of 20\n",
      "Template Eval Error: ValueError('Only gave one variable to VAR') in model 25 in generation 0: VAR\n",
      "Model Number: 26 with model VAR in generation 0 of 20\n",
      "Template Eval Error: ValueError('Only gave one variable to VAR') in model 26 in generation 0: VAR\n",
      "Model Number: 27 with model VECM in generation 0 of 20\n",
      "Template Eval Error: ValueError('Only gave one variable to VECM') in model 27 in generation 0: VECM\n",
      "Model Number: 28 with model VECM in generation 0 of 20\n",
      "Template Eval Error: ValueError('Only gave one variable to VECM') in model 28 in generation 0: VECM\n",
      "Model Number: 29 with model WindowRegression in generation 0 of 20\n",
      "Model Number: 30 with model ConstantNaive in generation 0 of 20\n"
     ]
    },
    {
     "name": "stderr",
     "output_type": "stream",
     "text": [
      "C:\\Users\\moham\\AppData\\Local\\Packages\\PythonSoftwareFoundation.Python.3.12_qbz5n2kfra8p0\\LocalCache\\local-packages\\Python312\\site-packages\\sklearn\\neural_network\\_multilayer_perceptron.py:546: ConvergenceWarning: lbfgs failed to converge (status=1):\n",
      "STOP: TOTAL NO. of ITERATIONS REACHED LIMIT.\n",
      "\n",
      "Increase the number of iterations (max_iter) or scale the data as shown in:\n",
      "    https://scikit-learn.org/stable/modules/preprocessing.html\n",
      "  self.n_iter_ = _check_optimize_result(\"lbfgs\", opt_res, self.max_iter)\n"
     ]
    },
    {
     "name": "stdout",
     "output_type": "stream",
     "text": [
      "Model Number: 31 with model FBProphet in generation 0 of 20\n",
      "Template Eval Error: ModuleNotFoundError(\"No module named 'fbprophet'\") in model 31 in generation 0: FBProphet\n",
      "Model Number: 32 with model MultivariateRegression in generation 0 of 20\n",
      "Model Number: 33 with model MultivariateRegression in generation 0 of 20\n",
      "Template Eval Error: ValueError(\"regression_type='User' but not future_regressor supplied.\") in model 33 in generation 0: MultivariateRegression\n",
      "Model Number: 34 with model DatepartRegression in generation 0 of 20\n",
      "Template Eval Error: ValueError(\"regression_type='User' but no future_regressor passed\") in model 34 in generation 0: DatepartRegression\n",
      "Model Number: 35 with model SeasonalNaive in generation 0 of 20\n",
      "Model Number: 36 with model DatepartRegression in generation 0 of 20\n",
      "Model Number: 37 with model UnobservedComponents in generation 0 of 20\n",
      "Model Number: 38 with model UnobservedComponents in generation 0 of 20\n",
      "Model Number: 39 with model ETS in generation 0 of 20\n",
      "Model Number: 40 with model VECM in generation 0 of 20\n",
      "Template Eval Error: ValueError('Only gave one variable to VECM') in model 40 in generation 0: VECM\n",
      "Model Number: 41 with model ARDL in generation 0 of 20\n",
      "Model Number: 42 with model MultivariateMotif in generation 0 of 20\n",
      "Model Number: 43 with model MultivariateMotif in generation 0 of 20\n",
      "Model Number: 44 with model UnivariateMotif in generation 0 of 20\n",
      "Model Number: 45 with model UnivariateMotif in generation 0 of 20\n",
      "Model Number: 46 with model SectionalMotif in generation 0 of 20\n",
      "Model Number: 47 with model SectionalMotif in generation 0 of 20\n",
      "Model Number: 48 with model MultivariateRegression in generation 0 of 20\n",
      "Model Number: 49 with model FBProphet in generation 0 of 20\n",
      "Template Eval Error: ModuleNotFoundError(\"No module named 'fbprophet'\") in model 49 in generation 0: FBProphet\n",
      "Model Number: 50 with model SeasonalNaive in generation 0 of 20\n",
      "Model Number: 51 with model DatepartRegression in generation 0 of 20\n",
      "Model Number: 52 with model NVAR in generation 0 of 20\n",
      "Model Number: 53 with model Theta in generation 0 of 20\n",
      "Model Number: 54 with model ARCH in generation 0 of 20\n",
      "Template Eval Error: ImportError('`arch` package must be installed from pip') in model 54 in generation 0: ARCH\n",
      "Model Number: 55 with model Cassandra in generation 0 of 20\n",
      "Model Number: 56 with model SeasonalityMotif in generation 0 of 20\n",
      "Model Number: 57 with model Cassandra in generation 0 of 20\n"
     ]
    },
    {
     "name": "stderr",
     "output_type": "stream",
     "text": [
      "C:\\Users\\moham\\AppData\\Local\\Packages\\PythonSoftwareFoundation.Python.3.12_qbz5n2kfra8p0\\LocalCache\\local-packages\\Python312\\site-packages\\numpy\\lib\\function_base.py:2897: RuntimeWarning: invalid value encountered in divide\n",
      "  c /= stddev[:, None]\n",
      "C:\\Users\\moham\\AppData\\Local\\Packages\\PythonSoftwareFoundation.Python.3.12_qbz5n2kfra8p0\\LocalCache\\local-packages\\Python312\\site-packages\\numpy\\lib\\function_base.py:2898: RuntimeWarning: invalid value encountered in divide\n",
      "  c /= stddev[None, :]\n",
      "C:\\Users\\moham\\AppData\\Local\\Packages\\PythonSoftwareFoundation.Python.3.12_qbz5n2kfra8p0\\LocalCache\\local-packages\\Python312\\site-packages\\autots\\tools\\transform.py:5472: FutureWarning: Downcasting object dtype arrays on .fillna, .ffill, .bfill is deprecated and will change in a future version. Call result.infer_objects(copy=False) instead. To opt-in to the future behavior, set `pd.set_option('future.no_silent_downcasting', True)`\n",
      "  df = df.fillna(0)\n",
      "C:\\Users\\moham\\AppData\\Local\\Packages\\PythonSoftwareFoundation.Python.3.12_qbz5n2kfra8p0\\LocalCache\\local-packages\\Python312\\site-packages\\autots\\tools\\transform.py:5472: FutureWarning: Downcasting object dtype arrays on .fillna, .ffill, .bfill is deprecated and will change in a future version. Call result.infer_objects(copy=False) instead. To opt-in to the future behavior, set `pd.set_option('future.no_silent_downcasting', True)`\n",
      "  df = df.fillna(0)\n",
      "C:\\Users\\moham\\AppData\\Local\\Packages\\PythonSoftwareFoundation.Python.3.12_qbz5n2kfra8p0\\LocalCache\\local-packages\\Python312\\site-packages\\numpy\\lib\\function_base.py:2897: RuntimeWarning: invalid value encountered in divide\n",
      "  c /= stddev[:, None]\n",
      "C:\\Users\\moham\\AppData\\Local\\Packages\\PythonSoftwareFoundation.Python.3.12_qbz5n2kfra8p0\\LocalCache\\local-packages\\Python312\\site-packages\\numpy\\lib\\function_base.py:2898: RuntimeWarning: invalid value encountered in divide\n",
      "  c /= stddev[None, :]\n"
     ]
    },
    {
     "name": "stdout",
     "output_type": "stream",
     "text": [
      "Model Number: 58 with model Cassandra in generation 0 of 20\n",
      "FillNA method `pad` not known, returning original\n",
      "Model Number: 59 with model Cassandra in generation 0 of 20\n"
     ]
    },
    {
     "name": "stderr",
     "output_type": "stream",
     "text": [
      "C:\\Users\\moham\\AppData\\Local\\Packages\\PythonSoftwareFoundation.Python.3.12_qbz5n2kfra8p0\\LocalCache\\local-packages\\Python312\\site-packages\\numpy\\lib\\function_base.py:2897: RuntimeWarning: invalid value encountered in divide\n",
      "  c /= stddev[:, None]\n",
      "C:\\Users\\moham\\AppData\\Local\\Packages\\PythonSoftwareFoundation.Python.3.12_qbz5n2kfra8p0\\LocalCache\\local-packages\\Python312\\site-packages\\numpy\\lib\\function_base.py:2898: RuntimeWarning: invalid value encountered in divide\n",
      "  c /= stddev[None, :]\n"
     ]
    },
    {
     "name": "stdout",
     "output_type": "stream",
     "text": [
      "Model Number: 60 with model DMD in generation 0 of 20\n",
      "Model Number: 61 with model DMD in generation 0 of 20\n",
      "Model Number: 62 with model ConstantNaive in generation 0 of 20\n",
      "Model Number: 63 with model LastValueNaive in generation 0 of 20\n",
      "Model Number: 64 with model AverageValueNaive in generation 0 of 20\n",
      "Model Number: 65 with model GLS in generation 0 of 20\n",
      "Model Number: 66 with model SeasonalNaive in generation 0 of 20\n",
      "Model Number: 67 with model GLM in generation 0 of 20\n",
      "Model Number: 68 with model ETS in generation 0 of 20\n",
      "Model Number: 69 with model FBProphet in generation 0 of 20\n",
      "Template Eval Error: ValueError(\"regression_type='User' but no future_regressor passed\") in model 69 in generation 0: FBProphet\n",
      "Model Number: 70 with model UnobservedComponents in generation 0 of 20\n",
      "Model Number: 71 with model VAR in generation 0 of 20\n",
      "Template Eval Error: ValueError('Only gave one variable to VAR') in model 71 in generation 0: VAR\n",
      "Model Number: 72 with model VECM in generation 0 of 20\n",
      "Template Eval Error: ValueError(\"regression_type='User' but no future_regressor supplied\") in model 72 in generation 0: VECM\n",
      "Model Number: 73 with model ARIMA in generation 0 of 20\n",
      "Template Eval Error: ValueError(\"regression_type='User' but future_regressor not supplied\") in model 73 in generation 0: ARIMA\n",
      "Model Number: 74 with model WindowRegression in generation 0 of 20\n",
      "Model Number: 75 with model DatepartRegression in generation 0 of 20\n",
      "Model Number: 76 with model MultivariateRegression in generation 0 of 20\n",
      "Template Eval Error: ValueError(\"regression_type='User' but not future_regressor supplied.\") in model 76 in generation 0: MultivariateRegression\n",
      "Model Number: 77 with model UnivariateMotif in generation 0 of 20\n",
      "Model Number: 78 with model MultivariateMotif in generation 0 of 20\n",
      "Template Eval Error: IndexError('index 170 is out of bounds for axis 0 with size 1') in model 78 in generation 0: MultivariateMotif\n",
      "Model Number: 79 with model SectionalMotif in generation 0 of 20\n",
      "Model Number: 80 with model NVAR in generation 0 of 20\n",
      "Template Eval Error: ValueError('Model NVAR returned NaN for one or more series. fail_on_forecast_nan=True') in model 80 in generation 0: NVAR\n",
      "Model Number: 81 with model Theta in generation 0 of 20\n",
      "Model Number: 82 with model ARDL in generation 0 of 20\n",
      "Template Eval Error: ValueError(\"regression_type='User' but future_regressor not supplied\") in model 82 in generation 0: ARDL\n",
      "Model Number: 83 with model ARCH in generation 0 of 20\n",
      "Template Eval Error: ImportError('`arch` package must be installed from pip') in model 83 in generation 0: ARCH\n",
      "Model Number: 84 with model MetricMotif in generation 0 of 20\n",
      "Model Number: 85 with model SeasonalityMotif in generation 0 of 20\n",
      "Model Number: 86 with model DMD in generation 0 of 20\n",
      "Model Number: 87 with model RRVAR in generation 0 of 20\n",
      "Model Number: 88 with model FFT in generation 0 of 20\n",
      "Template Eval Error: Exception(\"Transformer AlignLastValue failed on inverse from params ffill {'0': {'method': 'savgol_filter', 'method_args': {'window_length': 31, 'polyorder': 3, 'deriv': 0, 'mode': 'interp'}}, '1': {'rows': 1, 'lag': 1, 'method': 'additive', 'strength': 1.0, 'first_value_only': True, 'threshold': 10}, '2': {}, '3': {}, '4': {'window_size': 30, 'alpha': 2.0, 'grouping_forward_limit': 3, 'max_level_shifts': 30, 'alignment': 'average'}, '5': {'rows': 7, 'lag': 1, 'method': 'additive', 'strength': 1.0, 'first_value_only': False, 'threshold': None}}\") in model 88 in generation 0: FFT\n",
      "Model Number: 89 with model Cassandra in generation 0 of 20\n",
      "Model Number: 90 with model SeasonalityMotif in generation 0 of 20\n",
      "Model Number: 91 with model SeasonalityMotif in generation 0 of 20\n",
      "Model Number: 92 with model AverageValueNaive in generation 0 of 20\n",
      "Model Number: 93 with model ConstantNaive in generation 0 of 20\n",
      "Model Number: 94 with model SectionalMotif in generation 0 of 20\n",
      "Model Number: 95 with model UnivariateMotif in generation 0 of 20\n",
      "Model Number: 96 with model SectionalMotif in generation 0 of 20\n",
      "Model Number: 97 with model NVAR in generation 0 of 20\n",
      "Model Number: 98 with model VAR in generation 0 of 20\n",
      "Template Eval Error: IndexError('tuple index out of range') in model 98 in generation 0: VAR\n",
      "Model Number: 99 with model VAR in generation 0 of 20\n",
      "Template Eval Error: ValueError('Only gave one variable to VAR') in model 99 in generation 0: VAR\n",
      "Model Number: 100 with model ARCH in generation 0 of 20\n",
      "Template Eval Error: ImportError('`arch` package must be installed from pip') in model 100 in generation 0: ARCH\n",
      "Model Number: 101 with model FFT in generation 0 of 20\n",
      "Model Number: 102 with model ARDL in generation 0 of 20\n",
      "Model Number: 103 with model SeasonalityMotif in generation 0 of 20\n",
      "Model Number: 104 with model SeasonalityMotif in generation 0 of 20\n",
      "Model Number: 105 with model VAR in generation 0 of 20\n",
      "Template Eval Error: ValueError('Only gave one variable to VAR') in model 105 in generation 0: VAR\n",
      "Model Number: 106 with model DatepartRegression in generation 0 of 20\n",
      "Template Eval Error: Exception(\"Transformer AlignLastValue failed on inverse from params ffill {'0': {'method': 'clip', 'std_threshold': 4, 'fillna': None}, '1': {'model': 'Linear', 'phi': 1, 'window': None, 'transform_dict': None}, '2': {'rows': 1, 'lag': 1, 'method': 'additive', 'strength': 1.0, 'first_value_only': True, 'threshold': 10}, '3': {'rows': 1, 'lag': 1, 'method': 'additive', 'strength': 1.0, 'first_value_only': True, 'threshold': 1}}\") in model 106 in generation 0: DatepartRegression\n",
      "Model Number: 107 with model WindowRegression in generation 0 of 20\n",
      "Template Eval Error: ModuleNotFoundError(\"No module named 'lightgbm'\") in model 107 in generation 0: WindowRegression\n",
      "Model Number: 108 with model VAR in generation 0 of 20\n",
      "Template Eval Error: LinAlgError('2-th leading minor of the array is not positive definite') in model 108 in generation 0: VAR\n",
      "Model Number: 109 with model MetricMotif in generation 0 of 20\n",
      "Model Number: 110 with model VAR in generation 0 of 20\n",
      "Template Eval Error: ValueError('Only gave one variable to VAR') in model 110 in generation 0: VAR\n",
      "Model Number: 111 with model FFT in generation 0 of 20\n",
      "Model Number: 112 with model Theta in generation 0 of 20\n",
      "Model Number: 113 with model VAR in generation 0 of 20\n",
      "Template Eval Error: ValueError('Only gave one variable to VAR') in model 113 in generation 0: VAR\n",
      "Model Number: 114 with model MultivariateMotif in generation 0 of 20\n",
      "Model Number: 115 with model SeasonalityMotif in generation 0 of 20\n",
      "Model Number: 116 with model ARCH in generation 0 of 20\n",
      "Template Eval Error: ImportError('`arch` package must be installed from pip') in model 116 in generation 0: ARCH\n",
      "Model Number: 117 with model SeasonalityMotif in generation 0 of 20\n",
      "Model Number: 118 with model ARIMA in generation 0 of 20\n",
      "Model Number: 119 with model WindowRegression in generation 0 of 20\n",
      "Template Eval Error: ValueError(\"regression_type='User' but no future_regressor passed\") in model 119 in generation 0: WindowRegression\n",
      "Model Number: 120 with model SectionalMotif in generation 0 of 20\n",
      "Model Number: 121 with model DatepartRegression in generation 0 of 20\n",
      "Model Number: 122 with model DatepartRegression in generation 0 of 20\n",
      "Template Eval Error: ValueError('Model DatepartRegression returned NaN for one or more series. fail_on_forecast_nan=True') in model 122 in generation 0: DatepartRegression\n",
      "Model Number: 123 with model UnivariateMotif in generation 0 of 20\n",
      "Template Eval Error: Exception(\"Transformer Detrend failed on fit from params ffill {'0': {'method': 'IQR', 'method_params': {'iqr_threshold': 2.0, 'iqr_quantiles': [0.25, 0.75]}, 'fillna': 'ffill', 'transform_dict': {'transformations': {'0': 'DatepartRegression'}, 'transformation_params': {'0': {'datepart_method': 'simple_3', 'regression_model': {'model': 'DecisionTree', 'model_params': {'max_depth': None, 'min_samples_split': 0.1}}}}}, 'isolated_only': False}, '1': {'lag': 1, 'fill': 'one'}, '2': {'lag_1': 7, 'method': 'LastValue'}, '3': {'discretization': 'upper', 'n_bins': 5}, '4': {'rows': 7, 'lag': 1, 'method': 'additive', 'strength': 1.0, 'first_value_only': False, 'threshold': 1}, '5': {'model': 'Linear', 'phi': 1, 'window': None, 'transform_dict': {'fillna': None, 'transformations': {'0': 'AnomalyRemoval'}, 'transformation_params': {'0': {'method': 'zscore', 'transform_dict': {'transformations': {'0': 'DatepartRegression'}, 'transformation_params': {'0': {'datepart_method': 'simple_3', 'regression_model': {'model': 'ElasticNet', 'model_params': {}}}}}, 'method_params': {'distribution': 'uniform', 'alpha': 0.05}}}}}}\") in model 123 in generation 0: UnivariateMotif\n",
      "Model Number: 124 with model WindowRegression in generation 0 of 20\n"
     ]
    },
    {
     "name": "stderr",
     "output_type": "stream",
     "text": [
      "C:\\Users\\moham\\AppData\\Local\\Packages\\PythonSoftwareFoundation.Python.3.12_qbz5n2kfra8p0\\LocalCache\\local-packages\\Python312\\site-packages\\sklearn\\neighbors\\_regression.py:505: UserWarning: One or more samples have no neighbors within specified radius; predicting NaN.\n",
      "  warnings.warn(empty_warning_msg)\n"
     ]
    },
    {
     "name": "stdout",
     "output_type": "stream",
     "text": [
      "Model Number: 125 with model VECM in generation 0 of 20\n",
      "Template Eval Error: ValueError('Only gave one variable to VECM') in model 125 in generation 0: VECM\n",
      "Model Number: 126 with model ETS in generation 0 of 20\n",
      "Model Number: 127 with model SectionalMotif in generation 0 of 20\n",
      "Model Number: 128 with model DatepartRegression in generation 0 of 20\n",
      "Template Eval Error: ValueError(\"regression_type='User' but no future_regressor passed\") in model 128 in generation 0: DatepartRegression\n",
      "Model Number: 129 with model Cassandra in generation 0 of 20\n",
      "Template Eval Error: IndexError('positional indexers are out-of-bounds') in model 129 in generation 0: Cassandra\n",
      "Model Number: 130 with model ARCH in generation 0 of 20\n",
      "Template Eval Error: ImportError('`arch` package must be installed from pip') in model 130 in generation 0: ARCH\n",
      "Model Number: 131 with model Theta in generation 0 of 20\n",
      "Model Number: 132 with model SectionalMotif in generation 0 of 20\n",
      "Model Number: 133 with model Theta in generation 0 of 20\n",
      "Model Number: 134 with model SeasonalNaive in generation 0 of 20\n",
      "Model Number: 135 with model SeasonalityMotif in generation 0 of 20\n",
      "Model Number: 136 with model GLM in generation 0 of 20\n"
     ]
    },
    {
     "name": "stderr",
     "output_type": "stream",
     "text": [
      "C:\\Users\\moham\\AppData\\Local\\Packages\\PythonSoftwareFoundation.Python.3.12_qbz5n2kfra8p0\\LocalCache\\local-packages\\Python312\\site-packages\\sklearn\\neighbors\\_classification.py:238: DataConversionWarning: A column-vector y was passed when a 1d array was expected. Please change the shape of y to (n_samples,), for example using ravel().\n",
      "  return self._fit(X, y)\n"
     ]
    },
    {
     "name": "stdout",
     "output_type": "stream",
     "text": [
      "Template Eval Error: ValueError('regression_type=user and no future_regressor passed') in model 136 in generation 0: GLM\n",
      "Model Number: 137 with model MetricMotif in generation 0 of 20\n",
      "Model Number: 138 with model Cassandra in generation 0 of 20\n",
      "Model Number: 139 with model SeasonalityMotif in generation 0 of 20\n",
      "Model Number: 140 with model SeasonalityMotif in generation 0 of 20\n"
     ]
    },
    {
     "name": "stderr",
     "output_type": "stream",
     "text": [
      "C:\\Users\\moham\\AppData\\Local\\Packages\\PythonSoftwareFoundation.Python.3.12_qbz5n2kfra8p0\\LocalCache\\local-packages\\Python312\\site-packages\\sklearn\\linear_model\\_ridge.py:204: LinAlgWarning: Ill-conditioned matrix (rcond=4.74746e-25): result may not be accurate.\n",
      "  return linalg.solve(A, Xy, assume_a=\"pos\", overwrite_a=True).T\n",
      "C:\\Users\\moham\\AppData\\Local\\Packages\\PythonSoftwareFoundation.Python.3.12_qbz5n2kfra8p0\\LocalCache\\local-packages\\Python312\\site-packages\\numpy\\lib\\function_base.py:2897: RuntimeWarning: invalid value encountered in divide\n",
      "  c /= stddev[:, None]\n",
      "C:\\Users\\moham\\AppData\\Local\\Packages\\PythonSoftwareFoundation.Python.3.12_qbz5n2kfra8p0\\LocalCache\\local-packages\\Python312\\site-packages\\numpy\\lib\\function_base.py:2898: RuntimeWarning: invalid value encountered in divide\n",
      "  c /= stddev[None, :]\n"
     ]
    },
    {
     "name": "stdout",
     "output_type": "stream",
     "text": [
      "Model Number: 141 with model GLS in generation 0 of 20\n",
      "Model Number: 142 with model RRVAR in generation 0 of 20\n",
      "Model Number: 143 with model ConstantNaive in generation 0 of 20\n",
      "Model Number: 144 with model GLS in generation 0 of 20\n",
      "Model Number: 145 with model DatepartRegression in generation 0 of 20\n",
      "Template Eval Error: ValueError(\"regression_type='User' but no future_regressor passed\") in model 145 in generation 0: DatepartRegression\n",
      "Model Number: 146 with model UnobservedComponents in generation 0 of 20\n",
      "Model Number: 147 with model UnobservedComponents in generation 0 of 20\n",
      "Model Number: 148 with model ARDL in generation 0 of 20\n",
      "Template Eval Error: ValueError(\"regression_type='User' but future_regressor not supplied\") in model 148 in generation 0: ARDL\n",
      "Model Number: 149 with model LastValueNaive in generation 0 of 20\n",
      "Model Number: 150 with model VAR in generation 0 of 20\n",
      "Template Eval Error: ValueError('Only gave one variable to VAR') in model 150 in generation 0: VAR\n",
      "Model Number: 151 with model AverageValueNaive in generation 0 of 20\n",
      "Model Number: 152 with model VAR in generation 0 of 20\n",
      "Template Eval Error: ValueError('Only gave one variable to VAR') in model 152 in generation 0: VAR\n",
      "Model Number: 153 with model UnobservedComponents in generation 0 of 20\n",
      "Model Number: 154 with model Theta in generation 0 of 20\n",
      "Model Number: 155 with model GLS in generation 0 of 20\n",
      "Model Number: 156 with model GLS in generation 0 of 20\n",
      "Model Number: 157 with model VECM in generation 0 of 20\n",
      "Template Eval Error: ValueError('Only gave one variable to VECM') in model 157 in generation 0: VECM\n",
      "Model Number: 158 with model LastValueNaive in generation 0 of 20\n",
      "Model Number: 159 with model FBProphet in generation 0 of 20\n",
      "Template Eval Error: ModuleNotFoundError(\"No module named 'fbprophet'\") in model 159 in generation 0: FBProphet\n",
      "Model Number: 160 with model VECM in generation 0 of 20\n",
      "Template Eval Error: ValueError('Only gave one variable to VECM') in model 160 in generation 0: VECM\n",
      "Model Number: 161 with model VECM in generation 0 of 20\n",
      "Template Eval Error: ValueError(\"regression_type='User' but no future_regressor supplied\") in model 161 in generation 0: VECM\n",
      "Model Number: 162 with model LastValueNaive in generation 0 of 20\n",
      "Model Number: 163 with model WindowRegression in generation 0 of 20\n",
      "Model Number: 164 with model NVAR in generation 0 of 20\n",
      "Model Number: 165 with model MultivariateMotif in generation 0 of 20\n",
      "Model Number: 166 with model VECM in generation 0 of 20\n",
      "Template Eval Error: ValueError('Only gave one variable to VECM') in model 166 in generation 0: VECM\n",
      "Model Number: 167 with model DatepartRegression in generation 0 of 20\n",
      "Template Eval Error: ValueError('Model DatepartRegression returned NaN for one or more series. fail_on_forecast_nan=True') in model 167 in generation 0: DatepartRegression\n",
      "Model Number: 168 with model GLM in generation 0 of 20\n"
     ]
    },
    {
     "name": "stderr",
     "output_type": "stream",
     "text": [
      "C:\\Users\\moham\\AppData\\Local\\Packages\\PythonSoftwareFoundation.Python.3.12_qbz5n2kfra8p0\\LocalCache\\local-packages\\Python312\\site-packages\\sklearn\\neighbors\\_regression.py:505: UserWarning: One or more samples have no neighbors within specified radius; predicting NaN.\n",
      "  warnings.warn(empty_warning_msg)\n"
     ]
    },
    {
     "name": "stdout",
     "output_type": "stream",
     "text": [
      "Model Number: 169 with model SeasonalityMotif in generation 0 of 20\n",
      "Model Number: 170 with model ETS in generation 0 of 20\n",
      "Model Number: 171 with model DatepartRegression in generation 0 of 20\n",
      "Model Number: 172 with model ARCH in generation 0 of 20\n",
      "Template Eval Error: ImportError('`arch` package must be installed from pip') in model 172 in generation 0: ARCH\n",
      "Model Number: 173 with model GLM in generation 0 of 20\n",
      "Template Eval Error: ValueError('regression_type=user and no future_regressor passed') in model 173 in generation 0: GLM\n",
      "Model Number: 174 with model ConstantNaive in generation 0 of 20\n",
      "Template Eval Error: Exception(\"Transformer Detrend failed on fit from params linear {'0': {'method': 'clip', 'std_threshold': 3.5, 'fillna': None}, '1': {'model': 'Linear', 'phi': 1, 'window': None, 'transform_dict': {'fillna': None, 'transformations': {'0': 'AnomalyRemoval'}, 'transformation_params': {'0': {'method': 'zscore', 'transform_dict': {'transformations': {'0': 'DatepartRegression'}, 'transformation_params': {'0': {'datepart_method': 'simple_3', 'regression_model': {'model': 'ElasticNet', 'model_params': {}}}}}, 'method_params': {'distribution': 'uniform', 'alpha': 0.05}}}}}, '2': {'lag': 1, 'fill': 'zero'}}\") in model 174 in generation 0: ConstantNaive\n",
      "Model Number: 175 with model AverageValueNaive in generation 0 of 20\n",
      "Model Number: 176 with model VAR in generation 0 of 20\n",
      "Template Eval Error: ValueError('Only gave one variable to VAR') in model 176 in generation 0: VAR\n",
      "Model Number: 177 with model SectionalMotif in generation 0 of 20\n",
      "Template Eval Error: ValueError('Unknown Distance Metric: kulsinski') in model 177 in generation 0: SectionalMotif\n",
      "Model Number: 178 with model WindowRegression in generation 0 of 20\n",
      "Model Number: 179 with model SeasonalityMotif in generation 0 of 20\n",
      "Model Number: 180 with model AverageValueNaive in generation 0 of 20\n",
      "Model Number: 181 with model MetricMotif in generation 0 of 20\n",
      "Model Number: 182 with model SeasonalityMotif in generation 0 of 20\n",
      "Model Number: 183 with model VECM in generation 0 of 20\n",
      "Template Eval Error: ValueError('Only gave one variable to VECM') in model 183 in generation 0: VECM\n",
      "Model Number: 184 with model UnobservedComponents in generation 0 of 20\n",
      "Template Eval Error: ValueError(\"regression_type='User' but no future_regressor supplied\") in model 184 in generation 0: UnobservedComponents\n",
      "Model Number: 185 with model ConstantNaive in generation 0 of 20\n",
      "Model Number: 186 with model AverageValueNaive in generation 0 of 20\n",
      "Model Number: 187 with model GLM in generation 0 of 20\n",
      "Template Eval Error: ValueError('The first guess on the deviance function returned a nan.  This could be a boundary  problem and should be reported.') in model 187 in generation 0: GLM\n",
      "Model Number: 188 with model ARDL in generation 0 of 20\n"
     ]
    },
    {
     "name": "stderr",
     "output_type": "stream",
     "text": [
      "C:\\Users\\moham\\AppData\\Local\\Packages\\PythonSoftwareFoundation.Python.3.12_qbz5n2kfra8p0\\LocalCache\\local-packages\\Python312\\site-packages\\statsmodels\\genmod\\families\\family.py:1650: RuntimeWarning: invalid value encountered in log\n",
      "  endog * np.log(endog / mu) + (mu - endog))\n"
     ]
    },
    {
     "name": "stdout",
     "output_type": "stream",
     "text": [
      "Model Number: 189 with model GLS in generation 0 of 20\n",
      "Model Number: 190 with model ARDL in generation 0 of 20\n",
      "Template Eval Error: ValueError(\"regression_type='User' but future_regressor not supplied\") in model 190 in generation 0: ARDL\n",
      "Model Number: 191 with model SeasonalityMotif in generation 0 of 20\n",
      "Model Number: 192 with model LastValueNaive in generation 0 of 20\n",
      "Model Number: 193 with model VAR in generation 0 of 20\n",
      "Template Eval Error: ValueError('Only gave one variable to VAR') in model 193 in generation 0: VAR\n",
      "Model Number: 194 with model ConstantNaive in generation 0 of 20\n",
      "Model Number: 195 with model Theta in generation 0 of 20\n",
      "Model Number: 196 with model UnobservedComponents in generation 0 of 20\n",
      "Model Number: 197 with model WindowRegression in generation 0 of 20\n",
      "Model Number: 198 with model UnivariateMotif in generation 0 of 20\n",
      "Model Number: 199 with model WindowRegression in generation 0 of 20\n",
      "Template Eval Error: Exception(\"Transformer AlignLastValue failed on inverse from params mean {'0': {'rows': 1, 'lag': 1, 'method': 'additive', 'strength': 1.0, 'first_value_only': True, 'threshold': 1}, '1': {}, '2': {'rows': 7, 'lag': 1, 'method': 'additive', 'strength': 1.0, 'first_value_only': False, 'threshold': 10}}\") in model 199 in generation 0: WindowRegression\n",
      "Model Number: 200 with model MultivariateRegression in generation 0 of 20\n"
     ]
    },
    {
     "name": "stderr",
     "output_type": "stream",
     "text": [
      "C:\\Users\\moham\\AppData\\Local\\Packages\\PythonSoftwareFoundation.Python.3.12_qbz5n2kfra8p0\\LocalCache\\local-packages\\Python312\\site-packages\\autots\\tools\\transform.py:5472: FutureWarning: Downcasting object dtype arrays on .fillna, .ffill, .bfill is deprecated and will change in a future version. Call result.infer_objects(copy=False) instead. To opt-in to the future behavior, set `pd.set_option('future.no_silent_downcasting', True)`\n",
      "  df = df.fillna(0)\n",
      "C:\\Users\\moham\\AppData\\Local\\Packages\\PythonSoftwareFoundation.Python.3.12_qbz5n2kfra8p0\\LocalCache\\local-packages\\Python312\\site-packages\\autots\\tools\\transform.py:5472: FutureWarning: Downcasting object dtype arrays on .fillna, .ffill, .bfill is deprecated and will change in a future version. Call result.infer_objects(copy=False) instead. To opt-in to the future behavior, set `pd.set_option('future.no_silent_downcasting', True)`\n",
      "  df = df.fillna(0)\n"
     ]
    },
    {
     "name": "stdout",
     "output_type": "stream",
     "text": [
      "Template Eval Error: ModuleNotFoundError(\"No module named 'xgboost'\") in model 200 in generation 0: MultivariateRegression\n",
      "Model Number: 201 with model RRVAR in generation 0 of 20\n",
      "New Generation: 1 of 20\n",
      "Model Number: 202 with model UnobservedComponents in generation 1 of 20\n",
      "Template Eval Error: ValueError(\"regression_type='User' but no future_regressor supplied\") in model 202 in generation 1: UnobservedComponents\n",
      "Model Number: 203 with model NVAR in generation 1 of 20\n",
      "Model Number: 204 with model ConstantNaive in generation 1 of 20\n",
      "Model Number: 205 with model AverageValueNaive in generation 1 of 20\n",
      "Model Number: 206 with model LastValueNaive in generation 1 of 20\n",
      "Model Number: 207 with model LastValueNaive in generation 1 of 20\n",
      "Model Number: 208 with model WindowRegression in generation 1 of 20\n",
      "Model Number: 209 with model ConstantNaive in generation 1 of 20\n",
      "Model Number: 210 with model Theta in generation 1 of 20\n",
      "Model Number: 211 with model Theta in generation 1 of 20\n",
      "Model Number: 212 with model UnobservedComponents in generation 1 of 20\n",
      "Model Number: 213 with model Cassandra in generation 1 of 20\n",
      "Model Number: 214 with model ETS in generation 1 of 20\n",
      "Model Number: 215 with model UnobservedComponents in generation 1 of 20\n",
      "Model Number: 216 with model MultivariateRegression in generation 1 of 20\n",
      "Model Number: 217 with model MultivariateMotif in generation 1 of 20\n",
      "Model Number: 218 with model DMD in generation 1 of 20\n",
      "Model Number: 219 with model Theta in generation 1 of 20\n",
      "Model Number: 220 with model UnobservedComponents in generation 1 of 20\n",
      "Model Number: 221 with model MultivariateMotif in generation 1 of 20\n",
      "Model Number: 222 with model Cassandra in generation 1 of 20\n",
      "Model Number: 223 with model Theta in generation 1 of 20\n",
      "Model Number: 224 with model GLS in generation 1 of 20\n",
      "Model Number: 225 with model SectionalMotif in generation 1 of 20\n",
      "Model Number: 226 with model ARDL in generation 1 of 20\n",
      "Model Number: 227 with model Theta in generation 1 of 20\n",
      "Model Number: 228 with model MultivariateRegression in generation 1 of 20\n",
      "Model Number: 229 with model MultivariateMotif in generation 1 of 20\n",
      "Model Number: 230 with model DatepartRegression in generation 1 of 20\n",
      "Model Number: 231 with model ETS in generation 1 of 20\n",
      "Model Number: 232 with model Cassandra in generation 1 of 20\n",
      "Model Number: 233 with model RRVAR in generation 1 of 20\n",
      "Model Number: 234 with model SeasonalityMotif in generation 1 of 20\n"
     ]
    },
    {
     "name": "stderr",
     "output_type": "stream",
     "text": [
      "C:\\Users\\moham\\AppData\\Local\\Packages\\PythonSoftwareFoundation.Python.3.12_qbz5n2kfra8p0\\LocalCache\\local-packages\\Python312\\site-packages\\numpy\\lib\\function_base.py:2897: RuntimeWarning: invalid value encountered in divide\n",
      "  c /= stddev[:, None]\n",
      "C:\\Users\\moham\\AppData\\Local\\Packages\\PythonSoftwareFoundation.Python.3.12_qbz5n2kfra8p0\\LocalCache\\local-packages\\Python312\\site-packages\\numpy\\lib\\function_base.py:2898: RuntimeWarning: invalid value encountered in divide\n",
      "  c /= stddev[None, :]\n"
     ]
    },
    {
     "name": "stdout",
     "output_type": "stream",
     "text": [
      "Model Number: 235 with model ConstantNaive in generation 1 of 20\n",
      "Model Number: 236 with model SeasonalityMotif in generation 1 of 20\n",
      "Model Number: 237 with model MetricMotif in generation 1 of 20\n",
      "Model Number: 238 with model SeasonalNaive in generation 1 of 20\n",
      "Model Number: 239 with model SectionalMotif in generation 1 of 20\n",
      "Model Number: 240 with model AverageValueNaive in generation 1 of 20\n",
      "Model Number: 241 with model MultivariateRegression in generation 1 of 20\n",
      "Model Number: 242 with model SectionalMotif in generation 1 of 20\n",
      "Model Number: 243 with model MultivariateMotif in generation 1 of 20\n",
      "Model Number: 244 with model SeasonalityMotif in generation 1 of 20\n",
      "Model Number: 245 with model MultivariateMotif in generation 1 of 20\n",
      "Model Number: 246 with model ARDL in generation 1 of 20\n",
      "Template Eval Error: ValueError(\"regression_type='User' but future_regressor not supplied\") in model 246 in generation 1: ARDL\n",
      "Model Number: 247 with model ConstantNaive in generation 1 of 20\n",
      "Model Number: 248 with model RRVAR in generation 1 of 20\n",
      "Model Number: 249 with model SeasonalityMotif in generation 1 of 20\n",
      "Model Number: 250 with model Cassandra in generation 1 of 20\n",
      "Model Number: 251 with model DatepartRegression in generation 1 of 20\n",
      "Template Eval Error: ValueError('Model DatepartRegression returned NaN for one or more series. fail_on_forecast_nan=True') in model 251 in generation 1: DatepartRegression\n",
      "Model Number: 252 with model DMD in generation 1 of 20\n"
     ]
    },
    {
     "name": "stderr",
     "output_type": "stream",
     "text": [
      "C:\\Users\\moham\\AppData\\Local\\Packages\\PythonSoftwareFoundation.Python.3.12_qbz5n2kfra8p0\\LocalCache\\local-packages\\Python312\\site-packages\\scipy\\signal\\_signaltools.py:1659: RuntimeWarning: divide by zero encountered in divide\n",
      "  res *= (1 - noise / lVar)\n",
      "C:\\Users\\moham\\AppData\\Local\\Packages\\PythonSoftwareFoundation.Python.3.12_qbz5n2kfra8p0\\LocalCache\\local-packages\\Python312\\site-packages\\scipy\\signal\\_signaltools.py:1659: RuntimeWarning: invalid value encountered in multiply\n",
      "  res *= (1 - noise / lVar)\n",
      "C:\\Users\\moham\\AppData\\Local\\Packages\\PythonSoftwareFoundation.Python.3.12_qbz5n2kfra8p0\\LocalCache\\local-packages\\Python312\\site-packages\\numpy\\lib\\function_base.py:2897: RuntimeWarning: invalid value encountered in divide\n",
      "  c /= stddev[:, None]\n",
      "C:\\Users\\moham\\AppData\\Local\\Packages\\PythonSoftwareFoundation.Python.3.12_qbz5n2kfra8p0\\LocalCache\\local-packages\\Python312\\site-packages\\numpy\\lib\\function_base.py:2898: RuntimeWarning: invalid value encountered in divide\n",
      "  c /= stddev[None, :]\n",
      "C:\\Users\\moham\\AppData\\Local\\Packages\\PythonSoftwareFoundation.Python.3.12_qbz5n2kfra8p0\\LocalCache\\local-packages\\Python312\\site-packages\\sklearn\\neighbors\\_regression.py:505: UserWarning: One or more samples have no neighbors within specified radius; predicting NaN.\n",
      "  warnings.warn(empty_warning_msg)\n"
     ]
    },
    {
     "name": "stdout",
     "output_type": "stream",
     "text": [
      "Model Number: 253 with model WindowRegression in generation 1 of 20\n",
      "Template Eval Error: ModuleNotFoundError(\"No module named 'lightgbm'\") in model 253 in generation 1: WindowRegression\n",
      "Model Number: 254 with model UnobservedComponents in generation 1 of 20\n",
      "Template Eval Error: Exception(\"Transformer RegressionFilter failed on fit from params fake_date {'0': {}, '1': {'sigma': 1, 'rolling_window': 90, 'run_order': 'season_first', 'regression_params': {'regression_model': {'model': 'DecisionTree', 'model_params': {'max_depth': 3, 'min_samples_split': 0.05}}, 'datepart_method': 'simple_binarized', 'polynomial_degree': None, 'transform_dict': {'fillna': None, 'transformations': {'0': 'ClipOutliers'}, 'transformation_params': {'0': {'method': 'clip', 'std_threshold': 4}}}, 'holiday_countries_used': False}, 'holiday_params': {'threshold': 0.9, 'splash_threshold': 0.65, 'use_dayofmonth_holidays': True, 'use_wkdom_holidays': False, 'use_wkdeom_holidays': False, 'use_lunar_holidays': False, 'use_lunar_weekday': False, 'use_islamic_holidays': False, 'use_hebrew_holidays': False, 'anomaly_detector_params': {'method': 'mad', 'method_params': {'distribution': 'norm', 'alpha': 0.05}, 'fillna': 'ffill', 'transform_dict': None, 'isolated_only': True}, 'remove_excess_anomalies': True, 'impact': 'datepart_regression', 'regression_params': {'regression_model': {'model': 'DecisionTree', 'model_params': {'max_depth': 3, 'min_samples_split': 0.05}}, 'datepart_method': 'simple_binarized', 'polynomial_degree': None, 'transform_dict': {'fillna': None, 'transformations': {'0': 'ClipOutliers'}, 'transformation_params': {'0': {'method': 'clip', 'std_threshold': 4}}}, 'holiday_countries_used': False}}, 'trend_method': 'local_linear'}, '2': {}, '3': {}, '4': {'rows': 1, 'lag': 28, 'method': 'additive', 'strength': 1.0, 'first_value_only': False, 'threshold': None}}\") in model 254 in generation 1: UnobservedComponents\n",
      "Model Number: 255 with model Cassandra in generation 1 of 20\n",
      "Model Number: 256 with model ETS in generation 1 of 20\n",
      "Model Number: 257 with model SeasonalNaive in generation 1 of 20\n",
      "Model Number: 258 with model AverageValueNaive in generation 1 of 20\n",
      "Model Number: 259 with model DatepartRegression in generation 1 of 20\n",
      "Template Eval Error: ValueError(\"regression_type='User' but no future_regressor passed\") in model 259 in generation 1: DatepartRegression\n",
      "Model Number: 260 with model AverageValueNaive in generation 1 of 20\n",
      "Model Number: 261 with model MetricMotif in generation 1 of 20\n",
      "Model Number: 262 with model GLS in generation 1 of 20\n",
      "Model Number: 263 with model DatepartRegression in generation 1 of 20\n",
      "Model Number: 264 with model Theta in generation 1 of 20\n",
      "Model Number: 265 with model SeasonalityMotif in generation 1 of 20\n",
      "Template Eval Error: Exception(\"Transformer AlignLastValue failed on inverse from params fake_date {'0': {'fixed': True, 'window': 360, 'macro_micro': True, 'center': False}, '1': {}, '2': {}, '3': {'lag': 1, 'fill': 'bfill'}, '4': {'rows': 4, 'lag': 1, 'method': 'additive', 'strength': 1.0, 'first_value_only': False, 'threshold': 10}, '5': {'rows': 1, 'lag': 1, 'method': 'additive', 'strength': 1.0, 'first_value_only': True, 'threshold': 1}}\") in model 265 in generation 1: SeasonalityMotif\n",
      "Model Number: 266 with model NVAR in generation 1 of 20\n"
     ]
    },
    {
     "name": "stderr",
     "output_type": "stream",
     "text": [
      "C:\\Users\\moham\\AppData\\Local\\Packages\\PythonSoftwareFoundation.Python.3.12_qbz5n2kfra8p0\\LocalCache\\local-packages\\Python312\\site-packages\\sklearn\\neural_network\\_multilayer_perceptron.py:546: ConvergenceWarning: lbfgs failed to converge (status=1):\n",
      "STOP: TOTAL NO. of ITERATIONS REACHED LIMIT.\n",
      "\n",
      "Increase the number of iterations (max_iter) or scale the data as shown in:\n",
      "    https://scikit-learn.org/stable/modules/preprocessing.html\n",
      "  self.n_iter_ = _check_optimize_result(\"lbfgs\", opt_res, self.max_iter)\n"
     ]
    },
    {
     "name": "stdout",
     "output_type": "stream",
     "text": [
      "Model Number: 267 with model MultivariateMotif in generation 1 of 20\n",
      "Model Number: 268 with model ARDL in generation 1 of 20\n",
      "Model Number: 269 with model Cassandra in generation 1 of 20\n",
      "Model Number: 270 with model SeasonalityMotif in generation 1 of 20\n",
      "Model Number: 271 with model ETS in generation 1 of 20\n"
     ]
    },
    {
     "name": "stderr",
     "output_type": "stream",
     "text": [
      "C:\\Users\\moham\\AppData\\Local\\Packages\\PythonSoftwareFoundation.Python.3.12_qbz5n2kfra8p0\\LocalCache\\local-packages\\Python312\\site-packages\\numpy\\lib\\function_base.py:2897: RuntimeWarning: invalid value encountered in divide\n",
      "  c /= stddev[:, None]\n",
      "C:\\Users\\moham\\AppData\\Local\\Packages\\PythonSoftwareFoundation.Python.3.12_qbz5n2kfra8p0\\LocalCache\\local-packages\\Python312\\site-packages\\numpy\\lib\\function_base.py:2898: RuntimeWarning: invalid value encountered in divide\n",
      "  c /= stddev[None, :]\n"
     ]
    },
    {
     "name": "stdout",
     "output_type": "stream",
     "text": [
      "Model Number: 272 with model SeasonalityMotif in generation 1 of 20\n",
      "Model Number: 273 with model DMD in generation 1 of 20\n",
      "Model Number: 274 with model SectionalMotif in generation 1 of 20\n",
      "Model Number: 275 with model AverageValueNaive in generation 1 of 20\n",
      "Model Number: 276 with model Theta in generation 1 of 20\n",
      "Model Number: 277 with model SectionalMotif in generation 1 of 20\n",
      "Template Eval Error: ValueError('The number of observations (15) is too small; the covariance matrix is singular. For observations with 50 dimensions, at least 51 observations are required.') in model 277 in generation 1: SectionalMotif\n",
      "Model Number: 278 with model GLM in generation 1 of 20\n",
      "Model Number: 279 with model UnivariateMotif in generation 1 of 20\n",
      "Model Number: 280 with model SeasonalNaive in generation 1 of 20\n",
      "Model Number: 281 with model LastValueNaive in generation 1 of 20\n",
      "Model Number: 282 with model SeasonalNaive in generation 1 of 20\n",
      "Model Number: 283 with model SeasonalityMotif in generation 1 of 20\n",
      "Model Number: 284 with model MetricMotif in generation 1 of 20\n",
      "Model Number: 285 with model ARDL in generation 1 of 20\n",
      "Template Eval Error: ValueError(\"regression_type='User' but future_regressor not supplied\") in model 285 in generation 1: ARDL\n",
      "Model Number: 286 with model UnivariateMotif in generation 1 of 20\n",
      "Model Number: 287 with model ARIMA in generation 1 of 20\n",
      "Model Number: 288 with model DatepartRegression in generation 1 of 20\n",
      "Model Number: 289 with model ETS in generation 1 of 20\n",
      "Model Number: 290 with model SeasonalNaive in generation 1 of 20\n",
      "Model Number: 291 with model SectionalMotif in generation 1 of 20\n",
      "Model Number: 292 with model Cassandra in generation 1 of 20\n",
      "FillNA method `pad` not known, returning original\n"
     ]
    },
    {
     "name": "stderr",
     "output_type": "stream",
     "text": [
      "C:\\Users\\moham\\AppData\\Local\\Packages\\PythonSoftwareFoundation.Python.3.12_qbz5n2kfra8p0\\LocalCache\\local-packages\\Python312\\site-packages\\autots\\tools\\transform.py:5472: FutureWarning: Downcasting object dtype arrays on .fillna, .ffill, .bfill is deprecated and will change in a future version. Call result.infer_objects(copy=False) instead. To opt-in to the future behavior, set `pd.set_option('future.no_silent_downcasting', True)`\n",
      "  df = df.fillna(0)\n",
      "C:\\Users\\moham\\AppData\\Local\\Packages\\PythonSoftwareFoundation.Python.3.12_qbz5n2kfra8p0\\LocalCache\\local-packages\\Python312\\site-packages\\autots\\tools\\transform.py:5472: FutureWarning: Downcasting object dtype arrays on .fillna, .ffill, .bfill is deprecated and will change in a future version. Call result.infer_objects(copy=False) instead. To opt-in to the future behavior, set `pd.set_option('future.no_silent_downcasting', True)`\n",
      "  df = df.fillna(0)\n"
     ]
    },
    {
     "name": "stdout",
     "output_type": "stream",
     "text": [
      "Model Number: 293 with model ConstantNaive in generation 1 of 20\n"
     ]
    },
    {
     "name": "stderr",
     "output_type": "stream",
     "text": [
      "C:\\Users\\moham\\AppData\\Local\\Packages\\PythonSoftwareFoundation.Python.3.12_qbz5n2kfra8p0\\LocalCache\\local-packages\\Python312\\site-packages\\numpy\\lib\\function_base.py:2897: RuntimeWarning: invalid value encountered in divide\n",
      "  c /= stddev[:, None]\n",
      "C:\\Users\\moham\\AppData\\Local\\Packages\\PythonSoftwareFoundation.Python.3.12_qbz5n2kfra8p0\\LocalCache\\local-packages\\Python312\\site-packages\\numpy\\lib\\function_base.py:2898: RuntimeWarning: invalid value encountered in divide\n",
      "  c /= stddev[None, :]\n"
     ]
    },
    {
     "name": "stdout",
     "output_type": "stream",
     "text": [
      "Model Number: 294 with model LastValueNaive in generation 1 of 20\n",
      "Model Number: 295 with model LastValueNaive in generation 1 of 20\n",
      "Model Number: 296 with model AverageValueNaive in generation 1 of 20\n",
      "Template Eval Error: Exception(\"Transformer AlignLastValue failed on inverse from params linear {'0': {}, '1': {'rows': 7, 'lag': 1, 'method': 'additive', 'strength': 1.0, 'first_value_only': True, 'threshold': 10}, '2': {'method': 'clip', 'std_threshold': 1, 'fillna': None}}\") in model 296 in generation 1: AverageValueNaive\n",
      "Model Number: 297 with model UnobservedComponents in generation 1 of 20\n",
      "Template Eval Error: Exception(\"Transformer Cointegration failed on fit from params pchip {'0': {'low': 4, 'high': 32, 'K': 3, 'lanczos_factor': False, 'return_diff': True, 'on_transform': True, 'on_inverse': False}, '1': {'method': 'IQR', 'method_params': {'iqr_threshold': 2.0, 'iqr_quantiles': [0.4, 0.6]}, 'fillna': 'ffill', 'transform_dict': None, 'isolated_only': True}, '2': {'det_order': -1, 'k_ar_diff': 1}, '3': {'lag': 1, 'fill': 'zero'}}\") in model 297 in generation 1: UnobservedComponents\n",
      "Model Number: 298 with model WindowRegression in generation 1 of 20\n",
      "Template Eval Error: ModuleNotFoundError(\"No module named 'lightgbm'\") in model 298 in generation 1: WindowRegression\n",
      "Model Number: 299 with model SeasonalityMotif in generation 1 of 20\n",
      "Model Number: 300 with model LastValueNaive in generation 1 of 20\n",
      "Model Number: 301 with model LastValueNaive in generation 1 of 20\n",
      "Model Number: 302 with model DatepartRegression in generation 1 of 20\n",
      "Model Number: 303 with model WindowRegression in generation 1 of 20\n",
      "Model Number: 304 with model NVAR in generation 1 of 20\n"
     ]
    },
    {
     "name": "stderr",
     "output_type": "stream",
     "text": [
      "C:\\Users\\moham\\AppData\\Local\\Packages\\PythonSoftwareFoundation.Python.3.12_qbz5n2kfra8p0\\LocalCache\\local-packages\\Python312\\site-packages\\sklearn\\neural_network\\_multilayer_perceptron.py:546: ConvergenceWarning: lbfgs failed to converge (status=1):\n",
      "STOP: TOTAL NO. of ITERATIONS REACHED LIMIT.\n",
      "\n",
      "Increase the number of iterations (max_iter) or scale the data as shown in:\n",
      "    https://scikit-learn.org/stable/modules/preprocessing.html\n",
      "  self.n_iter_ = _check_optimize_result(\"lbfgs\", opt_res, self.max_iter)\n",
      "C:\\Users\\moham\\AppData\\Local\\Packages\\PythonSoftwareFoundation.Python.3.12_qbz5n2kfra8p0\\LocalCache\\local-packages\\Python312\\site-packages\\statsmodels\\genmod\\families\\family.py:1650: RuntimeWarning: invalid value encountered in log\n",
      "  endog * np.log(endog / mu) + (mu - endog))\n"
     ]
    },
    {
     "name": "stdout",
     "output_type": "stream",
     "text": [
      "Model Number: 305 with model WindowRegression in generation 1 of 20\n",
      "Template Eval Error: ValueError(\"regression_type='User' but no future_regressor passed\") in model 305 in generation 1: WindowRegression\n",
      "Model Number: 306 with model GLM in generation 1 of 20\n",
      "Template Eval Error: ValueError('The first guess on the deviance function returned a nan.  This could be a boundary  problem and should be reported.') in model 306 in generation 1: GLM\n",
      "Model Number: 307 with model Cassandra in generation 1 of 20\n",
      "FillNA method `pad` not known, returning original\n",
      "Template Eval Error: Exception(\"Transformer Detrend failed on fit from params pad {'0': {'decimals': 2, 'on_transform': False, 'on_inverse': True}, '1': {'model': 'Tweedie', 'phi': 0.998, 'window': None, 'transform_dict': None}}\") in model 307 in generation 1: Cassandra\n",
      "Model Number: 308 with model MetricMotif in generation 1 of 20\n",
      "Template Eval Error: Exception(\"Transformer AlignLastValue failed on inverse from params rolling_mean_24 {'0': {}, '1': {'lag': 7, 'fill': 'bfill'}, '2': {'rows': 7, 'lag': 7, 'method': 'additive', 'strength': 0.7, 'first_value_only': True, 'threshold': 1}, '3': {'fixed': True, 'window': 90, 'macro_micro': False, 'center': False}, '4': {'rows': 1, 'lag': 1, 'method': 'additive', 'strength': 1.0, 'first_value_only': False, 'threshold': None}}\") in model 308 in generation 1: MetricMotif\n",
      "Model Number: 309 with model AverageValueNaive in generation 1 of 20\n",
      "Model Number: 310 with model ConstantNaive in generation 1 of 20\n",
      "Model Number: 311 with model RRVAR in generation 1 of 20\n",
      "Model Number: 312 with model LastValueNaive in generation 1 of 20\n",
      "Model Number: 313 with model SeasonalityMotif in generation 1 of 20\n",
      "Model Number: 314 with model UnobservedComponents in generation 1 of 20\n",
      "Model Number: 315 with model LastValueNaive in generation 1 of 20\n",
      "Model Number: 316 with model UnobservedComponents in generation 1 of 20\n",
      "Model Number: 317 with model SeasonalityMotif in generation 1 of 20\n",
      "Model Number: 318 with model ConstantNaive in generation 1 of 20\n",
      "Model Number: 319 with model SectionalMotif in generation 1 of 20\n",
      "Model Number: 320 with model MultivariateRegression in generation 1 of 20\n"
     ]
    },
    {
     "name": "stderr",
     "output_type": "stream",
     "text": [
      "C:\\Users\\moham\\AppData\\Local\\Packages\\PythonSoftwareFoundation.Python.3.12_qbz5n2kfra8p0\\LocalCache\\local-packages\\Python312\\site-packages\\sklearn\\neighbors\\_classification.py:238: DataConversionWarning: A column-vector y was passed when a 1d array was expected. Please change the shape of y to (n_samples,), for example using ravel().\n",
      "  return self._fit(X, y)\n"
     ]
    },
    {
     "name": "stdout",
     "output_type": "stream",
     "text": [
      "Model Number: 321 with model GLM in generation 1 of 20\n",
      "Model Number: 322 with model UnobservedComponents in generation 1 of 20\n",
      "Template Eval Error: ValueError(\"regression_type='User' but no future_regressor supplied\") in model 322 in generation 1: UnobservedComponents\n",
      "Model Number: 323 with model GLS in generation 1 of 20\n",
      "Model Number: 324 with model ETS in generation 1 of 20\n",
      "Model Number: 325 with model ARDL in generation 1 of 20\n",
      "Template Eval Error: ValueError(\"regression_type='User' but future_regressor not supplied\") in model 325 in generation 1: ARDL\n",
      "Model Number: 326 with model ARIMA in generation 1 of 20\n",
      "Model Number: 327 with model Theta in generation 1 of 20\n",
      "Model Number: 328 with model SectionalMotif in generation 1 of 20\n",
      "Model Number: 329 with model MultivariateMotif in generation 1 of 20\n",
      "Model Number: 330 with model ARIMA in generation 1 of 20\n",
      "Model Number: 331 with model Cassandra in generation 1 of 20\n"
     ]
    },
    {
     "name": "stderr",
     "output_type": "stream",
     "text": [
      "C:\\Users\\moham\\AppData\\Local\\Packages\\PythonSoftwareFoundation.Python.3.12_qbz5n2kfra8p0\\LocalCache\\local-packages\\Python312\\site-packages\\numpy\\lib\\function_base.py:2897: RuntimeWarning: invalid value encountered in divide\n",
      "  c /= stddev[:, None]\n",
      "C:\\Users\\moham\\AppData\\Local\\Packages\\PythonSoftwareFoundation.Python.3.12_qbz5n2kfra8p0\\LocalCache\\local-packages\\Python312\\site-packages\\numpy\\lib\\function_base.py:2898: RuntimeWarning: invalid value encountered in divide\n",
      "  c /= stddev[None, :]\n"
     ]
    },
    {
     "name": "stdout",
     "output_type": "stream",
     "text": [
      "Model Number: 332 with model NVAR in generation 1 of 20\n",
      "Model Number: 333 with model GLS in generation 1 of 20\n",
      "Model Number: 334 with model MetricMotif in generation 1 of 20\n",
      "Model Number: 335 with model GLM in generation 1 of 20\n",
      "Template Eval Error: ValueError('NaN, inf or invalid value detected in weights, estimation infeasible.') in model 335 in generation 1: GLM\n",
      "Model Number: 336 with model LastValueNaive in generation 1 of 20\n",
      "Model Number: 337 with model LastValueNaive in generation 1 of 20\n",
      "Model Number: 338 with model LastValueNaive in generation 1 of 20\n"
     ]
    },
    {
     "name": "stderr",
     "output_type": "stream",
     "text": [
      "C:\\Users\\moham\\AppData\\Local\\Packages\\PythonSoftwareFoundation.Python.3.12_qbz5n2kfra8p0\\LocalCache\\local-packages\\Python312\\site-packages\\statsmodels\\genmod\\families\\family.py:445: RuntimeWarning: divide by zero encountered in divide\n",
      "  endog_mu = self._clean(endog / mu)\n",
      "C:\\Users\\moham\\AppData\\Local\\Packages\\PythonSoftwareFoundation.Python.3.12_qbz5n2kfra8p0\\LocalCache\\local-packages\\Python312\\site-packages\\statsmodels\\genmod\\families\\family.py:143: RuntimeWarning: divide by zero encountered in divide\n",
      "  return 1. / (self.link.deriv(mu)**2 * self.variance(mu))\n"
     ]
    },
    {
     "name": "stdout",
     "output_type": "stream",
     "text": [
      "Template Eval Error: Exception(\"Transformer FastICA failed on fit from params akima {'0': {'method': None, 'method_params': None, 'transform_dict': None, 'reverse_alignment': True, 'isolated_only': False, 'fillna': 2.0}, '1': {'model_name': 'local linear hidden state with seasonal 7', 'state_transition': [[1.0, 0.0, 0.0, 0.0, 0.0, 0.0, 0.0, 0.0], [0.0, -1.0, -1.0, -1.0, -1.0, -1.0, -1.0, 0.0], [0.0, 1.0, 0.0, 0.0, 0.0, 0.0, 0.0, 0.0], [0.0, 0.0, 1.0, 0.0, 0.0, 0.0, 0.0, 0.0], [0.0, 0.0, 0.0, 1.0, 0.0, 0.0, 0.0, 0.0], [0.0, 0.0, 0.0, 0.0, 1.0, 0.0, 0.0, 0.0], [0.0, 0.0, 0.0, 0.0, 0.0, 1.0, 0.0, 0.0], [0.0, 0.0, 0.0, 0.0, 0.0, 0.0, 1.0, 0.0]], 'process_noise': [[0.0016, 0.0, 0.0, 0.0, 0.0, 0.0, 0.0, 0.0], [0.0, 1e-06, 0.0, 0.0, 0.0, 0.0, 0.0, 0.0], [0.0, 0.0, 0.0, 0.0, 0.0, 0.0, 0.0, 0.0], [0.0, 0.0, 0.0, 0.0, 0.0, 0.0, 0.0, 0.0], [0.0, 0.0, 0.0, 0.0, 0.0, 0.0, 0.0, 0.0], [0.0, 0.0, 0.0, 0.0, 0.0, 0.0, 0.0, 0.0], [0.0, 0.0, 0.0, 0.0, 0.0, 0.0, 0.0, 0.0], [0.0, 0.0, 0.0, 0.0, 0.0, 0.0, 0.0, 0.0]], 'observation_model': [[1, 1, 0, 0, 0, 0, 0, 0]], 'observation_noise': 1.0, 'em_iter': 10, 'on_transform': True, 'on_inverse': False}, '2': {'model_name': 'randomly generated', 'state_transition': [[0.0, 0.42594770309136326], [0.0, 0.9999693975049302]], 'process_noise': [[0.001, 0.0], [0.0, 0.006]], 'observation_model': [[-0.2036759880924673, -0.11020076234679761]], 'observation_noise': 0.4008501021681417, 'em_iter': 10, 'on_transform': True, 'on_inverse': False}, '3': {'algorithm': 'deflation', 'fun': 'cube', 'max_iter': 500, 'whiten': True}}\") in model 338 in generation 1: LastValueNaive\n",
      "Model Number: 339 with model GLM in generation 1 of 20\n",
      "Template Eval Error: ValueError('regression_type=user and no future_regressor passed') in model 339 in generation 1: GLM\n",
      "Model Number: 340 with model SectionalMotif in generation 1 of 20\n",
      "Model Number: 341 with model SectionalMotif in generation 1 of 20\n",
      "New Generation: 2 of 20\n",
      "Model Number: 342 with model MetricMotif in generation 2 of 20\n",
      "Model Number: 343 with model Theta in generation 2 of 20\n",
      "Model Number: 344 with model AverageValueNaive in generation 2 of 20\n",
      "Model Number: 345 with model SeasonalityMotif in generation 2 of 20\n",
      "Model Number: 346 with model GLS in generation 2 of 20\n",
      "Model Number: 347 with model UnivariateMotif in generation 2 of 20\n",
      "Model Number: 348 with model NVAR in generation 2 of 20\n",
      "Model Number: 349 with model Cassandra in generation 2 of 20\n",
      "Template Eval Error: ValueError('more than 1 year of data is required for holiday detection.') in model 349 in generation 2: Cassandra\n",
      "Model Number: 350 with model ARDL in generation 2 of 20\n"
     ]
    },
    {
     "name": "stderr",
     "output_type": "stream",
     "text": [
      "C:\\Users\\moham\\AppData\\Local\\Packages\\PythonSoftwareFoundation.Python.3.12_qbz5n2kfra8p0\\LocalCache\\local-packages\\Python312\\site-packages\\autots\\tools\\transform.py:5472: FutureWarning: Downcasting object dtype arrays on .fillna, .ffill, .bfill is deprecated and will change in a future version. Call result.infer_objects(copy=False) instead. To opt-in to the future behavior, set `pd.set_option('future.no_silent_downcasting', True)`\n",
      "  df = df.fillna(0)\n",
      "C:\\Users\\moham\\AppData\\Local\\Packages\\PythonSoftwareFoundation.Python.3.12_qbz5n2kfra8p0\\LocalCache\\local-packages\\Python312\\site-packages\\autots\\tools\\transform.py:5472: FutureWarning: Downcasting object dtype arrays on .fillna, .ffill, .bfill is deprecated and will change in a future version. Call result.infer_objects(copy=False) instead. To opt-in to the future behavior, set `pd.set_option('future.no_silent_downcasting', True)`\n",
      "  df = df.fillna(0)\n"
     ]
    },
    {
     "name": "stdout",
     "output_type": "stream",
     "text": [
      "Model Number: 351 with model SeasonalityMotif in generation 2 of 20\n",
      "Model Number: 352 with model LastValueNaive in generation 2 of 20\n",
      "Model Number: 353 with model SectionalMotif in generation 2 of 20\n",
      "Model Number: 354 with model UnobservedComponents in generation 2 of 20\n",
      "Template Eval Error: Exception(\"Transformer AlignLastValue failed on inverse from params rolling_mean_24 {'0': {'model': 'Tweedie', 'phi': 1, 'window': None, 'transform_dict': None}, '1': {'n_harmonics': 10, 'detrend': 'quadratic'}, '2': {'window': None}, '3': {'rows': 7, 'lag': 1, 'method': 'additive', 'strength': 1.0, 'first_value_only': True, 'threshold': 10}}\") in model 354 in generation 2: UnobservedComponents\n",
      "Model Number: 355 with model NVAR in generation 2 of 20\n",
      "Model Number: 356 with model LastValueNaive in generation 2 of 20\n",
      "Model Number: 357 with model Theta in generation 2 of 20\n",
      "Model Number: 358 with model UnobservedComponents in generation 2 of 20\n",
      "Model Number: 359 with model DatepartRegression in generation 2 of 20\n",
      "Model Number: 360 with model UnobservedComponents in generation 2 of 20\n",
      "Template Eval Error: Exception(\"Transformer AlignLastValue failed on inverse from params cubic {'0': {}, '1': {'n_harmonics': 10, 'detrend': 'quadratic'}, '2': {'rows': 7, 'lag': 1, 'method': 'additive', 'strength': 1.0, 'first_value_only': True, 'threshold': 10}}\") in model 360 in generation 2: UnobservedComponents\n",
      "Model Number: 361 with model ARDL in generation 2 of 20\n",
      "Model Number: 362 with model Theta in generation 2 of 20\n",
      "Model Number: 363 with model ConstantNaive in generation 2 of 20\n",
      "Model Number: 364 with model ETS in generation 2 of 20\n",
      "Model Number: 365 with model SeasonalityMotif in generation 2 of 20\n",
      "Model Number: 366 with model LastValueNaive in generation 2 of 20\n",
      "Model Number: 367 with model DatepartRegression in generation 2 of 20\n",
      "Model Number: 368 with model MultivariateMotif in generation 2 of 20\n",
      "Model Number: 369 with model SeasonalityMotif in generation 2 of 20\n",
      "Template Eval Error: Exception(\"Transformer AlignLastValue failed on inverse from params linear {'0': {'span': 2}, '1': {'rows': 1, 'lag': 1, 'method': 'additive', 'strength': 1.0, 'first_value_only': True, 'threshold': 10}, '2': {}}\") in model 369 in generation 2: SeasonalityMotif\n",
      "Model Number: 370 with model RRVAR in generation 2 of 20\n",
      "Model Number: 371 with model SeasonalityMotif in generation 2 of 20\n",
      "Model Number: 372 with model RRVAR in generation 2 of 20\n",
      "Model Number: 373 with model MultivariateMotif in generation 2 of 20\n",
      "Model Number: 374 with model LastValueNaive in generation 2 of 20\n"
     ]
    },
    {
     "name": "stderr",
     "output_type": "stream",
     "text": [
      "C:\\Users\\moham\\AppData\\Local\\Packages\\PythonSoftwareFoundation.Python.3.12_qbz5n2kfra8p0\\LocalCache\\local-packages\\Python312\\site-packages\\autots\\tools\\transform.py:5472: FutureWarning: Downcasting object dtype arrays on .fillna, .ffill, .bfill is deprecated and will change in a future version. Call result.infer_objects(copy=False) instead. To opt-in to the future behavior, set `pd.set_option('future.no_silent_downcasting', True)`\n",
      "  df = df.fillna(0)\n",
      "C:\\Users\\moham\\AppData\\Local\\Packages\\PythonSoftwareFoundation.Python.3.12_qbz5n2kfra8p0\\LocalCache\\local-packages\\Python312\\site-packages\\autots\\tools\\transform.py:5472: FutureWarning: Downcasting object dtype arrays on .fillna, .ffill, .bfill is deprecated and will change in a future version. Call result.infer_objects(copy=False) instead. To opt-in to the future behavior, set `pd.set_option('future.no_silent_downcasting', True)`\n",
      "  df = df.fillna(0)\n"
     ]
    },
    {
     "name": "stdout",
     "output_type": "stream",
     "text": [
      "Model Number: 375 with model Cassandra in generation 2 of 20\n",
      "Model Number: 376 with model GLS in generation 2 of 20\n",
      "Model Number: 377 with model Cassandra in generation 2 of 20\n",
      "Model Number: 378 with model MultivariateMotif in generation 2 of 20\n",
      "Model Number: 379 with model SectionalMotif in generation 2 of 20\n",
      "Template Eval Error: Exception(\"Transformer Cointegration failed on fit from params time {'0': {'det_order': 0, 'k_ar_diff': 2}, '1': {}, '2': {}, '3': {'rows': 1, 'lag': 28, 'method': 'additive', 'strength': 1.0, 'first_value_only': False, 'threshold': 10}, '4': {'decimals': -2, 'on_transform': False, 'on_inverse': True}}\") in model 379 in generation 2: SectionalMotif\n",
      "Model Number: 380 with model ETS in generation 2 of 20\n"
     ]
    },
    {
     "name": "stderr",
     "output_type": "stream",
     "text": [
      "C:\\Users\\moham\\AppData\\Local\\Packages\\PythonSoftwareFoundation.Python.3.12_qbz5n2kfra8p0\\LocalCache\\local-packages\\Python312\\site-packages\\numpy\\lib\\function_base.py:2897: RuntimeWarning: invalid value encountered in divide\n",
      "  c /= stddev[:, None]\n",
      "C:\\Users\\moham\\AppData\\Local\\Packages\\PythonSoftwareFoundation.Python.3.12_qbz5n2kfra8p0\\LocalCache\\local-packages\\Python312\\site-packages\\numpy\\lib\\function_base.py:2898: RuntimeWarning: invalid value encountered in divide\n",
      "  c /= stddev[None, :]\n"
     ]
    },
    {
     "name": "stdout",
     "output_type": "stream",
     "text": [
      "Model Number: 381 with model NVAR in generation 2 of 20\n",
      "Model Number: 382 with model MetricMotif in generation 2 of 20\n",
      "Model Number: 383 with model SectionalMotif in generation 2 of 20\n",
      "Model Number: 384 with model SeasonalityMotif in generation 2 of 20\n",
      "Model Number: 385 with model LastValueNaive in generation 2 of 20\n",
      "Model Number: 386 with model SectionalMotif in generation 2 of 20\n",
      "Model Number: 387 with model MultivariateRegression in generation 2 of 20\n",
      "Model Number: 388 with model WindowRegression in generation 2 of 20\n",
      "Template Eval Error: ModuleNotFoundError(\"No module named 'lightgbm'\") in model 388 in generation 2: WindowRegression\n",
      "Model Number: 389 with model Theta in generation 2 of 20\n",
      "Model Number: 390 with model LastValueNaive in generation 2 of 20\n",
      "Model Number: 391 with model UnobservedComponents in generation 2 of 20\n",
      "Model Number: 392 with model ARDL in generation 2 of 20\n",
      "Template Eval Error: ValueError(\"Model returned NaN due to a preprocessing transformer {'fillna': 'zero', 'transformations': {'0': 'AlignLastValue', '1': 'MinMaxScaler', '2': 'AlignLastValue', '3': 'ClipOutliers', '4': 'Round'}, 'transformation_params': {'0': {'rows': 1, 'lag': 7, 'method': 'additive', 'strength': 1.0, 'first_value_only': False, 'threshold': None}, '1': {}, '2': {'rows': 1, 'lag': 1, 'method': 'multiplicative', 'strength': 1.0, 'first_value_only': False, 'threshold': 10}, '3': {'method': 'clip', 'std_threshold': 4, 'fillna': None}, '4': {'decimals': -1, 'on_transform': False, 'on_inverse': True}}}. fail_on_forecast_nan=True\") in model 392 in generation 2: ARDL\n",
      "Model Number: 393 with model MultivariateRegression in generation 2 of 20\n",
      "Model Number: 394 with model Theta in generation 2 of 20\n",
      "Model Number: 395 with model WindowRegression in generation 2 of 20\n",
      "Model Number: 396 with model ARIMA in generation 2 of 20\n",
      "Model Number: 397 with model ARDL in generation 2 of 20\n",
      "Model Number: 398 with model NVAR in generation 2 of 20\n",
      "Template Eval Error: Exception(\"Transformer Cointegration failed on fit from params ffill {'0': {}, '1': {}, '2': {}, '3': {'det_order': -1, 'k_ar_diff': 0}}\") in model 398 in generation 2: NVAR\n",
      "Model Number: 399 with model ETS in generation 2 of 20\n",
      "Model Number: 400 with model MultivariateMotif in generation 2 of 20\n",
      "Model Number: 401 with model SeasonalNaive in generation 2 of 20\n",
      "Model Number: 402 with model DatepartRegression in generation 2 of 20\n",
      "Template Eval Error: ValueError(\"regression_type='User' but no future_regressor passed\") in model 402 in generation 2: DatepartRegression\n",
      "Model Number: 403 with model Theta in generation 2 of 20\n",
      "Template Eval Error: Exception(\"Transformer BTCD failed on fit from params median {'0': {'regression_model': {'model': 'LinearRegression', 'model_params': {}}, 'max_lags': 2}, '1': {'method': 'savgol_filter', 'method_args': {'window_length': 91, 'polyorder': 3, 'deriv': 0, 'mode': 'mirror'}}, '2': {'rows': 4, 'lag': 1, 'method': 'additive', 'strength': 1.0, 'first_value_only': False, 'threshold': None}}\") in model 403 in generation 2: Theta\n",
      "Model Number: 404 with model ARDL in generation 2 of 20\n",
      "Model Number: 405 with model ARDL in generation 2 of 20\n",
      "Model Number: 406 with model Theta in generation 2 of 20\n",
      "Model Number: 407 with model DatepartRegression in generation 2 of 20\n",
      "Template Eval Error: ValueError('Model DatepartRegression returned NaN for one or more series. fail_on_forecast_nan=True') in model 407 in generation 2: DatepartRegression\n",
      "Model Number: 408 with model DMD in generation 2 of 20\n",
      "Model Number: 409 with model ARIMA in generation 2 of 20\n",
      "Template Eval Error: ValueError(\"regression_type='User' but future_regressor not supplied\") in model 409 in generation 2: ARIMA\n",
      "Model Number: 410 with model Cassandra in generation 2 of 20\n"
     ]
    },
    {
     "name": "stderr",
     "output_type": "stream",
     "text": [
      "C:\\Users\\moham\\AppData\\Local\\Packages\\PythonSoftwareFoundation.Python.3.12_qbz5n2kfra8p0\\LocalCache\\local-packages\\Python312\\site-packages\\sklearn\\neighbors\\_regression.py:505: UserWarning: One or more samples have no neighbors within specified radius; predicting NaN.\n",
      "  warnings.warn(empty_warning_msg)\n",
      "C:\\Users\\moham\\AppData\\Local\\Packages\\PythonSoftwareFoundation.Python.3.12_qbz5n2kfra8p0\\LocalCache\\local-packages\\Python312\\site-packages\\numpy\\lib\\function_base.py:2897: RuntimeWarning: invalid value encountered in divide\n",
      "  c /= stddev[:, None]\n",
      "C:\\Users\\moham\\AppData\\Local\\Packages\\PythonSoftwareFoundation.Python.3.12_qbz5n2kfra8p0\\LocalCache\\local-packages\\Python312\\site-packages\\numpy\\lib\\function_base.py:2898: RuntimeWarning: invalid value encountered in divide\n",
      "  c /= stddev[None, :]\n"
     ]
    },
    {
     "name": "stdout",
     "output_type": "stream",
     "text": [
      "Template Eval Error: Exception(\"Transformer AlignLastValue failed on inverse from params cubic {'0': {'output_distribution': 'uniform', 'n_quantiles': 63}, '1': {'rows': 1, 'lag': 1, 'method': 'additive', 'strength': 1.0, 'first_value_only': True, 'threshold': None}, '2': {'constant': 0, 'reintroduction_model': None, 'fillna': 'pchip'}, '3': {}, '4': {'rows': 1, 'lag': 1, 'method': 'additive', 'strength': 1.0, 'first_value_only': False, 'threshold': 1}}\") in model 410 in generation 2: Cassandra\n",
      "Model Number: 411 with model GLS in generation 2 of 20\n",
      "Model Number: 412 with model WindowRegression in generation 2 of 20\n",
      "Model Number: 413 with model ConstantNaive in generation 2 of 20\n",
      "Model Number: 414 with model NVAR in generation 2 of 20\n",
      "Model Number: 415 with model SeasonalityMotif in generation 2 of 20\n",
      "Model Number: 416 with model GLS in generation 2 of 20\n",
      "Model Number: 417 with model SeasonalNaive in generation 2 of 20\n",
      "Model Number: 418 with model ConstantNaive in generation 2 of 20\n",
      "Model Number: 419 with model GLS in generation 2 of 20\n",
      "Model Number: 420 with model LastValueNaive in generation 2 of 20\n",
      "Model Number: 421 with model UnivariateMotif in generation 2 of 20\n",
      "Model Number: 422 with model ARDL in generation 2 of 20\n",
      "Model Number: 423 with model WindowRegression in generation 2 of 20\n",
      "Model Number: 424 with model DMD in generation 2 of 20\n",
      "Model Number: 425 with model ARIMA in generation 2 of 20\n",
      "Model Number: 426 with model GLM in generation 2 of 20\n",
      "Model Number: 427 with model ARIMA in generation 2 of 20\n",
      "Model Number: 428 with model UnobservedComponents in generation 2 of 20\n",
      "Template Eval Error: Exception(\"Transformer Cointegration failed on fit from params rolling_mean_24 {'0': {}, '1': {'decimals': 0, 'on_transform': False, 'on_inverse': True}, '2': {'det_order': 0, 'k_ar_diff': 1}, '3': {'rows': 7, 'lag': 1, 'method': 'additive', 'strength': 1.0, 'first_value_only': True, 'threshold': 10}}\") in model 428 in generation 2: UnobservedComponents\n",
      "Model Number: 429 with model Theta in generation 2 of 20\n",
      "Template Eval Error: Exception(\"Transformer BTCD failed on fit from params median {'0': {'regression_model': {'model': 'LinearRegression', 'model_params': {}}, 'max_lags': 2}, '1': {'rows': 1, 'lag': 1, 'method': 'additive', 'strength': 0.9, 'first_value_only': False, 'threshold': 1}, '2': {'window_size': 90, 'alpha': 2.5, 'grouping_forward_limit': 4, 'max_level_shifts': 30, 'alignment': 'average'}}\") in model 429 in generation 2: Theta\n",
      "Model Number: 430 with model UnobservedComponents in generation 2 of 20\n",
      "Model Number: 431 with model MultivariateRegression in generation 2 of 20\n"
     ]
    },
    {
     "name": "stderr",
     "output_type": "stream",
     "text": [
      "C:\\Users\\moham\\AppData\\Local\\Packages\\PythonSoftwareFoundation.Python.3.12_qbz5n2kfra8p0\\LocalCache\\local-packages\\Python312\\site-packages\\sklearn\\linear_model\\_linear_loss.py:294: RuntimeWarning: invalid value encountered in matmul\n",
      "  grad[:n_features] = X.T @ grad_pointwise + l2_reg_strength * weights\n"
     ]
    },
    {
     "name": "stdout",
     "output_type": "stream",
     "text": [
      "Model Number: 432 with model AverageValueNaive in generation 2 of 20\n",
      "Model Number: 433 with model DatepartRegression in generation 2 of 20\n",
      "Model Number: 434 with model Cassandra in generation 2 of 20\n"
     ]
    },
    {
     "name": "stderr",
     "output_type": "stream",
     "text": [
      "C:\\Users\\moham\\AppData\\Local\\Packages\\PythonSoftwareFoundation.Python.3.12_qbz5n2kfra8p0\\LocalCache\\local-packages\\Python312\\site-packages\\numpy\\lib\\function_base.py:2897: RuntimeWarning: invalid value encountered in divide\n",
      "  c /= stddev[:, None]\n",
      "C:\\Users\\moham\\AppData\\Local\\Packages\\PythonSoftwareFoundation.Python.3.12_qbz5n2kfra8p0\\LocalCache\\local-packages\\Python312\\site-packages\\numpy\\lib\\function_base.py:2898: RuntimeWarning: invalid value encountered in divide\n",
      "  c /= stddev[None, :]\n"
     ]
    },
    {
     "name": "stdout",
     "output_type": "stream",
     "text": [
      "Model Number: 435 with model UnobservedComponents in generation 2 of 20\n",
      "Model Number: 436 with model MetricMotif in generation 2 of 20\n",
      "Model Number: 437 with model DMD in generation 2 of 20\n",
      "Model Number: 438 with model LastValueNaive in generation 2 of 20\n",
      "Model Number: 439 with model UnivariateMotif in generation 2 of 20\n",
      "Model Number: 440 with model AverageValueNaive in generation 2 of 20\n",
      "Model Number: 441 with model UnobservedComponents in generation 2 of 20\n",
      "Model Number: 442 with model DMD in generation 2 of 20\n",
      "Model Number: 443 with model RRVAR in generation 2 of 20\n",
      "Model Number: 444 with model RRVAR in generation 2 of 20\n",
      "Model Number: 445 with model GLS in generation 2 of 20\n",
      "Model Number: 446 with model WindowRegression in generation 2 of 20\n",
      "Model Number: 447 with model ARIMA in generation 2 of 20\n",
      "Template Eval Error: Exception(\"Transformer Cointegration failed on fit from params rolling_mean_24 {'0': {'det_order': 0, 'k_ar_diff': 2}, '1': {'output_distribution': 'uniform', 'n_quantiles': 100}, '2': {}, '3': {'lag': 1, 'fill': 'bfill'}, '4': {'rows': 1, 'lag': 1, 'method': 'additive', 'strength': 1.0, 'first_value_only': False, 'threshold': 1}, '5': {'rows': 1, 'lag': 7, 'method': 'additive', 'strength': 0.2, 'first_value_only': False, 'threshold': None}}\") in model 447 in generation 2: ARIMA\n",
      "Model Number: 448 with model RRVAR in generation 2 of 20\n",
      "Model Number: 449 with model DMD in generation 2 of 20\n",
      "Template Eval Error: Exception(\"Transformer AlignLastValue failed on inverse from params ffill {'0': {'rows': 1, 'lag': 2, 'method': 'additive', 'strength': 1.0, 'first_value_only': True, 'threshold': 1}, '1': {'fixed': True, 'window': 32, 'macro_micro': False, 'center': True}, '2': {'window_size': 30, 'alpha': 3.5, 'grouping_forward_limit': 2, 'max_level_shifts': 30, 'alignment': 'last_value'}, '3': {}, '4': {}}\") in model 449 in generation 2: DMD\n",
      "Model Number: 450 with model NVAR in generation 2 of 20\n",
      "Model Number: 451 with model WindowRegression in generation 2 of 20\n",
      "Model Number: 452 with model MultivariateRegression in generation 2 of 20\n"
     ]
    },
    {
     "name": "stderr",
     "output_type": "stream",
     "text": [
      "C:\\Users\\moham\\AppData\\Local\\Packages\\PythonSoftwareFoundation.Python.3.12_qbz5n2kfra8p0\\LocalCache\\local-packages\\Python312\\site-packages\\autots\\tools\\transform.py:5472: FutureWarning: Downcasting object dtype arrays on .fillna, .ffill, .bfill is deprecated and will change in a future version. Call result.infer_objects(copy=False) instead. To opt-in to the future behavior, set `pd.set_option('future.no_silent_downcasting', True)`\n",
      "  df = df.fillna(0)\n",
      "C:\\Users\\moham\\AppData\\Local\\Packages\\PythonSoftwareFoundation.Python.3.12_qbz5n2kfra8p0\\LocalCache\\local-packages\\Python312\\site-packages\\autots\\tools\\transform.py:5472: FutureWarning: Downcasting object dtype arrays on .fillna, .ffill, .bfill is deprecated and will change in a future version. Call result.infer_objects(copy=False) instead. To opt-in to the future behavior, set `pd.set_option('future.no_silent_downcasting', True)`\n",
      "  df = df.fillna(0)\n"
     ]
    },
    {
     "name": "stdout",
     "output_type": "stream",
     "text": [
      "Model Number: 453 with model AverageValueNaive in generation 2 of 20\n",
      "Template Eval Error: Exception(\"Transformer BTCD failed on fit from params time {'0': {'regression_model': {'model': 'FastRidge', 'model_params': {}}, 'max_lags': 2}, '1': {'decomp_type': 'STL', 'part': 'trend', 'seasonal': 7}, '2': {'method': 'clip', 'std_threshold': 2, 'fillna': None}}\") in model 453 in generation 2: AverageValueNaive\n",
      "Model Number: 454 with model SectionalMotif in generation 2 of 20\n",
      "Model Number: 455 with model GLS in generation 2 of 20\n",
      "Model Number: 456 with model UnivariateMotif in generation 2 of 20\n",
      "Model Number: 457 with model WindowRegression in generation 2 of 20\n",
      "Model Number: 458 with model MultivariateMotif in generation 2 of 20\n",
      "Model Number: 459 with model GLM in generation 2 of 20\n",
      "Model Number: 460 with model MultivariateRegression in generation 2 of 20\n",
      "Model Number: 461 with model LastValueNaive in generation 2 of 20\n"
     ]
    },
    {
     "name": "stderr",
     "output_type": "stream",
     "text": [
      "C:\\Users\\moham\\AppData\\Local\\Packages\\PythonSoftwareFoundation.Python.3.12_qbz5n2kfra8p0\\LocalCache\\local-packages\\Python312\\site-packages\\sklearn\\neighbors\\_classification.py:238: DataConversionWarning: A column-vector y was passed when a 1d array was expected. Please change the shape of y to (n_samples,), for example using ravel().\n",
      "  return self._fit(X, y)\n"
     ]
    },
    {
     "name": "stdout",
     "output_type": "stream",
     "text": [
      "Model Number: 462 with model ARDL in generation 2 of 20\n",
      "Template Eval Error: Exception(\"Transformer Cointegration failed on fit from params akima {'0': {'det_order': 1, 'k_ar_diff': 1}}\") in model 462 in generation 2: ARDL\n",
      "Model Number: 463 with model MultivariateMotif in generation 2 of 20\n",
      "Template Eval Error: Exception(\"Transformer BTCD failed on fit from params ffill {'0': {'model': 'GLS', 'phi': 1, 'window': None}, '1': {'regression_model': {'model': 'FastRidge', 'model_params': {}}, 'max_lags': 1}, '2': {'model': 'Linear', 'phi': 1, 'window': None}, '3': {'rows': 4}}\") in model 463 in generation 2: MultivariateMotif\n",
      "Model Number: 464 with model LastValueNaive in generation 2 of 20\n",
      "Model Number: 465 with model UnobservedComponents in generation 2 of 20\n",
      "Model Number: 466 with model Theta in generation 2 of 20\n",
      "Model Number: 467 with model SeasonalNaive in generation 2 of 20\n"
     ]
    },
    {
     "name": "stderr",
     "output_type": "stream",
     "text": [
      "C:\\Users\\moham\\AppData\\Local\\Packages\\PythonSoftwareFoundation.Python.3.12_qbz5n2kfra8p0\\LocalCache\\local-packages\\Python312\\site-packages\\sklearn\\neighbors\\_classification.py:238: DataConversionWarning: A column-vector y was passed when a 1d array was expected. Please change the shape of y to (n_samples,), for example using ravel().\n",
      "  return self._fit(X, y)\n"
     ]
    },
    {
     "name": "stdout",
     "output_type": "stream",
     "text": [
      "Model Number: 468 with model UnobservedComponents in generation 2 of 20\n",
      "Model Number: 469 with model GLM in generation 2 of 20\n",
      "Model Number: 470 with model Theta in generation 2 of 20\n",
      "Template Eval Error: Exception(\"Transformer BTCD failed on fit from params quadratic {'0': {}, '1': {}, '2': {'window_size': 30, 'alpha': 2.5, 'grouping_forward_limit': 2, 'max_level_shifts': 30, 'alignment': 'rolling_diff_3nn'}, '3': {'regression_model': {'model': 'LinearRegression', 'model_params': {}}, 'max_lags': 1}, '4': {}}\") in model 470 in generation 2: Theta\n",
      "Model Number: 471 with model DatepartRegression in generation 2 of 20\n",
      "Template Eval Error: Exception(\"Transformer Cointegration failed on fit from params zero {'0': {'det_order': 1, 'k_ar_diff': 2}, '1': {'rows': 4}, '2': {'method': 'IsolationForest', 'method_params': {'contamination': 'auto', 'n_estimators': 100, 'max_features': 1.0, 'bootstrap': False}, 'fillna': 'linear', 'transform_dict': None, 'isolated_only': False}, '3': {'fixed': True, 'window': 4, 'macro_micro': False, 'center': True}, '4': {'rows': 1, 'lag': 1, 'method': 'additive', 'strength': 1.0, 'first_value_only': False, 'threshold': 1}, '5': {'rows': 2, 'lag': 1, 'method': 'additive', 'strength': 1.0, 'first_value_only': False, 'threshold': 10}}\") in model 471 in generation 2: DatepartRegression\n",
      "Model Number: 472 with model Cassandra in generation 2 of 20\n",
      "Template Eval Error: ModuleNotFoundError(\"No module named 'xgboost'\") in model 472 in generation 2: Cassandra\n",
      "Model Number: 473 with model UnobservedComponents in generation 2 of 20\n",
      "Model Number: 474 with model MultivariateRegression in generation 2 of 20\n"
     ]
    },
    {
     "name": "stderr",
     "output_type": "stream",
     "text": [
      "C:\\Users\\moham\\AppData\\Local\\Packages\\PythonSoftwareFoundation.Python.3.12_qbz5n2kfra8p0\\LocalCache\\local-packages\\Python312\\site-packages\\sklearn\\linear_model\\_ridge.py:204: LinAlgWarning: Ill-conditioned matrix (rcond=4.74746e-25): result may not be accurate.\n",
      "  return linalg.solve(A, Xy, assume_a=\"pos\", overwrite_a=True).T\n"
     ]
    },
    {
     "name": "stdout",
     "output_type": "stream",
     "text": [
      "Model Number: 475 with model ConstantNaive in generation 2 of 20\n",
      "Model Number: 476 with model LastValueNaive in generation 2 of 20\n",
      "Model Number: 477 with model UnivariateMotif in generation 2 of 20\n",
      "Model Number: 478 with model ARIMA in generation 2 of 20\n",
      "Model Number: 479 with model DatepartRegression in generation 2 of 20\n",
      "Model Number: 480 with model SectionalMotif in generation 2 of 20\n"
     ]
    },
    {
     "name": "stderr",
     "output_type": "stream",
     "text": [
      "C:\\Users\\moham\\AppData\\Local\\Packages\\PythonSoftwareFoundation.Python.3.12_qbz5n2kfra8p0\\LocalCache\\local-packages\\Python312\\site-packages\\sklearn\\neural_network\\_multilayer_perceptron.py:546: ConvergenceWarning: lbfgs failed to converge (status=1):\n",
      "STOP: TOTAL NO. of ITERATIONS REACHED LIMIT.\n",
      "\n",
      "Increase the number of iterations (max_iter) or scale the data as shown in:\n",
      "    https://scikit-learn.org/stable/modules/preprocessing.html\n",
      "  self.n_iter_ = _check_optimize_result(\"lbfgs\", opt_res, self.max_iter)\n"
     ]
    },
    {
     "name": "stdout",
     "output_type": "stream",
     "text": [
      "Model Number: 481 with model ARDL in generation 2 of 20\n",
      "New Generation: 3 of 20\n",
      "Model Number: 482 with model UnobservedComponents in generation 3 of 20\n",
      "Model Number: 483 with model AverageValueNaive in generation 3 of 20\n",
      "Model Number: 484 with model ARIMA in generation 3 of 20\n"
     ]
    },
    {
     "name": "stderr",
     "output_type": "stream",
     "text": [
      "C:\\Users\\moham\\AppData\\Local\\Packages\\PythonSoftwareFoundation.Python.3.12_qbz5n2kfra8p0\\LocalCache\\local-packages\\Python312\\site-packages\\sklearn\\svm\\_classes.py:31: FutureWarning: The default value of `dual` will change from `True` to `'auto'` in 1.5. Set the value of `dual` explicitly to suppress the warning.\n",
      "  warnings.warn(\n",
      "C:\\Users\\moham\\AppData\\Local\\Packages\\PythonSoftwareFoundation.Python.3.12_qbz5n2kfra8p0\\LocalCache\\local-packages\\Python312\\site-packages\\sklearn\\svm\\_base.py:1237: ConvergenceWarning: Liblinear failed to converge, increase the number of iterations.\n",
      "  warnings.warn(\n"
     ]
    },
    {
     "name": "stdout",
     "output_type": "stream",
     "text": [
      "Model Number: 485 with model ConstantNaive in generation 3 of 20\n",
      "Model Number: 486 with model ARDL in generation 3 of 20\n",
      "Model Number: 487 with model AverageValueNaive in generation 3 of 20\n",
      "Model Number: 488 with model Cassandra in generation 3 of 20\n",
      "FillNA method `pad` not known, returning original\n",
      "Template Eval Error: Exception(\"Transformer Detrend failed on fit from params pad {'0': {'output_distribution': 'normal', 'n_quantiles': 20}, '1': {}, '2': {'model': 'Linear', 'phi': 1, 'window': None}, '3': {'regression_model': {'model': 'ElasticNet', 'model_params': {}}, 'datepart_method': 'recurring', 'polynomial_degree': None, 'transform_dict': {'fillna': None, 'transformations': {'0': 'ScipyFilter'}, 'transformation_params': {'0': {'method': 'savgol_filter', 'method_args': {'window_length': 31, 'polyorder': 3, 'deriv': 0, 'mode': 'interp'}}}}, 'holiday_countries_used': False}}\") in model 488 in generation 3: Cassandra\n",
      "Model Number: 489 with model UnobservedComponents in generation 3 of 20\n",
      "Model Number: 490 with model ARIMA in generation 3 of 20\n",
      "Model Number: 491 with model GLS in generation 3 of 20\n",
      "Model Number: 492 with model DMD in generation 3 of 20\n",
      "Model Number: 493 with model SectionalMotif in generation 3 of 20\n",
      "Model Number: 494 with model UnobservedComponents in generation 3 of 20\n",
      "Model Number: 495 with model SeasonalityMotif in generation 3 of 20\n",
      "Model Number: 496 with model SectionalMotif in generation 3 of 20\n",
      "Template Eval Error: ValueError(\"regression_type=='User' but no future_regressor supplied\") in model 496 in generation 3: SectionalMotif\n",
      "Model Number: 497 with model ARDL in generation 3 of 20\n",
      "Model Number: 498 with model ARDL in generation 3 of 20\n",
      "Template Eval Error: ValueError(\"regression_type='User' but future_regressor not supplied\") in model 498 in generation 3: ARDL\n",
      "Model Number: 499 with model NVAR in generation 3 of 20\n",
      "Model Number: 500 with model SeasonalityMotif in generation 3 of 20\n",
      "Model Number: 501 with model SeasonalNaive in generation 3 of 20\n",
      "Model Number: 502 with model LastValueNaive in generation 3 of 20\n",
      "Model Number: 503 with model MultivariateRegression in generation 3 of 20\n",
      "Model Number: 504 with model Cassandra in generation 3 of 20\n",
      "Template Eval Error: Exception(\"Transformer Cointegration failed on fit from params mean {'0': {'det_order': 1, 'k_ar_diff': 2}, '1': {}, '2': {'rows': 7, 'lag': 1, 'method': 'additive', 'strength': 1.0, 'first_value_only': True, 'threshold': 1}, '3': {}, '4': {}}\") in model 504 in generation 3: Cassandra\n",
      "Model Number: 505 with model SeasonalityMotif in generation 3 of 20\n",
      "Model Number: 506 with model SectionalMotif in generation 3 of 20\n",
      "Model Number: 507 with model SeasonalNaive in generation 3 of 20\n"
     ]
    },
    {
     "name": "stderr",
     "output_type": "stream",
     "text": [
      "C:\\Users\\moham\\AppData\\Local\\Packages\\PythonSoftwareFoundation.Python.3.12_qbz5n2kfra8p0\\LocalCache\\local-packages\\Python312\\site-packages\\sklearn\\neighbors\\_classification.py:238: DataConversionWarning: A column-vector y was passed when a 1d array was expected. Please change the shape of y to (n_samples,), for example using ravel().\n",
      "  return self._fit(X, y)\n"
     ]
    },
    {
     "name": "stdout",
     "output_type": "stream",
     "text": [
      "Model Number: 508 with model GLS in generation 3 of 20\n",
      "Model Number: 509 with model Theta in generation 3 of 20\n",
      "Template Eval Error: Exception(\"Transformer BTCD failed on fit from params pchip {'0': {'regression_model': {'model': 'LinearRegression', 'model_params': {}}, 'max_lags': 1}, '1': {'det_order': -1, 'k_ar_diff': 2}, '2': {'span': 7}, '3': {'regression_model': {'model': 'FastRidge', 'model_params': {}}, 'max_lags': 2}}\") in model 509 in generation 3: Theta\n",
      "Model Number: 510 with model MultivariateMotif in generation 3 of 20\n",
      "Model Number: 511 with model RRVAR in generation 3 of 20\n",
      "Template Eval Error: Exception(\"Transformer AlignLastValue failed on inverse from params ffill {'0': {}, '1': {}, '2': {'method': 'zscore', 'method_params': {'distribution': 'norm', 'alpha': 0.05}, 'fillna': 'rolling_mean_24', 'transform_dict': {'fillna': 'median', 'transformations': {'0': 'DifferencedTransformer'}, 'transformation_params': {'0': {'lag': 1, 'fill': 'bfill'}}}, 'isolated_only': False}, '3': {'rows': 1, 'lag': 1, 'method': 'additive', 'strength': 1.0, 'first_value_only': True, 'threshold': None}}\") in model 511 in generation 3: RRVAR\n",
      "Model Number: 512 with model LastValueNaive in generation 3 of 20\n",
      "Model Number: 513 with model MultivariateMotif in generation 3 of 20\n",
      "Template Eval Error: Exception(\"Transformer KalmanSmoothing failed on inverse from params median {'0': {'model_name': 'AR(2)', 'state_transition': [[1, 1], [0.1, 0]], 'process_noise': [[1, 0], [0, 0]], 'observation_model': [[1, 0]], 'observation_noise': 1.0, 'em_iter': 10, 'on_transform': False, 'on_inverse': True}, '1': {'rows': 364, 'displacement_rows': 1, 'quantile': 1.0, 'decay_span': None}, '2': {'rows': 1, 'lag': 1, 'method': 'additive', 'strength': 1.0, 'first_value_only': False, 'threshold': 1}, '3': {'rows': 1, 'lag': 1, 'method': 'multiplicative', 'strength': 1.0, 'first_value_only': False, 'threshold': 1}, '4': {'rows': 1, 'lag': 28, 'method': 'additive', 'strength': 1.0, 'first_value_only': False, 'threshold': 1}, '5': {}}\") in model 513 in generation 3: MultivariateMotif\n",
      "Model Number: 514 with model SeasonalityMotif in generation 3 of 20\n",
      "Model Number: 515 with model WindowRegression in generation 3 of 20\n",
      "Model Number: 516 with model ConstantNaive in generation 3 of 20\n",
      "Model Number: 517 with model LastValueNaive in generation 3 of 20\n",
      "Template Eval Error: Exception(\"Transformer AlignLastValue failed on inverse from params nearest {'0': {'rows': 1, 'lag': 1, 'method': 'additive', 'strength': 0.5, 'first_value_only': True, 'threshold': 10}, '1': {'rows': 1, 'lag': 1, 'method': 'multiplicative', 'strength': 1.0, 'first_value_only': False, 'threshold': 1}, '2': {'method': 'butter', 'method_args': {'N': 4, 'btype': 'lowpass', 'analog': False, 'output': 'sos', 'Wn': 0.041666666666666664}}, '3': {'method': 'IQR', 'method_params': {'iqr_threshold': 2.0, 'iqr_quantiles': [0.25, 0.75]}, 'fillna': 'mean', 'transform_dict': {'fillna': None, 'transformations': {'0': 'EWMAFilter'}, 'transformation_params': {'0': {'span': 7}}}, 'isolated_only': True}}\") in model 517 in generation 3: LastValueNaive\n",
      "Model Number: 518 with model ARDL in generation 3 of 20\n",
      "Model Number: 519 with model MultivariateRegression in generation 3 of 20\n",
      "Template Eval Error: ValueError(\"regression_type='User' but not future_regressor supplied.\") in model 519 in generation 3: MultivariateRegression\n",
      "Model Number: 520 with model GLS in generation 3 of 20\n",
      "Model Number: 521 with model Cassandra in generation 3 of 20\n",
      "Template Eval Error: Exception(\"Transformer FastICA failed on fit from params ffill_mean_biased {'0': {'rows': 1, 'lag': 1, 'method': 'additive', 'strength': 0.2, 'first_value_only': False, 'threshold': 10}, '1': {}, '2': {'lag_1': 56, 'method': 'LastValue'}, '3': {'algorithm': 'parallel', 'fun': 'cube', 'max_iter': 250, 'whiten': True}, '4': {}}\") in model 521 in generation 3: Cassandra\n",
      "Model Number: 522 with model UnobservedComponents in generation 3 of 20\n",
      "Model Number: 523 with model DMD in generation 3 of 20\n",
      "Model Number: 524 with model SectionalMotif in generation 3 of 20\n",
      "Model Number: 525 with model GLM in generation 3 of 20\n",
      "Template Eval Error: ValueError('The first guess on the deviance function returned a nan.  This could be a boundary  problem and should be reported.') in model 525 in generation 3: GLM\n",
      "Model Number: 526 with model SectionalMotif in generation 3 of 20\n",
      "Model Number: 527 with model AverageValueNaive in generation 3 of 20\n",
      "Model Number: 528 with model MultivariateRegression in generation 3 of 20\n",
      "Template Eval Error: Exception(\"Transformer ReplaceConstant failed on fit from params ffill_mean_biased {'0': {'rows': 1, 'lag': 1, 'method': 'additive', 'strength': 1.0, 'first_value_only': False, 'threshold': 10}, '1': {'model': 'Gamma', 'phi': 1, 'window': None, 'transform_dict': None}, '2': {'span': 7}, '3': {'lag': 7, 'fill': 'bfill'}, '4': {'constant': 0, 'reintroduction_model': {'model': 'xgboost', 'model_params': {'n_estimators': 7, 'max_leaves': 4, 'min_child_weight': 2.5, 'learning_rate': 0.35, 'subsample': 0.95, 'colsample_bylevel': 0.56, 'colsample_bytree': 0.46, 'reg_alpha': 0.0016, 'reg_lambda': 5.3}, 'datepart_method': [52, 'quarter']}, 'fillna': 'ffill'}, '5': {}}\") in model 528 in generation 3: MultivariateRegression\n",
      "Model Number: 529 with model ARDL in generation 3 of 20\n"
     ]
    },
    {
     "name": "stderr",
     "output_type": "stream",
     "text": [
      "C:\\Users\\moham\\AppData\\Local\\Packages\\PythonSoftwareFoundation.Python.3.12_qbz5n2kfra8p0\\LocalCache\\local-packages\\Python312\\site-packages\\statsmodels\\genmod\\families\\family.py:1650: RuntimeWarning: invalid value encountered in log\n",
      "  endog * np.log(endog / mu) + (mu - endog))\n"
     ]
    },
    {
     "name": "stdout",
     "output_type": "stream",
     "text": [
      "Model Number: 530 with model NVAR in generation 3 of 20\n",
      "Model Number: 531 with model MultivariateRegression in generation 3 of 20\n",
      "Template Eval Error: ValueError('array must not contain infs or NaNs') in model 531 in generation 3: MultivariateRegression\n",
      "Model Number: 532 with model SeasonalityMotif in generation 3 of 20\n",
      "Template Eval Error: Exception(\"Transformer Cointegration failed on fit from params rolling_mean {'0': {}, '1': {'det_order': -1, 'k_ar_diff': 0}}\") in model 532 in generation 3: SeasonalityMotif\n",
      "Model Number: 533 with model LastValueNaive in generation 3 of 20\n",
      "Model Number: 534 with model DatepartRegression in generation 3 of 20\n",
      "Template Eval Error: Exception(\"Transformer BTCD failed on fit from params rolling_mean {'0': {'rows': 7, 'lag': 7, 'method': 'additive', 'strength': 1.0, 'first_value_only': False, 'threshold': None}, '1': {'model': 'Linear', 'phi': 1, 'window': None}, '2': {'output_distribution': 'uniform', 'n_quantiles': 100}, '3': {'lag_1': 50, 'method': 'Median'}, '4': {'method': 'clip', 'std_threshold': 4, 'fillna': None}, '5': {'regression_model': {'model': 'FastRidge', 'model_params': {}}, 'max_lags': 2}}\") in model 534 in generation 3: DatepartRegression\n",
      "Model Number: 535 with model ConstantNaive in generation 3 of 20\n",
      "Model Number: 536 with model ConstantNaive in generation 3 of 20\n",
      "Model Number: 537 with model DatepartRegression in generation 3 of 20\n"
     ]
    },
    {
     "name": "stderr",
     "output_type": "stream",
     "text": [
      "C:\\Users\\moham\\AppData\\Local\\Packages\\PythonSoftwareFoundation.Python.3.12_qbz5n2kfra8p0\\LocalCache\\local-packages\\Python312\\site-packages\\sklearn\\neighbors\\_classification.py:238: DataConversionWarning: A column-vector y was passed when a 1d array was expected. Please change the shape of y to (n_samples,), for example using ravel().\n",
      "  return self._fit(X, y)\n",
      "C:\\Users\\moham\\AppData\\Local\\Packages\\PythonSoftwareFoundation.Python.3.12_qbz5n2kfra8p0\\LocalCache\\local-packages\\Python312\\site-packages\\sklearn\\neighbors\\_classification.py:238: DataConversionWarning: A column-vector y was passed when a 1d array was expected. Please change the shape of y to (n_samples,), for example using ravel().\n",
      "  return self._fit(X, y)\n"
     ]
    },
    {
     "name": "stdout",
     "output_type": "stream",
     "text": [
      "Model Number: 538 with model SectionalMotif in generation 3 of 20\n",
      "Model Number: 539 with model ConstantNaive in generation 3 of 20\n",
      "Model Number: 540 with model ARIMA in generation 3 of 20\n",
      "Model Number: 541 with model WindowRegression in generation 3 of 20\n",
      "Model Number: 542 with model Theta in generation 3 of 20\n",
      "Model Number: 543 with model Theta in generation 3 of 20\n",
      "Model Number: 544 with model WindowRegression in generation 3 of 20\n"
     ]
    },
    {
     "name": "stderr",
     "output_type": "stream",
     "text": [
      "C:\\Users\\moham\\AppData\\Local\\Packages\\PythonSoftwareFoundation.Python.3.12_qbz5n2kfra8p0\\LocalCache\\local-packages\\Python312\\site-packages\\sklearn\\experimental\\enable_hist_gradient_boosting.py:15: UserWarning: Since version 1.0, it is not needed to import enable_hist_gradient_boosting anymore. HistGradientBoostingClassifier and HistGradientBoostingRegressor are now stable and can be normally imported from sklearn.ensemble.\n",
      "  warnings.warn(\n"
     ]
    },
    {
     "name": "stdout",
     "output_type": "stream",
     "text": [
      "Model Number: 545 with model Theta in generation 3 of 20\n",
      "Template Eval Error: Exception(\"Transformer AlignLastValue failed on inverse from params quadratic {'0': {}, '1': {'rows': 1, 'lag': 1, 'method': 'additive', 'strength': 1.0, 'first_value_only': True, 'threshold': 1}, '2': {'cutoff': 0.4, 'reverse': False}}\") in model 545 in generation 3: Theta\n",
      "Model Number: 546 with model MultivariateMotif in generation 3 of 20\n",
      "Model Number: 547 with model DMD in generation 3 of 20\n",
      "Model Number: 548 with model DMD in generation 3 of 20\n",
      "Model Number: 549 with model MultivariateRegression in generation 3 of 20\n"
     ]
    },
    {
     "name": "stderr",
     "output_type": "stream",
     "text": [
      "C:\\Users\\moham\\AppData\\Local\\Packages\\PythonSoftwareFoundation.Python.3.12_qbz5n2kfra8p0\\LocalCache\\local-packages\\Python312\\site-packages\\sklearn\\neighbors\\_classification.py:238: DataConversionWarning: A column-vector y was passed when a 1d array was expected. Please change the shape of y to (n_samples,), for example using ravel().\n",
      "  return self._fit(X, y)\n"
     ]
    },
    {
     "name": "stdout",
     "output_type": "stream",
     "text": [
      "Model Number: 550 with model MultivariateRegression in generation 3 of 20\n",
      "Template Eval Error: ValueError(\"regression_type='User' but not future_regressor supplied.\") in model 550 in generation 3: MultivariateRegression\n",
      "Model Number: 551 with model GLM in generation 3 of 20\n",
      "Template Eval Error: ValueError('The first guess on the deviance function returned a nan.  This could be a boundary  problem and should be reported.') in model 551 in generation 3: GLM\n",
      "Model Number: 552 with model UnobservedComponents in generation 3 of 20\n",
      "Model Number: 553 with model UnobservedComponents in generation 3 of 20\n"
     ]
    },
    {
     "name": "stderr",
     "output_type": "stream",
     "text": [
      "C:\\Users\\moham\\AppData\\Local\\Packages\\PythonSoftwareFoundation.Python.3.12_qbz5n2kfra8p0\\LocalCache\\local-packages\\Python312\\site-packages\\statsmodels\\genmod\\families\\family.py:1367: ValueWarning: Negative binomial dispersion parameter alpha not set. Using default value alpha=1.0.\n",
      "  warnings.warn(\"Negative binomial dispersion parameter alpha not \"\n",
      "C:\\Users\\moham\\AppData\\Local\\Packages\\PythonSoftwareFoundation.Python.3.12_qbz5n2kfra8p0\\LocalCache\\local-packages\\Python312\\site-packages\\statsmodels\\genmod\\families\\family.py:1406: RuntimeWarning: invalid value encountered in log\n",
      "  resid_dev -= endog_alpha * np.log(endog_alpha / mu_alpha)\n"
     ]
    },
    {
     "name": "stdout",
     "output_type": "stream",
     "text": [
      "Model Number: 554 with model SectionalMotif in generation 3 of 20\n",
      "Model Number: 555 with model Theta in generation 3 of 20\n",
      "Model Number: 556 with model MultivariateMotif in generation 3 of 20\n",
      "Model Number: 557 with model AverageValueNaive in generation 3 of 20\n",
      "Model Number: 558 with model MultivariateMotif in generation 3 of 20\n",
      "Template Eval Error: Exception(\"Transformer Cointegration failed on fit from params ffill {'0': {'output_distribution': 'normal', 'n_quantiles': 20}, '1': {'model_name': 'dynamic linear', 'state_transition': [[1, 1, 0, 0], [0, 1, 0, 0], [0, 0, 0.1, 1], [0, 0, 0.2, 0]], 'process_noise': [[0.4, 0, 0, 0], [0, 0.1, 0, 0], [0, 0, 1.3, 0], [0, 0, 0, 0]], 'observation_model': [[1, 0, 1, 0]], 'observation_noise': 0.25, 'em_iter': 10, 'on_transform': True, 'on_inverse': False}, '2': {'det_order': 1, 'k_ar_diff': 0}}\") in model 558 in generation 3: MultivariateMotif\n",
      "Model Number: 559 with model DatepartRegression in generation 3 of 20\n",
      "Model Number: 560 with model LastValueNaive in generation 3 of 20\n",
      "Model Number: 561 with model ARDL in generation 3 of 20\n",
      "Model Number: 562 with model NVAR in generation 3 of 20\n",
      "Model Number: 563 with model ConstantNaive in generation 3 of 20\n",
      "Model Number: 564 with model NVAR in generation 3 of 20\n",
      "Model Number: 565 with model MultivariateMotif in generation 3 of 20\n",
      "Model Number: 566 with model ARIMA in generation 3 of 20\n",
      "Template Eval Error: ValueError(\"regression_type='User' but future_regressor not supplied\") in model 566 in generation 3: ARIMA\n",
      "Model Number: 567 with model DMD in generation 3 of 20\n",
      "Model Number: 568 with model SectionalMotif in generation 3 of 20\n",
      "Model Number: 569 with model UnivariateMotif in generation 3 of 20\n",
      "Model Number: 570 with model AverageValueNaive in generation 3 of 20\n",
      "Model Number: 571 with model ARIMA in generation 3 of 20\n",
      "Model Number: 572 with model MultivariateMotif in generation 3 of 20\n",
      "Model Number: 573 with model ARIMA in generation 3 of 20\n",
      "Model Number: 574 with model WindowRegression in generation 3 of 20\n",
      "Model Number: 575 with model Cassandra in generation 3 of 20\n"
     ]
    },
    {
     "name": "stderr",
     "output_type": "stream",
     "text": [
      "C:\\Users\\moham\\AppData\\Local\\Packages\\PythonSoftwareFoundation.Python.3.12_qbz5n2kfra8p0\\LocalCache\\local-packages\\Python312\\site-packages\\numpy\\lib\\function_base.py:2897: RuntimeWarning: invalid value encountered in divide\n",
      "  c /= stddev[:, None]\n",
      "C:\\Users\\moham\\AppData\\Local\\Packages\\PythonSoftwareFoundation.Python.3.12_qbz5n2kfra8p0\\LocalCache\\local-packages\\Python312\\site-packages\\numpy\\lib\\function_base.py:2898: RuntimeWarning: invalid value encountered in divide\n",
      "  c /= stddev[None, :]\n"
     ]
    },
    {
     "name": "stdout",
     "output_type": "stream",
     "text": [
      "Template Eval Error: Exception(\"Transformer AlignLastValue failed on inverse from params pchip {'0': {}, '1': {}, '2': {'rows': 7, 'lag': 1, 'method': 'additive', 'strength': 1.0, 'first_value_only': True, 'threshold': 1}, '3': {}}\") in model 575 in generation 3: Cassandra\n",
      "Model Number: 576 with model SectionalMotif in generation 3 of 20\n",
      "Model Number: 577 with model SectionalMotif in generation 3 of 20\n",
      "Model Number: 578 with model UnivariateMotif in generation 3 of 20\n",
      "Template Eval Error: Exception(\"Transformer AlignLastValue failed on inverse from params pchip {'0': {'n_harmonics': 10, 'detrend': 'linear'}, '1': {'output_distribution': 'uniform', 'n_quantiles': 63}, '2': {'method': 'minmax', 'method_params': {'alpha': 0.05}, 'fillna': 'rolling_mean_24', 'transform_dict': {'transformations': {'0': 'DifferencedTransformer'}, 'transformation_params': {'0': {}}}, 'isolated_only': False}, '3': {'rows': 7, 'lag': 2, 'method': 'additive', 'strength': 1.0, 'first_value_only': True, 'threshold': None}}\") in model 578 in generation 3: UnivariateMotif\n",
      "Model Number: 579 with model Cassandra in generation 3 of 20\n",
      "Model Number: 580 with model Theta in generation 3 of 20\n",
      "Model Number: 581 with model AverageValueNaive in generation 3 of 20\n",
      "Model Number: 582 with model MultivariateMotif in generation 3 of 20\n"
     ]
    },
    {
     "name": "stderr",
     "output_type": "stream",
     "text": [
      "C:\\Users\\moham\\AppData\\Local\\Packages\\PythonSoftwareFoundation.Python.3.12_qbz5n2kfra8p0\\LocalCache\\local-packages\\Python312\\site-packages\\numpy\\lib\\function_base.py:2897: RuntimeWarning: invalid value encountered in divide\n",
      "  c /= stddev[:, None]\n",
      "C:\\Users\\moham\\AppData\\Local\\Packages\\PythonSoftwareFoundation.Python.3.12_qbz5n2kfra8p0\\LocalCache\\local-packages\\Python312\\site-packages\\numpy\\lib\\function_base.py:2898: RuntimeWarning: invalid value encountered in divide\n",
      "  c /= stddev[None, :]\n",
      "C:\\Users\\moham\\AppData\\Local\\Packages\\PythonSoftwareFoundation.Python.3.12_qbz5n2kfra8p0\\LocalCache\\local-packages\\Python312\\site-packages\\numpy\\lib\\function_base.py:2897: RuntimeWarning: invalid value encountered in divide\n",
      "  c /= stddev[:, None]\n",
      "C:\\Users\\moham\\AppData\\Local\\Packages\\PythonSoftwareFoundation.Python.3.12_qbz5n2kfra8p0\\LocalCache\\local-packages\\Python312\\site-packages\\numpy\\lib\\function_base.py:2898: RuntimeWarning: invalid value encountered in divide\n",
      "  c /= stddev[None, :]\n"
     ]
    },
    {
     "name": "stdout",
     "output_type": "stream",
     "text": [
      "Model Number: 583 with model Cassandra in generation 3 of 20\n",
      "Model Number: 584 with model MultivariateMotif in generation 3 of 20\n",
      "Model Number: 585 with model WindowRegression in generation 3 of 20\n",
      "Model Number: 586 with model ARIMA in generation 3 of 20\n"
     ]
    },
    {
     "name": "stderr",
     "output_type": "stream",
     "text": [
      "C:\\Users\\moham\\AppData\\Local\\Packages\\PythonSoftwareFoundation.Python.3.12_qbz5n2kfra8p0\\LocalCache\\local-packages\\Python312\\site-packages\\autots\\tools\\transform.py:5472: FutureWarning: Downcasting object dtype arrays on .fillna, .ffill, .bfill is deprecated and will change in a future version. Call result.infer_objects(copy=False) instead. To opt-in to the future behavior, set `pd.set_option('future.no_silent_downcasting', True)`\n",
      "  df = df.fillna(0)\n",
      "C:\\Users\\moham\\AppData\\Local\\Packages\\PythonSoftwareFoundation.Python.3.12_qbz5n2kfra8p0\\LocalCache\\local-packages\\Python312\\site-packages\\autots\\tools\\transform.py:5472: FutureWarning: Downcasting object dtype arrays on .fillna, .ffill, .bfill is deprecated and will change in a future version. Call result.infer_objects(copy=False) instead. To opt-in to the future behavior, set `pd.set_option('future.no_silent_downcasting', True)`\n",
      "  df = df.fillna(0)\n"
     ]
    },
    {
     "name": "stdout",
     "output_type": "stream",
     "text": [
      "Model Number: 587 with model ConstantNaive in generation 3 of 20\n",
      "Template Eval Error: Exception(\"Transformer Detrend failed on fit from params cubic {'0': {'model': 'Gamma', 'phi': 1, 'window': 30, 'transform_dict': None}, '1': {'rows': 1, 'lag': 1, 'method': 'additive', 'strength': 1.0, 'first_value_only': False, 'threshold': 10}, '2': {'rows': 1, 'lag': 1, 'method': 'additive', 'strength': 0.2, 'first_value_only': False, 'threshold': 1}}\") in model 587 in generation 3: ConstantNaive\n",
      "Model Number: 588 with model LastValueNaive in generation 3 of 20\n",
      "Model Number: 589 with model ConstantNaive in generation 3 of 20\n",
      "Model Number: 590 with model ARDL in generation 3 of 20\n",
      "Model Number: 591 with model ARIMA in generation 3 of 20\n",
      "Model Number: 592 with model RRVAR in generation 3 of 20\n",
      "Model Number: 593 with model MultivariateRegression in generation 3 of 20\n",
      "Template Eval Error: Exception(\"Transformer BTCD failed on fit from params ffill_mean_biased {'0': {'rows': 1, 'lag': 1, 'method': 'additive', 'strength': 1.0, 'first_value_only': False, 'threshold': 10}, '1': {'model': 'Gamma', 'phi': 1, 'window': None, 'transform_dict': None}, '2': {'fixed': True, 'window': 2, 'macro_micro': False, 'center': False}, '3': {'regression_model': {'model': 'FastRidge', 'model_params': {}}, 'max_lags': 1}, '4': {'constant': 0, 'reintroduction_model': {'model': 'xgboost', 'model_params': {'n_estimators': 7, 'max_leaves': 4, 'min_child_weight': 2.5, 'learning_rate': 0.35, 'subsample': 0.95, 'colsample_bylevel': 0.56, 'colsample_bytree': 0.46, 'reg_alpha': 0.0016, 'reg_lambda': 5.3}, 'datepart_method': [52, 'quarter']}, 'fillna': 'ffill'}}\") in model 593 in generation 3: MultivariateRegression\n",
      "Model Number: 594 with model RRVAR in generation 3 of 20\n",
      "Template Eval Error: Exception(\"Transformer AlignLastValue failed on inverse from params ffill {'0': {'whiten': False}, '1': {'rows': 1, 'lag': 1, 'method': 'additive', 'strength': 1.0, 'first_value_only': True, 'threshold': 1}, '2': {'rolling_window': 0.1, 'n_tails': 90, 'n_future': 360, 'method': 'mean', 'macro_micro': True}, '3': {'rows': 4, 'lag': 1, 'method': 'additive', 'strength': 0.5, 'first_value_only': False, 'threshold': 1}}\") in model 594 in generation 3: RRVAR\n",
      "Model Number: 595 with model SeasonalityMotif in generation 3 of 20\n",
      "Model Number: 596 with model WindowRegression in generation 3 of 20\n",
      "Model Number: 597 with model ARIMA in generation 3 of 20\n",
      "Model Number: 598 with model ARIMA in generation 3 of 20\n",
      "Model Number: 599 with model DatepartRegression in generation 3 of 20\n",
      "Template Eval Error: ValueError('Model DatepartRegression returned NaN for one or more series. fail_on_forecast_nan=True') in model 599 in generation 3: DatepartRegression\n",
      "Model Number: 600 with model LastValueNaive in generation 3 of 20\n",
      "Model Number: 601 with model MetricMotif in generation 3 of 20\n",
      "Model Number: 602 with model Theta in generation 3 of 20\n"
     ]
    },
    {
     "name": "stderr",
     "output_type": "stream",
     "text": [
      "C:\\Users\\moham\\AppData\\Local\\Packages\\PythonSoftwareFoundation.Python.3.12_qbz5n2kfra8p0\\LocalCache\\local-packages\\Python312\\site-packages\\sklearn\\neighbors\\_regression.py:505: UserWarning: One or more samples have no neighbors within specified radius; predicting NaN.\n",
      "  warnings.warn(empty_warning_msg)\n",
      "C:\\Users\\moham\\AppData\\Local\\Packages\\PythonSoftwareFoundation.Python.3.12_qbz5n2kfra8p0\\LocalCache\\local-packages\\Python312\\site-packages\\sklearn\\neighbors\\_classification.py:238: DataConversionWarning: A column-vector y was passed when a 1d array was expected. Please change the shape of y to (n_samples,), for example using ravel().\n",
      "  return self._fit(X, y)\n"
     ]
    },
    {
     "name": "stdout",
     "output_type": "stream",
     "text": [
      "Model Number: 603 with model ARIMA in generation 3 of 20\n",
      "Model Number: 604 with model SeasonalityMotif in generation 3 of 20\n",
      "Model Number: 605 with model SeasonalityMotif in generation 3 of 20\n",
      "Model Number: 606 with model Theta in generation 3 of 20\n",
      "Model Number: 607 with model Theta in generation 3 of 20\n",
      "Model Number: 608 with model UnobservedComponents in generation 3 of 20\n",
      "Model Number: 609 with model ETS in generation 3 of 20\n",
      "Model Number: 610 with model MultivariateRegression in generation 3 of 20\n",
      "Template Eval Error: Exception(\"Transformer AlignLastValue failed on inverse from params ffill {'0': {'decomp_type': 'seasonal_decompose', 'part': 'trend'}, '1': {}, '2': {'rows': 4, 'lag': 1, 'method': 'additive', 'strength': 0.7, 'first_value_only': True, 'threshold': 1}}\") in model 610 in generation 3: MultivariateRegression\n",
      "Model Number: 611 with model DMD in generation 3 of 20\n",
      "Model Number: 612 with model RRVAR in generation 3 of 20\n",
      "Model Number: 613 with model SectionalMotif in generation 3 of 20\n",
      "Model Number: 614 with model MetricMotif in generation 3 of 20\n",
      "Model Number: 615 with model Cassandra in generation 3 of 20\n",
      "Model Number: 616 with model LastValueNaive in generation 3 of 20\n",
      "Model Number: 617 with model SeasonalNaive in generation 3 of 20\n"
     ]
    },
    {
     "name": "stderr",
     "output_type": "stream",
     "text": [
      "C:\\Users\\moham\\AppData\\Local\\Packages\\PythonSoftwareFoundation.Python.3.12_qbz5n2kfra8p0\\LocalCache\\local-packages\\Python312\\site-packages\\numpy\\lib\\function_base.py:2897: RuntimeWarning: invalid value encountered in divide\n",
      "  c /= stddev[:, None]\n",
      "C:\\Users\\moham\\AppData\\Local\\Packages\\PythonSoftwareFoundation.Python.3.12_qbz5n2kfra8p0\\LocalCache\\local-packages\\Python312\\site-packages\\numpy\\lib\\function_base.py:2898: RuntimeWarning: invalid value encountered in divide\n",
      "  c /= stddev[None, :]\n",
      "C:\\Users\\moham\\AppData\\Local\\Packages\\PythonSoftwareFoundation.Python.3.12_qbz5n2kfra8p0\\LocalCache\\local-packages\\Python312\\site-packages\\sklearn\\neighbors\\_classification.py:238: DataConversionWarning: A column-vector y was passed when a 1d array was expected. Please change the shape of y to (n_samples,), for example using ravel().\n",
      "  return self._fit(X, y)\n",
      "C:\\Users\\moham\\AppData\\Local\\Packages\\PythonSoftwareFoundation.Python.3.12_qbz5n2kfra8p0\\LocalCache\\local-packages\\Python312\\site-packages\\statsmodels\\genmod\\families\\family.py:1650: RuntimeWarning: invalid value encountered in log\n",
      "  endog * np.log(endog / mu) + (mu - endog))\n"
     ]
    },
    {
     "name": "stdout",
     "output_type": "stream",
     "text": [
      "Model Number: 618 with model GLM in generation 3 of 20\n",
      "Template Eval Error: ValueError('The first guess on the deviance function returned a nan.  This could be a boundary  problem and should be reported.') in model 618 in generation 3: GLM\n",
      "Model Number: 619 with model DatepartRegression in generation 3 of 20\n",
      "Template Eval Error: ValueError(\"regression_type='User' but no future_regressor passed\") in model 619 in generation 3: DatepartRegression\n",
      "Model Number: 620 with model ARDL in generation 3 of 20\n",
      "Model Number: 621 with model SeasonalNaive in generation 3 of 20\n",
      "Template Eval Error: Exception(\"Transformer Cointegration failed on fit from params pchip {'0': {'lag': 1, 'fill': 'bfill'}, '1': {'det_order': -1, 'k_ar_diff': 1}, '2': {'method': None, 'method_params': None, 'transform_dict': None, 'reverse_alignment': True, 'isolated_only': False, 'fillna': 1.0}}\") in model 621 in generation 3: SeasonalNaive\n",
      "New Generation: 4 of 20\n",
      "Model Number: 622 with model DMD in generation 4 of 20\n",
      "Model Number: 623 with model ARIMA in generation 4 of 20\n",
      "Model Number: 624 with model SectionalMotif in generation 4 of 20\n",
      "Model Number: 625 with model ARIMA in generation 4 of 20\n",
      "Model Number: 626 with model Cassandra in generation 4 of 20\n",
      "FillNA method `pad` not known, returning original\n"
     ]
    },
    {
     "name": "stderr",
     "output_type": "stream",
     "text": [
      "C:\\Users\\moham\\AppData\\Local\\Packages\\PythonSoftwareFoundation.Python.3.12_qbz5n2kfra8p0\\LocalCache\\local-packages\\Python312\\site-packages\\numpy\\lib\\function_base.py:2897: RuntimeWarning: invalid value encountered in divide\n",
      "  c /= stddev[:, None]\n",
      "C:\\Users\\moham\\AppData\\Local\\Packages\\PythonSoftwareFoundation.Python.3.12_qbz5n2kfra8p0\\LocalCache\\local-packages\\Python312\\site-packages\\numpy\\lib\\function_base.py:2898: RuntimeWarning: invalid value encountered in divide\n",
      "  c /= stddev[None, :]\n",
      "C:\\Users\\moham\\AppData\\Local\\Packages\\PythonSoftwareFoundation.Python.3.12_qbz5n2kfra8p0\\LocalCache\\local-packages\\Python312\\site-packages\\sklearn\\neighbors\\_classification.py:238: DataConversionWarning: A column-vector y was passed when a 1d array was expected. Please change the shape of y to (n_samples,), for example using ravel().\n",
      "  return self._fit(X, y)\n"
     ]
    },
    {
     "name": "stdout",
     "output_type": "stream",
     "text": [
      "Model Number: 627 with model MultivariateRegression in generation 4 of 20\n",
      "Model Number: 628 with model SeasonalityMotif in generation 4 of 20\n",
      "Model Number: 629 with model UnobservedComponents in generation 4 of 20\n",
      "Model Number: 630 with model Cassandra in generation 4 of 20\n",
      "Template Eval Error: ValueError(\"regression_type='User' but future_regressor not supplied\") in model 630 in generation 4: Cassandra\n",
      "Model Number: 631 with model Theta in generation 4 of 20\n",
      "Model Number: 632 with model WindowRegression in generation 4 of 20\n",
      "Model Number: 633 with model WindowRegression in generation 4 of 20\n",
      "Model Number: 634 with model DMD in generation 4 of 20\n",
      "Model Number: 635 with model Cassandra in generation 4 of 20\n",
      "Model Number: 636 with model ARIMA in generation 4 of 20\n"
     ]
    },
    {
     "name": "stderr",
     "output_type": "stream",
     "text": [
      "C:\\Users\\moham\\AppData\\Local\\Packages\\PythonSoftwareFoundation.Python.3.12_qbz5n2kfra8p0\\LocalCache\\local-packages\\Python312\\site-packages\\numpy\\lib\\function_base.py:2897: RuntimeWarning: invalid value encountered in divide\n",
      "  c /= stddev[:, None]\n",
      "C:\\Users\\moham\\AppData\\Local\\Packages\\PythonSoftwareFoundation.Python.3.12_qbz5n2kfra8p0\\LocalCache\\local-packages\\Python312\\site-packages\\numpy\\lib\\function_base.py:2898: RuntimeWarning: invalid value encountered in divide\n",
      "  c /= stddev[None, :]\n"
     ]
    },
    {
     "name": "stdout",
     "output_type": "stream",
     "text": [
      "Model Number: 637 with model MultivariateRegression in generation 4 of 20\n",
      "Model Number: 638 with model UnobservedComponents in generation 4 of 20\n",
      "Model Number: 639 with model ARIMA in generation 4 of 20\n",
      "Model Number: 640 with model MultivariateRegression in generation 4 of 20\n",
      "Model Number: 641 with model ARIMA in generation 4 of 20\n",
      "Model Number: 642 with model MultivariateMotif in generation 4 of 20\n",
      "Model Number: 643 with model ARIMA in generation 4 of 20\n",
      "Model Number: 644 with model DatepartRegression in generation 4 of 20\n",
      "Model Number: 645 with model LastValueNaive in generation 4 of 20\n",
      "Model Number: 646 with model DatepartRegression in generation 4 of 20\n",
      "Model Number: 647 with model MultivariateRegression in generation 4 of 20\n"
     ]
    },
    {
     "name": "stderr",
     "output_type": "stream",
     "text": [
      "C:\\Users\\moham\\AppData\\Local\\Packages\\PythonSoftwareFoundation.Python.3.12_qbz5n2kfra8p0\\LocalCache\\local-packages\\Python312\\site-packages\\sklearn\\neural_network\\_multilayer_perceptron.py:546: ConvergenceWarning: lbfgs failed to converge (status=1):\n",
      "STOP: TOTAL NO. of ITERATIONS REACHED LIMIT.\n",
      "\n",
      "Increase the number of iterations (max_iter) or scale the data as shown in:\n",
      "    https://scikit-learn.org/stable/modules/preprocessing.html\n",
      "  self.n_iter_ = _check_optimize_result(\"lbfgs\", opt_res, self.max_iter)\n"
     ]
    },
    {
     "name": "stdout",
     "output_type": "stream",
     "text": [
      "Model Number: 648 with model Theta in generation 4 of 20\n",
      "Model Number: 649 with model MultivariateMotif in generation 4 of 20\n",
      "Model Number: 650 with model GLM in generation 4 of 20\n",
      "Model Number: 651 with model DatepartRegression in generation 4 of 20\n",
      "Template Eval Error: ValueError(\"regression_type='User' but no future_regressor passed\") in model 651 in generation 4: DatepartRegression\n",
      "Model Number: 652 with model NVAR in generation 4 of 20\n",
      "Model Number: 653 with model SectionalMotif in generation 4 of 20\n",
      "Model Number: 654 with model Theta in generation 4 of 20\n",
      "Model Number: 655 with model SectionalMotif in generation 4 of 20\n",
      "Model Number: 656 with model DMD in generation 4 of 20\n",
      "Model Number: 657 with model DMD in generation 4 of 20\n",
      "ECR rank is 0\n",
      "Model Number: 658 with model ConstantNaive in generation 4 of 20\n",
      "Model Number: 659 with model SectionalMotif in generation 4 of 20\n",
      "Model Number: 660 with model WindowRegression in generation 4 of 20\n",
      "Template Eval Error: ModuleNotFoundError(\"No module named 'lightgbm'\") in model 660 in generation 4: WindowRegression\n",
      "Model Number: 661 with model UnobservedComponents in generation 4 of 20\n",
      "Model Number: 662 with model DMD in generation 4 of 20\n",
      "Model Number: 663 with model WindowRegression in generation 4 of 20\n",
      "Model Number: 664 with model SeasonalNaive in generation 4 of 20\n",
      "Model Number: 665 with model WindowRegression in generation 4 of 20\n",
      "Model Number: 666 with model SeasonalityMotif in generation 4 of 20\n",
      "Model Number: 667 with model GLS in generation 4 of 20\n",
      "Model Number: 668 with model NVAR in generation 4 of 20\n",
      "Model Number: 669 with model MultivariateMotif in generation 4 of 20\n",
      "Model Number: 670 with model GLM in generation 4 of 20\n",
      "Template Eval Error: Exception(\"Transformer Cointegration failed on fit from params rolling_mean_24 {'0': {'method': 'clip', 'std_threshold': 4, 'fillna': None}, '1': {'det_order': -1, 'k_ar_diff': 2}, '2': {'model': 'GLS', 'phi': 1, 'window': None, 'transform_dict': None}}\") in model 670 in generation 4: GLM\n",
      "Model Number: 671 with model ARIMA in generation 4 of 20\n",
      "Model Number: 672 with model ETS in generation 4 of 20\n",
      "Model Number: 673 with model Cassandra in generation 4 of 20\n",
      "Template Eval Error: Exception(\"Transformer HolidayTransformer failed on fit from params None {'0': {'cutoff': 0.8, 'reverse': False}, '1': {'threshold': 0.8, 'splash_threshold': None, 'use_dayofmonth_holidays': True, 'use_wkdom_holidays': True, 'use_wkdeom_holidays': False, 'use_lunar_holidays': False, 'use_lunar_weekday': False, 'use_islamic_holidays': False, 'use_hebrew_holidays': False, 'anomaly_detector_params': {'method': 'IQR', 'method_params': {'iqr_threshold': 2.5, 'iqr_quantiles': [0.25, 0.75]}, 'fillna': 'rolling_mean_24', 'transform_dict': {'transformations': {'0': 'DatepartRegression'}, 'transformation_params': {'0': {'datepart_method': 'simple_3', 'regression_model': {'model': 'FastRidge', 'model_params': {}}}}}, 'isolated_only': True}, 'remove_excess_anomalies': True, 'impact': 'median_value', 'regression_params': {}}, '2': {'rows': 1, 'lag': 1, 'method': 'additive', 'strength': 1.0, 'first_value_only': False, 'threshold': None}}\") in model 673 in generation 4: Cassandra\n",
      "Model Number: 674 with model AverageValueNaive in generation 4 of 20\n",
      "Model Number: 675 with model Theta in generation 4 of 20\n",
      "Model Number: 676 with model GLS in generation 4 of 20\n",
      "Model Number: 677 with model SeasonalNaive in generation 4 of 20\n",
      "Model Number: 678 with model WindowRegression in generation 4 of 20\n",
      "Template Eval Error: ModuleNotFoundError(\"No module named 'lightgbm'\") in model 678 in generation 4: WindowRegression\n",
      "Model Number: 679 with model MultivariateMotif in generation 4 of 20\n",
      "Model Number: 680 with model ConstantNaive in generation 4 of 20\n"
     ]
    },
    {
     "name": "stderr",
     "output_type": "stream",
     "text": [
      "C:\\Users\\moham\\AppData\\Local\\Packages\\PythonSoftwareFoundation.Python.3.12_qbz5n2kfra8p0\\LocalCache\\local-packages\\Python312\\site-packages\\sklearn\\neighbors\\_classification.py:238: DataConversionWarning: A column-vector y was passed when a 1d array was expected. Please change the shape of y to (n_samples,), for example using ravel().\n",
      "  return self._fit(X, y)\n"
     ]
    },
    {
     "name": "stdout",
     "output_type": "stream",
     "text": [
      "Template Eval Error: Exception(\"Transformer AlignLastValue failed on inverse from params ffill {'0': {'rows': 1, 'lag': 1, 'method': 'additive', 'strength': 1.0, 'first_value_only': True, 'threshold': 1}, '1': {}, '2': {'model': 'Linear', 'phi': 1, 'window': None}, '3': {'constant': 0, 'reintroduction_model': None, 'fillna': 'linear'}, '4': {'regression_model': {'model': 'MLP', 'model_params': {'hidden_layer_sizes': [72, 36, 72], 'max_iter': 250, 'activation': 'tanh', 'solver': 'adam', 'early_stopping': False, 'learning_rate_init': 0.001}}, 'datepart_method': 'simple_binarized', 'polynomial_degree': None, 'transform_dict': None, 'holiday_countries_used': False}}\") in model 680 in generation 4: ConstantNaive\n",
      "Model Number: 681 with model AverageValueNaive in generation 4 of 20\n",
      "Model Number: 682 with model ConstantNaive in generation 4 of 20\n",
      "Model Number: 683 with model MetricMotif in generation 4 of 20\n",
      "Model Number: 684 with model GLM in generation 4 of 20\n",
      "Template Eval Error: ValueError('regression_type=user and no future_regressor passed') in model 684 in generation 4: GLM\n",
      "Model Number: 685 with model Theta in generation 4 of 20\n",
      "Model Number: 686 with model UnivariateMotif in generation 4 of 20\n",
      "Model Number: 687 with model ConstantNaive in generation 4 of 20\n",
      "Model Number: 688 with model DatepartRegression in generation 4 of 20\n",
      "Template Eval Error: ValueError(\"regression_type='User' but no future_regressor passed\") in model 688 in generation 4: DatepartRegression\n",
      "Model Number: 689 with model UnobservedComponents in generation 4 of 20\n",
      "Model Number: 690 with model SeasonalityMotif in generation 4 of 20\n",
      "Model Number: 691 with model MetricMotif in generation 4 of 20\n",
      "Model Number: 692 with model SectionalMotif in generation 4 of 20\n",
      "Model Number: 693 with model Theta in generation 4 of 20\n",
      "Model Number: 694 with model FFT in generation 4 of 20\n",
      "Template Eval Error: Exception(\"Transformer AlignLastValue failed on inverse from params ffill {'0': {'output_distribution': 'normal', 'n_quantiles': 20}, '1': {}, '2': {'rows': 2, 'lag': 1, 'method': 'additive', 'strength': 1.0, 'first_value_only': True, 'threshold': 10}}\") in model 694 in generation 4: FFT\n",
      "Model Number: 695 with model DMD in generation 4 of 20\n",
      "ECR rank is 0\n",
      "Model Number: 696 with model SeasonalNaive in generation 4 of 20\n",
      "Model Number: 697 with model MultivariateMotif in generation 4 of 20\n",
      "Model Number: 698 with model ARDL in generation 4 of 20\n",
      "Model Number: 699 with model MultivariateMotif in generation 4 of 20\n",
      "Model Number: 700 with model NVAR in generation 4 of 20\n",
      "Model Number: 701 with model ARDL in generation 4 of 20\n",
      "Model Number: 702 with model Cassandra in generation 4 of 20\n",
      "Model Number: 703 with model AverageValueNaive in generation 4 of 20\n",
      "Model Number: 704 with model SectionalMotif in generation 4 of 20\n"
     ]
    },
    {
     "name": "stderr",
     "output_type": "stream",
     "text": [
      "C:\\Users\\moham\\AppData\\Local\\Packages\\PythonSoftwareFoundation.Python.3.12_qbz5n2kfra8p0\\LocalCache\\local-packages\\Python312\\site-packages\\numpy\\lib\\function_base.py:2897: RuntimeWarning: invalid value encountered in divide\n",
      "  c /= stddev[:, None]\n",
      "C:\\Users\\moham\\AppData\\Local\\Packages\\PythonSoftwareFoundation.Python.3.12_qbz5n2kfra8p0\\LocalCache\\local-packages\\Python312\\site-packages\\numpy\\lib\\function_base.py:2898: RuntimeWarning: invalid value encountered in divide\n",
      "  c /= stddev[None, :]\n"
     ]
    },
    {
     "name": "stdout",
     "output_type": "stream",
     "text": [
      "Model Number: 705 with model ARIMA in generation 4 of 20\n",
      "Model Number: 706 with model MultivariateMotif in generation 4 of 20\n",
      "Model Number: 707 with model LastValueNaive in generation 4 of 20\n",
      "Model Number: 708 with model MultivariateRegression in generation 4 of 20\n"
     ]
    },
    {
     "name": "stderr",
     "output_type": "stream",
     "text": [
      "C:\\Users\\moham\\AppData\\Local\\Packages\\PythonSoftwareFoundation.Python.3.12_qbz5n2kfra8p0\\LocalCache\\local-packages\\Python312\\site-packages\\sklearn\\neighbors\\_classification.py:238: DataConversionWarning: A column-vector y was passed when a 1d array was expected. Please change the shape of y to (n_samples,), for example using ravel().\n",
      "  return self._fit(X, y)\n"
     ]
    },
    {
     "name": "stdout",
     "output_type": "stream",
     "text": [
      "Model Number: 709 with model AverageValueNaive in generation 4 of 20\n",
      "Model Number: 710 with model ARIMA in generation 4 of 20\n",
      "Model Number: 711 with model Cassandra in generation 4 of 20\n",
      "Template Eval Error: AttributeError(\"'float' object has no attribute 'shape'\") in model 711 in generation 4: Cassandra\n",
      "Model Number: 712 with model RRVAR in generation 4 of 20\n",
      "Model Number: 713 with model Theta in generation 4 of 20\n",
      "Model Number: 714 with model MultivariateRegression in generation 4 of 20\n",
      "Model Number: 715 with model LastValueNaive in generation 4 of 20\n",
      "Model Number: 716 with model SeasonalNaive in generation 4 of 20\n",
      "Model Number: 717 with model ARDL in generation 4 of 20\n",
      "Model Number: 718 with model LastValueNaive in generation 4 of 20\n",
      "Model Number: 719 with model Cassandra in generation 4 of 20\n",
      "Model Number: 720 with model ARIMA in generation 4 of 20\n"
     ]
    },
    {
     "name": "stderr",
     "output_type": "stream",
     "text": [
      "C:\\Users\\moham\\AppData\\Local\\Packages\\PythonSoftwareFoundation.Python.3.12_qbz5n2kfra8p0\\LocalCache\\local-packages\\Python312\\site-packages\\numpy\\lib\\function_base.py:2897: RuntimeWarning: invalid value encountered in divide\n",
      "  c /= stddev[:, None]\n",
      "C:\\Users\\moham\\AppData\\Local\\Packages\\PythonSoftwareFoundation.Python.3.12_qbz5n2kfra8p0\\LocalCache\\local-packages\\Python312\\site-packages\\numpy\\lib\\function_base.py:2898: RuntimeWarning: invalid value encountered in divide\n",
      "  c /= stddev[None, :]\n"
     ]
    },
    {
     "name": "stdout",
     "output_type": "stream",
     "text": [
      "Model Number: 721 with model LastValueNaive in generation 4 of 20\n",
      "Model Number: 722 with model ConstantNaive in generation 4 of 20\n",
      "Model Number: 723 with model MultivariateMotif in generation 4 of 20\n",
      "Model Number: 724 with model Cassandra in generation 4 of 20\n"
     ]
    },
    {
     "name": "stderr",
     "output_type": "stream",
     "text": [
      "C:\\Users\\moham\\AppData\\Local\\Packages\\PythonSoftwareFoundation.Python.3.12_qbz5n2kfra8p0\\LocalCache\\local-packages\\Python312\\site-packages\\numpy\\lib\\function_base.py:2897: RuntimeWarning: invalid value encountered in divide\n",
      "  c /= stddev[:, None]\n",
      "C:\\Users\\moham\\AppData\\Local\\Packages\\PythonSoftwareFoundation.Python.3.12_qbz5n2kfra8p0\\LocalCache\\local-packages\\Python312\\site-packages\\numpy\\lib\\function_base.py:2898: RuntimeWarning: invalid value encountered in divide\n",
      "  c /= stddev[None, :]\n",
      "C:\\Users\\moham\\AppData\\Local\\Packages\\PythonSoftwareFoundation.Python.3.12_qbz5n2kfra8p0\\LocalCache\\local-packages\\Python312\\site-packages\\sklearn\\linear_model\\_ridge.py:204: LinAlgWarning: Ill-conditioned matrix (rcond=4.74746e-25): result may not be accurate.\n",
      "  return linalg.solve(A, Xy, assume_a=\"pos\", overwrite_a=True).T\n"
     ]
    },
    {
     "name": "stdout",
     "output_type": "stream",
     "text": [
      "Model Number: 725 with model MetricMotif in generation 4 of 20\n",
      "Model Number: 726 with model ARDL in generation 4 of 20\n",
      "Template Eval Error: ValueError(\"regression_type='User' but future_regressor not supplied\") in model 726 in generation 4: ARDL\n",
      "Model Number: 727 with model DMD in generation 4 of 20\n",
      "Model Number: 728 with model MultivariateMotif in generation 4 of 20\n",
      "Model Number: 729 with model MultivariateRegression in generation 4 of 20\n",
      "Model Number: 730 with model Cassandra in generation 4 of 20\n",
      "Template Eval Error: AttributeError(\"'float' object has no attribute 'shape'\") in model 730 in generation 4: Cassandra\n",
      "Model Number: 731 with model SeasonalityMotif in generation 4 of 20\n",
      "Model Number: 732 with model WindowRegression in generation 4 of 20\n",
      "Model Number: 733 with model RRVAR in generation 4 of 20\n",
      "Model Number: 734 with model NVAR in generation 4 of 20\n"
     ]
    },
    {
     "name": "stderr",
     "output_type": "stream",
     "text": [
      "C:\\Users\\moham\\AppData\\Local\\Packages\\PythonSoftwareFoundation.Python.3.12_qbz5n2kfra8p0\\LocalCache\\local-packages\\Python312\\site-packages\\autots\\tools\\transform.py:5472: FutureWarning: Downcasting object dtype arrays on .fillna, .ffill, .bfill is deprecated and will change in a future version. Call result.infer_objects(copy=False) instead. To opt-in to the future behavior, set `pd.set_option('future.no_silent_downcasting', True)`\n",
      "  df = df.fillna(0)\n",
      "C:\\Users\\moham\\AppData\\Local\\Packages\\PythonSoftwareFoundation.Python.3.12_qbz5n2kfra8p0\\LocalCache\\local-packages\\Python312\\site-packages\\autots\\tools\\transform.py:5472: FutureWarning: Downcasting object dtype arrays on .fillna, .ffill, .bfill is deprecated and will change in a future version. Call result.infer_objects(copy=False) instead. To opt-in to the future behavior, set `pd.set_option('future.no_silent_downcasting', True)`\n",
      "  df = df.fillna(0)\n"
     ]
    },
    {
     "name": "stdout",
     "output_type": "stream",
     "text": [
      "Model Number: 735 with model DMD in generation 4 of 20\n",
      "Model Number: 736 with model Theta in generation 4 of 20\n",
      "Model Number: 737 with model MultivariateMotif in generation 4 of 20\n",
      "Model Number: 738 with model ARDL in generation 4 of 20\n",
      "Model Number: 739 with model NVAR in generation 4 of 20\n",
      "Model Number: 740 with model NVAR in generation 4 of 20\n",
      "Model Number: 741 with model MultivariateMotif in generation 4 of 20\n",
      "Model Number: 742 with model UnivariateMotif in generation 4 of 20\n",
      "Model Number: 743 with model NVAR in generation 4 of 20\n",
      "Model Number: 744 with model ARDL in generation 4 of 20\n",
      "Model Number: 745 with model Cassandra in generation 4 of 20\n",
      "Model Number: 746 with model SeasonalityMotif in generation 4 of 20\n",
      "Template Eval Error: Exception(\"Transformer AlignLastValue failed on inverse from params ffill {'0': {'rows': 1, 'lag': 1, 'method': 'additive', 'strength': 1.0, 'first_value_only': False, 'threshold': 10}, '1': {'rows': 1, 'lag': 1, 'method': 'additive', 'strength': 1.0, 'first_value_only': True, 'threshold': None}, '2': {'rows': 1, 'lag': 1, 'method': 'additive', 'strength': 1.0, 'first_value_only': False, 'threshold': 10}, '3': {'rows': 5}}\") in model 746 in generation 4: SeasonalityMotif\n",
      "Model Number: 747 with model DMD in generation 4 of 20\n",
      "Model Number: 748 with model MetricMotif in generation 4 of 20\n",
      "Model Number: 749 with model NVAR in generation 4 of 20\n",
      "Model Number: 750 with model DatepartRegression in generation 4 of 20\n",
      "Model Number: 751 with model ARIMA in generation 4 of 20\n",
      "Template Eval Error: Exception(\"Transformer MinMaxScaler failed on fit from params cubic {'0': {'rows': 1, 'lag': 1, 'method': 'multiplicative', 'strength': 1.0, 'first_value_only': True, 'threshold': None}, '1': {}, '2': {'low': 6, 'high': 90, 'K': 6, 'lanczos_factor': False, 'return_diff': False, 'on_transform': True, 'on_inverse': False}, '3': {'decimals': -2, 'on_transform': True, 'on_inverse': True}, '4': {}, '5': {}}\") in model 751 in generation 4: ARIMA\n",
      "Model Number: 752 with model Theta in generation 4 of 20\n"
     ]
    },
    {
     "name": "stderr",
     "output_type": "stream",
     "text": [
      "C:\\Users\\moham\\AppData\\Local\\Packages\\PythonSoftwareFoundation.Python.3.12_qbz5n2kfra8p0\\LocalCache\\local-packages\\Python312\\site-packages\\sklearn\\neural_network\\_multilayer_perceptron.py:546: ConvergenceWarning: lbfgs failed to converge (status=1):\n",
      "STOP: TOTAL NO. of ITERATIONS REACHED LIMIT.\n",
      "\n",
      "Increase the number of iterations (max_iter) or scale the data as shown in:\n",
      "    https://scikit-learn.org/stable/modules/preprocessing.html\n",
      "  self.n_iter_ = _check_optimize_result(\"lbfgs\", opt_res, self.max_iter)\n"
     ]
    },
    {
     "name": "stdout",
     "output_type": "stream",
     "text": [
      "Model Number: 753 with model ARDL in generation 4 of 20\n",
      "Model Number: 754 with model Theta in generation 4 of 20\n",
      "Model Number: 755 with model WindowRegression in generation 4 of 20\n",
      "Model Number: 756 with model SectionalMotif in generation 4 of 20\n",
      "Model Number: 757 with model MultivariateRegression in generation 4 of 20\n",
      "Model Number: 758 with model ARIMA in generation 4 of 20\n",
      "Model Number: 759 with model SeasonalityMotif in generation 4 of 20\n",
      "Model Number: 760 with model GLM in generation 4 of 20\n"
     ]
    },
    {
     "name": "stderr",
     "output_type": "stream",
     "text": [
      "C:\\Users\\moham\\AppData\\Local\\Packages\\PythonSoftwareFoundation.Python.3.12_qbz5n2kfra8p0\\LocalCache\\local-packages\\Python312\\site-packages\\statsmodels\\genmod\\families\\links.py:198: RuntimeWarning: overflow encountered in exp\n",
      "  t = np.exp(-z)\n"
     ]
    },
    {
     "name": "stdout",
     "output_type": "stream",
     "text": [
      "Model Number: 761 with model SectionalMotif in generation 4 of 20\n",
      "New Generation: 5 of 20\n",
      "Model Number: 762 with model GLS in generation 5 of 20\n",
      "Model Number: 763 with model MultivariateRegression in generation 5 of 20\n",
      "Template Eval Error: ModuleNotFoundError(\"No module named 'xgboost'\") in model 763 in generation 5: MultivariateRegression\n",
      "Model Number: 764 with model Theta in generation 5 of 20\n",
      "Model Number: 765 with model Theta in generation 5 of 20\n",
      "Model Number: 766 with model ARIMA in generation 5 of 20\n",
      "Model Number: 767 with model GLS in generation 5 of 20\n",
      "Model Number: 768 with model SectionalMotif in generation 5 of 20\n",
      "Model Number: 769 with model MultivariateMotif in generation 5 of 20\n",
      "Model Number: 770 with model Theta in generation 5 of 20\n",
      "Model Number: 771 with model LastValueNaive in generation 5 of 20\n",
      "Model Number: 772 with model ConstantNaive in generation 5 of 20\n",
      "Model Number: 773 with model SeasonalNaive in generation 5 of 20\n"
     ]
    },
    {
     "name": "stderr",
     "output_type": "stream",
     "text": [
      "C:\\Users\\moham\\AppData\\Local\\Packages\\PythonSoftwareFoundation.Python.3.12_qbz5n2kfra8p0\\LocalCache\\local-packages\\Python312\\site-packages\\sklearn\\neighbors\\_classification.py:238: DataConversionWarning: A column-vector y was passed when a 1d array was expected. Please change the shape of y to (n_samples,), for example using ravel().\n",
      "  return self._fit(X, y)\n"
     ]
    },
    {
     "name": "stdout",
     "output_type": "stream",
     "text": [
      "Model Number: 774 with model MultivariateRegression in generation 5 of 20\n",
      "Model Number: 775 with model Theta in generation 5 of 20\n",
      "Model Number: 776 with model Cassandra in generation 5 of 20\n"
     ]
    },
    {
     "name": "stderr",
     "output_type": "stream",
     "text": [
      "C:\\Users\\moham\\AppData\\Local\\Packages\\PythonSoftwareFoundation.Python.3.12_qbz5n2kfra8p0\\LocalCache\\local-packages\\Python312\\site-packages\\numpy\\lib\\function_base.py:2897: RuntimeWarning: invalid value encountered in divide\n",
      "  c /= stddev[:, None]\n",
      "C:\\Users\\moham\\AppData\\Local\\Packages\\PythonSoftwareFoundation.Python.3.12_qbz5n2kfra8p0\\LocalCache\\local-packages\\Python312\\site-packages\\numpy\\lib\\function_base.py:2898: RuntimeWarning: invalid value encountered in divide\n",
      "  c /= stddev[None, :]\n",
      "C:\\Users\\moham\\AppData\\Local\\Packages\\PythonSoftwareFoundation.Python.3.12_qbz5n2kfra8p0\\LocalCache\\local-packages\\Python312\\site-packages\\sklearn\\linear_model\\_ridge.py:204: LinAlgWarning: Ill-conditioned matrix (rcond=4.74746e-25): result may not be accurate.\n",
      "  return linalg.solve(A, Xy, assume_a=\"pos\", overwrite_a=True).T\n"
     ]
    },
    {
     "name": "stdout",
     "output_type": "stream",
     "text": [
      "Model Number: 777 with model Theta in generation 5 of 20\n",
      "Model Number: 778 with model WindowRegression in generation 5 of 20\n",
      "Model Number: 779 with model NVAR in generation 5 of 20\n",
      "Model Number: 780 with model MultivariateMotif in generation 5 of 20\n",
      "Model Number: 781 with model ARIMA in generation 5 of 20\n"
     ]
    },
    {
     "name": "stderr",
     "output_type": "stream",
     "text": [
      "C:\\Users\\moham\\AppData\\Local\\Packages\\PythonSoftwareFoundation.Python.3.12_qbz5n2kfra8p0\\LocalCache\\local-packages\\Python312\\site-packages\\autots\\tools\\transform.py:5472: FutureWarning: Downcasting object dtype arrays on .fillna, .ffill, .bfill is deprecated and will change in a future version. Call result.infer_objects(copy=False) instead. To opt-in to the future behavior, set `pd.set_option('future.no_silent_downcasting', True)`\n",
      "  df = df.fillna(0)\n",
      "C:\\Users\\moham\\AppData\\Local\\Packages\\PythonSoftwareFoundation.Python.3.12_qbz5n2kfra8p0\\LocalCache\\local-packages\\Python312\\site-packages\\autots\\tools\\transform.py:5472: FutureWarning: Downcasting object dtype arrays on .fillna, .ffill, .bfill is deprecated and will change in a future version. Call result.infer_objects(copy=False) instead. To opt-in to the future behavior, set `pd.set_option('future.no_silent_downcasting', True)`\n",
      "  df = df.fillna(0)\n"
     ]
    },
    {
     "name": "stdout",
     "output_type": "stream",
     "text": [
      "Model Number: 782 with model Theta in generation 5 of 20\n",
      "Model Number: 783 with model DatepartRegression in generation 5 of 20\n",
      "Template Eval Error: ValueError(\"Datepart prediction with params {'regression_model': {'model': 'ElasticNet', 'model_params': {'l1_ratio': 0.1, 'fit_intercept': True, 'selection': 'cyclic'}}, 'datepart_method': ['dayofyear', 'hour', 'days_from_epoch'], 'polynomial_degree': None, 'regression_type': None} failed. This is often due to an improperly indexed future_regressor (with drop_most_recent especially)\") in model 783 in generation 5: DatepartRegression\n",
      "Model Number: 784 with model MultivariateMotif in generation 5 of 20\n",
      "Model Number: 785 with model ARDL in generation 5 of 20\n",
      "Model Number: 786 with model SeasonalityMotif in generation 5 of 20\n",
      "Template Eval Error: Exception(\"Transformer AlignLastValue failed on inverse from params rolling_mean {'0': {}, '1': {'model_name': 'X1', 'state_transition': [[1, 1, 0], [0, 1, 0], [0, 0, 1]], 'process_noise': [[0.1, 0.0, 0.0], [0.0, 0.01, 0.0], [0.0, 0.0, 0.1]], 'observation_model': [[1, 1, 1]], 'observation_noise': 1.0, 'em_iter': None, 'on_transform': True, 'on_inverse': False}, '2': {'window_size': 90, 'alpha': 2.0, 'grouping_forward_limit': 3, 'max_level_shifts': 10, 'alignment': 'rolling_diff'}, '3': {'rows': 1, 'lag': 1, 'method': 'additive', 'strength': 0.9, 'first_value_only': True, 'threshold': None}}\") in model 786 in generation 5: SeasonalityMotif\n",
      "Model Number: 787 with model DMD in generation 5 of 20\n",
      "Model Number: 788 with model SeasonalityMotif in generation 5 of 20\n",
      "Model Number: 789 with model SectionalMotif in generation 5 of 20\n",
      "Model Number: 790 with model DMD in generation 5 of 20\n",
      "Model Number: 791 with model Theta in generation 5 of 20\n",
      "Model Number: 792 with model SectionalMotif in generation 5 of 20\n",
      "Template Eval Error: Exception(\"Transformer AlignLastValue failed on inverse from params fake_date {'0': {'rows': 1, 'lag': 1, 'method': 'additive', 'strength': 0.9, 'first_value_only': False, 'threshold': 1}, '1': {'rows': 1, 'lag': 1, 'method': 'additive', 'strength': 1.0, 'first_value_only': True, 'threshold': 1}}\") in model 792 in generation 5: SectionalMotif\n",
      "Model Number: 793 with model MetricMotif in generation 5 of 20\n",
      "Model Number: 794 with model AverageValueNaive in generation 5 of 20\n",
      "Template Eval Error: Exception(\"Transformer Cointegration failed on fit from params fake_date {'0': {'det_order': -1, 'k_ar_diff': 0}, '1': {}, '2': {'fillna': 'akima', 'center': 'zero'}, '3': {'rows': 1, 'lag': 28, 'method': 'additive', 'strength': 1.0, 'first_value_only': True, 'threshold': 10}}\") in model 794 in generation 5: AverageValueNaive\n",
      "Model Number: 795 with model WindowRegression in generation 5 of 20\n",
      "Template Eval Error: ModuleNotFoundError(\"No module named 'lightgbm'\") in model 795 in generation 5: WindowRegression\n",
      "Model Number: 796 with model UnobservedComponents in generation 5 of 20\n",
      "Model Number: 797 with model RRVAR in generation 5 of 20\n",
      "Model Number: 798 with model LastValueNaive in generation 5 of 20\n",
      "Model Number: 799 with model ARDL in generation 5 of 20\n",
      "Model Number: 800 with model SectionalMotif in generation 5 of 20\n",
      "Model Number: 801 with model DMD in generation 5 of 20\n",
      "ECR rank is 0\n",
      "Model Number: 802 with model SeasonalNaive in generation 5 of 20\n"
     ]
    },
    {
     "name": "stderr",
     "output_type": "stream",
     "text": [
      "C:\\Users\\moham\\AppData\\Local\\Packages\\PythonSoftwareFoundation.Python.3.12_qbz5n2kfra8p0\\LocalCache\\local-packages\\Python312\\site-packages\\autots\\tools\\transform.py:5472: FutureWarning: Downcasting object dtype arrays on .fillna, .ffill, .bfill is deprecated and will change in a future version. Call result.infer_objects(copy=False) instead. To opt-in to the future behavior, set `pd.set_option('future.no_silent_downcasting', True)`\n",
      "  df = df.fillna(0)\n",
      "C:\\Users\\moham\\AppData\\Local\\Packages\\PythonSoftwareFoundation.Python.3.12_qbz5n2kfra8p0\\LocalCache\\local-packages\\Python312\\site-packages\\autots\\tools\\transform.py:5472: FutureWarning: Downcasting object dtype arrays on .fillna, .ffill, .bfill is deprecated and will change in a future version. Call result.infer_objects(copy=False) instead. To opt-in to the future behavior, set `pd.set_option('future.no_silent_downcasting', True)`\n",
      "  df = df.fillna(0)\n"
     ]
    },
    {
     "name": "stdout",
     "output_type": "stream",
     "text": [
      "Model Number: 803 with model MultivariateMotif in generation 5 of 20\n",
      "Template Eval Error: Exception(\"Transformer Cointegration failed on fit from params ffill {'0': {'method': 'nonparametric', 'method_params': {'p': 0.25, 'z_init': 1.5, 'z_limit': 10, 'z_step': 0.25, 'inverse': False, 'max_contamination': 0.25, 'mean_weight': 25, 'sd_weight': 25, 'anomaly_count_weight': 1.0}, 'fillna': 'fake_date', 'transform_dict': {'fillna': 'ffill', 'transformations': {'0': 'ScipyFilter'}, 'transformation_params': {'0': {'method': 'savgol_filter', 'method_args': {'window_length': 91, 'polyorder': 4, 'deriv': 0, 'mode': 'nearest'}}}}, 'isolated_only': False}, '1': {'lag_1': 364, 'method': 'LastValue'}, '2': {'det_order': 1, 'k_ar_diff': 0}}\") in model 803 in generation 5: MultivariateMotif\n",
      "Model Number: 804 with model ARDL in generation 5 of 20\n",
      "Template Eval Error: Exception(\"Transformer QuantileTransformer failed on inverse from params rolling_mean {'0': {'output_distribution': 'normal', 'n_quantiles': 20}, '1': {'method': 'savgol_filter', 'method_args': {'window_length': 7, 'polyorder': 3, 'deriv': 0, 'mode': 'interp'}}, '2': {'low': 6, 'high': 364, 'K': 1, 'lanczos_factor': False, 'return_diff': False, 'on_transform': False, 'on_inverse': True}, '3': {'n_harmonics': None, 'detrend': None}}\") in model 804 in generation 5: ARDL\n",
      "Model Number: 805 with model MultivariateMotif in generation 5 of 20\n",
      "Model Number: 806 with model NVAR in generation 5 of 20\n",
      "Model Number: 807 with model Cassandra in generation 5 of 20\n",
      "Model Number: 808 with model MultivariateRegression in generation 5 of 20\n"
     ]
    },
    {
     "name": "stderr",
     "output_type": "stream",
     "text": [
      "C:\\Users\\moham\\AppData\\Local\\Packages\\PythonSoftwareFoundation.Python.3.12_qbz5n2kfra8p0\\LocalCache\\local-packages\\Python312\\site-packages\\numpy\\lib\\function_base.py:2897: RuntimeWarning: invalid value encountered in divide\n",
      "  c /= stddev[:, None]\n",
      "C:\\Users\\moham\\AppData\\Local\\Packages\\PythonSoftwareFoundation.Python.3.12_qbz5n2kfra8p0\\LocalCache\\local-packages\\Python312\\site-packages\\numpy\\lib\\function_base.py:2898: RuntimeWarning: invalid value encountered in divide\n",
      "  c /= stddev[None, :]\n",
      "C:\\Users\\moham\\AppData\\Local\\Packages\\PythonSoftwareFoundation.Python.3.12_qbz5n2kfra8p0\\LocalCache\\local-packages\\Python312\\site-packages\\sklearn\\linear_model\\_ridge.py:204: LinAlgWarning: Ill-conditioned matrix (rcond=4.74746e-25): result may not be accurate.\n",
      "  return linalg.solve(A, Xy, assume_a=\"pos\", overwrite_a=True).T\n"
     ]
    },
    {
     "name": "stdout",
     "output_type": "stream",
     "text": [
      "Model Number: 809 with model UnobservedComponents in generation 5 of 20\n",
      "Model Number: 810 with model ARIMA in generation 5 of 20\n",
      "Model Number: 811 with model DMD in generation 5 of 20\n",
      "Model Number: 812 with model Cassandra in generation 5 of 20\n",
      "Model Number: 813 with model MultivariateRegression in generation 5 of 20\n"
     ]
    },
    {
     "name": "stderr",
     "output_type": "stream",
     "text": [
      "C:\\Users\\moham\\AppData\\Local\\Packages\\PythonSoftwareFoundation.Python.3.12_qbz5n2kfra8p0\\LocalCache\\local-packages\\Python312\\site-packages\\sklearn\\linear_model\\_ridge.py:204: LinAlgWarning: Ill-conditioned matrix (rcond=4.74746e-25): result may not be accurate.\n",
      "  return linalg.solve(A, Xy, assume_a=\"pos\", overwrite_a=True).T\n",
      "C:\\Users\\moham\\AppData\\Local\\Packages\\PythonSoftwareFoundation.Python.3.12_qbz5n2kfra8p0\\LocalCache\\local-packages\\Python312\\site-packages\\numpy\\lib\\function_base.py:2897: RuntimeWarning: invalid value encountered in divide\n",
      "  c /= stddev[:, None]\n",
      "C:\\Users\\moham\\AppData\\Local\\Packages\\PythonSoftwareFoundation.Python.3.12_qbz5n2kfra8p0\\LocalCache\\local-packages\\Python312\\site-packages\\numpy\\lib\\function_base.py:2898: RuntimeWarning: invalid value encountered in divide\n",
      "  c /= stddev[None, :]\n"
     ]
    },
    {
     "name": "stdout",
     "output_type": "stream",
     "text": [
      "Model Number: 814 with model NVAR in generation 5 of 20\n",
      "Model Number: 815 with model DMD in generation 5 of 20\n",
      "Model Number: 816 with model NVAR in generation 5 of 20\n",
      "Model Number: 817 with model LastValueNaive in generation 5 of 20\n",
      "Model Number: 818 with model MultivariateRegression in generation 5 of 20\n",
      "Template Eval Error: Exception(\"Transformer ReplaceConstant failed on fit from params fake_date {'0': {'constant': 0, 'reintroduction_model': {'model': 'SGD', 'model_params': {}, 'datepart_method': 'simple_binarized'}, 'fillna': 'mean'}, '1': {'low': 6, 'high': 32, 'K': 1, 'lanczos_factor': False, 'return_diff': True, 'on_transform': True, 'on_inverse': False}, '2': {}, '3': {}}\") in model 818 in generation 5: MultivariateRegression\n",
      "Model Number: 819 with model MultivariateMotif in generation 5 of 20\n",
      "Model Number: 820 with model LastValueNaive in generation 5 of 20\n",
      "Model Number: 821 with model ARDL in generation 5 of 20\n"
     ]
    },
    {
     "name": "stderr",
     "output_type": "stream",
     "text": [
      "C:\\Users\\moham\\AppData\\Local\\Packages\\PythonSoftwareFoundation.Python.3.12_qbz5n2kfra8p0\\LocalCache\\local-packages\\Python312\\site-packages\\sklearn\\utils\\validation.py:1300: DataConversionWarning: A column-vector y was passed when a 1d array was expected. Please change the shape of y to (n_samples, ), for example using ravel().\n",
      "  y = column_or_1d(y, warn=True)\n"
     ]
    },
    {
     "name": "stdout",
     "output_type": "stream",
     "text": [
      "Model Number: 822 with model ETS in generation 5 of 20\n",
      "Model Number: 823 with model NVAR in generation 5 of 20\n",
      "Model Number: 824 with model LastValueNaive in generation 5 of 20\n",
      "Model Number: 825 with model Theta in generation 5 of 20\n",
      "Model Number: 826 with model ARIMA in generation 5 of 20\n",
      "Template Eval Error: ValueError(\"regression_type='User' but future_regressor not supplied\") in model 826 in generation 5: ARIMA\n",
      "Model Number: 827 with model ARIMA in generation 5 of 20\n",
      "Model Number: 828 with model DatepartRegression in generation 5 of 20\n",
      "Model Number: 829 with model SectionalMotif in generation 5 of 20\n",
      "Model Number: 830 with model MultivariateRegression in generation 5 of 20\n",
      "Model Number: 831 with model AverageValueNaive in generation 5 of 20\n",
      "Model Number: 832 with model ConstantNaive in generation 5 of 20\n",
      "Model Number: 833 with model Cassandra in generation 5 of 20\n",
      "Template Eval Error: ValueError('more than 1 year of data is required for holiday detection.') in model 833 in generation 5: Cassandra\n",
      "Model Number: 834 with model Cassandra in generation 5 of 20\n"
     ]
    },
    {
     "name": "stderr",
     "output_type": "stream",
     "text": [
      "C:\\Users\\moham\\AppData\\Local\\Packages\\PythonSoftwareFoundation.Python.3.12_qbz5n2kfra8p0\\LocalCache\\local-packages\\Python312\\site-packages\\numpy\\lib\\function_base.py:2897: RuntimeWarning: invalid value encountered in divide\n",
      "  c /= stddev[:, None]\n",
      "C:\\Users\\moham\\AppData\\Local\\Packages\\PythonSoftwareFoundation.Python.3.12_qbz5n2kfra8p0\\LocalCache\\local-packages\\Python312\\site-packages\\numpy\\lib\\function_base.py:2898: RuntimeWarning: invalid value encountered in divide\n",
      "  c /= stddev[None, :]\n"
     ]
    },
    {
     "name": "stdout",
     "output_type": "stream",
     "text": [
      "Model Number: 835 with model Theta in generation 5 of 20\n",
      "Model Number: 836 with model ARIMA in generation 5 of 20\n",
      "Model Number: 837 with model SeasonalNaive in generation 5 of 20\n",
      "Model Number: 838 with model SeasonalityMotif in generation 5 of 20\n",
      "Model Number: 839 with model ARIMA in generation 5 of 20\n",
      "Model Number: 840 with model SeasonalityMotif in generation 5 of 20\n",
      "Model Number: 841 with model SeasonalityMotif in generation 5 of 20\n",
      "Model Number: 842 with model NVAR in generation 5 of 20\n",
      "Model Number: 843 with model ARIMA in generation 5 of 20\n",
      "Model Number: 844 with model DMD in generation 5 of 20\n",
      "Model Number: 845 with model DMD in generation 5 of 20\n",
      "Model Number: 846 with model MetricMotif in generation 5 of 20\n",
      "Model Number: 847 with model SectionalMotif in generation 5 of 20\n",
      "Model Number: 848 with model MultivariateRegression in generation 5 of 20\n",
      "Model Number: 849 with model MultivariateRegression in generation 5 of 20\n",
      "Template Eval Error: Exception(\"Transformer ReplaceConstant failed on fit from params fake_date {'0': {'constant': 0, 'reintroduction_model': {'model': 'SGD', 'model_params': {}, 'datepart_method': 'simple_binarized'}, 'fillna': 'mean'}, '1': {}}\") in model 849 in generation 5: MultivariateRegression\n",
      "Model Number: 850 with model SectionalMotif in generation 5 of 20\n",
      "Template Eval Error: Exception(\"Transformer AlignLastValue failed on inverse from params rolling_mean {'0': {'rows': 1, 'lag': 1, 'method': 'additive', 'strength': 1.0, 'first_value_only': True, 'threshold': 1}, '1': {'method': 'clip', 'std_threshold': 4, 'fillna': None}, '2': {}, '3': {}}\") in model 850 in generation 5: SectionalMotif\n",
      "Model Number: 851 with model ARDL in generation 5 of 20\n"
     ]
    },
    {
     "name": "stderr",
     "output_type": "stream",
     "text": [
      "C:\\Users\\moham\\AppData\\Local\\Packages\\PythonSoftwareFoundation.Python.3.12_qbz5n2kfra8p0\\LocalCache\\local-packages\\Python312\\site-packages\\sklearn\\utils\\validation.py:1300: DataConversionWarning: A column-vector y was passed when a 1d array was expected. Please change the shape of y to (n_samples, ), for example using ravel().\n",
      "  y = column_or_1d(y, warn=True)\n"
     ]
    },
    {
     "name": "stdout",
     "output_type": "stream",
     "text": [
      "Model Number: 852 with model MultivariateRegression in generation 5 of 20\n",
      "Template Eval Error: ModuleNotFoundError(\"No module named 'lightgbm'\") in model 852 in generation 5: MultivariateRegression\n",
      "Model Number: 853 with model SeasonalityMotif in generation 5 of 20\n"
     ]
    },
    {
     "name": "stderr",
     "output_type": "stream",
     "text": [
      "C:\\Users\\moham\\AppData\\Local\\Packages\\PythonSoftwareFoundation.Python.3.12_qbz5n2kfra8p0\\LocalCache\\local-packages\\Python312\\site-packages\\sklearn\\neural_network\\_multilayer_perceptron.py:691: ConvergenceWarning: Stochastic Optimizer: Maximum iterations (250) reached and the optimization hasn't converged yet.\n",
      "  warnings.warn(\n",
      "C:\\Users\\moham\\AppData\\Local\\Packages\\PythonSoftwareFoundation.Python.3.12_qbz5n2kfra8p0\\LocalCache\\local-packages\\Python312\\site-packages\\pandas\\core\\internals\\blocks.py:393: RuntimeWarning: overflow encountered in exp\n",
      "  result = func(self.values, **kwargs)\n"
     ]
    },
    {
     "name": "stdout",
     "output_type": "stream",
     "text": [
      "Model Number: 854 with model MultivariateRegression in generation 5 of 20\n",
      "Model Number: 855 with model UnobservedComponents in generation 5 of 20\n",
      "Model Number: 856 with model LastValueNaive in generation 5 of 20\n",
      "Model Number: 857 with model GLM in generation 5 of 20\n",
      "Template Eval Error: ValueError('regression_type=user and no future_regressor passed') in model 857 in generation 5: GLM\n",
      "Model Number: 858 with model SeasonalityMotif in generation 5 of 20\n",
      "Model Number: 859 with model NVAR in generation 5 of 20\n",
      "Model Number: 860 with model UnivariateMotif in generation 5 of 20\n",
      "Model Number: 861 with model MultivariateMotif in generation 5 of 20\n",
      "Template Eval Error: Exception(\"Transformer Cointegration failed on fit from params fake_date {'0': {'method': 'nonparametric', 'method_params': {'p': 0.25, 'z_init': 1.5, 'z_limit': 10, 'z_step': 0.25, 'inverse': False, 'max_contamination': 0.25, 'mean_weight': 25, 'sd_weight': 25, 'anomaly_count_weight': 1.0}, 'fillna': 'fake_date', 'transform_dict': {'fillna': 'ffill', 'transformations': {'0': 'ScipyFilter'}, 'transformation_params': {'0': {'method': 'savgol_filter', 'method_args': {'window_length': 91, 'polyorder': 4, 'deriv': 0, 'mode': 'nearest'}}}}, 'isolated_only': False}, '1': {'model': 'Linear', 'phi': 1, 'window': None, 'transform_dict': None}, '2': {'center': 'mean'}, '3': {'rows': 7, 'lag': 1, 'method': 'additive', 'strength': 1.0, 'first_value_only': False, 'threshold': 10}, '4': {'det_order': 1, 'k_ar_diff': 0}}\") in model 861 in generation 5: MultivariateMotif\n",
      "Model Number: 862 with model SectionalMotif in generation 5 of 20\n",
      "Model Number: 863 with model AverageValueNaive in generation 5 of 20\n",
      "Model Number: 864 with model Theta in generation 5 of 20\n",
      "Model Number: 865 with model AverageValueNaive in generation 5 of 20\n",
      "Model Number: 866 with model SeasonalNaive in generation 5 of 20\n",
      "Model Number: 867 with model AverageValueNaive in generation 5 of 20\n",
      "Model Number: 868 with model DMD in generation 5 of 20\n",
      "Model Number: 869 with model UnobservedComponents in generation 5 of 20\n",
      "Model Number: 870 with model Theta in generation 5 of 20\n",
      "Model Number: 871 with model SectionalMotif in generation 5 of 20\n",
      "Model Number: 872 with model ARDL in generation 5 of 20\n"
     ]
    },
    {
     "name": "stderr",
     "output_type": "stream",
     "text": [
      "C:\\Users\\moham\\AppData\\Local\\Packages\\PythonSoftwareFoundation.Python.3.12_qbz5n2kfra8p0\\LocalCache\\local-packages\\Python312\\site-packages\\autots\\tools\\transform.py:5472: FutureWarning: Downcasting object dtype arrays on .fillna, .ffill, .bfill is deprecated and will change in a future version. Call result.infer_objects(copy=False) instead. To opt-in to the future behavior, set `pd.set_option('future.no_silent_downcasting', True)`\n",
      "  df = df.fillna(0)\n",
      "C:\\Users\\moham\\AppData\\Local\\Packages\\PythonSoftwareFoundation.Python.3.12_qbz5n2kfra8p0\\LocalCache\\local-packages\\Python312\\site-packages\\autots\\tools\\transform.py:5472: FutureWarning: Downcasting object dtype arrays on .fillna, .ffill, .bfill is deprecated and will change in a future version. Call result.infer_objects(copy=False) instead. To opt-in to the future behavior, set `pd.set_option('future.no_silent_downcasting', True)`\n",
      "  df = df.fillna(0)\n"
     ]
    },
    {
     "name": "stdout",
     "output_type": "stream",
     "text": [
      "Model Number: 873 with model ARIMA in generation 5 of 20\n",
      "New Generation: 6 of 20\n",
      "Model Number: 874 with model SeasonalNaive in generation 6 of 20\n",
      "Model Number: 875 with model SeasonalityMotif in generation 6 of 20\n",
      "Model Number: 876 with model UnobservedComponents in generation 6 of 20\n",
      "Model Number: 877 with model LastValueNaive in generation 6 of 20\n",
      "Model Number: 878 with model Cassandra in generation 6 of 20\n",
      "Template Eval Error: ValueError('more than 1 year of data is required for holiday detection.') in model 878 in generation 6: Cassandra\n",
      "Model Number: 879 with model AverageValueNaive in generation 6 of 20\n",
      "Template Eval Error: Exception(\"Transformer AlignLastValue failed on inverse from params ffill {'0': {'rows': 1, 'lag': 1, 'method': 'additive', 'strength': 1.0, 'first_value_only': True, 'threshold': None}, '1': {'decimals': -1, 'on_transform': False, 'on_inverse': True}}\") in model 879 in generation 6: AverageValueNaive\n",
      "Model Number: 880 with model SectionalMotif in generation 6 of 20\n",
      "Model Number: 881 with model SectionalMotif in generation 6 of 20\n",
      "Model Number: 882 with model MultivariateMotif in generation 6 of 20\n",
      "Model Number: 883 with model MultivariateRegression in generation 6 of 20\n",
      "Model Number: 884 with model SeasonalityMotif in generation 6 of 20\n",
      "Template Eval Error: Exception(\"Transformer BTCD failed on fit from params time {'0': {'regression_model': {'model': 'LinearRegression', 'model_params': {}}, 'max_lags': 1}, '1': {}, '2': {'model': 'Tweedie', 'phi': 1, 'window': 30, 'transform_dict': None}}\") in model 884 in generation 6: SeasonalityMotif\n",
      "Model Number: 885 with model SectionalMotif in generation 6 of 20\n",
      "Model Number: 886 with model WindowRegression in generation 6 of 20\n",
      "Template Eval Error: ModuleNotFoundError(\"No module named 'lightgbm'\") in model 886 in generation 6: WindowRegression\n",
      "Model Number: 887 with model MultivariateMotif in generation 6 of 20\n",
      "Model Number: 888 with model Theta in generation 6 of 20\n",
      "Model Number: 889 with model UnobservedComponents in generation 6 of 20\n",
      "Model Number: 890 with model AverageValueNaive in generation 6 of 20\n",
      "Template Eval Error: Exception(\"Transformer RegressionFilter failed on fit from params fake_date {'0': {'rows': 1, 'lag': 1, 'method': 'additive', 'strength': 0.9, 'first_value_only': False, 'threshold': 1}, '1': {'rows': 2, 'lag': 1, 'method': 'multiplicative', 'strength': 1.0, 'first_value_only': False, 'threshold': 10}, '2': {'constant': 0, 'reintroduction_model': {'model': 'KNN', 'model_params': {'n_neighbors': 14, 'weights': 'uniform', 'p': 1.5, 'leaf_size': 30}, 'datepart_method': ['morlet_365.25_12_12', 'ricker_7_7_1']}, 'fillna': 'ffill'}, '3': {'sigma': 1, 'rolling_window': 90, 'run_order': 'season_first', 'regression_params': {'regression_model': {'model': 'DecisionTree', 'model_params': {'max_depth': 9, 'min_samples_split': 2}}, 'datepart_method': [7, 365.25], 'polynomial_degree': None, 'transform_dict': None, 'holiday_countries_used': True}, 'holiday_params': {'threshold': 0.8, 'splash_threshold': None, 'use_dayofmonth_holidays': False, 'use_wkdom_holidays': True, 'use_wkdeom_holidays': False, 'use_lunar_holidays': True, 'use_lunar_weekday': False, 'use_islamic_holidays': False, 'use_hebrew_holidays': False, 'anomaly_detector_params': {'method': 'rolling_zscore', 'method_params': {'distribution': 'uniform', 'alpha': 0.1, 'rolling_periods': 90, 'center': False}, 'fillna': 'ffill', 'transform_dict': {'transformations': {'0': 'DatepartRegression'}, 'transformation_params': {'0': {'datepart_method': 'simple_3', 'regression_model': {'model': 'DecisionTree', 'model_params': {'max_depth': None, 'min_samples_split': 0.1}}}}}, 'isolated_only': False}, 'remove_excess_anomalies': True, 'impact': 'datepart_regression', 'regression_params': {'regression_model': {'model': 'DecisionTree', 'model_params': {'max_depth': 9, 'min_samples_split': 2}}, 'datepart_method': [7, 365.25], 'polynomial_degree': None, 'transform_dict': None, 'holiday_countries_used': True}}, 'trend_method': 'rolling_mean'}, '4': {}}\") in model 890 in generation 6: AverageValueNaive\n",
      "Model Number: 891 with model Theta in generation 6 of 20\n",
      "Template Eval Error: Exception(\"Transformer SeasonalDifference failed on fit from params rolling_mean_24 {'0': {}, '1': {}, '2': {'rows': 1, 'lag': 7, 'method': 'additive', 'strength': 0.5, 'first_value_only': False, 'threshold': None}, '3': {'lag_1': 364, 'method': 20}, '4': {'constant': 0, 'reintroduction_model': None, 'fillna': 'ffill'}}\") in model 891 in generation 6: Theta\n",
      "Model Number: 892 with model ETS in generation 6 of 20\n"
     ]
    },
    {
     "name": "stderr",
     "output_type": "stream",
     "text": [
      "C:\\Users\\moham\\AppData\\Local\\Packages\\PythonSoftwareFoundation.Python.3.12_qbz5n2kfra8p0\\LocalCache\\local-packages\\Python312\\site-packages\\sklearn\\neighbors\\_classification.py:238: DataConversionWarning: A column-vector y was passed when a 1d array was expected. Please change the shape of y to (n_samples,), for example using ravel().\n",
      "  return self._fit(X, y)\n"
     ]
    },
    {
     "name": "stdout",
     "output_type": "stream",
     "text": [
      "Model Number: 893 with model SeasonalNaive in generation 6 of 20\n",
      "Model Number: 894 with model SectionalMotif in generation 6 of 20\n",
      "Model Number: 895 with model ARIMA in generation 6 of 20\n",
      "Model Number: 896 with model SectionalMotif in generation 6 of 20\n",
      "Model Number: 897 with model ARIMA in generation 6 of 20\n",
      "Model Number: 898 with model MultivariateMotif in generation 6 of 20\n",
      "Model Number: 899 with model LastValueNaive in generation 6 of 20\n",
      "Model Number: 900 with model ARIMA in generation 6 of 20\n",
      "Template Eval Error: ValueError(\"regression_type='User' but future_regressor not supplied\") in model 900 in generation 6: ARIMA\n",
      "Model Number: 901 with model Cassandra in generation 6 of 20\n"
     ]
    },
    {
     "name": "stderr",
     "output_type": "stream",
     "text": [
      "C:\\Users\\moham\\AppData\\Local\\Packages\\PythonSoftwareFoundation.Python.3.12_qbz5n2kfra8p0\\LocalCache\\local-packages\\Python312\\site-packages\\numpy\\lib\\function_base.py:2897: RuntimeWarning: invalid value encountered in divide\n",
      "  c /= stddev[:, None]\n",
      "C:\\Users\\moham\\AppData\\Local\\Packages\\PythonSoftwareFoundation.Python.3.12_qbz5n2kfra8p0\\LocalCache\\local-packages\\Python312\\site-packages\\numpy\\lib\\function_base.py:2898: RuntimeWarning: invalid value encountered in divide\n",
      "  c /= stddev[None, :]\n"
     ]
    },
    {
     "name": "stdout",
     "output_type": "stream",
     "text": [
      "Model Number: 902 with model MultivariateRegression in generation 6 of 20\n",
      "Model Number: 903 with model MultivariateRegression in generation 6 of 20\n",
      "Model Number: 904 with model DMD in generation 6 of 20\n",
      "Model Number: 905 with model MultivariateMotif in generation 6 of 20\n",
      "Model Number: 906 with model DMD in generation 6 of 20\n",
      "Model Number: 907 with model Theta in generation 6 of 20\n",
      "Model Number: 908 with model Cassandra in generation 6 of 20\n",
      "Template Eval Error: ValueError('Multivariate Transformer not usable for this role.') in model 908 in generation 6: Cassandra\n",
      "Model Number: 909 with model GLS in generation 6 of 20\n",
      "Model Number: 910 with model ConstantNaive in generation 6 of 20\n",
      "Model Number: 911 with model UnivariateMotif in generation 6 of 20\n",
      "Model Number: 912 with model WindowRegression in generation 6 of 20\n"
     ]
    },
    {
     "name": "stderr",
     "output_type": "stream",
     "text": [
      "C:\\Users\\moham\\AppData\\Local\\Packages\\PythonSoftwareFoundation.Python.3.12_qbz5n2kfra8p0\\LocalCache\\local-packages\\Python312\\site-packages\\autots\\tools\\transform.py:5472: FutureWarning: Downcasting object dtype arrays on .fillna, .ffill, .bfill is deprecated and will change in a future version. Call result.infer_objects(copy=False) instead. To opt-in to the future behavior, set `pd.set_option('future.no_silent_downcasting', True)`\n",
      "  df = df.fillna(0)\n",
      "C:\\Users\\moham\\AppData\\Local\\Packages\\PythonSoftwareFoundation.Python.3.12_qbz5n2kfra8p0\\LocalCache\\local-packages\\Python312\\site-packages\\autots\\tools\\transform.py:5472: FutureWarning: Downcasting object dtype arrays on .fillna, .ffill, .bfill is deprecated and will change in a future version. Call result.infer_objects(copy=False) instead. To opt-in to the future behavior, set `pd.set_option('future.no_silent_downcasting', True)`\n",
      "  df = df.fillna(0)\n"
     ]
    },
    {
     "name": "stdout",
     "output_type": "stream",
     "text": [
      "Model Number: 913 with model LastValueNaive in generation 6 of 20\n",
      "Model Number: 914 with model DMD in generation 6 of 20\n",
      "Model Number: 915 with model WindowRegression in generation 6 of 20\n",
      "Model Number: 916 with model WindowRegression in generation 6 of 20\n",
      "Template Eval Error: ValueError(\"regression_type='User' but no future_regressor passed\") in model 916 in generation 6: WindowRegression\n",
      "Model Number: 917 with model MultivariateMotif in generation 6 of 20\n",
      "Model Number: 918 with model SeasonalNaive in generation 6 of 20\n",
      "Template Eval Error: Exception(\"Transformer AlignLastValue failed on inverse from params fake_date {'0': {'rows': 1, 'lag': 2, 'method': 'additive', 'strength': 1.0, 'first_value_only': True, 'threshold': 10}, '1': {}, '2': {'rows': 1, 'lag': 1, 'method': 'additive', 'strength': 1.0, 'first_value_only': False, 'threshold': 1}, '3': {'decimals': 0, 'on_transform': False, 'on_inverse': True}}\") in model 918 in generation 6: SeasonalNaive\n",
      "Model Number: 919 with model MultivariateRegression in generation 6 of 20\n",
      "Template Eval Error: ModuleNotFoundError(\"No module named 'xgboost'\") in model 919 in generation 6: MultivariateRegression\n",
      "Model Number: 920 with model LastValueNaive in generation 6 of 20\n",
      "Model Number: 921 with model SectionalMotif in generation 6 of 20\n"
     ]
    },
    {
     "name": "stderr",
     "output_type": "stream",
     "text": [
      "C:\\Users\\moham\\AppData\\Local\\Packages\\PythonSoftwareFoundation.Python.3.12_qbz5n2kfra8p0\\LocalCache\\local-packages\\Python312\\site-packages\\sklearn\\linear_model\\_coordinate_descent.py:678: ConvergenceWarning: Objective did not converge. You might want to increase the number of iterations, check the scale of the features or consider increasing regularisation. Duality gap: 2.714e+01, tolerance: 2.866e+00\n",
      "  model = cd_fast.enet_coordinate_descent(\n"
     ]
    },
    {
     "name": "stdout",
     "output_type": "stream",
     "text": [
      "Model Number: 922 with model LastValueNaive in generation 6 of 20\n",
      "Model Number: 923 with model ARIMA in generation 6 of 20\n",
      "Model Number: 924 with model WindowRegression in generation 6 of 20\n",
      "Model Number: 925 with model ARDL in generation 6 of 20\n",
      "Template Eval Error: ValueError(\"regression_type='User' but future_regressor not supplied\") in model 925 in generation 6: ARDL\n",
      "Model Number: 926 with model NVAR in generation 6 of 20\n",
      "Template Eval Error: Exception(\"Transformer ReplaceConstant failed on fit from params ffill {'0': {'constant': 0, 'reintroduction_model': {'model': 'xgboost', 'model_params': {'booster': 'gbtree', 'max_depth': 3, 'eta': 0.003, 'min_child_weight': 1, 'subsample': 1, 'colsample_bylevel': 0.7, 'reg_alpha': 0, 'reg_lambda': 1}, 'datepart_method': 'common_fourier_rw'}, 'fillna': 'akima'}, '1': {'lag_1': 24, 'method': 'LastValue'}}\") in model 926 in generation 6: NVAR\n",
      "Model Number: 927 with model SeasonalityMotif in generation 6 of 20\n",
      "Model Number: 928 with model DMD in generation 6 of 20\n",
      "Template Eval Error: Exception(\"Transformer DatepartRegression failed on fit from params ffill {'0': {'model': 'Gamma', 'phi': 0.999, 'window': None, 'transform_dict': {'fillna': None, 'transformations': {'0': 'Discretize'}, 'transformation_params': {'0': {'discretization': 'center', 'n_bins': 20}}}}, '1': {}, '2': {'regression_model': {'model': 'RadiusRegressor', 'model_params': {}}, 'datepart_method': 'expanded_binarized', 'polynomial_degree': None, 'transform_dict': None, 'holiday_countries_used': True}, '3': {'model_name': 'randomly generated', 'state_transition': [[-0.07455632588176386, -0.19024536036666945, -0.1967045621672261, 0.5455561400851738], [0.0, 0.9999950702752258, 0.0, 0.0], [-2.1419861100724016, -0.45785526353273853, -0.544558609188429, -1.2626320951428276], [1.050335240490553, 0.15759736112395917, -0.22326033849560115, -0.3808102956528937]], 'process_noise': [[0.005, 0.0, 0.0, 0.0], [0.0, 0.0, 0.0, 0.0], [0.0, 0.0, 0.005, 0.0], [0.0, 0.0, 0.0, 0.003]], 'observation_model': [[-0.3170217519698422, 1.5614565259263133, 0.37244325265614636, -1.116732282314085]], 'observation_noise': 0.33387684833247866, 'em_iter': None, 'on_transform': False, 'on_inverse': True}}\") in model 928 in generation 6: DMD\n",
      "Model Number: 929 with model NVAR in generation 6 of 20\n",
      "Template Eval Error: Exception(\"Transformer AlignLastValue failed on inverse from params ffill_mean_biased {'0': {'window_size': 30, 'alpha': 2.0, 'grouping_forward_limit': 3, 'max_level_shifts': 5, 'alignment': 'average'}, '1': {'method': 0.5}, '2': {}, '3': {'rows': 1, 'lag': 2, 'method': 'additive', 'strength': 1.0, 'first_value_only': True, 'threshold': 10}}\") in model 929 in generation 6: NVAR\n",
      "Model Number: 930 with model MultivariateRegression in generation 6 of 20\n",
      "Model Number: 931 with model Cassandra in generation 6 of 20\n",
      "Model Number: 932 with model ConstantNaive in generation 6 of 20\n",
      "Model Number: 933 with model LastValueNaive in generation 6 of 20\n"
     ]
    },
    {
     "name": "stderr",
     "output_type": "stream",
     "text": [
      "C:\\Users\\moham\\AppData\\Local\\Packages\\PythonSoftwareFoundation.Python.3.12_qbz5n2kfra8p0\\LocalCache\\local-packages\\Python312\\site-packages\\numpy\\lib\\function_base.py:2897: RuntimeWarning: invalid value encountered in divide\n",
      "  c /= stddev[:, None]\n",
      "C:\\Users\\moham\\AppData\\Local\\Packages\\PythonSoftwareFoundation.Python.3.12_qbz5n2kfra8p0\\LocalCache\\local-packages\\Python312\\site-packages\\numpy\\lib\\function_base.py:2898: RuntimeWarning: invalid value encountered in divide\n",
      "  c /= stddev[None, :]\n"
     ]
    },
    {
     "name": "stdout",
     "output_type": "stream",
     "text": [
      "Model Number: 934 with model SeasonalNaive in generation 6 of 20\n",
      "Model Number: 935 with model MetricMotif in generation 6 of 20\n",
      "Model Number: 936 with model SeasonalNaive in generation 6 of 20\n",
      "Model Number: 937 with model DatepartRegression in generation 6 of 20\n",
      "Model Number: 938 with model ARDL in generation 6 of 20\n",
      "Template Eval Error: ValueError(\"ARDL series Close failed with error ValueError('The number of regressors (552) including deterministics, lags of the endog, lags of the exogenous, and fixed regressors is larger than the sample available for estimation (189).') exog train              dp0  dp1        dp2  dp3  dp4  dp5  dp6  dp7  dp8  dp9  ...  \\\\\\nDate                                                                 ...   \\n2023-12-09   9.0  1.0  2460287.5  0.0  0.0  0.0  0.0  0.0  0.0  0.0  ...   \\n2023-12-10  10.0  1.0  2460288.5  0.0  0.0  0.0  0.0  0.0  0.0  0.0  ...   \\n2023-12-11  11.0  0.0  2460289.5  0.0  0.0  0.0  0.0  0.0  0.0  0.0  ...   \\n2023-12-12  12.0  0.0  2460290.5  0.0  0.0  0.0  0.0  0.0  0.0  0.0  ...   \\n2023-12-13  13.0  0.0  2460291.5  0.0  0.0  0.0  0.0  0.0  0.0  0.0  ...   \\n...          ...  ...        ...  ...  ...  ...  ...  ...  ...  ...  ...   \\n2024-06-11  11.0  0.0  2460472.5  0.0  0.0  0.0  0.0  0.0  1.0  0.0  ...   \\n2024-06-12  12.0  0.0  2460473.5  0.0  0.0  0.0  0.0  0.0  1.0  0.0  ...   \\n2024-06-13  13.0  0.0  2460474.5  0.0  0.0  0.0  0.0  0.0  1.0  0.0  ...   \\n2024-06-14  14.0  0.0  2460475.5  0.0  0.0  0.0  0.0  0.0  1.0  0.0  ...   \\n2024-06-15  15.0  1.0  2460476.5  0.0  0.0  0.0  0.0  0.0  1.0  0.0  ...   \\n\\n            dp265  dp266  dp267  dp268  dp269  dp270  dp271  dp272  dp273  \\\\\\nDate                                                                        \\n2023-12-09    0.0    0.0    0.0    0.0    0.0    0.0    0.0    1.0    0.0   \\n2023-12-10    0.0    0.0    0.0    0.0    0.0    0.0    0.0    0.0    0.0   \\n2023-12-11    0.0    0.0    0.0    0.0    0.0    0.0    0.0    0.0    0.0   \\n2023-12-12    0.0    0.0    0.0    0.0    0.0    0.0    0.0    0.0    0.0   \\n2023-12-13    0.0    0.0    0.0    0.0    0.0    0.0    0.0    0.0    0.0   \\n...           ...    ...    ...    ...    ...    ...    ...    ...    ...   \\n2024-06-11    0.0    0.0    0.0    0.0    0.0    0.0    0.0    0.0    0.0   \\n2024-06-12    0.0    0.0    0.0    0.0    0.0    0.0    0.0    0.0    0.0   \\n2024-06-13    1.0    0.0    0.0    0.0    0.0    0.0    0.0    0.0    0.0   \\n2024-06-14    0.0    0.0    0.0    0.0    1.0    0.0    0.0    0.0    0.0   \\n2024-06-15    0.0    0.0    0.0    0.0    0.0    0.0    0.0    1.0    0.0   \\n\\n            dp274  \\nDate               \\n2023-12-09    0.0  \\n2023-12-10    1.0  \\n2023-12-11    0.0  \\n2023-12-12    0.0  \\n2023-12-13    0.0  \\n...           ...  \\n2024-06-11    0.0  \\n2024-06-12    0.0  \\n2024-06-13    0.0  \\n2024-06-14    0.0  \\n2024-06-15    0.0  \\n\\n[190 rows x 275 columns] and predict              dp0  dp1        dp2  dp3  dp4  dp5  dp6  dp7  dp8  dp9  ...  \\\\\\n2024-06-16  16.0  1.0  2460477.5  0.0  0.0  0.0  0.0  0.0  1.0  0.0  ...   \\n2024-06-17  17.0  0.0  2460478.5  0.0  0.0  0.0  0.0  0.0  1.0  0.0  ...   \\n2024-06-18  18.0  0.0  2460479.5  0.0  0.0  0.0  0.0  0.0  1.0  0.0  ...   \\n2024-06-19  19.0  0.0  2460480.5  0.0  0.0  0.0  0.0  0.0  1.0  0.0  ...   \\n2024-06-20  20.0  0.0  2460481.5  0.0  0.0  0.0  0.0  0.0  1.0  0.0  ...   \\n2024-06-21  21.0  0.0  2460482.5  0.0  0.0  0.0  0.0  0.0  1.0  0.0  ...   \\n2024-06-22  22.0  1.0  2460483.5  0.0  0.0  0.0  0.0  0.0  1.0  0.0  ...   \\n2024-06-23  23.0  1.0  2460484.5  0.0  0.0  0.0  0.0  0.0  1.0  0.0  ...   \\n2024-06-24  24.0  0.0  2460485.5  0.0  0.0  0.0  0.0  0.0  1.0  0.0  ...   \\n2024-06-25  25.0  0.0  2460486.5  0.0  0.0  0.0  0.0  0.0  1.0  0.0  ...   \\n\\n            dp265  dp266  dp267  dp268  dp269  dp270  dp271  dp272  dp273  \\\\\\n2024-06-16    0.0    0.0    0.0    0.0    0.0    0.0    0.0    0.0    0.0   \\n2024-06-17    0.0    0.0    0.0    0.0    0.0    0.0    0.0    0.0    0.0   \\n2024-06-18    0.0    0.0    0.0    0.0    0.0    0.0    0.0    0.0    0.0   \\n2024-06-19    0.0    0.0    0.0    0.0    0.0    0.0    0.0    0.0    0.0   \\n2024-06-20    1.0    0.0    0.0    0.0    0.0    0.0    0.0    0.0    0.0   \\n2024-06-21    0.0    0.0    0.0    0.0    1.0    0.0    0.0    0.0    0.0   \\n2024-06-22    0.0    0.0    0.0    0.0    0.0    0.0    0.0    1.0    0.0   \\n2024-06-23    0.0    0.0    0.0    0.0    0.0    0.0    0.0    0.0    0.0   \\n2024-06-24    0.0    0.0    0.0    0.0    0.0    0.0    0.0    0.0    0.0   \\n2024-06-25    0.0    0.0    0.0    0.0    0.0    0.0    0.0    0.0    0.0   \\n\\n            dp274  \\n2024-06-16    1.0  \\n2024-06-17    0.0  \\n2024-06-18    0.0  \\n2024-06-19    0.0  \\n2024-06-20    0.0  \\n2024-06-21    0.0  \\n2024-06-22    0.0  \\n2024-06-23    1.0  \\n2024-06-24    0.0  \\n2024-06-25    0.0  \\n\\n[10 rows x 275 columns]\") in model 938 in generation 6: ARDL\n",
      "Model Number: 939 with model MultivariateMotif in generation 6 of 20\n",
      "Model Number: 940 with model ARIMA in generation 6 of 20\n",
      "Model Number: 941 with model UnobservedComponents in generation 6 of 20\n",
      "Template Eval Error: ValueError(\"regression_type='User' but no future_regressor supplied\") in model 941 in generation 6: UnobservedComponents\n",
      "Model Number: 942 with model AverageValueNaive in generation 6 of 20\n",
      "Model Number: 943 with model GLS in generation 6 of 20\n",
      "Model Number: 944 with model ConstantNaive in generation 6 of 20\n",
      "Model Number: 945 with model Theta in generation 6 of 20\n",
      "Model Number: 946 with model UnobservedComponents in generation 6 of 20\n",
      "Model Number: 947 with model ETS in generation 6 of 20\n",
      "Model Number: 948 with model SeasonalNaive in generation 6 of 20\n",
      "Model Number: 949 with model Theta in generation 6 of 20\n",
      "Model Number: 950 with model GLM in generation 6 of 20\n",
      "Template Eval Error: Exception(\"Transformer BTCD failed on fit from params ffill {'0': {'regression_model': {'model': 'FastRidge', 'model_params': {}}, 'max_lags': 2}, '1': {'method': 'zscore', 'method_params': {'distribution': 'gamma', 'alpha': 0.05}, 'fillna': 'rolling_mean_24', 'transform_dict': {'fillna': None, 'transformations': {'0': 'EWMAFilter'}, 'transformation_params': {'0': {'span': 7}}}, 'isolated_only': False}, '2': {'constant': 0, 'reintroduction_model': {'model': 'xgboost', 'model_params': {'booster': 'gbtree', 'max_depth': 3, 'eta': 0.01, 'min_child_weight': 1, 'subsample': 1, 'colsample_bylevel': 1, 'reg_alpha': 0, 'reg_lambda': 1, 'n_estimators': 7, 'grow_policy': 'lossguide'}, 'datepart_method': 'simple'}, 'fillna': 'pchip'}}\") in model 950 in generation 6: GLM\n",
      "Model Number: 951 with model RRVAR in generation 6 of 20\n",
      "Model Number: 952 with model AverageValueNaive in generation 6 of 20\n",
      "Model Number: 953 with model Cassandra in generation 6 of 20\n"
     ]
    },
    {
     "name": "stderr",
     "output_type": "stream",
     "text": [
      "C:\\Users\\moham\\AppData\\Local\\Packages\\PythonSoftwareFoundation.Python.3.12_qbz5n2kfra8p0\\LocalCache\\local-packages\\Python312\\site-packages\\numpy\\lib\\function_base.py:2897: RuntimeWarning: invalid value encountered in divide\n",
      "  c /= stddev[:, None]\n",
      "C:\\Users\\moham\\AppData\\Local\\Packages\\PythonSoftwareFoundation.Python.3.12_qbz5n2kfra8p0\\LocalCache\\local-packages\\Python312\\site-packages\\numpy\\lib\\function_base.py:2898: RuntimeWarning: invalid value encountered in divide\n",
      "  c /= stddev[None, :]\n",
      "C:\\Users\\moham\\AppData\\Local\\Packages\\PythonSoftwareFoundation.Python.3.12_qbz5n2kfra8p0\\LocalCache\\local-packages\\Python312\\site-packages\\sklearn\\linear_model\\_ridge.py:204: LinAlgWarning: Ill-conditioned matrix (rcond=7.56688e-25): result may not be accurate.\n",
      "  return linalg.solve(A, Xy, assume_a=\"pos\", overwrite_a=True).T\n"
     ]
    },
    {
     "name": "stdout",
     "output_type": "stream",
     "text": [
      "Model Number: 954 with model ARIMA in generation 6 of 20\n",
      "Template Eval Error: ValueError(\"regression_type='User' but future_regressor not supplied\") in model 954 in generation 6: ARIMA\n",
      "Model Number: 955 with model DMD in generation 6 of 20\n",
      "Model Number: 956 with model RRVAR in generation 6 of 20\n"
     ]
    },
    {
     "name": "stderr",
     "output_type": "stream",
     "text": [
      "C:\\Users\\moham\\AppData\\Local\\Packages\\PythonSoftwareFoundation.Python.3.12_qbz5n2kfra8p0\\LocalCache\\local-packages\\Python312\\site-packages\\autots\\tools\\transform.py:5472: FutureWarning: Downcasting object dtype arrays on .fillna, .ffill, .bfill is deprecated and will change in a future version. Call result.infer_objects(copy=False) instead. To opt-in to the future behavior, set `pd.set_option('future.no_silent_downcasting', True)`\n",
      "  df = df.fillna(0)\n",
      "C:\\Users\\moham\\AppData\\Local\\Packages\\PythonSoftwareFoundation.Python.3.12_qbz5n2kfra8p0\\LocalCache\\local-packages\\Python312\\site-packages\\autots\\tools\\transform.py:5472: FutureWarning: Downcasting object dtype arrays on .fillna, .ffill, .bfill is deprecated and will change in a future version. Call result.infer_objects(copy=False) instead. To opt-in to the future behavior, set `pd.set_option('future.no_silent_downcasting', True)`\n",
      "  df = df.fillna(0)\n"
     ]
    },
    {
     "name": "stdout",
     "output_type": "stream",
     "text": [
      "Model Number: 957 with model UnobservedComponents in generation 6 of 20\n",
      "Model Number: 958 with model ConstantNaive in generation 6 of 20\n",
      "Model Number: 959 with model Theta in generation 6 of 20\n",
      "Model Number: 960 with model Cassandra in generation 6 of 20\n",
      "Template Eval Error: AttributeError(\"'float' object has no attribute 'shape'\") in model 960 in generation 6: Cassandra\n",
      "Model Number: 961 with model SectionalMotif in generation 6 of 20\n",
      "Model Number: 962 with model SectionalMotif in generation 6 of 20\n",
      "Model Number: 963 with model ARDL in generation 6 of 20\n"
     ]
    },
    {
     "name": "stderr",
     "output_type": "stream",
     "text": [
      "C:\\Users\\moham\\AppData\\Local\\Packages\\PythonSoftwareFoundation.Python.3.12_qbz5n2kfra8p0\\LocalCache\\local-packages\\Python312\\site-packages\\sklearn\\neighbors\\_classification.py:238: DataConversionWarning: A column-vector y was passed when a 1d array was expected. Please change the shape of y to (n_samples,), for example using ravel().\n",
      "  return self._fit(X, y)\n"
     ]
    },
    {
     "name": "stdout",
     "output_type": "stream",
     "text": [
      "Model Number: 964 with model SeasonalityMotif in generation 6 of 20\n",
      "Model Number: 965 with model MultivariateRegression in generation 6 of 20\n",
      "Model Number: 966 with model DMD in generation 6 of 20\n",
      "ECR rank is 0\n",
      "Model Number: 967 with model SeasonalNaive in generation 6 of 20\n",
      "Model Number: 968 with model NVAR in generation 6 of 20\n",
      "Model Number: 969 with model UnobservedComponents in generation 6 of 20\n",
      "Model Number: 970 with model Cassandra in generation 6 of 20\n",
      "Template Eval Error: AttributeError(\"'float' object has no attribute 'shape'\") in model 970 in generation 6: Cassandra\n",
      "Model Number: 971 with model SeasonalNaive in generation 6 of 20\n",
      "Template Eval Error: Exception(\"Transformer Log failed on inverse from params median {'0': {'low': 6, 'high': 90, 'K': 1, 'lanczos_factor': True, 'return_diff': True, 'on_transform': True, 'on_inverse': False}, '1': {'method': 'butter', 'method_args': {'N': 1, 'btype': 'lowpass', 'analog': False, 'output': 'sos', 'Wn': 0.012345679012345678}}, '2': {'decimals': -1, 'on_transform': True, 'on_inverse': True}, '3': {}, '4': {'rows': 7, 'lag': 1, 'method': 'multiplicative', 'strength': 1.0, 'first_value_only': False, 'threshold': 10}}\") in model 971 in generation 6: SeasonalNaive\n",
      "Model Number: 972 with model NVAR in generation 6 of 20\n",
      "Model Number: 973 with model ARDL in generation 6 of 20\n",
      "Model Number: 974 with model SeasonalityMotif in generation 6 of 20\n",
      "Template Eval Error: Exception(\"Transformer BTCD failed on fit from params zero {'0': {'regression_model': {'model': 'LinearRegression', 'model_params': {}}, 'max_lags': 1}, '1': {'model': 'Linear', 'phi': 1, 'window': None, 'transform_dict': {'fillna': None, 'transformations': {'0': 'EWMAFilter'}, 'transformation_params': {'0': {'span': 2}}}}, '2': {}, '3': {'rows': 1, 'lag': 1, 'method': 'additive', 'strength': 0.2, 'first_value_only': False, 'threshold': 1}, '4': {}}\") in model 974 in generation 6: SeasonalityMotif\n",
      "Model Number: 975 with model SeasonalityMotif in generation 6 of 20\n",
      "Model Number: 976 with model AverageValueNaive in generation 6 of 20\n",
      "Template Eval Error: ValueError(\"Model returned NaN due to a preprocessing transformer {'fillna': 'zero', 'transformations': {'0': 'RollingMean100thN', '1': 'AlignLastValue', '2': 'ReplaceConstant', '3': 'SeasonalDifference'}, 'transformation_params': {'0': {}, '1': {'rows': 2, 'lag': 1, 'method': 'multiplicative', 'strength': 1.0, 'first_value_only': False, 'threshold': 10}, '2': {'constant': 0, 'reintroduction_model': {'model': 'KNN', 'model_params': {'n_neighbors': 14, 'weights': 'uniform', 'p': 1.5, 'leaf_size': 30}, 'datepart_method': ['morlet_365.25_12_12', 'ricker_7_7_1']}, 'fillna': 'ffill'}, '3': {'lag_1': 364, 'method': 'LastValue'}}}. fail_on_forecast_nan=True\") in model 976 in generation 6: AverageValueNaive\n",
      "Model Number: 977 with model GLS in generation 6 of 20\n",
      "Model Number: 978 with model ARDL in generation 6 of 20\n"
     ]
    },
    {
     "name": "stderr",
     "output_type": "stream",
     "text": [
      "C:\\Users\\moham\\AppData\\Local\\Packages\\PythonSoftwareFoundation.Python.3.12_qbz5n2kfra8p0\\LocalCache\\local-packages\\Python312\\site-packages\\sklearn\\neighbors\\_classification.py:238: DataConversionWarning: A column-vector y was passed when a 1d array was expected. Please change the shape of y to (n_samples,), for example using ravel().\n",
      "  return self._fit(X, y)\n",
      "C:\\Users\\moham\\AppData\\Local\\Packages\\PythonSoftwareFoundation.Python.3.12_qbz5n2kfra8p0\\LocalCache\\local-packages\\Python312\\site-packages\\autots\\tools\\transform.py:1007: FutureWarning: The behavior of DataFrame concatenation with empty or all-NA entries is deprecated. In a future version, this will no longer exclude empty or all-NA columns when determining the result dtypes. To retain the old behavior, exclude the relevant entries before the concat operation.\n",
      "  df = pd.concat([self.last_rolling, df], axis=0).astype(float)\n",
      "C:\\Users\\moham\\AppData\\Local\\Packages\\PythonSoftwareFoundation.Python.3.12_qbz5n2kfra8p0\\LocalCache\\local-packages\\Python312\\site-packages\\autots\\tools\\transform.py:1007: FutureWarning: The behavior of DataFrame concatenation with empty or all-NA entries is deprecated. In a future version, this will no longer exclude empty or all-NA columns when determining the result dtypes. To retain the old behavior, exclude the relevant entries before the concat operation.\n",
      "  df = pd.concat([self.last_rolling, df], axis=0).astype(float)\n"
     ]
    },
    {
     "name": "stdout",
     "output_type": "stream",
     "text": [
      "Model Number: 979 with model MetricMotif in generation 6 of 20\n",
      "Template Eval Error: Exception(\"Transformer Cointegration failed on fit from params fake_date {'0': {'det_order': 0, 'k_ar_diff': 1}, '1': {'rows': 1, 'lag': 1, 'method': 'additive', 'strength': 1.0, 'first_value_only': False, 'threshold': None}, '2': {}}\") in model 979 in generation 6: MetricMotif\n",
      "Model Number: 980 with model MultivariateRegression in generation 6 of 20\n",
      "Template Eval Error: Exception(\"Transformer BTCD failed on fit from params pchip {'0': {'decomp_type': 'seasonal_decompose', 'part': 'trend'}, '1': {}, '2': {'regression_model': {'model': 'LinearRegression', 'model_params': {}}, 'max_lags': 1}, '3': {}}\") in model 980 in generation 6: MultivariateRegression\n",
      "Model Number: 981 with model ARDL in generation 6 of 20\n",
      "Model Number: 982 with model GLS in generation 6 of 20\n",
      "Model Number: 983 with model SeasonalNaive in generation 6 of 20\n",
      "Model Number: 984 with model SectionalMotif in generation 6 of 20\n",
      "Model Number: 985 with model GLS in generation 6 of 20\n",
      "New Generation: 7 of 20\n",
      "Model Number: 986 with model ARIMA in generation 7 of 20\n",
      "Model Number: 987 with model DMD in generation 7 of 20\n",
      "Model Number: 988 with model Cassandra in generation 7 of 20\n",
      "Template Eval Error: Exception(\"Transformer SeasonalDifference failed on fit from params time {'0': {'rows': 1, 'lag': 7, 'method': 'multiplicative', 'strength': 0.9, 'first_value_only': False, 'threshold': None}, '1': {'span': 168}, '2': {'lag_1': 364, 'method': 5}, '3': {'rows': 4, 'lag': 1, 'method': 'additive', 'strength': 1.0, 'first_value_only': False, 'threshold': 1}, '4': {'lag_1': 7, 'method': 'LastValue'}}\") in model 988 in generation 7: Cassandra\n",
      "Model Number: 989 with model MultivariateRegression in generation 7 of 20\n",
      "Model Number: 990 with model ARIMA in generation 7 of 20\n",
      "Model Number: 991 with model Theta in generation 7 of 20\n",
      "Model Number: 992 with model Theta in generation 7 of 20\n",
      "Model Number: 993 with model ARIMA in generation 7 of 20\n",
      "Model Number: 994 with model SeasonalNaive in generation 7 of 20\n",
      "Model Number: 995 with model LastValueNaive in generation 7 of 20\n",
      "Template Eval Error: Exception(\"Transformer AlignLastValue failed on inverse from params ffill {'0': {'rows': 7, 'lag': 1, 'method': 'additive', 'strength': 1.0, 'first_value_only': True, 'threshold': None}, '1': {'rows': 4, 'lag': 1, 'method': 'additive', 'strength': 1.0, 'first_value_only': False, 'threshold': 1}, '2': {'lag': 1, 'fill': 'zero'}, '3': {'model': 'Gamma', 'phi': 1, 'window': None, 'transform_dict': {'fillna': None, 'transformations': {'0': 'ScipyFilter'}, 'transformation_params': {'0': {'method': 'savgol_filter', 'method_args': {'window_length': 31, 'polyorder': 3, 'deriv': 0, 'mode': 'interp'}}}}}}\") in model 995 in generation 7: LastValueNaive\n",
      "Model Number: 996 with model SectionalMotif in generation 7 of 20\n",
      "Model Number: 997 with model AverageValueNaive in generation 7 of 20\n",
      "Model Number: 998 with model DatepartRegression in generation 7 of 20\n",
      "Template Eval Error: ValueError(\"regression_type='User' but no future_regressor passed\") in model 998 in generation 7: DatepartRegression\n",
      "Model Number: 999 with model Cassandra in generation 7 of 20\n",
      "Template Eval Error: ValueError('more than 1 year of data is required for holiday detection.') in model 999 in generation 7: Cassandra\n",
      "Model Number: 1000 with model SeasonalityMotif in generation 7 of 20\n",
      "Model Number: 1001 with model NVAR in generation 7 of 20\n",
      "Model Number: 1002 with model GLS in generation 7 of 20\n",
      "Model Number: 1003 with model AverageValueNaive in generation 7 of 20\n",
      "Model Number: 1004 with model Theta in generation 7 of 20\n",
      "Model Number: 1005 with model LastValueNaive in generation 7 of 20\n",
      "Model Number: 1006 with model ARDL in generation 7 of 20\n",
      "Model Number: 1007 with model AverageValueNaive in generation 7 of 20\n",
      "Template Eval Error: Exception(\"Transformer BTCD failed on fit from params fake_date {'0': {'regression_model': {'model': 'LinearRegression', 'model_params': {}}, 'max_lags': 2}, '1': {'model': 'Gamma', 'phi': 1, 'window': 365, 'transform_dict': None}, '2': {'rows': 3}}\") in model 1007 in generation 7: AverageValueNaive\n",
      "Model Number: 1008 with model SeasonalNaive in generation 7 of 20\n",
      "Template Eval Error: Exception(\"Transformer BTCD failed on fit from params fake_date {'0': {'output_distribution': 'normal', 'n_quantiles': 20}, '1': {}, '2': {'output_distribution': 'uniform', 'n_quantiles': 12}, '3': {}, '4': {'rows': 7, 'lag': 1, 'method': 'additive', 'strength': 1.0, 'first_value_only': False, 'threshold': 10}, '5': {'regression_model': {'model': 'FastRidge', 'model_params': {}}, 'max_lags': 1}}\") in model 1008 in generation 7: SeasonalNaive\n",
      "Model Number: 1009 with model SeasonalityMotif in generation 7 of 20\n",
      "Model Number: 1010 with model AverageValueNaive in generation 7 of 20\n",
      "Model Number: 1011 with model Cassandra in generation 7 of 20\n"
     ]
    },
    {
     "name": "stderr",
     "output_type": "stream",
     "text": [
      "C:\\Users\\moham\\AppData\\Local\\Packages\\PythonSoftwareFoundation.Python.3.12_qbz5n2kfra8p0\\LocalCache\\local-packages\\Python312\\site-packages\\numpy\\lib\\function_base.py:2897: RuntimeWarning: invalid value encountered in divide\n",
      "  c /= stddev[:, None]\n",
      "C:\\Users\\moham\\AppData\\Local\\Packages\\PythonSoftwareFoundation.Python.3.12_qbz5n2kfra8p0\\LocalCache\\local-packages\\Python312\\site-packages\\numpy\\lib\\function_base.py:2898: RuntimeWarning: invalid value encountered in divide\n",
      "  c /= stddev[None, :]\n"
     ]
    },
    {
     "name": "stdout",
     "output_type": "stream",
     "text": [
      "Model Number: 1012 with model MultivariateRegression in generation 7 of 20\n",
      "Model Number: 1013 with model MultivariateMotif in generation 7 of 20\n",
      "Template Eval Error: Exception(\"Transformer BTCD failed on fit from params mean {'0': {'method': 'remove', 'std_threshold': 4, 'fillna': 'ffill'}, '1': {'regression_model': {'model': 'LinearRegression', 'model_params': {}}, 'max_lags': 2}, '2': {'method': 'IQR', 'method_params': {'iqr_threshold': 2.0, 'iqr_quantiles': [0.25, 0.75]}, 'fillna': 'rolling_mean_24', 'transform_dict': {'fillna': 'zero', 'transformations': {'0': 'EWMAFilter', '1': 'BKBandpassFilter'}, 'transformation_params': {'0': {'span': 7}, '1': {'low': 6, 'high': 40, 'K': 1, 'lanczos_factor': False, 'return_diff': False, 'on_transform': True, 'on_inverse': False}}}, 'isolated_only': False}, '3': {'method': 'rolling_zscore', 'method_params': {'distribution': 'gamma', 'alpha': 0.2, 'rolling_periods': 90, 'center': False}, 'fillna': 'rolling_mean_24', 'transform_dict': {'fillna': 'akima', 'transformations': {'0': 'bkfilter'}, 'transformation_params': {'0': {}}}, 'isolated_only': False}, '4': {}, '5': {'lag': 1, 'fill': 'zero'}}\") in model 1013 in generation 7: MultivariateMotif\n",
      "Model Number: 1014 with model DatepartRegression in generation 7 of 20\n",
      "Model Number: 1015 with model MultivariateMotif in generation 7 of 20\n",
      "Model Number: 1016 with model RRVAR in generation 7 of 20\n",
      "Model Number: 1017 with model ConstantNaive in generation 7 of 20\n",
      "Model Number: 1018 with model ARDL in generation 7 of 20\n",
      "Template Eval Error: Exception(\"Transformer BTCD failed on fit from params ffill {'0': {'output_distribution': 'normal', 'n_quantiles': 20}, '1': {}, '2': {'regression_model': {'model': 'LinearRegression', 'model_params': {}}, 'max_lags': 1}, '3': {'center': 'mean'}}\") in model 1018 in generation 7: ARDL\n",
      "Model Number: 1019 with model SeasonalNaive in generation 7 of 20\n",
      "Model Number: 1020 with model ETS in generation 7 of 20\n"
     ]
    },
    {
     "name": "stderr",
     "output_type": "stream",
     "text": [
      "C:\\Users\\moham\\AppData\\Local\\Packages\\PythonSoftwareFoundation.Python.3.12_qbz5n2kfra8p0\\LocalCache\\local-packages\\Python312\\site-packages\\sklearn\\neural_network\\_multilayer_perceptron.py:546: ConvergenceWarning: lbfgs failed to converge (status=1):\n",
      "STOP: TOTAL NO. of ITERATIONS REACHED LIMIT.\n",
      "\n",
      "Increase the number of iterations (max_iter) or scale the data as shown in:\n",
      "    https://scikit-learn.org/stable/modules/preprocessing.html\n",
      "  self.n_iter_ = _check_optimize_result(\"lbfgs\", opt_res, self.max_iter)\n",
      "C:\\Users\\moham\\AppData\\Local\\Packages\\PythonSoftwareFoundation.Python.3.12_qbz5n2kfra8p0\\LocalCache\\local-packages\\Python312\\site-packages\\autots\\tools\\transform.py:5472: FutureWarning: Downcasting object dtype arrays on .fillna, .ffill, .bfill is deprecated and will change in a future version. Call result.infer_objects(copy=False) instead. To opt-in to the future behavior, set `pd.set_option('future.no_silent_downcasting', True)`\n",
      "  df = df.fillna(0)\n",
      "C:\\Users\\moham\\AppData\\Local\\Packages\\PythonSoftwareFoundation.Python.3.12_qbz5n2kfra8p0\\LocalCache\\local-packages\\Python312\\site-packages\\autots\\tools\\transform.py:5472: FutureWarning: Downcasting object dtype arrays on .fillna, .ffill, .bfill is deprecated and will change in a future version. Call result.infer_objects(copy=False) instead. To opt-in to the future behavior, set `pd.set_option('future.no_silent_downcasting', True)`\n",
      "  df = df.fillna(0)\n"
     ]
    },
    {
     "name": "stdout",
     "output_type": "stream",
     "text": [
      "Model Number: 1021 with model ARDL in generation 7 of 20\n"
     ]
    },
    {
     "name": "stderr",
     "output_type": "stream",
     "text": [
      "C:\\Users\\moham\\AppData\\Local\\Packages\\PythonSoftwareFoundation.Python.3.12_qbz5n2kfra8p0\\LocalCache\\local-packages\\Python312\\site-packages\\sklearn\\neighbors\\_classification.py:238: DataConversionWarning: A column-vector y was passed when a 1d array was expected. Please change the shape of y to (n_samples,), for example using ravel().\n",
      "  return self._fit(X, y)\n"
     ]
    },
    {
     "name": "stdout",
     "output_type": "stream",
     "text": [
      "Model Number: 1022 with model NVAR in generation 7 of 20\n",
      "Model Number: 1023 with model MultivariateMotif in generation 7 of 20\n",
      "Template Eval Error: IndexError('index 1 is out of bounds for axis 0 with size 1') in model 1023 in generation 7: MultivariateMotif\n",
      "Model Number: 1024 with model SeasonalNaive in generation 7 of 20\n",
      "Model Number: 1025 with model Theta in generation 7 of 20\n",
      "Model Number: 1026 with model MultivariateMotif in generation 7 of 20\n",
      "Model Number: 1027 with model SeasonalityMotif in generation 7 of 20\n",
      "Model Number: 1028 with model Theta in generation 7 of 20\n",
      "Model Number: 1029 with model GLS in generation 7 of 20\n",
      "Model Number: 1030 with model UnivariateMotif in generation 7 of 20\n",
      "Model Number: 1031 with model SeasonalNaive in generation 7 of 20\n",
      "Model Number: 1032 with model WindowRegression in generation 7 of 20\n",
      "Template Eval Error: ValueError(\"Some value(s) of y are out of the valid range of the loss 'HalfPoissonLoss'.\") in model 1032 in generation 7: WindowRegression\n",
      "Model Number: 1033 with model ARDL in generation 7 of 20\n",
      "Model Number: 1034 with model SectionalMotif in generation 7 of 20\n",
      "Model Number: 1035 with model ARIMA in generation 7 of 20\n"
     ]
    },
    {
     "name": "stderr",
     "output_type": "stream",
     "text": [
      "C:\\Users\\moham\\AppData\\Local\\Packages\\PythonSoftwareFoundation.Python.3.12_qbz5n2kfra8p0\\LocalCache\\local-packages\\Python312\\site-packages\\autots\\tools\\transform.py:5472: FutureWarning: Downcasting object dtype arrays on .fillna, .ffill, .bfill is deprecated and will change in a future version. Call result.infer_objects(copy=False) instead. To opt-in to the future behavior, set `pd.set_option('future.no_silent_downcasting', True)`\n",
      "  df = df.fillna(0)\n",
      "C:\\Users\\moham\\AppData\\Local\\Packages\\PythonSoftwareFoundation.Python.3.12_qbz5n2kfra8p0\\LocalCache\\local-packages\\Python312\\site-packages\\autots\\tools\\transform.py:5472: FutureWarning: Downcasting object dtype arrays on .fillna, .ffill, .bfill is deprecated and will change in a future version. Call result.infer_objects(copy=False) instead. To opt-in to the future behavior, set `pd.set_option('future.no_silent_downcasting', True)`\n",
      "  df = df.fillna(0)\n"
     ]
    },
    {
     "name": "stdout",
     "output_type": "stream",
     "text": [
      "Model Number: 1036 with model UnobservedComponents in generation 7 of 20\n",
      "Model Number: 1037 with model DatepartRegression in generation 7 of 20\n",
      "Model Number: 1038 with model ARDL in generation 7 of 20\n"
     ]
    },
    {
     "name": "stderr",
     "output_type": "stream",
     "text": [
      "C:\\Users\\moham\\AppData\\Local\\Packages\\PythonSoftwareFoundation.Python.3.12_qbz5n2kfra8p0\\LocalCache\\local-packages\\Python312\\site-packages\\sklearn\\neighbors\\_classification.py:238: DataConversionWarning: A column-vector y was passed when a 1d array was expected. Please change the shape of y to (n_samples,), for example using ravel().\n",
      "  return self._fit(X, y)\n"
     ]
    },
    {
     "name": "stdout",
     "output_type": "stream",
     "text": [
      "Model Number: 1039 with model UnobservedComponents in generation 7 of 20\n",
      "Model Number: 1040 with model LastValueNaive in generation 7 of 20\n",
      "Model Number: 1041 with model WindowRegression in generation 7 of 20\n",
      "Template Eval Error: ModuleNotFoundError(\"No module named 'lightgbm'\") in model 1041 in generation 7: WindowRegression\n",
      "Model Number: 1042 with model SeasonalNaive in generation 7 of 20\n",
      "Model Number: 1043 with model MultivariateMotif in generation 7 of 20\n",
      "Model Number: 1044 with model SectionalMotif in generation 7 of 20\n"
     ]
    },
    {
     "name": "stderr",
     "output_type": "stream",
     "text": [
      "C:\\Users\\moham\\AppData\\Local\\Packages\\PythonSoftwareFoundation.Python.3.12_qbz5n2kfra8p0\\LocalCache\\local-packages\\Python312\\site-packages\\sklearn\\neighbors\\_classification.py:238: DataConversionWarning: A column-vector y was passed when a 1d array was expected. Please change the shape of y to (n_samples,), for example using ravel().\n",
      "  return self._fit(X, y)\n"
     ]
    },
    {
     "name": "stdout",
     "output_type": "stream",
     "text": [
      "Model Number: 1045 with model GLM in generation 7 of 20\n",
      "Model Number: 1046 with model DMD in generation 7 of 20\n",
      "Model Number: 1047 with model NVAR in generation 7 of 20\n",
      "Template Eval Error: Exception(\"Transformer FastICA failed on fit from params rolling_mean {'0': {'output_distribution': 'normal', 'n_quantiles': 20}, '1': {'model': 'Linear', 'phi': 1, 'window': None}, '2': {'window_size': 30, 'alpha': 1.0, 'grouping_forward_limit': 4, 'max_level_shifts': 5, 'alignment': 'average'}, '3': {'algorithm': 'deflation', 'fun': 'logcosh', 'max_iter': 250, 'whiten': True}, '4': {'model_name': 'ucm_deterministictrend_seasonal7', 'state_transition': [[1, 1, 0, 0, 0, 0, 0, 0], [0, 1, 0, 0, 0, 0, 0, 0], [0, 0, 1, 0, 0, 0, 0, 0], [0, 0, 0, 1, 0, 0, 0, 0], [0, 0, 0, 0, 1, 0, 0, 0], [0, 0, 0, 0, 0, 1, 0, 0], [0, 0, 0, 0, 0, 0, 1, 0], [0, 0, -1, -1, -1, -1, -1, -1]], 'process_noise': [[0.001, 0, 0, 0, 0, 0, 0, 0], [0, 0.001, 0, 0, 0, 0, 0, 0], [0, 0, 0.001, 0, 0, 0, 0, 0], [0, 0, 0, 0.001, 0, 0, 0, 0], [0, 0, 0, 0, 0.001, 0, 0, 0], [0, 0, 0, 0, 0, 0.001, 0, 0], [0, 0, 0, 0, 0, 0, 0.001, 0], [0, 0, 0, 0, 0, 0, 0, 0]], 'observation_model': [[1, 0, 1, 1, 1, 1, 1, 1]], 'observation_noise': 0.03, 'em_iter': 10, 'on_transform': True, 'on_inverse': False}, '5': {}}\") in model 1047 in generation 7: NVAR\n",
      "Model Number: 1048 with model DMD in generation 7 of 20\n",
      "Model Number: 1049 with model ARDL in generation 7 of 20\n",
      "Model Number: 1050 with model MultivariateRegression in generation 7 of 20\n",
      "Model Number: 1051 with model Cassandra in generation 7 of 20\n"
     ]
    },
    {
     "name": "stderr",
     "output_type": "stream",
     "text": [
      "C:\\Users\\moham\\AppData\\Local\\Packages\\PythonSoftwareFoundation.Python.3.12_qbz5n2kfra8p0\\LocalCache\\local-packages\\Python312\\site-packages\\numpy\\lib\\function_base.py:2897: RuntimeWarning: invalid value encountered in divide\n",
      "  c /= stddev[:, None]\n",
      "C:\\Users\\moham\\AppData\\Local\\Packages\\PythonSoftwareFoundation.Python.3.12_qbz5n2kfra8p0\\LocalCache\\local-packages\\Python312\\site-packages\\numpy\\lib\\function_base.py:2898: RuntimeWarning: invalid value encountered in divide\n",
      "  c /= stddev[None, :]\n"
     ]
    },
    {
     "name": "stdout",
     "output_type": "stream",
     "text": [
      "Model Number: 1052 with model MultivariateMotif in generation 7 of 20\n",
      "Model Number: 1053 with model DMD in generation 7 of 20\n",
      "Model Number: 1054 with model ARDL in generation 7 of 20\n",
      "Model Number: 1055 with model MetricMotif in generation 7 of 20\n",
      "Model Number: 1056 with model MetricMotif in generation 7 of 20\n",
      "Model Number: 1057 with model UnobservedComponents in generation 7 of 20\n",
      "Template Eval Error: Exception(\"Transformer AlignLastValue failed on inverse from params ffill {'0': {'rows': 1, 'lag': 1, 'method': 'additive', 'strength': 0.7, 'first_value_only': True, 'threshold': None}, '1': {'rows': 1, 'lag': 7, 'method': 'additive', 'strength': 1.0, 'first_value_only': False, 'threshold': 1}, '2': {'rolling_window': 0.1, 'n_tails': 0.1, 'n_future': 0.2, 'method': 'mean', 'macro_micro': True}}\") in model 1057 in generation 7: UnobservedComponents\n",
      "Model Number: 1058 with model RRVAR in generation 7 of 20\n",
      "Template Eval Error: Exception(\"Transformer AlignLastValue failed on inverse from params ffill {'0': {'rows': 1, 'lag': 1, 'method': 'additive', 'strength': 0.2, 'first_value_only': True, 'threshold': None}, '1': {'rows': 1, 'lag': 28, 'method': 'additive', 'strength': 0.7, 'first_value_only': False, 'threshold': None}, '2': {'n_harmonics': 0.5, 'detrend': 'cubic'}}\") in model 1058 in generation 7: RRVAR\n",
      "Model Number: 1059 with model DMD in generation 7 of 20\n",
      "Template Eval Error: Exception(\"Transformer RobustScaler failed on fit from params median {'0': {'output_distribution': 'normal', 'n_quantiles': 20}, '1': {'model': 'GLS', 'phi': 1, 'window': None, 'transform_dict': {'fillna': None, 'transformations': {'0': 'AnomalyRemoval'}, 'transformation_params': {'0': {'method': 'zscore', 'transform_dict': {'transformations': {'0': 'DatepartRegression'}, 'transformation_params': {'0': {'datepart_method': 'simple_3', 'regression_model': {'model': 'ElasticNet', 'model_params': {}}}}}, 'method_params': {'distribution': 'uniform', 'alpha': 0.05}}}}}, '2': {'method': 'zscore', 'method_params': {'distribution': 'norm', 'alpha': 0.05}, 'fillna': 'fake_date', 'transform_dict': {'transformations': {'0': 'DifferencedTransformer'}, 'transformation_params': {'0': {}}}, 'isolated_only': False}, '3': {}}\") in model 1059 in generation 7: DMD\n",
      "Model Number: 1060 with model WindowRegression in generation 7 of 20\n",
      "Model Number: 1061 with model ARIMA in generation 7 of 20\n"
     ]
    },
    {
     "name": "stderr",
     "output_type": "stream",
     "text": [
      "C:\\Users\\moham\\AppData\\Local\\Packages\\PythonSoftwareFoundation.Python.3.12_qbz5n2kfra8p0\\LocalCache\\local-packages\\Python312\\site-packages\\autots\\tools\\transform.py:5472: FutureWarning: Downcasting object dtype arrays on .fillna, .ffill, .bfill is deprecated and will change in a future version. Call result.infer_objects(copy=False) instead. To opt-in to the future behavior, set `pd.set_option('future.no_silent_downcasting', True)`\n",
      "  df = df.fillna(0)\n",
      "C:\\Users\\moham\\AppData\\Local\\Packages\\PythonSoftwareFoundation.Python.3.12_qbz5n2kfra8p0\\LocalCache\\local-packages\\Python312\\site-packages\\autots\\tools\\transform.py:5472: FutureWarning: Downcasting object dtype arrays on .fillna, .ffill, .bfill is deprecated and will change in a future version. Call result.infer_objects(copy=False) instead. To opt-in to the future behavior, set `pd.set_option('future.no_silent_downcasting', True)`\n",
      "  df = df.fillna(0)\n"
     ]
    },
    {
     "name": "stdout",
     "output_type": "stream",
     "text": [
      "Model Number: 1062 with model AverageValueNaive in generation 7 of 20\n",
      "Model Number: 1063 with model MultivariateRegression in generation 7 of 20\n",
      "Model Number: 1064 with model WindowRegression in generation 7 of 20\n",
      "Template Eval Error: ValueError(\"regression_type='User' but no future_regressor passed\") in model 1064 in generation 7: WindowRegression\n",
      "Model Number: 1065 with model ETS in generation 7 of 20\n",
      "Model Number: 1066 with model NVAR in generation 7 of 20\n",
      "Model Number: 1067 with model ETS in generation 7 of 20\n",
      "Model Number: 1068 with model ARIMA in generation 7 of 20\n",
      "Model Number: 1069 with model Cassandra in generation 7 of 20\n",
      "Model Number: 1070 with model NVAR in generation 7 of 20\n",
      "Model Number: 1071 with model SeasonalityMotif in generation 7 of 20\n"
     ]
    },
    {
     "name": "stderr",
     "output_type": "stream",
     "text": [
      "C:\\Users\\moham\\AppData\\Local\\Packages\\PythonSoftwareFoundation.Python.3.12_qbz5n2kfra8p0\\LocalCache\\local-packages\\Python312\\site-packages\\numpy\\lib\\function_base.py:2897: RuntimeWarning: invalid value encountered in divide\n",
      "  c /= stddev[:, None]\n",
      "C:\\Users\\moham\\AppData\\Local\\Packages\\PythonSoftwareFoundation.Python.3.12_qbz5n2kfra8p0\\LocalCache\\local-packages\\Python312\\site-packages\\numpy\\lib\\function_base.py:2898: RuntimeWarning: invalid value encountered in divide\n",
      "  c /= stddev[None, :]\n"
     ]
    },
    {
     "name": "stdout",
     "output_type": "stream",
     "text": [
      "Model Number: 1072 with model ARIMA in generation 7 of 20\n",
      "Model Number: 1073 with model MetricMotif in generation 7 of 20\n",
      "Model Number: 1074 with model ConstantNaive in generation 7 of 20\n",
      "Model Number: 1075 with model WindowRegression in generation 7 of 20\n",
      "Model Number: 1076 with model SectionalMotif in generation 7 of 20\n",
      "Model Number: 1077 with model WindowRegression in generation 7 of 20\n",
      "Model Number: 1078 with model MultivariateMotif in generation 7 of 20\n",
      "Model Number: 1079 with model MultivariateRegression in generation 7 of 20\n",
      "Model Number: 1080 with model AverageValueNaive in generation 7 of 20\n",
      "Model Number: 1081 with model ConstantNaive in generation 7 of 20\n",
      "Model Number: 1082 with model WindowRegression in generation 7 of 20\n",
      "Model Number: 1083 with model SectionalMotif in generation 7 of 20\n",
      "Model Number: 1084 with model ARDL in generation 7 of 20\n",
      "Model Number: 1085 with model MultivariateRegression in generation 7 of 20\n",
      "Model Number: 1086 with model WindowRegression in generation 7 of 20\n",
      "Model Number: 1087 with model SectionalMotif in generation 7 of 20\n",
      "Model Number: 1088 with model LastValueNaive in generation 7 of 20\n",
      "Model Number: 1089 with model DMD in generation 7 of 20\n",
      "Model Number: 1090 with model MetricMotif in generation 7 of 20\n",
      "Template Eval Error: Exception(\"Transformer AlignLastValue failed on inverse from params zero {'0': {'rows': 1, 'lag': 1, 'method': 'additive', 'strength': 1.0, 'first_value_only': True, 'threshold': 1}, '1': {'window_size': 30, 'alpha': 2.5, 'grouping_forward_limit': 4, 'max_level_shifts': 5, 'alignment': 'average'}, '2': {'rows': 1, 'lag': 1, 'method': 'additive', 'strength': 1.0, 'first_value_only': False, 'threshold': None}}\") in model 1090 in generation 7: MetricMotif\n",
      "Model Number: 1091 with model NVAR in generation 7 of 20\n",
      "Model Number: 1092 with model ConstantNaive in generation 7 of 20\n",
      "Model Number: 1093 with model Theta in generation 7 of 20\n",
      "Model Number: 1094 with model NVAR in generation 7 of 20\n",
      "Model Number: 1095 with model AverageValueNaive in generation 7 of 20\n",
      "Model Number: 1096 with model RRVAR in generation 7 of 20\n",
      "Model Number: 1097 with model LastValueNaive in generation 7 of 20\n",
      "New Generation: 8 of 20\n",
      "Model Number: 1098 with model MultivariateRegression in generation 8 of 20\n",
      "Model Number: 1099 with model WindowRegression in generation 8 of 20\n",
      "Model Number: 1100 with model SeasonalNaive in generation 8 of 20\n",
      "Model Number: 1101 with model GLM in generation 8 of 20\n",
      "Model Number: 1102 with model UnobservedComponents in generation 8 of 20\n",
      "Model Number: 1103 with model MetricMotif in generation 8 of 20\n",
      "Model Number: 1104 with model SectionalMotif in generation 8 of 20\n",
      "Model Number: 1105 with model NVAR in generation 8 of 20\n",
      "Template Eval Error: Exception(\"Transformer Cointegration failed on fit from params rolling_mean {'0': {}, '1': {'det_order': 0, 'k_ar_diff': 2}, '2': {}}\") in model 1105 in generation 8: NVAR\n",
      "Model Number: 1106 with model SeasonalityMotif in generation 8 of 20\n",
      "Model Number: 1107 with model GLM in generation 8 of 20\n",
      "Template Eval Error: ValueError('NaN, inf or invalid value detected in weights, estimation infeasible.') in model 1107 in generation 8: GLM\n",
      "Model Number: 1108 with model LastValueNaive in generation 8 of 20\n",
      "Model Number: 1109 with model NVAR in generation 8 of 20\n",
      "Model Number: 1110 with model DMD in generation 8 of 20\n",
      "Model Number: 1111 with model MultivariateMotif in generation 8 of 20\n"
     ]
    },
    {
     "name": "stderr",
     "output_type": "stream",
     "text": [
      "C:\\Users\\moham\\AppData\\Local\\Packages\\PythonSoftwareFoundation.Python.3.12_qbz5n2kfra8p0\\LocalCache\\local-packages\\Python312\\site-packages\\autots\\tools\\transform.py:5472: FutureWarning: Downcasting object dtype arrays on .fillna, .ffill, .bfill is deprecated and will change in a future version. Call result.infer_objects(copy=False) instead. To opt-in to the future behavior, set `pd.set_option('future.no_silent_downcasting', True)`\n",
      "  df = df.fillna(0)\n",
      "C:\\Users\\moham\\AppData\\Local\\Packages\\PythonSoftwareFoundation.Python.3.12_qbz5n2kfra8p0\\LocalCache\\local-packages\\Python312\\site-packages\\autots\\tools\\transform.py:5472: FutureWarning: Downcasting object dtype arrays on .fillna, .ffill, .bfill is deprecated and will change in a future version. Call result.infer_objects(copy=False) instead. To opt-in to the future behavior, set `pd.set_option('future.no_silent_downcasting', True)`\n",
      "  df = df.fillna(0)\n",
      "C:\\Users\\moham\\AppData\\Local\\Packages\\PythonSoftwareFoundation.Python.3.12_qbz5n2kfra8p0\\LocalCache\\local-packages\\Python312\\site-packages\\autots\\tools\\transform.py:5472: FutureWarning: Downcasting object dtype arrays on .fillna, .ffill, .bfill is deprecated and will change in a future version. Call result.infer_objects(copy=False) instead. To opt-in to the future behavior, set `pd.set_option('future.no_silent_downcasting', True)`\n",
      "  df = df.fillna(0)\n",
      "C:\\Users\\moham\\AppData\\Local\\Packages\\PythonSoftwareFoundation.Python.3.12_qbz5n2kfra8p0\\LocalCache\\local-packages\\Python312\\site-packages\\autots\\tools\\transform.py:5472: FutureWarning: Downcasting object dtype arrays on .fillna, .ffill, .bfill is deprecated and will change in a future version. Call result.infer_objects(copy=False) instead. To opt-in to the future behavior, set `pd.set_option('future.no_silent_downcasting', True)`\n",
      "  df = df.fillna(0)\n",
      "C:\\Users\\moham\\AppData\\Local\\Packages\\PythonSoftwareFoundation.Python.3.12_qbz5n2kfra8p0\\LocalCache\\local-packages\\Python312\\site-packages\\statsmodels\\genmod\\families\\family.py:1650: RuntimeWarning: invalid value encountered in log\n",
      "  endog * np.log(endog / mu) + (mu - endog))\n",
      "C:\\Users\\moham\\AppData\\Local\\Packages\\PythonSoftwareFoundation.Python.3.12_qbz5n2kfra8p0\\LocalCache\\local-packages\\Python312\\site-packages\\statsmodels\\genmod\\families\\family.py:1650: RuntimeWarning: divide by zero encountered in divide\n",
      "  endog * np.log(endog / mu) + (mu - endog))\n",
      "C:\\Users\\moham\\AppData\\Local\\Packages\\PythonSoftwareFoundation.Python.3.12_qbz5n2kfra8p0\\LocalCache\\local-packages\\Python312\\site-packages\\statsmodels\\genmod\\generalized_linear_model.py:898: RuntimeWarning: divide by zero encountered in divide\n",
      "  return np.sum(resid / self.family.variance(mu)) / self.df_resid\n",
      "C:\\Users\\moham\\AppData\\Local\\Packages\\PythonSoftwareFoundation.Python.3.12_qbz5n2kfra8p0\\LocalCache\\local-packages\\Python312\\site-packages\\statsmodels\\genmod\\families\\family.py:143: RuntimeWarning: divide by zero encountered in divide\n",
      "  return 1. / (self.link.deriv(mu)**2 * self.variance(mu))\n"
     ]
    },
    {
     "name": "stdout",
     "output_type": "stream",
     "text": [
      "Model Number: 1112 with model Theta in generation 8 of 20\n",
      "Template Eval Error: Exception(\"Transformer HolidayTransformer failed on fit from params fake_date {'0': {}, '1': {'threshold': 0.9, 'splash_threshold': None, 'use_dayofmonth_holidays': True, 'use_wkdom_holidays': True, 'use_wkdeom_holidays': False, 'use_lunar_holidays': True, 'use_lunar_weekday': False, 'use_islamic_holidays': False, 'use_hebrew_holidays': False, 'anomaly_detector_params': {'method': 'zscore', 'method_params': {'distribution': 'gamma', 'alpha': 0.05}, 'fillna': 'rolling_mean_24', 'transform_dict': None, 'isolated_only': False}, 'remove_excess_anomalies': True, 'impact': 'anomaly_score', 'regression_params': {}}, '2': {'lag': 1, 'fill': 'bfill'}}\") in model 1112 in generation 8: Theta\n",
      "Model Number: 1113 with model MetricMotif in generation 8 of 20\n",
      "Model Number: 1114 with model MultivariateMotif in generation 8 of 20\n",
      "Model Number: 1115 with model MultivariateRegression in generation 8 of 20\n",
      "Model Number: 1116 with model NVAR in generation 8 of 20\n",
      "Model Number: 1117 with model DMD in generation 8 of 20\n",
      "Model Number: 1118 with model ARIMA in generation 8 of 20\n",
      "Template Eval Error: ValueError(\"regression_type='User' but future_regressor not supplied\") in model 1118 in generation 8: ARIMA\n",
      "Model Number: 1119 with model UnobservedComponents in generation 8 of 20\n",
      "Template Eval Error: Exception(\"Transformer SeasonalDifference failed on fit from params ffill {'0': {}, '1': {}, '2': {'rows': 1, 'lag': 1, 'method': 'multiplicative', 'strength': 1.0, 'first_value_only': True, 'threshold': 1}, '3': {'lag_1': 1440, 'method': 20}}\") in model 1119 in generation 8: UnobservedComponents\n",
      "Model Number: 1120 with model AverageValueNaive in generation 8 of 20\n",
      "Model Number: 1121 with model ARDL in generation 8 of 20\n",
      "Model Number: 1122 with model SeasonalNaive in generation 8 of 20\n",
      "Model Number: 1123 with model AverageValueNaive in generation 8 of 20\n",
      "Template Eval Error: Exception(\"Transformer BKBandpassFilter failed on inverse from params fake_date {'0': {}, '1': {}, '2': {'low': 6, 'high': 32, 'K': 25, 'lanczos_factor': False, 'return_diff': False, 'on_transform': False, 'on_inverse': True}}\") in model 1123 in generation 8: AverageValueNaive\n",
      "Model Number: 1124 with model ARIMA in generation 8 of 20\n",
      "Model Number: 1125 with model UnobservedComponents in generation 8 of 20\n",
      "Template Eval Error: Exception(\"Transformer BTCD failed on fit from params akima {'0': {'rows': 1, 'lag': 1, 'method': 'additive', 'strength': 0.9, 'first_value_only': False, 'threshold': 1}, '1': {}, '2': {'regression_model': {'model': 'FastRidge', 'model_params': {}}, 'max_lags': 2}, '3': {}}\") in model 1125 in generation 8: UnobservedComponents\n",
      "Model Number: 1126 with model ARIMA in generation 8 of 20\n",
      "Template Eval Error: Exception(\"Transformer ReplaceConstant failed on fit from params cubic {'0': {'method': 'clip', 'std_threshold': 3, 'fillna': None}, '1': {'model': 'GLS', 'phi': 1, 'window': None, 'transform_dict': None}, '2': {}, '3': {}, '4': {'constant': 0, 'reintroduction_model': {'model': 'xgboost', 'model_params': {'booster': 'gbtree', 'max_depth': 3, 'eta': 0.003, 'min_child_weight': 2, 'subsample': 1, 'colsample_bylevel': 1, 'reg_alpha': 0, 'reg_lambda': 1, 'n_estimators': 4}, 'datepart_method': 'simple_poly'}, 'fillna': 'linear'}}\") in model 1126 in generation 8: ARIMA\n",
      "Model Number: 1127 with model WindowRegression in generation 8 of 20\n",
      "Model Number: 1128 with model AverageValueNaive in generation 8 of 20\n",
      "Model Number: 1129 with model ARIMA in generation 8 of 20\n",
      "Model Number: 1130 with model WindowRegression in generation 8 of 20\n",
      "Model Number: 1131 with model SeasonalNaive in generation 8 of 20\n",
      "Model Number: 1132 with model WindowRegression in generation 8 of 20\n",
      "Template Eval Error: ModuleNotFoundError(\"No module named 'lightgbm'\") in model 1132 in generation 8: WindowRegression\n",
      "Model Number: 1133 with model ARIMA in generation 8 of 20\n",
      "Model Number: 1134 with model MultivariateMotif in generation 8 of 20\n",
      "Model Number: 1135 with model Theta in generation 8 of 20\n",
      "Model Number: 1136 with model ETS in generation 8 of 20\n",
      "Template Eval Error: Exception(\"Transformer AlignLastValue failed on inverse from params ffill {'0': {'rows': 2, 'lag': 2, 'method': 'additive', 'strength': 1.0, 'first_value_only': True, 'threshold': 10}, '1': {}, '2': {'rows': 1, 'lag': 1, 'method': 'additive', 'strength': 1.0, 'first_value_only': False, 'threshold': 1}, '3': {'rows': 1, 'lag': 1, 'method': 'additive', 'strength': 1.0, 'first_value_only': False, 'threshold': 1}}\") in model 1136 in generation 8: ETS\n",
      "Model Number: 1137 with model Cassandra in generation 8 of 20\n",
      "Template Eval Error: ValueError('more than 1 year of data is required for holiday detection.') in model 1137 in generation 8: Cassandra\n",
      "Model Number: 1138 with model Cassandra in generation 8 of 20\n"
     ]
    },
    {
     "name": "stderr",
     "output_type": "stream",
     "text": [
      "C:\\Users\\moham\\AppData\\Local\\Packages\\PythonSoftwareFoundation.Python.3.12_qbz5n2kfra8p0\\LocalCache\\local-packages\\Python312\\site-packages\\numpy\\lib\\function_base.py:2897: RuntimeWarning: invalid value encountered in divide\n",
      "  c /= stddev[:, None]\n",
      "C:\\Users\\moham\\AppData\\Local\\Packages\\PythonSoftwareFoundation.Python.3.12_qbz5n2kfra8p0\\LocalCache\\local-packages\\Python312\\site-packages\\numpy\\lib\\function_base.py:2898: RuntimeWarning: invalid value encountered in divide\n",
      "  c /= stddev[None, :]\n"
     ]
    },
    {
     "name": "stdout",
     "output_type": "stream",
     "text": [
      "Model Number: 1139 with model LastValueNaive in generation 8 of 20\n",
      "Model Number: 1140 with model MultivariateMotif in generation 8 of 20\n",
      "Model Number: 1141 with model ARIMA in generation 8 of 20\n",
      "Model Number: 1142 with model LastValueNaive in generation 8 of 20\n",
      "Model Number: 1143 with model ARDL in generation 8 of 20\n",
      "Template Eval Error: ValueError(\"ARDL series Close failed with error IndexError('tuple index out of range') exog train None and predict None\") in model 1143 in generation 8: ARDL\n",
      "Model Number: 1144 with model Theta in generation 8 of 20\n",
      "Model Number: 1145 with model MultivariateMotif in generation 8 of 20\n",
      "Model Number: 1146 with model MultivariateRegression in generation 8 of 20\n",
      "Model Number: 1147 with model ARDL in generation 8 of 20\n",
      "Model Number: 1148 with model GLS in generation 8 of 20\n",
      "Model Number: 1149 with model AverageValueNaive in generation 8 of 20\n",
      "Model Number: 1150 with model LastValueNaive in generation 8 of 20\n",
      "Model Number: 1151 with model NVAR in generation 8 of 20\n",
      "Model Number: 1152 with model SectionalMotif in generation 8 of 20\n",
      "Model Number: 1153 with model MultivariateMotif in generation 8 of 20\n",
      "Model Number: 1154 with model MetricMotif in generation 8 of 20\n",
      "Model Number: 1155 with model SectionalMotif in generation 8 of 20\n",
      "Model Number: 1156 with model Cassandra in generation 8 of 20\n"
     ]
    },
    {
     "name": "stderr",
     "output_type": "stream",
     "text": [
      "C:\\Users\\moham\\AppData\\Local\\Packages\\PythonSoftwareFoundation.Python.3.12_qbz5n2kfra8p0\\LocalCache\\local-packages\\Python312\\site-packages\\sklearn\\neighbors\\_classification.py:238: DataConversionWarning: A column-vector y was passed when a 1d array was expected. Please change the shape of y to (n_samples,), for example using ravel().\n",
      "  return self._fit(X, y)\n"
     ]
    },
    {
     "name": "stdout",
     "output_type": "stream",
     "text": [
      "Template Eval Error: Exception(\"Transformer RegressionFilter failed on fit from params ffill {'0': {'method': 'rolling_zscore', 'method_params': {'distribution': 'gamma', 'alpha': 0.2, 'rolling_periods': 28, 'center': True}, 'fillna': 'ffill', 'transform_dict': None, 'isolated_only': False}, '1': {}, '2': {'sigma': 2, 'rolling_window': 90, 'run_order': 'season_first', 'regression_params': {'regression_model': {'model': 'ElasticNet', 'model_params': {'l1_ratio': 0.5, 'fit_intercept': True, 'selection': 'cyclic'}}, 'datepart_method': 'expanded_binarized', 'polynomial_degree': None, 'transform_dict': {'fillna': None, 'transformations': {'0': 'ScipyFilter'}, 'transformation_params': {'0': {'method': 'savgol_filter', 'method_args': {'window_length': 31, 'polyorder': 3, 'deriv': 0, 'mode': 'interp'}}}}, 'holiday_countries_used': False}, 'holiday_params': None, 'trend_method': 'rolling_mean'}, '3': {'sigma': 3, 'rolling_window': 90, 'run_order': 'trend_first', 'regression_params': {'regression_model': {'model': 'DecisionTree', 'model_params': {'max_depth': None, 'min_samples_split': 1.0}}, 'datepart_method': 'recurring', 'polynomial_degree': None, 'transform_dict': {'fillna': None, 'transformations': {'0': 'AnomalyRemoval'}, 'transformation_params': {'0': {'method': 'zscore', 'transform_dict': {'transformations': {'0': 'DatepartRegression'}, 'transformation_params': {'0': {'datepart_method': 'simple_3', 'regression_model': {'model': 'ElasticNet', 'model_params': {}}}}}, 'method_params': {'distribution': 'uniform', 'alpha': 0.05}}}}, 'holiday_countries_used': False}, 'holiday_params': None, 'trend_method': 'local_linear'}}\") in model 1156 in generation 8: Cassandra\n",
      "Model Number: 1157 with model UnobservedComponents in generation 8 of 20\n",
      "Model Number: 1158 with model Cassandra in generation 8 of 20\n"
     ]
    },
    {
     "name": "stderr",
     "output_type": "stream",
     "text": [
      "C:\\Users\\moham\\AppData\\Local\\Packages\\PythonSoftwareFoundation.Python.3.12_qbz5n2kfra8p0\\LocalCache\\local-packages\\Python312\\site-packages\\numpy\\lib\\function_base.py:2897: RuntimeWarning: invalid value encountered in divide\n",
      "  c /= stddev[:, None]\n",
      "C:\\Users\\moham\\AppData\\Local\\Packages\\PythonSoftwareFoundation.Python.3.12_qbz5n2kfra8p0\\LocalCache\\local-packages\\Python312\\site-packages\\numpy\\lib\\function_base.py:2898: RuntimeWarning: invalid value encountered in divide\n",
      "  c /= stddev[None, :]\n"
     ]
    },
    {
     "name": "stdout",
     "output_type": "stream",
     "text": [
      "Model Number: 1159 with model WindowRegression in generation 8 of 20\n",
      "Model Number: 1160 with model WindowRegression in generation 8 of 20\n",
      "Model Number: 1161 with model MultivariateRegression in generation 8 of 20\n",
      "Model Number: 1162 with model Theta in generation 8 of 20\n",
      "Model Number: 1163 with model AverageValueNaive in generation 8 of 20\n",
      "Model Number: 1164 with model MultivariateRegression in generation 8 of 20\n",
      "Model Number: 1165 with model MultivariateRegression in generation 8 of 20\n",
      "Model Number: 1166 with model UnobservedComponents in generation 8 of 20\n",
      "Template Eval Error: ValueError('Model UnobservedComponents returned NaN for one or more series. fail_on_forecast_nan=True') in model 1166 in generation 8: UnobservedComponents\n",
      "Model Number: 1167 with model Theta in generation 8 of 20\n",
      "Model Number: 1168 with model LastValueNaive in generation 8 of 20\n",
      "Model Number: 1169 with model ARDL in generation 8 of 20\n",
      "Template Eval Error: Exception(\"Transformer FastICA failed on fit from params rolling_mean {'0': {'output_distribution': 'normal', 'n_quantiles': 20}, '1': {}, '2': {'fixed': True, 'window': 28, 'macro_micro': True, 'center': True}, '3': {'algorithm': 'deflation', 'fun': 'exp', 'max_iter': 500, 'whiten': True}, '4': {'decomp_type': 'STL', 'part': 'trend', 'seasonal': 363}}\") in model 1169 in generation 8: ARDL\n",
      "Model Number: 1170 with model WindowRegression in generation 8 of 20\n",
      "Model Number: 1171 with model MultivariateMotif in generation 8 of 20\n",
      "Model Number: 1172 with model NVAR in generation 8 of 20\n",
      "Model Number: 1173 with model AverageValueNaive in generation 8 of 20\n",
      "Model Number: 1174 with model ARIMA in generation 8 of 20\n",
      "Model Number: 1175 with model ARIMA in generation 8 of 20\n",
      "Model Number: 1176 with model Theta in generation 8 of 20\n",
      "Model Number: 1177 with model ARIMA in generation 8 of 20\n",
      "Model Number: 1178 with model MultivariateMotif in generation 8 of 20\n",
      "Model Number: 1179 with model SeasonalNaive in generation 8 of 20\n",
      "Model Number: 1180 with model DatepartRegression in generation 8 of 20\n",
      "Model Number: 1181 with model SeasonalityMotif in generation 8 of 20\n",
      "Model Number: 1182 with model Cassandra in generation 8 of 20\n",
      "Model Number: 1183 with model AverageValueNaive in generation 8 of 20\n",
      "Model Number: 1184 with model ConstantNaive in generation 8 of 20\n",
      "Model Number: 1185 with model ARDL in generation 8 of 20\n"
     ]
    },
    {
     "name": "stderr",
     "output_type": "stream",
     "text": [
      "C:\\Users\\moham\\AppData\\Local\\Packages\\PythonSoftwareFoundation.Python.3.12_qbz5n2kfra8p0\\LocalCache\\local-packages\\Python312\\site-packages\\numpy\\lib\\function_base.py:2897: RuntimeWarning: invalid value encountered in divide\n",
      "  c /= stddev[:, None]\n",
      "C:\\Users\\moham\\AppData\\Local\\Packages\\PythonSoftwareFoundation.Python.3.12_qbz5n2kfra8p0\\LocalCache\\local-packages\\Python312\\site-packages\\numpy\\lib\\function_base.py:2898: RuntimeWarning: invalid value encountered in divide\n",
      "  c /= stddev[None, :]\n"
     ]
    },
    {
     "name": "stdout",
     "output_type": "stream",
     "text": [
      "Model Number: 1186 with model MultivariateRegression in generation 8 of 20\n",
      "Model Number: 1187 with model MultivariateRegression in generation 8 of 20\n",
      "Model Number: 1188 with model AverageValueNaive in generation 8 of 20\n",
      "Template Eval Error: Exception(\"Transformer BKBandpassFilter failed on inverse from params fake_date {'0': {}, '1': {}, '2': {'low': 6, 'high': 32, 'K': 25, 'lanczos_factor': False, 'return_diff': False, 'on_transform': False, 'on_inverse': True}}\") in model 1188 in generation 8: AverageValueNaive\n",
      "Model Number: 1189 with model Theta in generation 8 of 20\n",
      "Model Number: 1190 with model LastValueNaive in generation 8 of 20\n",
      "Model Number: 1191 with model SeasonalNaive in generation 8 of 20\n",
      "Model Number: 1192 with model MultivariateMotif in generation 8 of 20\n",
      "Model Number: 1193 with model MetricMotif in generation 8 of 20\n",
      "Model Number: 1194 with model NVAR in generation 8 of 20\n",
      "Model Number: 1195 with model UnobservedComponents in generation 8 of 20\n",
      "Model Number: 1196 with model LastValueNaive in generation 8 of 20\n",
      "Template Eval Error: Exception(\"Transformer Cointegration failed on fit from params cubic {'0': {}, '1': {'det_order': 1, 'k_ar_diff': 0}, '2': {'rows': 1, 'lag': 1, 'method': 'additive', 'strength': 1.0, 'first_value_only': False, 'threshold': 10}, '3': {'rows': 1, 'lag': 1, 'method': 'additive', 'strength': 1.0, 'first_value_only': False, 'threshold': 1}}\") in model 1196 in generation 8: LastValueNaive\n",
      "Model Number: 1197 with model WindowRegression in generation 8 of 20\n",
      "Template Eval Error: ModuleNotFoundError(\"No module named 'xgboost'\") in model 1197 in generation 8: WindowRegression\n",
      "Model Number: 1198 with model SeasonalNaive in generation 8 of 20\n",
      "Model Number: 1199 with model SeasonalityMotif in generation 8 of 20\n",
      "Model Number: 1200 with model NVAR in generation 8 of 20\n",
      "Model Number: 1201 with model LastValueNaive in generation 8 of 20\n",
      "Template Eval Error: Exception(\"Transformer AlignLastValue failed on inverse from params rolling_mean_24 {'0': {}, '1': {'rows': 1, 'lag': 1, 'method': 'additive', 'strength': 1.0, 'first_value_only': True, 'threshold': None}}\") in model 1201 in generation 8: LastValueNaive\n",
      "Model Number: 1202 with model ARIMA in generation 8 of 20\n",
      "Model Number: 1203 with model SectionalMotif in generation 8 of 20\n",
      "Model Number: 1204 with model Cassandra in generation 8 of 20\n",
      "Model Number: 1205 with model RRVAR in generation 8 of 20\n"
     ]
    },
    {
     "name": "stderr",
     "output_type": "stream",
     "text": [
      "C:\\Users\\moham\\AppData\\Local\\Packages\\PythonSoftwareFoundation.Python.3.12_qbz5n2kfra8p0\\LocalCache\\local-packages\\Python312\\site-packages\\numpy\\lib\\function_base.py:2897: RuntimeWarning: invalid value encountered in divide\n",
      "  c /= stddev[:, None]\n",
      "C:\\Users\\moham\\AppData\\Local\\Packages\\PythonSoftwareFoundation.Python.3.12_qbz5n2kfra8p0\\LocalCache\\local-packages\\Python312\\site-packages\\numpy\\lib\\function_base.py:2898: RuntimeWarning: invalid value encountered in divide\n",
      "  c /= stddev[None, :]\n",
      "C:\\Users\\moham\\AppData\\Local\\Packages\\PythonSoftwareFoundation.Python.3.12_qbz5n2kfra8p0\\LocalCache\\local-packages\\Python312\\site-packages\\autots\\tools\\transform.py:5472: FutureWarning: Downcasting object dtype arrays on .fillna, .ffill, .bfill is deprecated and will change in a future version. Call result.infer_objects(copy=False) instead. To opt-in to the future behavior, set `pd.set_option('future.no_silent_downcasting', True)`\n",
      "  df = df.fillna(0)\n",
      "C:\\Users\\moham\\AppData\\Local\\Packages\\PythonSoftwareFoundation.Python.3.12_qbz5n2kfra8p0\\LocalCache\\local-packages\\Python312\\site-packages\\autots\\tools\\transform.py:5472: FutureWarning: Downcasting object dtype arrays on .fillna, .ffill, .bfill is deprecated and will change in a future version. Call result.infer_objects(copy=False) instead. To opt-in to the future behavior, set `pd.set_option('future.no_silent_downcasting', True)`\n",
      "  df = df.fillna(0)\n"
     ]
    },
    {
     "name": "stdout",
     "output_type": "stream",
     "text": [
      "Model Number: 1206 with model DMD in generation 8 of 20\n",
      "Template Eval Error: Exception(\"Transformer Cointegration failed on fit from params ffill {'0': {'constant': 0, 'reintroduction_model': {'model': 'KNN', 'model_params': {'n_neighbors': 5, 'weights': 'distance', 'p': 2, 'leaf_size': 30}, 'datepart_method': [52, 'quarter']}, 'fillna': 'mean'}, '1': {'det_order': -1, 'k_ar_diff': 1}, '2': {'rows': 1, 'lag': 1, 'method': 'additive', 'strength': 0.2, 'first_value_only': False, 'threshold': 1}}\") in model 1206 in generation 8: DMD\n",
      "Model Number: 1207 with model MultivariateRegression in generation 8 of 20\n"
     ]
    },
    {
     "name": "stderr",
     "output_type": "stream",
     "text": [
      "C:\\Users\\moham\\AppData\\Local\\Packages\\PythonSoftwareFoundation.Python.3.12_qbz5n2kfra8p0\\LocalCache\\local-packages\\Python312\\site-packages\\sklearn\\neighbors\\_classification.py:238: DataConversionWarning: A column-vector y was passed when a 1d array was expected. Please change the shape of y to (n_samples,), for example using ravel().\n",
      "  return self._fit(X, y)\n"
     ]
    },
    {
     "name": "stdout",
     "output_type": "stream",
     "text": [
      "Model Number: 1208 with model ARIMA in generation 8 of 20\n",
      "Model Number: 1209 with model ARDL in generation 8 of 20\n",
      "New Generation: 9 of 20\n",
      "Model Number: 1210 with model SectionalMotif in generation 9 of 20\n",
      "Model Number: 1211 with model ARDL in generation 9 of 20\n",
      "Model Number: 1212 with model NVAR in generation 9 of 20\n",
      "Template Eval Error: Exception(\"Transformer SeasonalDifference failed on fit from params ffill {'0': {}, '1': {'lag_1': 364, 'method': 20}, '2': {'rows': 1, 'lag': 1, 'method': 'additive', 'strength': 1.0, 'first_value_only': False, 'threshold': 1}, '3': {'window_size': 90, 'alpha': 3.0, 'grouping_forward_limit': 3, 'max_level_shifts': 30, 'alignment': 'average'}}\") in model 1212 in generation 9: NVAR\n",
      "Model Number: 1213 with model MultivariateRegression in generation 9 of 20\n",
      "Model Number: 1214 with model ARDL in generation 9 of 20\n",
      "Model Number: 1215 with model SeasonalNaive in generation 9 of 20\n",
      "Template Eval Error: Exception(\"Transformer AlignLastValue failed on inverse from params zero {'0': {'rows': 1, 'lag': 1, 'method': 'additive', 'strength': 1.0, 'first_value_only': True, 'threshold': 10}, '1': {}, '2': {'model': 'Poisson', 'phi': 1, 'window': None, 'transform_dict': None}, '3': {'span': 28}, '4': {'rows': 4, 'displacement_rows': 1, 'quantile': 1.0, 'decay_span': None}}\") in model 1215 in generation 9: SeasonalNaive\n",
      "Model Number: 1216 with model ETS in generation 9 of 20\n",
      "Model Number: 1217 with model ETS in generation 9 of 20\n",
      "Model Number: 1218 with model Theta in generation 9 of 20\n",
      "Model Number: 1219 with model SeasonalNaive in generation 9 of 20\n",
      "Model Number: 1220 with model Theta in generation 9 of 20\n",
      "Model Number: 1221 with model MultivariateRegression in generation 9 of 20\n",
      "Model Number: 1222 with model Cassandra in generation 9 of 20\n"
     ]
    },
    {
     "name": "stderr",
     "output_type": "stream",
     "text": [
      "C:\\Users\\moham\\AppData\\Local\\Packages\\PythonSoftwareFoundation.Python.3.12_qbz5n2kfra8p0\\LocalCache\\local-packages\\Python312\\site-packages\\numpy\\lib\\function_base.py:2897: RuntimeWarning: invalid value encountered in divide\n",
      "  c /= stddev[:, None]\n",
      "C:\\Users\\moham\\AppData\\Local\\Packages\\PythonSoftwareFoundation.Python.3.12_qbz5n2kfra8p0\\LocalCache\\local-packages\\Python312\\site-packages\\numpy\\lib\\function_base.py:2898: RuntimeWarning: invalid value encountered in divide\n",
      "  c /= stddev[None, :]\n"
     ]
    },
    {
     "name": "stdout",
     "output_type": "stream",
     "text": [
      "Model Number: 1223 with model MultivariateRegression in generation 9 of 20\n",
      "Template Eval Error: ValueError(\"regression_type='User' but not future_regressor supplied.\") in model 1223 in generation 9: MultivariateRegression\n",
      "Model Number: 1224 with model AverageValueNaive in generation 9 of 20\n",
      "Model Number: 1225 with model ARDL in generation 9 of 20\n",
      "Template Eval Error: Exception(\"Transformer AlignLastValue failed on inverse from params rolling_mean_24 {'0': {'rows': 1, 'lag': 1, 'method': 'additive', 'strength': 1.0, 'first_value_only': True, 'threshold': None}, '1': {}, '2': {'lag_1': 13, 'method': 20}, '3': {'method': 'butter', 'method_args': {'N': 7, 'btype': 'highpass', 'analog': False, 'output': 'sos', 'Wn': 0.08333333333333333}}}\") in model 1225 in generation 9: ARDL\n",
      "Model Number: 1226 with model Theta in generation 9 of 20\n",
      "Model Number: 1227 with model NVAR in generation 9 of 20\n",
      "Model Number: 1228 with model SeasonalNaive in generation 9 of 20\n",
      "Model Number: 1229 with model ARIMA in generation 9 of 20\n",
      "Model Number: 1230 with model NVAR in generation 9 of 20\n",
      "Model Number: 1231 with model MetricMotif in generation 9 of 20\n",
      "Model Number: 1232 with model ConstantNaive in generation 9 of 20\n",
      "Model Number: 1233 with model LastValueNaive in generation 9 of 20\n",
      "Model Number: 1234 with model DMD in generation 9 of 20\n",
      "Model Number: 1235 with model ARIMA in generation 9 of 20\n",
      "Model Number: 1236 with model LastValueNaive in generation 9 of 20\n",
      "Model Number: 1237 with model LastValueNaive in generation 9 of 20\n",
      "Model Number: 1238 with model Theta in generation 9 of 20\n",
      "Model Number: 1239 with model SeasonalNaive in generation 9 of 20\n",
      "Model Number: 1240 with model AverageValueNaive in generation 9 of 20\n",
      "Model Number: 1241 with model MultivariateMotif in generation 9 of 20\n",
      "Model Number: 1242 with model Cassandra in generation 9 of 20\n",
      "Model Number: 1243 with model MultivariateMotif in generation 9 of 20\n",
      "Model Number: 1244 with model DMD in generation 9 of 20\n",
      "Model Number: 1245 with model Theta in generation 9 of 20\n"
     ]
    },
    {
     "name": "stderr",
     "output_type": "stream",
     "text": [
      "C:\\Users\\moham\\AppData\\Local\\Packages\\PythonSoftwareFoundation.Python.3.12_qbz5n2kfra8p0\\LocalCache\\local-packages\\Python312\\site-packages\\numpy\\lib\\function_base.py:2897: RuntimeWarning: invalid value encountered in divide\n",
      "  c /= stddev[:, None]\n",
      "C:\\Users\\moham\\AppData\\Local\\Packages\\PythonSoftwareFoundation.Python.3.12_qbz5n2kfra8p0\\LocalCache\\local-packages\\Python312\\site-packages\\numpy\\lib\\function_base.py:2898: RuntimeWarning: invalid value encountered in divide\n",
      "  c /= stddev[None, :]\n",
      "C:\\Users\\moham\\AppData\\Local\\Packages\\PythonSoftwareFoundation.Python.3.12_qbz5n2kfra8p0\\LocalCache\\local-packages\\Python312\\site-packages\\autots\\tools\\transform.py:5472: FutureWarning: Downcasting object dtype arrays on .fillna, .ffill, .bfill is deprecated and will change in a future version. Call result.infer_objects(copy=False) instead. To opt-in to the future behavior, set `pd.set_option('future.no_silent_downcasting', True)`\n",
      "  df = df.fillna(0)\n",
      "C:\\Users\\moham\\AppData\\Local\\Packages\\PythonSoftwareFoundation.Python.3.12_qbz5n2kfra8p0\\LocalCache\\local-packages\\Python312\\site-packages\\autots\\tools\\transform.py:5472: FutureWarning: Downcasting object dtype arrays on .fillna, .ffill, .bfill is deprecated and will change in a future version. Call result.infer_objects(copy=False) instead. To opt-in to the future behavior, set `pd.set_option('future.no_silent_downcasting', True)`\n",
      "  df = df.fillna(0)\n"
     ]
    },
    {
     "name": "stdout",
     "output_type": "stream",
     "text": [
      "Model Number: 1246 with model ARIMA in generation 9 of 20\n",
      "Model Number: 1247 with model LastValueNaive in generation 9 of 20\n",
      "Model Number: 1248 with model MetricMotif in generation 9 of 20\n",
      "Model Number: 1249 with model GLS in generation 9 of 20\n",
      "Template Eval Error: Exception(\"Transformer BTCD failed on fit from params ffill_mean_biased {'0': {'rows': 1, 'lag': 1, 'method': 'additive', 'strength': 0.9, 'first_value_only': False, 'threshold': 1}, '1': {'regression_model': {'model': 'FastRidge', 'model_params': {}}, 'max_lags': 1}, '2': {'rows': 1, 'lag': 1, 'method': 'additive', 'strength': 0.9, 'first_value_only': False, 'threshold': 1}, '3': {'method': 'butter', 'method_args': {'N': 4, 'window_size': 24, 'btype': 'lowpass', 'analog': False, 'output': 'sos'}}, '4': {'model': 'GLS', 'phi': 1, 'window': None, 'transform_dict': {'fillna': None, 'transformations': {'0': 'EWMAFilter'}, 'transformation_params': {'0': {'span': 2}}}}}\") in model 1249 in generation 9: GLS\n",
      "Model Number: 1250 with model UnobservedComponents in generation 9 of 20\n",
      "Model Number: 1251 with model UnobservedComponents in generation 9 of 20\n",
      "Template Eval Error: Exception(\"Transformer Cointegration failed on fit from params zero {'0': {'whiten': False}, '1': {'det_order': 1, 'k_ar_diff': 0}, '2': {}, '3': {}}\") in model 1251 in generation 9: UnobservedComponents\n",
      "Model Number: 1252 with model ARIMA in generation 9 of 20\n",
      "Model Number: 1253 with model WindowRegression in generation 9 of 20\n",
      "Model Number: 1254 with model Theta in generation 9 of 20\n",
      "Model Number: 1255 with model DMD in generation 9 of 20\n",
      "Model Number: 1256 with model DMD in generation 9 of 20\n",
      "Model Number: 1257 with model NVAR in generation 9 of 20\n",
      "Model Number: 1258 with model ARDL in generation 9 of 20\n"
     ]
    },
    {
     "name": "stderr",
     "output_type": "stream",
     "text": [
      "C:\\Users\\moham\\AppData\\Local\\Packages\\PythonSoftwareFoundation.Python.3.12_qbz5n2kfra8p0\\LocalCache\\local-packages\\Python312\\site-packages\\sklearn\\linear_model\\_coordinate_descent.py:678: ConvergenceWarning: Objective did not converge. You might want to increase the number of iterations, check the scale of the features or consider increasing regularisation. Duality gap: 3.093e+03, tolerance: 7.774e+00\n",
      "  model = cd_fast.enet_coordinate_descent(\n",
      "C:\\Users\\moham\\AppData\\Local\\Packages\\PythonSoftwareFoundation.Python.3.12_qbz5n2kfra8p0\\LocalCache\\local-packages\\Python312\\site-packages\\autots\\tools\\transform.py:5472: FutureWarning: Downcasting object dtype arrays on .fillna, .ffill, .bfill is deprecated and will change in a future version. Call result.infer_objects(copy=False) instead. To opt-in to the future behavior, set `pd.set_option('future.no_silent_downcasting', True)`\n",
      "  df = df.fillna(0)\n",
      "C:\\Users\\moham\\AppData\\Local\\Packages\\PythonSoftwareFoundation.Python.3.12_qbz5n2kfra8p0\\LocalCache\\local-packages\\Python312\\site-packages\\autots\\tools\\transform.py:5472: FutureWarning: Downcasting object dtype arrays on .fillna, .ffill, .bfill is deprecated and will change in a future version. Call result.infer_objects(copy=False) instead. To opt-in to the future behavior, set `pd.set_option('future.no_silent_downcasting', True)`\n",
      "  df = df.fillna(0)\n"
     ]
    },
    {
     "name": "stdout",
     "output_type": "stream",
     "text": [
      "Model Number: 1259 with model ARIMA in generation 9 of 20\n",
      "Model Number: 1260 with model ARDL in generation 9 of 20\n",
      "Model Number: 1261 with model ARIMA in generation 9 of 20\n",
      "Model Number: 1262 with model NVAR in generation 9 of 20\n",
      "Model Number: 1263 with model UnobservedComponents in generation 9 of 20\n",
      "Template Eval Error: ValueError(\"regression_type='User' but no future_regressor supplied\") in model 1263 in generation 9: UnobservedComponents\n",
      "Model Number: 1264 with model SectionalMotif in generation 9 of 20\n",
      "Model Number: 1265 with model MultivariateRegression in generation 9 of 20\n",
      "Model Number: 1266 with model ConstantNaive in generation 9 of 20\n",
      "Model Number: 1267 with model ARIMA in generation 9 of 20\n"
     ]
    },
    {
     "name": "stderr",
     "output_type": "stream",
     "text": [
      "C:\\Users\\moham\\AppData\\Local\\Packages\\PythonSoftwareFoundation.Python.3.12_qbz5n2kfra8p0\\LocalCache\\local-packages\\Python312\\site-packages\\autots\\tools\\transform.py:5472: FutureWarning: Downcasting object dtype arrays on .fillna, .ffill, .bfill is deprecated and will change in a future version. Call result.infer_objects(copy=False) instead. To opt-in to the future behavior, set `pd.set_option('future.no_silent_downcasting', True)`\n",
      "  df = df.fillna(0)\n",
      "C:\\Users\\moham\\AppData\\Local\\Packages\\PythonSoftwareFoundation.Python.3.12_qbz5n2kfra8p0\\LocalCache\\local-packages\\Python312\\site-packages\\autots\\tools\\transform.py:5472: FutureWarning: Downcasting object dtype arrays on .fillna, .ffill, .bfill is deprecated and will change in a future version. Call result.infer_objects(copy=False) instead. To opt-in to the future behavior, set `pd.set_option('future.no_silent_downcasting', True)`\n",
      "  df = df.fillna(0)\n"
     ]
    },
    {
     "name": "stdout",
     "output_type": "stream",
     "text": [
      "Model Number: 1268 with model ARIMA in generation 9 of 20\n",
      "Model Number: 1269 with model ARDL in generation 9 of 20\n",
      "Model Number: 1270 with model UnivariateMotif in generation 9 of 20\n",
      "Model Number: 1271 with model WindowRegression in generation 9 of 20\n",
      "Template Eval Error: ModuleNotFoundError(\"No module named 'lightgbm'\") in model 1271 in generation 9: WindowRegression\n",
      "Model Number: 1272 with model UnobservedComponents in generation 9 of 20\n",
      "Model Number: 1273 with model SectionalMotif in generation 9 of 20\n",
      "Model Number: 1274 with model UnobservedComponents in generation 9 of 20\n",
      "Model Number: 1275 with model Theta in generation 9 of 20\n",
      "Model Number: 1276 with model WindowRegression in generation 9 of 20\n",
      "Template Eval Error: Exception(\"Transformer AlignLastValue failed on inverse from params time {'0': {}, '1': {}, '2': {'rows': 1, 'lag': 1, 'method': 'additive', 'strength': 0.7, 'first_value_only': False, 'threshold': None}, '3': {'threshold': 0.9, 'splash_threshold': None, 'use_dayofmonth_holidays': True, 'use_wkdom_holidays': True, 'use_wkdeom_holidays': False, 'use_lunar_holidays': False, 'use_lunar_weekday': True, 'use_islamic_holidays': False, 'use_hebrew_holidays': False, 'anomaly_detector_params': {'method': 'zscore', 'method_params': {'distribution': 'chi2', 'alpha': 0.03}, 'fillna': 'rolling_mean_24', 'transform_dict': None, 'isolated_only': False}, 'remove_excess_anomalies': True, 'impact': 'median_value', 'regression_params': {}}, '4': {'rows': 1, 'lag': 7, 'method': 'additive', 'strength': 1.0, 'first_value_only': True, 'threshold': 10}}\") in model 1276 in generation 9: WindowRegression\n",
      "Model Number: 1277 with model Cassandra in generation 9 of 20\n",
      "Template Eval Error: ValueError(\"regression_type='User' but future_regressor not supplied\") in model 1277 in generation 9: Cassandra\n",
      "Model Number: 1278 with model LastValueNaive in generation 9 of 20\n",
      "Template Eval Error: Exception(\"Transformer FastICA failed on fit from params fake_date {'0': {}, '1': {'window_size': 30, 'alpha': 4.0, 'grouping_forward_limit': 4, 'max_level_shifts': 10, 'alignment': 'last_value'}, '2': {'algorithm': 'deflation', 'fun': 'logcosh', 'max_iter': 250, 'whiten': True}}\") in model 1278 in generation 9: LastValueNaive\n",
      "Model Number: 1279 with model SectionalMotif in generation 9 of 20\n",
      "Model Number: 1280 with model MultivariateMotif in generation 9 of 20\n",
      "Model Number: 1281 with model ConstantNaive in generation 9 of 20\n",
      "Model Number: 1282 with model MultivariateRegression in generation 9 of 20"
     ]
    },
    {
     "name": "stderr",
     "output_type": "stream",
     "text": [
      "C:\\Users\\moham\\AppData\\Local\\Packages\\PythonSoftwareFoundation.Python.3.12_qbz5n2kfra8p0\\LocalCache\\local-packages\\Python312\\site-packages\\numpy\\lib\\function_base.py:2897: RuntimeWarning: invalid value encountered in divide\n",
      "  c /= stddev[:, None]\n",
      "C:\\Users\\moham\\AppData\\Local\\Packages\\PythonSoftwareFoundation.Python.3.12_qbz5n2kfra8p0\\LocalCache\\local-packages\\Python312\\site-packages\\numpy\\lib\\function_base.py:2898: RuntimeWarning: invalid value encountered in divide\n",
      "  c /= stddev[None, :]\n"
     ]
    },
    {
     "name": "stdout",
     "output_type": "stream",
     "text": [
      "\n",
      "Model Number: 1283 with model Cassandra in generation 9 of 20\n",
      "Model Number: 1284 with model Cassandra in generation 9 of 20\n",
      "Model Number: 1285 with model MetricMotif in generation 9 of 20\n"
     ]
    },
    {
     "name": "stderr",
     "output_type": "stream",
     "text": [
      "C:\\Users\\moham\\AppData\\Local\\Packages\\PythonSoftwareFoundation.Python.3.12_qbz5n2kfra8p0\\LocalCache\\local-packages\\Python312\\site-packages\\numpy\\lib\\function_base.py:2897: RuntimeWarning: invalid value encountered in divide\n",
      "  c /= stddev[:, None]\n",
      "C:\\Users\\moham\\AppData\\Local\\Packages\\PythonSoftwareFoundation.Python.3.12_qbz5n2kfra8p0\\LocalCache\\local-packages\\Python312\\site-packages\\numpy\\lib\\function_base.py:2898: RuntimeWarning: invalid value encountered in divide\n",
      "  c /= stddev[None, :]\n",
      "C:\\Users\\moham\\AppData\\Local\\Packages\\PythonSoftwareFoundation.Python.3.12_qbz5n2kfra8p0\\LocalCache\\local-packages\\Python312\\site-packages\\sklearn\\linear_model\\_ridge.py:204: LinAlgWarning: Ill-conditioned matrix (rcond=4.74746e-25): result may not be accurate.\n",
      "  return linalg.solve(A, Xy, assume_a=\"pos\", overwrite_a=True).T\n",
      "C:\\Users\\moham\\AppData\\Local\\Packages\\PythonSoftwareFoundation.Python.3.12_qbz5n2kfra8p0\\LocalCache\\local-packages\\Python312\\site-packages\\numpy\\lib\\function_base.py:2897: RuntimeWarning: invalid value encountered in divide\n",
      "  c /= stddev[:, None]\n",
      "C:\\Users\\moham\\AppData\\Local\\Packages\\PythonSoftwareFoundation.Python.3.12_qbz5n2kfra8p0\\LocalCache\\local-packages\\Python312\\site-packages\\numpy\\lib\\function_base.py:2898: RuntimeWarning: invalid value encountered in divide\n",
      "  c /= stddev[None, :]\n"
     ]
    },
    {
     "name": "stdout",
     "output_type": "stream",
     "text": [
      "Model Number: 1286 with model ConstantNaive in generation 9 of 20\n",
      "Model Number: 1287 with model WindowRegression in generation 9 of 20\n",
      "Template Eval Error: ModuleNotFoundError(\"No module named 'xgboost'\") in model 1287 in generation 9: WindowRegression\n",
      "Model Number: 1288 with model GLS in generation 9 of 20\n",
      "Model Number: 1289 with model MetricMotif in generation 9 of 20\n",
      "Model Number: 1290 with model RRVAR in generation 9 of 20\n",
      "Model Number: 1291 with model LastValueNaive in generation 9 of 20\n",
      "Model Number: 1292 with model SectionalMotif in generation 9 of 20\n",
      "Model Number: 1293 with model SectionalMotif in generation 9 of 20\n",
      "Model Number: 1294 with model SeasonalityMotif in generation 9 of 20\n",
      "Model Number: 1295 with model NVAR in generation 9 of 20\n",
      "Model Number: 1296 with model Theta in generation 9 of 20\n",
      "Model Number: 1297 with model LastValueNaive in generation 9 of 20\n",
      "Model Number: 1298 with model WindowRegression in generation 9 of 20\n",
      "Template Eval Error: ValueError(\"regression_type='User' but no future_regressor passed\") in model 1298 in generation 9: WindowRegression\n",
      "Model Number: 1299 with model Cassandra in generation 9 of 20\n"
     ]
    },
    {
     "name": "stderr",
     "output_type": "stream",
     "text": [
      "C:\\Users\\moham\\AppData\\Local\\Packages\\PythonSoftwareFoundation.Python.3.12_qbz5n2kfra8p0\\LocalCache\\local-packages\\Python312\\site-packages\\numpy\\lib\\function_base.py:2897: RuntimeWarning: invalid value encountered in divide\n",
      "  c /= stddev[:, None]\n",
      "C:\\Users\\moham\\AppData\\Local\\Packages\\PythonSoftwareFoundation.Python.3.12_qbz5n2kfra8p0\\LocalCache\\local-packages\\Python312\\site-packages\\numpy\\lib\\function_base.py:2898: RuntimeWarning: invalid value encountered in divide\n",
      "  c /= stddev[None, :]\n"
     ]
    },
    {
     "name": "stdout",
     "output_type": "stream",
     "text": [
      "Model Number: 1300 with model LastValueNaive in generation 9 of 20\n",
      "Model Number: 1301 with model WindowRegression in generation 9 of 20\n",
      "Template Eval Error: Exception(\"Transformer Cointegration failed on fit from params fake_date {'0': {'rows': 1, 'lag': 1, 'method': 'additive', 'strength': 0.9, 'first_value_only': False, 'threshold': 1}, '1': {'model': 'Linear', 'phi': 1, 'window': None, 'transform_dict': {'fillna': 'ffill', 'transformations': {'0': 'ClipOutliers'}, 'transformation_params': {'0': {'method': 'clip', 'std_threshold': 4, 'fillna': None}}}}, '2': {'det_order': -1, 'k_ar_diff': 1}, '3': {}}\") in model 1301 in generation 9: WindowRegression\n",
      "Model Number: 1302 with model MultivariateRegression in generation 9 of 20\n",
      "Template Eval Error: ValueError('Some value(s) of y are negative which is not allowed for Poisson regression.') in model 1302 in generation 9: MultivariateRegression\n",
      "Model Number: 1303 with model NVAR in generation 9 of 20\n",
      "Model Number: 1304 with model AverageValueNaive in generation 9 of 20\n",
      "Model Number: 1305 with model AverageValueNaive in generation 9 of 20\n",
      "Model Number: 1306 with model Theta in generation 9 of 20\n",
      "Model Number: 1307 with model SeasonalityMotif in generation 9 of 20\n",
      "Template Eval Error: Exception(\"Transformer AlignLastValue failed on inverse from params rolling_mean {'0': {'rows': 1, 'lag': 1, 'method': 'additive', 'strength': 1.0, 'first_value_only': True, 'threshold': None}, '1': {}}\") in model 1307 in generation 9: SeasonalityMotif\n",
      "Model Number: 1308 with model SeasonalityMotif in generation 9 of 20\n",
      "Model Number: 1309 with model NVAR in generation 9 of 20\n",
      "Model Number: 1310 with model SeasonalNaive in generation 9 of 20\n",
      "Model Number: 1311 with model SeasonalNaive in generation 9 of 20\n",
      "Model Number: 1312 with model WindowRegression in generation 9 of 20\n",
      "Model Number: 1313 with model AverageValueNaive in generation 9 of 20\n",
      "Model Number: 1314 with model ARIMA in generation 9 of 20\n",
      "Model Number: 1315 with model MultivariateMotif in generation 9 of 20\n",
      "Model Number: 1316 with model ConstantNaive in generation 9 of 20\n",
      "Model Number: 1317 with model AverageValueNaive in generation 9 of 20\n",
      "Model Number: 1318 with model MultivariateRegression in generation 9 of 20\n",
      "Template Eval Error: ModuleNotFoundError(\"No module named 'lightgbm'\") in model 1318 in generation 9: MultivariateRegression\n",
      "Model Number: 1319 with model NVAR in generation 9 of 20\n",
      "Model Number: 1320 with model SeasonalNaive in generation 9 of 20\n",
      "Model Number: 1321 with model SeasonalNaive in generation 9 of 20\n",
      "Template Eval Error: Exception(\"Transformer AlignLastValue failed on inverse from params fake_date {'0': {'window_size': 30, 'alpha': 3.0, 'grouping_forward_limit': 2, 'max_level_shifts': 10, 'alignment': 'rolling_diff_3nn'}, '1': {}, '2': {'rows': 7, 'lag': 7, 'method': 'additive', 'strength': 1.0, 'first_value_only': True, 'threshold': 10}}\") in model 1321 in generation 9: SeasonalNaive\n",
      "New Generation: 10 of 20\n",
      "Model Number: 1322 with model AverageValueNaive in generation 10 of 20\n",
      "Model Number: 1323 with model WindowRegression in generation 10 of 20\n",
      "Model Number: 1324 with model AverageValueNaive in generation 10 of 20\n",
      "Model Number: 1325 with model UnobservedComponents in generation 10 of 20\n",
      "Model Number: 1326 with model SectionalMotif in generation 10 of 20\n",
      "Model Number: 1327 with model SeasonalNaive in generation 10 of 20\n",
      "Model Number: 1328 with model DMD in generation 10 of 20\n",
      "Model Number: 1329 with model AverageValueNaive in generation 10 of 20\n",
      "Template Eval Error: Exception(\"Transformer AlignLastValue failed on inverse from params mean {'0': {}, '1': {}, '2': {'discretization': 'upper', 'n_bins': 5}, '3': {'rows': 7, 'lag': 1, 'method': 'additive', 'strength': 1.0, 'first_value_only': True, 'threshold': 1}, '4': {}, '5': {'rows': 7, 'lag': 1, 'method': 'additive', 'strength': 1.0, 'first_value_only': False, 'threshold': 10}}\") in model 1329 in generation 10: AverageValueNaive\n",
      "Model Number: 1330 with model Cassandra in generation 10 of 20\n"
     ]
    },
    {
     "name": "stderr",
     "output_type": "stream",
     "text": [
      "C:\\Users\\moham\\AppData\\Local\\Packages\\PythonSoftwareFoundation.Python.3.12_qbz5n2kfra8p0\\LocalCache\\local-packages\\Python312\\site-packages\\sklearn\\neighbors\\_classification.py:238: DataConversionWarning: A column-vector y was passed when a 1d array was expected. Please change the shape of y to (n_samples,), for example using ravel().\n",
      "  return self._fit(X, y)\n",
      "C:\\Users\\moham\\AppData\\Local\\Packages\\PythonSoftwareFoundation.Python.3.12_qbz5n2kfra8p0\\LocalCache\\local-packages\\Python312\\site-packages\\numpy\\lib\\function_base.py:2897: RuntimeWarning: invalid value encountered in divide\n",
      "  c /= stddev[:, None]\n",
      "C:\\Users\\moham\\AppData\\Local\\Packages\\PythonSoftwareFoundation.Python.3.12_qbz5n2kfra8p0\\LocalCache\\local-packages\\Python312\\site-packages\\numpy\\lib\\function_base.py:2898: RuntimeWarning: invalid value encountered in divide\n",
      "  c /= stddev[None, :]\n"
     ]
    },
    {
     "name": "stdout",
     "output_type": "stream",
     "text": [
      "Model Number: 1331 with model ConstantNaive in generation 10 of 20\n",
      "Model Number: 1332 with model NVAR in generation 10 of 20\n",
      "Model Number: 1333 with model MultivariateRegression in generation 10 of 20\n",
      "Template Eval Error: ValueError(\"regression_type='User' but not future_regressor supplied.\") in model 1333 in generation 10: MultivariateRegression\n",
      "Model Number: 1334 with model ARIMA in generation 10 of 20\n",
      "Template Eval Error: ValueError(\"regression_type='User' but future_regressor not supplied\") in model 1334 in generation 10: ARIMA\n",
      "Model Number: 1335 with model SectionalMotif in generation 10 of 20\n",
      "Model Number: 1336 with model SeasonalNaive in generation 10 of 20\n",
      "Model Number: 1337 with model SectionalMotif in generation 10 of 20\n",
      "Model Number: 1338 with model DMD in generation 10 of 20\n"
     ]
    },
    {
     "name": "stderr",
     "output_type": "stream",
     "text": [
      "C:\\Users\\moham\\AppData\\Local\\Packages\\PythonSoftwareFoundation.Python.3.12_qbz5n2kfra8p0\\LocalCache\\local-packages\\Python312\\site-packages\\autots\\tools\\transform.py:5472: FutureWarning: Downcasting object dtype arrays on .fillna, .ffill, .bfill is deprecated and will change in a future version. Call result.infer_objects(copy=False) instead. To opt-in to the future behavior, set `pd.set_option('future.no_silent_downcasting', True)`\n",
      "  df = df.fillna(0)\n",
      "C:\\Users\\moham\\AppData\\Local\\Packages\\PythonSoftwareFoundation.Python.3.12_qbz5n2kfra8p0\\LocalCache\\local-packages\\Python312\\site-packages\\autots\\tools\\transform.py:5472: FutureWarning: Downcasting object dtype arrays on .fillna, .ffill, .bfill is deprecated and will change in a future version. Call result.infer_objects(copy=False) instead. To opt-in to the future behavior, set `pd.set_option('future.no_silent_downcasting', True)`\n",
      "  df = df.fillna(0)\n",
      "C:\\Users\\moham\\AppData\\Local\\Packages\\PythonSoftwareFoundation.Python.3.12_qbz5n2kfra8p0\\LocalCache\\local-packages\\Python312\\site-packages\\autots\\tools\\transform.py:1007: FutureWarning: The behavior of DataFrame concatenation with empty or all-NA entries is deprecated. In a future version, this will no longer exclude empty or all-NA columns when determining the result dtypes. To retain the old behavior, exclude the relevant entries before the concat operation.\n",
      "  df = pd.concat([self.last_rolling, df], axis=0).astype(float)\n",
      "C:\\Users\\moham\\AppData\\Local\\Packages\\PythonSoftwareFoundation.Python.3.12_qbz5n2kfra8p0\\LocalCache\\local-packages\\Python312\\site-packages\\autots\\tools\\transform.py:1007: FutureWarning: The behavior of DataFrame concatenation with empty or all-NA entries is deprecated. In a future version, this will no longer exclude empty or all-NA columns when determining the result dtypes. To retain the old behavior, exclude the relevant entries before the concat operation.\n",
      "  df = pd.concat([self.last_rolling, df], axis=0).astype(float)\n"
     ]
    },
    {
     "name": "stdout",
     "output_type": "stream",
     "text": [
      "Model Number: 1339 with model WindowRegression in generation 10 of 20\n",
      "Template Eval Error: ValueError(\"Some value(s) of y are out of the valid range of the loss 'HalfPoissonLoss'.\") in model 1339 in generation 10: WindowRegression\n",
      "Model Number: 1340 with model MultivariateMotif in generation 10 of 20\n",
      "Model Number: 1341 with model LastValueNaive in generation 10 of 20\n",
      "Model Number: 1342 with model AverageValueNaive in generation 10 of 20\n",
      "Template Eval Error: Exception(\"Transformer FastICA failed on fit from params time {'0': {'rows': 1, 'lag': 1, 'method': 'additive', 'strength': 0.9, 'first_value_only': False, 'threshold': 1}, '1': {'model': 'Linear', 'phi': 1, 'window': None, 'transform_dict': {'fillna': None, 'transformations': {'0': 'EWMAFilter'}, 'transformation_params': {'0': {'span': 2}}}}, '2': {'algorithm': 'deflation', 'fun': 'cube', 'max_iter': 100, 'whiten': True}, '3': {}}\") in model 1342 in generation 10: AverageValueNaive\n",
      "Model Number: 1343 with model SectionalMotif in generation 10 of 20\n",
      "Model Number: 1344 with model Cassandra in generation 10 of 20\n",
      "Model Number: 1345 with model ConstantNaive in generation 10 of 20\n"
     ]
    },
    {
     "name": "stderr",
     "output_type": "stream",
     "text": [
      "C:\\Users\\moham\\AppData\\Local\\Packages\\PythonSoftwareFoundation.Python.3.12_qbz5n2kfra8p0\\LocalCache\\local-packages\\Python312\\site-packages\\autots\\tools\\transform.py:5472: FutureWarning: Downcasting object dtype arrays on .fillna, .ffill, .bfill is deprecated and will change in a future version. Call result.infer_objects(copy=False) instead. To opt-in to the future behavior, set `pd.set_option('future.no_silent_downcasting', True)`\n",
      "  df = df.fillna(0)\n",
      "C:\\Users\\moham\\AppData\\Local\\Packages\\PythonSoftwareFoundation.Python.3.12_qbz5n2kfra8p0\\LocalCache\\local-packages\\Python312\\site-packages\\autots\\tools\\transform.py:5472: FutureWarning: Downcasting object dtype arrays on .fillna, .ffill, .bfill is deprecated and will change in a future version. Call result.infer_objects(copy=False) instead. To opt-in to the future behavior, set `pd.set_option('future.no_silent_downcasting', True)`\n",
      "  df = df.fillna(0)\n",
      "C:\\Users\\moham\\AppData\\Local\\Packages\\PythonSoftwareFoundation.Python.3.12_qbz5n2kfra8p0\\LocalCache\\local-packages\\Python312\\site-packages\\numpy\\lib\\function_base.py:2897: RuntimeWarning: invalid value encountered in divide\n",
      "  c /= stddev[:, None]\n",
      "C:\\Users\\moham\\AppData\\Local\\Packages\\PythonSoftwareFoundation.Python.3.12_qbz5n2kfra8p0\\LocalCache\\local-packages\\Python312\\site-packages\\numpy\\lib\\function_base.py:2898: RuntimeWarning: invalid value encountered in divide\n",
      "  c /= stddev[None, :]\n"
     ]
    },
    {
     "name": "stdout",
     "output_type": "stream",
     "text": [
      "Model Number: 1346 with model SeasonalityMotif in generation 10 of 20\n",
      "Model Number: 1347 with model Theta in generation 10 of 20\n",
      "Model Number: 1348 with model ARIMA in generation 10 of 20\n"
     ]
    },
    {
     "name": "stderr",
     "output_type": "stream",
     "text": [
      "C:\\Users\\moham\\AppData\\Local\\Packages\\PythonSoftwareFoundation.Python.3.12_qbz5n2kfra8p0\\LocalCache\\local-packages\\Python312\\site-packages\\autots\\tools\\transform.py:5472: FutureWarning: Downcasting object dtype arrays on .fillna, .ffill, .bfill is deprecated and will change in a future version. Call result.infer_objects(copy=False) instead. To opt-in to the future behavior, set `pd.set_option('future.no_silent_downcasting', True)`\n",
      "  df = df.fillna(0)\n",
      "C:\\Users\\moham\\AppData\\Local\\Packages\\PythonSoftwareFoundation.Python.3.12_qbz5n2kfra8p0\\LocalCache\\local-packages\\Python312\\site-packages\\autots\\tools\\transform.py:5472: FutureWarning: Downcasting object dtype arrays on .fillna, .ffill, .bfill is deprecated and will change in a future version. Call result.infer_objects(copy=False) instead. To opt-in to the future behavior, set `pd.set_option('future.no_silent_downcasting', True)`\n",
      "  df = df.fillna(0)\n"
     ]
    },
    {
     "name": "stdout",
     "output_type": "stream",
     "text": [
      "Model Number: 1349 with model SeasonalityMotif in generation 10 of 20\n",
      "Model Number: 1350 with model ConstantNaive in generation 10 of 20\n"
     ]
    },
    {
     "name": "stderr",
     "output_type": "stream",
     "text": [
      "C:\\Users\\moham\\AppData\\Local\\Packages\\PythonSoftwareFoundation.Python.3.12_qbz5n2kfra8p0\\LocalCache\\local-packages\\Python312\\site-packages\\autots\\tools\\transform.py:5472: FutureWarning: Downcasting object dtype arrays on .fillna, .ffill, .bfill is deprecated and will change in a future version. Call result.infer_objects(copy=False) instead. To opt-in to the future behavior, set `pd.set_option('future.no_silent_downcasting', True)`\n",
      "  df = df.fillna(0)\n",
      "C:\\Users\\moham\\AppData\\Local\\Packages\\PythonSoftwareFoundation.Python.3.12_qbz5n2kfra8p0\\LocalCache\\local-packages\\Python312\\site-packages\\autots\\tools\\transform.py:5472: FutureWarning: Downcasting object dtype arrays on .fillna, .ffill, .bfill is deprecated and will change in a future version. Call result.infer_objects(copy=False) instead. To opt-in to the future behavior, set `pd.set_option('future.no_silent_downcasting', True)`\n",
      "  df = df.fillna(0)\n"
     ]
    },
    {
     "name": "stdout",
     "output_type": "stream",
     "text": [
      "Model Number: 1351 with model MultivariateMotif in generation 10 of 20\n",
      "Model Number: 1352 with model Theta in generation 10 of 20\n",
      "Model Number: 1353 with model Theta in generation 10 of 20\n",
      "Model Number: 1354 with model NVAR in generation 10 of 20\n",
      "Model Number: 1355 with model Theta in generation 10 of 20\n",
      "Model Number: 1356 with model WindowRegression in generation 10 of 20\n",
      "Model Number: 1357 with model DMD in generation 10 of 20\n",
      "Model Number: 1358 with model AverageValueNaive in generation 10 of 20\n",
      "Model Number: 1359 with model ARDL in generation 10 of 20\n",
      "Model Number: 1360 with model Theta in generation 10 of 20\n",
      "Model Number: 1361 with model ConstantNaive in generation 10 of 20\n"
     ]
    },
    {
     "name": "stderr",
     "output_type": "stream",
     "text": [
      "C:\\Users\\moham\\AppData\\Local\\Packages\\PythonSoftwareFoundation.Python.3.12_qbz5n2kfra8p0\\LocalCache\\local-packages\\Python312\\site-packages\\autots\\tools\\transform.py:5472: FutureWarning: Downcasting object dtype arrays on .fillna, .ffill, .bfill is deprecated and will change in a future version. Call result.infer_objects(copy=False) instead. To opt-in to the future behavior, set `pd.set_option('future.no_silent_downcasting', True)`\n",
      "  df = df.fillna(0)\n",
      "C:\\Users\\moham\\AppData\\Local\\Packages\\PythonSoftwareFoundation.Python.3.12_qbz5n2kfra8p0\\LocalCache\\local-packages\\Python312\\site-packages\\autots\\tools\\transform.py:5472: FutureWarning: Downcasting object dtype arrays on .fillna, .ffill, .bfill is deprecated and will change in a future version. Call result.infer_objects(copy=False) instead. To opt-in to the future behavior, set `pd.set_option('future.no_silent_downcasting', True)`\n",
      "  df = df.fillna(0)\n"
     ]
    },
    {
     "name": "stdout",
     "output_type": "stream",
     "text": [
      "Model Number: 1362 with model SeasonalNaive in generation 10 of 20\n",
      "Model Number: 1363 with model ConstantNaive in generation 10 of 20\n",
      "Model Number: 1364 with model WindowRegression in generation 10 of 20\n",
      "Model Number: 1365 with model AverageValueNaive in generation 10 of 20\n",
      "Model Number: 1366 with model SeasonalNaive in generation 10 of 20\n",
      "Template Eval Error: Exception(\"Transformer Cointegration failed on fit from params time {'0': {'rows': 1, 'lag': 1, 'method': 'additive', 'strength': 0.9, 'first_value_only': False, 'threshold': 1}, '1': {'model': 'Linear', 'phi': 1, 'window': None, 'transform_dict': {'fillna': None, 'transformations': {'0': 'EWMAFilter'}, 'transformation_params': {'0': {'span': 2}}}}, '2': {'rows': 1, 'lag': 1, 'method': 'additive', 'strength': 1.0, 'first_value_only': True, 'threshold': 1}, '3': {'window': None}, '4': {'det_order': -1, 'k_ar_diff': 2}}\") in model 1366 in generation 10: SeasonalNaive\n",
      "Model Number: 1367 with model ARIMA in generation 10 of 20\n",
      "Model Number: 1368 with model ARIMA in generation 10 of 20\n",
      "Model Number: 1369 with model ARDL in generation 10 of 20\n",
      "Model Number: 1370 with model UnobservedComponents in generation 10 of 20\n",
      "Model Number: 1371 with model MultivariateMotif in generation 10 of 20\n",
      "Model Number: 1372 with model WindowRegression in generation 10 of 20\n",
      "Template Eval Error: ValueError(\"regression_type='User' but no future_regressor passed\") in model 1372 in generation 10: WindowRegression\n",
      "Model Number: 1373 with model LastValueNaive in generation 10 of 20\n",
      "Model Number: 1374 with model Theta in generation 10 of 20\n",
      "Model Number: 1375 with model ConstantNaive in generation 10 of 20\n",
      "Template Eval Error: ValueError(\"Model returned NaN due to a preprocessing transformer {'fillna': 'ffill_mean_biased', 'transformations': {'0': 'DifferencedTransformer', '1': 'AlignLastValue', '2': 'AlignLastValue', '3': 'AlignLastDiff', '4': 'MaxAbsScaler'}, 'transformation_params': {'0': {'lag': 1, 'fill': 'bfill'}, '1': {'rows': 1, 'lag': 1, 'method': 'additive', 'strength': 1.0, 'first_value_only': False, 'threshold': 1}, '2': {'rows': 1, 'lag': 1, 'method': 'multiplicative', 'strength': 1.0, 'first_value_only': False, 'threshold': None}, '3': {'rows': 1, 'displacement_rows': 1, 'quantile': 1.0, 'decay_span': None}, '4': {}}}. fail_on_forecast_nan=True\") in model 1375 in generation 10: ConstantNaive\n",
      "Model Number: 1376 with model Theta in generation 10 of 20\n"
     ]
    },
    {
     "name": "stderr",
     "output_type": "stream",
     "text": [
      "C:\\Users\\moham\\AppData\\Local\\Packages\\PythonSoftwareFoundation.Python.3.12_qbz5n2kfra8p0\\LocalCache\\local-packages\\Python312\\site-packages\\autots\\tools\\transform.py:5472: FutureWarning: Downcasting object dtype arrays on .fillna, .ffill, .bfill is deprecated and will change in a future version. Call result.infer_objects(copy=False) instead. To opt-in to the future behavior, set `pd.set_option('future.no_silent_downcasting', True)`\n",
      "  df = df.fillna(0)\n",
      "C:\\Users\\moham\\AppData\\Local\\Packages\\PythonSoftwareFoundation.Python.3.12_qbz5n2kfra8p0\\LocalCache\\local-packages\\Python312\\site-packages\\autots\\tools\\transform.py:5472: FutureWarning: Downcasting object dtype arrays on .fillna, .ffill, .bfill is deprecated and will change in a future version. Call result.infer_objects(copy=False) instead. To opt-in to the future behavior, set `pd.set_option('future.no_silent_downcasting', True)`\n",
      "  df = df.fillna(0)\n",
      "C:\\Users\\moham\\AppData\\Local\\Packages\\PythonSoftwareFoundation.Python.3.12_qbz5n2kfra8p0\\LocalCache\\local-packages\\Python312\\site-packages\\autots\\tools\\transform.py:1489: FutureWarning: The behavior of DataFrame concatenation with empty or all-NA entries is deprecated. In a future version, this will no longer exclude empty or all-NA columns when determining the result dtypes. To retain the old behavior, exclude the relevant entries before the concat operation.\n",
      "  df_with_last = pd.concat([self.last_values, df])\n",
      "C:\\Users\\moham\\AppData\\Local\\Packages\\PythonSoftwareFoundation.Python.3.12_qbz5n2kfra8p0\\LocalCache\\local-packages\\Python312\\site-packages\\autots\\tools\\transform.py:1489: FutureWarning: The behavior of DataFrame concatenation with empty or all-NA entries is deprecated. In a future version, this will no longer exclude empty or all-NA columns when determining the result dtypes. To retain the old behavior, exclude the relevant entries before the concat operation.\n",
      "  df_with_last = pd.concat([self.last_values, df])\n"
     ]
    },
    {
     "name": "stdout",
     "output_type": "stream",
     "text": [
      "Model Number: 1377 with model AverageValueNaive in generation 10 of 20\n",
      "Model Number: 1378 with model Theta in generation 10 of 20\n",
      "Model Number: 1379 with model MultivariateRegression in generation 10 of 20\n",
      "Model Number: 1380 with model MultivariateRegression in generation 10 of 20\n",
      "Model Number: 1381 with model MultivariateMotif in generation 10 of 20\n"
     ]
    },
    {
     "name": "stderr",
     "output_type": "stream",
     "text": [
      "C:\\Users\\moham\\AppData\\Local\\Packages\\PythonSoftwareFoundation.Python.3.12_qbz5n2kfra8p0\\LocalCache\\local-packages\\Python312\\site-packages\\autots\\tools\\transform.py:5472: FutureWarning: Downcasting object dtype arrays on .fillna, .ffill, .bfill is deprecated and will change in a future version. Call result.infer_objects(copy=False) instead. To opt-in to the future behavior, set `pd.set_option('future.no_silent_downcasting', True)`\n",
      "  df = df.fillna(0)\n",
      "C:\\Users\\moham\\AppData\\Local\\Packages\\PythonSoftwareFoundation.Python.3.12_qbz5n2kfra8p0\\LocalCache\\local-packages\\Python312\\site-packages\\autots\\tools\\transform.py:5472: FutureWarning: Downcasting object dtype arrays on .fillna, .ffill, .bfill is deprecated and will change in a future version. Call result.infer_objects(copy=False) instead. To opt-in to the future behavior, set `pd.set_option('future.no_silent_downcasting', True)`\n",
      "  df = df.fillna(0)\n"
     ]
    },
    {
     "name": "stdout",
     "output_type": "stream",
     "text": [
      "Template Eval Error: Exception(\"Transformer RegressionFilter failed on fit from params ffill {'0': {'rows': 1, 'lag': 1, 'method': 'multiplicative', 'strength': 1.0, 'first_value_only': False, 'threshold': 10}, '1': {'sigma': 1, 'rolling_window': 90, 'run_order': 'trend_first', 'regression_params': {'regression_model': {'model': 'ElasticNet', 'model_params': {'l1_ratio': 0.5, 'fit_intercept': True, 'selection': 'cyclic'}}, 'datepart_method': [7, 365.25], 'polynomial_degree': None, 'transform_dict': {'fillna': None, 'transformations': {'0': 'AnomalyRemoval'}, 'transformation_params': {'0': {'method': 'zscore', 'transform_dict': {'transformations': {'0': 'DatepartRegression'}, 'transformation_params': {'0': {'datepart_method': 'simple_3', 'regression_model': {'model': 'ElasticNet', 'model_params': {}}}}}, 'method_params': {'distribution': 'uniform', 'alpha': 0.05}}}}, 'holiday_countries_used': False}, 'holiday_params': {'threshold': 0.9, 'splash_threshold': None, 'use_dayofmonth_holidays': True, 'use_wkdom_holidays': True, 'use_wkdeom_holidays': False, 'use_lunar_holidays': False, 'use_lunar_weekday': False, 'use_islamic_holidays': True, 'use_hebrew_holidays': False, 'anomaly_detector_params': {'method': 'mad', 'method_params': {'distribution': 'norm', 'alpha': 0.05}, 'fillna': 'rolling_mean_24', 'transform_dict': None, 'isolated_only': True}, 'remove_excess_anomalies': True, 'impact': 'datepart_regression', 'regression_params': {'regression_model': {'model': 'ElasticNet', 'model_params': {'l1_ratio': 0.5, 'fit_intercept': True, 'selection': 'cyclic'}}, 'datepart_method': [7, 365.25], 'polynomial_degree': None, 'transform_dict': {'fillna': None, 'transformations': {'0': 'AnomalyRemoval'}, 'transformation_params': {'0': {'method': 'zscore', 'transform_dict': {'transformations': {'0': 'DatepartRegression'}, 'transformation_params': {'0': {'datepart_method': 'simple_3', 'regression_model': {'model': 'ElasticNet', 'model_params': {}}}}}, 'method_params': {'distribution': 'uniform', 'alpha': 0.05}}}}, 'holiday_countries_used': False}}, 'trend_method': 'local_linear'}, '2': {'rows': 1, 'lag': 1, 'method': 'additive', 'strength': 0.7, 'first_value_only': False, 'threshold': 10}}\") in model 1381 in generation 10: MultivariateMotif\n",
      "Model Number: 1382 with model NVAR in generation 10 of 20\n",
      "Template Eval Error: Exception(\"Transformer StandardScaler failed on inverse from params zero {'0': {'rows': 1, 'lag': 1, 'method': 'additive', 'strength': 0.9, 'first_value_only': False, 'threshold': 1}, '1': {}, '2': {}}\") in model 1382 in generation 10: NVAR\n",
      "Model Number: 1383 with model Theta in generation 10 of 20\n",
      "Model Number: 1384 with model NVAR in generation 10 of 20\n",
      "Model Number: 1385 with model LastValueNaive in generation 10 of 20\n",
      "Model Number: 1386 with model AverageValueNaive in generation 10 of 20\n",
      "Template Eval Error: Exception(\"Transformer AlignLastValue failed on inverse from params fake_date {'0': {}, '1': {'rows': 1, 'lag': 1, 'method': 'additive', 'strength': 1.0, 'first_value_only': True, 'threshold': 10}, '2': {'rows': 1, 'lag': 1, 'method': 'additive', 'strength': 0.7, 'first_value_only': False, 'threshold': None}, '3': {'lag_1': 28, 'method': 2}}\") in model 1386 in generation 10: AverageValueNaive\n",
      "Model Number: 1387 with model NVAR in generation 10 of 20\n",
      "Model Number: 1388 with model LastValueNaive in generation 10 of 20\n",
      "Model Number: 1389 with model MultivariateMotif in generation 10 of 20\n",
      "Model Number: 1390 with model AverageValueNaive in generation 10 of 20\n"
     ]
    },
    {
     "name": "stderr",
     "output_type": "stream",
     "text": [
      "C:\\Users\\moham\\AppData\\Local\\Packages\\PythonSoftwareFoundation.Python.3.12_qbz5n2kfra8p0\\LocalCache\\local-packages\\Python312\\site-packages\\autots\\tools\\transform.py:5472: FutureWarning: Downcasting object dtype arrays on .fillna, .ffill, .bfill is deprecated and will change in a future version. Call result.infer_objects(copy=False) instead. To opt-in to the future behavior, set `pd.set_option('future.no_silent_downcasting', True)`\n",
      "  df = df.fillna(0)\n",
      "C:\\Users\\moham\\AppData\\Local\\Packages\\PythonSoftwareFoundation.Python.3.12_qbz5n2kfra8p0\\LocalCache\\local-packages\\Python312\\site-packages\\autots\\tools\\transform.py:5472: FutureWarning: Downcasting object dtype arrays on .fillna, .ffill, .bfill is deprecated and will change in a future version. Call result.infer_objects(copy=False) instead. To opt-in to the future behavior, set `pd.set_option('future.no_silent_downcasting', True)`\n",
      "  df = df.fillna(0)\n"
     ]
    },
    {
     "name": "stdout",
     "output_type": "stream",
     "text": [
      "Model Number: 1391 with model Theta in generation 10 of 20\n",
      "Model Number: 1392 with model ARDL in generation 10 of 20\n",
      "Model Number: 1393 with model ARIMA in generation 10 of 20\n",
      "Model Number: 1394 with model LastValueNaive in generation 10 of 20\n",
      "Model Number: 1395 with model ARDL in generation 10 of 20\n",
      "Template Eval Error: Exception(\"Transformer FastICA failed on fit from params rolling_mean {'0': {'rows': 4}, '1': {'algorithm': 'parallel', 'fun': 'cube', 'max_iter': 250, 'whiten': True}, '2': {'lag_1': 7, 'method': 'Mean'}}\") in model 1395 in generation 10: ARDL\n",
      "Model Number: 1396 with model Theta in generation 10 of 20\n",
      "Model Number: 1397 with model MultivariateMotif in generation 10 of 20\n",
      "Model Number: 1398 with model MultivariateMotif in generation 10 of 20\n",
      "Model Number: 1399 with model AverageValueNaive in generation 10 of 20\n",
      "Model Number: 1400 with model SeasonalityMotif in generation 10 of 20\n",
      "Model Number: 1401 with model Cassandra in generation 10 of 20\n",
      "Template Eval Error: ValueError('more than 1 year of data is required for holiday detection.') in model 1401 in generation 10: Cassandra\n",
      "Model Number: 1402 with model AverageValueNaive in generation 10 of 20\n",
      "Model Number: 1403 with model UnobservedComponents in generation 10 of 20\n"
     ]
    },
    {
     "name": "stderr",
     "output_type": "stream",
     "text": [
      "C:\\Users\\moham\\AppData\\Local\\Packages\\PythonSoftwareFoundation.Python.3.12_qbz5n2kfra8p0\\LocalCache\\local-packages\\Python312\\site-packages\\autots\\tools\\transform.py:5472: FutureWarning: Downcasting object dtype arrays on .fillna, .ffill, .bfill is deprecated and will change in a future version. Call result.infer_objects(copy=False) instead. To opt-in to the future behavior, set `pd.set_option('future.no_silent_downcasting', True)`\n",
      "  df = df.fillna(0)\n",
      "C:\\Users\\moham\\AppData\\Local\\Packages\\PythonSoftwareFoundation.Python.3.12_qbz5n2kfra8p0\\LocalCache\\local-packages\\Python312\\site-packages\\autots\\tools\\transform.py:5472: FutureWarning: Downcasting object dtype arrays on .fillna, .ffill, .bfill is deprecated and will change in a future version. Call result.infer_objects(copy=False) instead. To opt-in to the future behavior, set `pd.set_option('future.no_silent_downcasting', True)`\n",
      "  df = df.fillna(0)\n"
     ]
    },
    {
     "name": "stdout",
     "output_type": "stream",
     "text": [
      "Template Eval Error: Exception(\"Transformer BTCD failed on fit from params time {'0': {'lag': 2, 'fill': 'bfill'}, '1': {'method': 'clip', 'std_threshold': 5, 'fillna': None}, '2': {'regression_model': {'model': 'FastRidge', 'model_params': {}}, 'max_lags': 1}, '3': {'rows': 1, 'lag': 1, 'method': 'additive', 'strength': 1.0, 'first_value_only': False, 'threshold': 10}}\") in model 1403 in generation 10: UnobservedComponents\n",
      "Model Number: 1404 with model ARIMA in generation 10 of 20\n",
      "Model Number: 1405 with model ConstantNaive in generation 10 of 20\n",
      "New Generation: 11 of 20\n",
      "Model Number: 1406 with model UnobservedComponents in generation 11 of 20\n",
      "Model Number: 1407 with model ConstantNaive in generation 11 of 20\n",
      "Model Number: 1408 with model SeasonalNaive in generation 11 of 20\n",
      "Model Number: 1409 with model AverageValueNaive in generation 11 of 20\n",
      "Model Number: 1410 with model MultivariateMotif in generation 11 of 20\n",
      "Model Number: 1411 with model SeasonalityMotif in generation 11 of 20\n",
      "Model Number: 1412 with model MultivariateMotif in generation 11 of 20\n",
      "Model Number: 1413 with model ARDL in generation 11 of 20\n",
      "Model Number: 1414 with model AverageValueNaive in generation 11 of 20\n",
      "Model Number: 1415 with model ARIMA in generation 11 of 20\n",
      "Model Number: 1416 with model NVAR in generation 11 of 20\n",
      "Model Number: 1417 with model ConstantNaive in generation 11 of 20\n",
      "Model Number: 1418 with model Theta in generation 11 of 20\n",
      "Model Number: 1419 with model ARDL in generation 11 of 20\n",
      "Model Number: 1420 with model SectionalMotif in generation 11 of 20\n",
      "Model Number: 1421 with model UnobservedComponents in generation 11 of 20\n",
      "Model Number: 1422 with model WindowRegression in generation 11 of 20\n",
      "Template Eval Error: ModuleNotFoundError(\"No module named 'lightgbm'\") in model 1422 in generation 11: WindowRegression\n",
      "Model Number: 1423 with model AverageValueNaive in generation 11 of 20\n",
      "Model Number: 1424 with model NVAR in generation 11 of 20\n",
      "Model Number: 1425 with model UnobservedComponents in generation 11 of 20\n",
      "Model Number: 1426 with model AverageValueNaive in generation 11 of 20\n",
      "Model Number: 1427 with model NVAR in generation 11 of 20\n",
      "Model Number: 1428 with model ARIMA in generation 11 of 20\n",
      "Model Number: 1429 with model DatepartRegression in generation 11 of 20\n",
      "Model Number: 1430 with model SeasonalNaive in generation 11 of 20\n",
      "Model Number: 1431 with model SeasonalityMotif in generation 11 of 20\n",
      "Model Number: 1432 with model MultivariateMotif in generation 11 of 20\n",
      "Model Number: 1433 with model ARIMA in generation 11 of 20\n"
     ]
    },
    {
     "name": "stderr",
     "output_type": "stream",
     "text": [
      "C:\\Users\\moham\\AppData\\Local\\Packages\\PythonSoftwareFoundation.Python.3.12_qbz5n2kfra8p0\\LocalCache\\local-packages\\Python312\\site-packages\\sklearn\\neural_network\\_multilayer_perceptron.py:546: ConvergenceWarning: lbfgs failed to converge (status=1):\n",
      "STOP: TOTAL NO. of ITERATIONS REACHED LIMIT.\n",
      "\n",
      "Increase the number of iterations (max_iter) or scale the data as shown in:\n",
      "    https://scikit-learn.org/stable/modules/preprocessing.html\n",
      "  self.n_iter_ = _check_optimize_result(\"lbfgs\", opt_res, self.max_iter)\n"
     ]
    },
    {
     "name": "stdout",
     "output_type": "stream",
     "text": [
      "Model Number: 1434 with model Theta in generation 11 of 20\n",
      "Model Number: 1435 with model Theta in generation 11 of 20\n",
      "Model Number: 1436 with model LastValueNaive in generation 11 of 20\n",
      "Model Number: 1437 with model NVAR in generation 11 of 20\n",
      "Model Number: 1438 with model NVAR in generation 11 of 20\n",
      "Model Number: 1439 with model NVAR in generation 11 of 20\n",
      "Template Eval Error: ValueError('Model NVAR returned NaN for one or more series. fail_on_forecast_nan=True') in model 1439 in generation 11: NVAR\n",
      "Model Number: 1440 with model Theta in generation 11 of 20\n",
      "Model Number: 1441 with model Theta in generation 11 of 20\n",
      "Model Number: 1442 with model MetricMotif in generation 11 of 20\n",
      "Model Number: 1443 with model LastValueNaive in generation 11 of 20\n",
      "Model Number: 1444 with model ARIMA in generation 11 of 20\n",
      "Model Number: 1445 with model MultivariateRegression in generation 11 of 20\n",
      "Template Eval Error: ValueError(\"regression_type='User' but not future_regressor supplied.\") in model 1445 in generation 11: MultivariateRegression\n",
      "Model Number: 1446 with model WindowRegression in generation 11 of 20\n",
      "Model Number: 1447 with model Cassandra in generation 11 of 20\n",
      "Model Number: 1448 with model DMD in generation 11 of 20\n",
      "Model Number: 1449 with model SeasonalNaive in generation 11 of 20\n"
     ]
    },
    {
     "name": "stderr",
     "output_type": "stream",
     "text": [
      "C:\\Users\\moham\\AppData\\Local\\Packages\\PythonSoftwareFoundation.Python.3.12_qbz5n2kfra8p0\\LocalCache\\local-packages\\Python312\\site-packages\\numpy\\lib\\function_base.py:2897: RuntimeWarning: invalid value encountered in divide\n",
      "  c /= stddev[:, None]\n",
      "C:\\Users\\moham\\AppData\\Local\\Packages\\PythonSoftwareFoundation.Python.3.12_qbz5n2kfra8p0\\LocalCache\\local-packages\\Python312\\site-packages\\numpy\\lib\\function_base.py:2898: RuntimeWarning: invalid value encountered in divide\n",
      "  c /= stddev[None, :]\n"
     ]
    },
    {
     "name": "stdout",
     "output_type": "stream",
     "text": [
      "Model Number: 1450 with model AverageValueNaive in generation 11 of 20\n",
      "Model Number: 1451 with model ConstantNaive in generation 11 of 20\n",
      "Model Number: 1452 with model MultivariateRegression in generation 11 of 20\n",
      "Template Eval Error: ModuleNotFoundError(\"No module named 'xgboost'\") in model 1452 in generation 11: MultivariateRegression\n",
      "Model Number: 1453 with model MultivariateMotif in generation 11 of 20\n",
      "Model Number: 1454 with model LastValueNaive in generation 11 of 20\n",
      "Model Number: 1455 with model ARIMA in generation 11 of 20\n",
      "Template Eval Error: ValueError(\"regression_type='User' but future_regressor not supplied\") in model 1455 in generation 11: ARIMA\n",
      "Model Number: 1456 with model ARDL in generation 11 of 20\n",
      "Model Number: 1457 with model NVAR in generation 11 of 20\n",
      "Model Number: 1458 with model DatepartRegression in generation 11 of 20\n",
      "Model Number: 1459 with model SeasonalNaive in generation 11 of 20\n",
      "Model Number: 1460 with model Theta in generation 11 of 20\n",
      "Model Number: 1461 with model SeasonalityMotif in generation 11 of 20\n",
      "Model Number: 1462 with model Cassandra in generation 11 of 20\n"
     ]
    },
    {
     "name": "stderr",
     "output_type": "stream",
     "text": [
      "C:\\Users\\moham\\AppData\\Local\\Packages\\PythonSoftwareFoundation.Python.3.12_qbz5n2kfra8p0\\LocalCache\\local-packages\\Python312\\site-packages\\numpy\\lib\\function_base.py:2897: RuntimeWarning: invalid value encountered in divide\n",
      "  c /= stddev[:, None]\n",
      "C:\\Users\\moham\\AppData\\Local\\Packages\\PythonSoftwareFoundation.Python.3.12_qbz5n2kfra8p0\\LocalCache\\local-packages\\Python312\\site-packages\\numpy\\lib\\function_base.py:2898: RuntimeWarning: invalid value encountered in divide\n",
      "  c /= stddev[None, :]\n"
     ]
    },
    {
     "name": "stdout",
     "output_type": "stream",
     "text": [
      "Model Number: 1463 with model LastValueNaive in generation 11 of 20\n",
      "Model Number: 1464 with model UnobservedComponents in generation 11 of 20\n",
      "Template Eval Error: Exception(\"Transformer BTCD failed on fit from params akima {'0': {'regression_model': {'model': 'LinearRegression', 'model_params': {}}, 'max_lags': 2}, '1': {'decomp_type': 'seasonal_decompose', 'part': 'trend'}, '2': {}, '3': {'rows': 1, 'lag': 1, 'method': 'multiplicative', 'strength': 1.0, 'first_value_only': False, 'threshold': 10}, '4': {'method': 100}}\") in model 1464 in generation 11: UnobservedComponents\n",
      "Model Number: 1465 with model Theta in generation 11 of 20\n",
      "Model Number: 1466 with model WindowRegression in generation 11 of 20\n",
      "Model Number: 1467 with model AverageValueNaive in generation 11 of 20\n",
      "Model Number: 1468 with model ARIMA in generation 11 of 20\n",
      "Model Number: 1469 with model NVAR in generation 11 of 20\n"
     ]
    },
    {
     "name": "stderr",
     "output_type": "stream",
     "text": [
      "C:\\Users\\moham\\AppData\\Local\\Packages\\PythonSoftwareFoundation.Python.3.12_qbz5n2kfra8p0\\LocalCache\\local-packages\\Python312\\site-packages\\sklearn\\linear_model\\_coordinate_descent.py:2525: ConvergenceWarning: Objective did not converge. You might want to increase the number of iterations. Duality gap: 609.588623046875, tolerance: 69.06917572021484\n",
      "  ) = cd_fast.enet_coordinate_descent_multi_task(\n",
      "C:\\Users\\moham\\AppData\\Local\\Packages\\PythonSoftwareFoundation.Python.3.12_qbz5n2kfra8p0\\LocalCache\\local-packages\\Python312\\site-packages\\autots\\tools\\transform.py:5472: FutureWarning: Downcasting object dtype arrays on .fillna, .ffill, .bfill is deprecated and will change in a future version. Call result.infer_objects(copy=False) instead. To opt-in to the future behavior, set `pd.set_option('future.no_silent_downcasting', True)`\n",
      "  df = df.fillna(0)\n",
      "C:\\Users\\moham\\AppData\\Local\\Packages\\PythonSoftwareFoundation.Python.3.12_qbz5n2kfra8p0\\LocalCache\\local-packages\\Python312\\site-packages\\autots\\tools\\transform.py:5472: FutureWarning: Downcasting object dtype arrays on .fillna, .ffill, .bfill is deprecated and will change in a future version. Call result.infer_objects(copy=False) instead. To opt-in to the future behavior, set `pd.set_option('future.no_silent_downcasting', True)`\n",
      "  df = df.fillna(0)\n"
     ]
    },
    {
     "name": "stdout",
     "output_type": "stream",
     "text": [
      "Model Number: 1470 with model AverageValueNaive in generation 11 of 20\n",
      "Model Number: 1471 with model MultivariateRegression in generation 11 of 20\n",
      "Template Eval Error: ModuleNotFoundError(\"No module named 'xgboost'\") in model 1471 in generation 11: MultivariateRegression\n",
      "Model Number: 1472 with model Theta in generation 11 of 20\n",
      "Model Number: 1473 with model WindowRegression in generation 11 of 20\n",
      "Template Eval Error: Exception(\"Transformer AlignLastValue failed on inverse from params ffill {'0': {'rows': 1, 'lag': 1, 'method': 'additive', 'strength': 0.9, 'first_value_only': False, 'threshold': 1}, '1': {'model': 'Linear', 'phi': 1, 'window': None, 'transform_dict': {'fillna': None, 'transformations': {'0': 'EWMAFilter'}, 'transformation_params': {'0': {'span': 2}}}}, '2': {'model': 'Linear', 'phi': 1, 'window': None}, '3': {'rows': 1, 'lag': 1, 'method': 'additive', 'strength': 0.2, 'first_value_only': True, 'threshold': 1}}\") in model 1473 in generation 11: WindowRegression\n",
      "Model Number: 1474 with model LastValueNaive in generation 11 of 20\n",
      "Model Number: 1475 with model LastValueNaive in generation 11 of 20\n",
      "Model Number: 1476 with model SeasonalNaive in generation 11 of 20\n",
      "Model Number: 1477 with model UnobservedComponents in generation 11 of 20\n"
     ]
    },
    {
     "name": "stderr",
     "output_type": "stream",
     "text": [
      "C:\\Users\\moham\\AppData\\Local\\Packages\\PythonSoftwareFoundation.Python.3.12_qbz5n2kfra8p0\\LocalCache\\local-packages\\Python312\\site-packages\\sklearn\\decomposition\\_fastica.py:589: UserWarning: Ignoring n_components with whiten=False.\n",
      "  warnings.warn(\"Ignoring n_components with whiten=False.\")\n"
     ]
    },
    {
     "name": "stdout",
     "output_type": "stream",
     "text": [
      "Model Number: 1478 with model AverageValueNaive in generation 11 of 20\n",
      "Model Number: 1479 with model UnobservedComponents in generation 11 of 20\n",
      "Model Number: 1480 with model AverageValueNaive in generation 11 of 20\n",
      "Model Number: 1481 with model SeasonalNaive in generation 11 of 20\n",
      "Model Number: 1482 with model DMD in generation 11 of 20\n"
     ]
    },
    {
     "name": "stderr",
     "output_type": "stream",
     "text": [
      "C:\\Users\\moham\\AppData\\Local\\Packages\\PythonSoftwareFoundation.Python.3.12_qbz5n2kfra8p0\\LocalCache\\local-packages\\Python312\\site-packages\\sklearn\\decomposition\\_fastica.py:589: UserWarning: Ignoring n_components with whiten=False.\n",
      "  warnings.warn(\"Ignoring n_components with whiten=False.\")\n"
     ]
    },
    {
     "name": "stdout",
     "output_type": "stream",
     "text": [
      "Model Number: 1483 with model SectionalMotif in generation 11 of 20\n",
      "Model Number: 1484 with model AverageValueNaive in generation 11 of 20\n",
      "Template Eval Error: Exception(\"Transformer Cointegration failed on fit from params ffill_mean_biased {'0': {}, '1': {}, '2': {'det_order': 0, 'k_ar_diff': 1}}\") in model 1484 in generation 11: AverageValueNaive\n",
      "Model Number: 1485 with model SectionalMotif in generation 11 of 20\n",
      "Model Number: 1486 with model SectionalMotif in generation 11 of 20\n",
      "Template Eval Error: Exception(\"Transformer Cointegration failed on fit from params ffill {'0': {'span': 2}, '1': {'window_size': 7, 'alpha': 3.0, 'grouping_forward_limit': 3, 'max_level_shifts': 5, 'alignment': 'rolling_diff'}, '2': {'det_order': -1, 'k_ar_diff': 1}, '3': {'fixed': True, 'window': 7, 'macro_micro': False, 'center': True}}\") in model 1486 in generation 11: SectionalMotif\n",
      "Model Number: 1487 with model SectionalMotif in generation 11 of 20\n",
      "Model Number: 1488 with model AverageValueNaive in generation 11 of 20\n",
      "Model Number: 1489 with model ARIMA in generation 11 of 20\n",
      "New Generation: 12 of 20\n",
      "Model Number: 1490 with model UnobservedComponents in generation 12 of 20\n",
      "Model Number: 1491 with model MultivariateRegression in generation 12 of 20\n",
      "Model Number: 1492 with model AverageValueNaive in generation 12 of 20\n",
      "Template Eval Error: Exception(\"Transformer AlignLastValue failed on inverse from params time {'0': {'lag': 1, 'fill': 'bfill'}, '1': {'output_distribution': 'uniform', 'n_quantiles': 63}, '2': {'rows': 4, 'lag': 1, 'method': 'additive', 'strength': 1.0, 'first_value_only': True, 'threshold': 10}, '3': {'rows': 1, 'lag': 28, 'method': 'additive', 'strength': 1.0, 'first_value_only': False, 'threshold': 1}}\") in model 1492 in generation 12: AverageValueNaive\n",
      "Model Number: 1493 with model Theta in generation 12 of 20\n",
      "Model Number: 1494 with model Cassandra in generation 12 of 20\n",
      "Template Eval Error: ValueError('Only gave one variable to VAR') in model 1494 in generation 12: Cassandra\n",
      "Model Number: 1495 with model Theta in generation 12 of 20\n",
      "Model Number: 1496 with model LastValueNaive in generation 12 of 20\n",
      "Model Number: 1497 with model ARIMA in generation 12 of 20\n"
     ]
    },
    {
     "name": "stderr",
     "output_type": "stream",
     "text": [
      "C:\\Users\\moham\\AppData\\Local\\Packages\\PythonSoftwareFoundation.Python.3.12_qbz5n2kfra8p0\\LocalCache\\local-packages\\Python312\\site-packages\\numpy\\lib\\function_base.py:2897: RuntimeWarning: invalid value encountered in divide\n",
      "  c /= stddev[:, None]\n",
      "C:\\Users\\moham\\AppData\\Local\\Packages\\PythonSoftwareFoundation.Python.3.12_qbz5n2kfra8p0\\LocalCache\\local-packages\\Python312\\site-packages\\numpy\\lib\\function_base.py:2898: RuntimeWarning: invalid value encountered in divide\n",
      "  c /= stddev[None, :]\n"
     ]
    },
    {
     "name": "stdout",
     "output_type": "stream",
     "text": [
      "Model Number: 1498 with model AverageValueNaive in generation 12 of 20\n",
      "Model Number: 1499 with model WindowRegression in generation 12 of 20\n",
      "Model Number: 1500 with model LastValueNaive in generation 12 of 20\n",
      "Model Number: 1501 with model Theta in generation 12 of 20\n",
      "Model Number: 1502 with model SeasonalityMotif in generation 12 of 20\n",
      "Model Number: 1503 with model NVAR in generation 12 of 20\n",
      "Model Number: 1504 with model WindowRegression in generation 12 of 20\n"
     ]
    },
    {
     "name": "stderr",
     "output_type": "stream",
     "text": [
      "C:\\Users\\moham\\AppData\\Local\\Packages\\PythonSoftwareFoundation.Python.3.12_qbz5n2kfra8p0\\LocalCache\\local-packages\\Python312\\site-packages\\autots\\tools\\transform.py:1007: FutureWarning: The behavior of DataFrame concatenation with empty or all-NA entries is deprecated. In a future version, this will no longer exclude empty or all-NA columns when determining the result dtypes. To retain the old behavior, exclude the relevant entries before the concat operation.\n",
      "  df = pd.concat([self.last_rolling, df], axis=0).astype(float)\n",
      "C:\\Users\\moham\\AppData\\Local\\Packages\\PythonSoftwareFoundation.Python.3.12_qbz5n2kfra8p0\\LocalCache\\local-packages\\Python312\\site-packages\\autots\\tools\\transform.py:1007: FutureWarning: The behavior of DataFrame concatenation with empty or all-NA entries is deprecated. In a future version, this will no longer exclude empty or all-NA columns when determining the result dtypes. To retain the old behavior, exclude the relevant entries before the concat operation.\n",
      "  df = pd.concat([self.last_rolling, df], axis=0).astype(float)\n"
     ]
    },
    {
     "name": "stdout",
     "output_type": "stream",
     "text": [
      "Model Number: 1505 with model ARIMA in generation 12 of 20\n",
      "Model Number: 1506 with model MultivariateMotif in generation 12 of 20\n",
      "Model Number: 1507 with model WindowRegression in generation 12 of 20\n",
      "Template Eval Error: ModuleNotFoundError(\"No module named 'lightgbm'\") in model 1507 in generation 12: WindowRegression\n",
      "Model Number: 1508 with model AverageValueNaive in generation 12 of 20\n",
      "Template Eval Error: Exception(\"Transformer ReplaceConstant failed on fit from params time {'0': {'constant': 0, 'reintroduction_model': {'model': 'SGD', 'model_params': {}, 'datepart_method': 'expanded_binarized'}, 'fillna': 'linear'}}\") in model 1508 in generation 12: AverageValueNaive\n",
      "Model Number: 1509 with model Theta in generation 12 of 20\n",
      "Model Number: 1510 with model DMD in generation 12 of 20\n"
     ]
    },
    {
     "name": "stderr",
     "output_type": "stream",
     "text": [
      "C:\\Users\\moham\\AppData\\Local\\Packages\\PythonSoftwareFoundation.Python.3.12_qbz5n2kfra8p0\\LocalCache\\local-packages\\Python312\\site-packages\\sklearn\\utils\\validation.py:1300: DataConversionWarning: A column-vector y was passed when a 1d array was expected. Please change the shape of y to (n_samples, ), for example using ravel().\n",
      "  y = column_or_1d(y, warn=True)\n",
      "C:\\Users\\moham\\AppData\\Local\\Packages\\PythonSoftwareFoundation.Python.3.12_qbz5n2kfra8p0\\LocalCache\\local-packages\\Python312\\site-packages\\sklearn\\svm\\_classes.py:31: FutureWarning: The default value of `dual` will change from `True` to `'auto'` in 1.5. Set the value of `dual` explicitly to suppress the warning.\n",
      "  warnings.warn(\n",
      "C:\\Users\\moham\\AppData\\Local\\Packages\\PythonSoftwareFoundation.Python.3.12_qbz5n2kfra8p0\\LocalCache\\local-packages\\Python312\\site-packages\\sklearn\\svm\\_base.py:1237: ConvergenceWarning: Liblinear failed to converge, increase the number of iterations.\n",
      "  warnings.warn(\n",
      "C:\\Users\\moham\\AppData\\Local\\Packages\\PythonSoftwareFoundation.Python.3.12_qbz5n2kfra8p0\\LocalCache\\local-packages\\Python312\\site-packages\\sklearn\\neural_network\\_multilayer_perceptron.py:546: ConvergenceWarning: lbfgs failed to converge (status=1):\n",
      "STOP: TOTAL NO. of ITERATIONS REACHED LIMIT.\n",
      "\n",
      "Increase the number of iterations (max_iter) or scale the data as shown in:\n",
      "    https://scikit-learn.org/stable/modules/preprocessing.html\n",
      "  self.n_iter_ = _check_optimize_result(\"lbfgs\", opt_res, self.max_iter)\n"
     ]
    },
    {
     "name": "stdout",
     "output_type": "stream",
     "text": [
      "Model Number: 1511 with model MultivariateRegression in generation 12 of 20\n",
      "Model Number: 1512 with model MultivariateMotif in generation 12 of 20\n",
      "Model Number: 1513 with model MultivariateMotif in generation 12 of 20\n",
      "Model Number: 1514 with model MultivariateRegression in generation 12 of 20\n",
      "Template Eval Error: ValueError(\"regression_type='User' but not future_regressor supplied.\") in model 1514 in generation 12: MultivariateRegression\n",
      "Model Number: 1515 with model Theta in generation 12 of 20\n",
      "Model Number: 1516 with model MultivariateMotif in generation 12 of 20\n",
      "Model Number: 1517 with model MultivariateRegression in generation 12 of 20\n",
      "Template Eval Error: ModuleNotFoundError(\"No module named 'lightgbm'\") in model 1517 in generation 12: MultivariateRegression\n",
      "Model Number: 1518 with model SectionalMotif in generation 12 of 20\n",
      "Model Number: 1519 with model ConstantNaive in generation 12 of 20\n",
      "Model Number: 1520 with model SeasonalNaive in generation 12 of 20\n",
      "Model Number: 1521 with model UnobservedComponents in generation 12 of 20\n",
      "Model Number: 1522 with model UnobservedComponents in generation 12 of 20\n",
      "Model Number: 1523 with model LastValueNaive in generation 12 of 20\n",
      "Model Number: 1524 with model Cassandra in generation 12 of 20\n"
     ]
    },
    {
     "name": "stderr",
     "output_type": "stream",
     "text": [
      "C:\\Users\\moham\\AppData\\Local\\Packages\\PythonSoftwareFoundation.Python.3.12_qbz5n2kfra8p0\\LocalCache\\local-packages\\Python312\\site-packages\\numpy\\lib\\function_base.py:2897: RuntimeWarning: invalid value encountered in divide\n",
      "  c /= stddev[:, None]\n",
      "C:\\Users\\moham\\AppData\\Local\\Packages\\PythonSoftwareFoundation.Python.3.12_qbz5n2kfra8p0\\LocalCache\\local-packages\\Python312\\site-packages\\numpy\\lib\\function_base.py:2898: RuntimeWarning: invalid value encountered in divide\n",
      "  c /= stddev[None, :]\n"
     ]
    },
    {
     "name": "stdout",
     "output_type": "stream",
     "text": [
      "Model Number: 1525 with model LastValueNaive in generation 12 of 20\n",
      "Model Number: 1526 with model WindowRegression in generation 12 of 20\n",
      "Model Number: 1527 with model MultivariateRegression in generation 12 of 20\n",
      "Model Number: 1528 with model MultivariateRegression in generation 12 of 20\n",
      "Model Number: 1529 with model MultivariateMotif in generation 12 of 20\n",
      "Model Number: 1530 with model AverageValueNaive in generation 12 of 20\n",
      "Model Number: 1531 with model SeasonalNaive in generation 12 of 20\n",
      "Model Number: 1532 with model Theta in generation 12 of 20\n",
      "Model Number: 1533 with model UnobservedComponents in generation 12 of 20\n",
      "Model Number: 1534 with model UnobservedComponents in generation 12 of 20\n",
      "Template Eval Error: LinAlgError('Singular matrix') in model 1534 in generation 12: UnobservedComponents\n",
      "Model Number: 1535 with model WindowRegression in generation 12 of 20\n",
      "Model Number: 1536 with model ConstantNaive in generation 12 of 20\n",
      "Model Number: 1537 with model LastValueNaive in generation 12 of 20\n",
      "Model Number: 1538 with model SectionalMotif in generation 12 of 20\n",
      "Template Eval Error: Exception(\"Transformer Cointegration failed on fit from params fake_date {'0': {'output_distribution': 'normal', 'n_quantiles': 20}, '1': {}, '2': {'det_order': -1, 'k_ar_diff': 1}, '3': {'fillna': 'akima', 'center': 'zero'}, '4': {}}\") in model 1538 in generation 12: SectionalMotif\n",
      "Model Number: 1539 with model ARIMA in generation 12 of 20\n",
      "Template Eval Error: Exception(\"Transformer HolidayTransformer failed on fit from params fake_date {'0': {'threshold': 0.8, 'splash_threshold': None, 'use_dayofmonth_holidays': True, 'use_wkdom_holidays': True, 'use_wkdeom_holidays': True, 'use_lunar_holidays': False, 'use_lunar_weekday': True, 'use_islamic_holidays': False, 'use_hebrew_holidays': False, 'anomaly_detector_params': {'method': 'rolling_zscore', 'method_params': {'distribution': 'norm', 'alpha': 0.05, 'rolling_periods': 28, 'center': False}, 'fillna': 'rolling_mean_24', 'transform_dict': {'fillna': 'linear', 'transformations': {'0': 'FFTFilter'}, 'transformation_params': {'0': {'cutoff': 7, 'reverse': False}}}, 'isolated_only': False}, 'remove_excess_anomalies': True, 'impact': 'median_value', 'regression_params': {}}, '1': {}}\") in model 1539 in generation 12: ARIMA\n",
      "Model Number: 1540 with model LastValueNaive in generation 12 of 20\n",
      "Model Number: 1541 with model NVAR in generation 12 of 20\n",
      "Model Number: 1542 with model NVAR in generation 12 of 20\n",
      "Model Number: 1543 with model ARIMA in generation 12 of 20\n",
      "Model Number: 1544 with model NVAR in generation 12 of 20\n",
      "Model Number: 1545 with model WindowRegression in generation 12 of 20\n",
      "Model Number: 1546 with model AverageValueNaive in generation 12 of 20\n",
      "Model Number: 1547 with model ARDL in generation 12 of 20\n",
      "Model Number: 1548 with model Theta in generation 12 of 20\n",
      "Model Number: 1549 with model MultivariateMotif in generation 12 of 20\n",
      "Model Number: 1550 with model SectionalMotif in generation 12 of 20\n",
      "Model Number: 1551 with model DMD in generation 12 of 20\n",
      "Model Number: 1552 with model Theta in generation 12 of 20\n",
      "Template Eval Error: Exception(\"Transformer Cointegration failed on fit from params ffill_mean_biased {'0': {'rows': 1, 'lag': 1, 'method': 'multiplicative', 'strength': 0.7, 'first_value_only': False, 'threshold': None}, '1': {'det_order': 0, 'k_ar_diff': 2}, '2': {'rows': 1, 'lag': 1, 'method': 'additive', 'strength': 0.9, 'first_value_only': False, 'threshold': 10}, '3': {}, '4': {'rows': 1, 'lag': 1, 'method': 'additive', 'strength': 1.0, 'first_value_only': False, 'threshold': None}}\") in model 1552 in generation 12: Theta\n",
      "Model Number: 1553 with model ARIMA in generation 12 of 20\n",
      "Template Eval Error: Exception(\"Transformer HolidayTransformer failed on fit from params fake_date {'0': {'threshold': 0.8, 'splash_threshold': None, 'use_dayofmonth_holidays': True, 'use_wkdom_holidays': True, 'use_wkdeom_holidays': True, 'use_lunar_holidays': False, 'use_lunar_weekday': True, 'use_islamic_holidays': False, 'use_hebrew_holidays': False, 'anomaly_detector_params': {'method': 'rolling_zscore', 'method_params': {'distribution': 'norm', 'alpha': 0.05, 'rolling_periods': 28, 'center': False}, 'fillna': 'rolling_mean_24', 'transform_dict': {'fillna': 'linear', 'transformations': {'0': 'FFTFilter'}, 'transformation_params': {'0': {'cutoff': 7, 'reverse': False}}}, 'isolated_only': False}, 'remove_excess_anomalies': True, 'impact': 'median_value', 'regression_params': {}}, '1': {'rows': 1, 'lag': 1, 'method': 'additive', 'strength': 1.0, 'first_value_only': False, 'threshold': 1}}\") in model 1553 in generation 12: ARIMA\n",
      "Model Number: 1554 with model MultivariateRegression in generation 12 of 20\n",
      "Model Number: 1555 with model SeasonalNaive in generation 12 of 20\n",
      "Model Number: 1556 with model NVAR in generation 12 of 20\n",
      "Model Number: 1557 with model WindowRegression in generation 12 of 20\n",
      "Model Number: 1558 with model WindowRegression in generation 12 of 20\n",
      "Template Eval Error: ValueError(\"regression_type='User' but no future_regressor passed\") in model 1558 in generation 12: WindowRegression\n",
      "Model Number: 1559 with model Cassandra in generation 12 of 20\n",
      "Model Number: 1560 with model Cassandra in generation 12 of 20\n"
     ]
    },
    {
     "name": "stderr",
     "output_type": "stream",
     "text": [
      "C:\\Users\\moham\\AppData\\Local\\Packages\\PythonSoftwareFoundation.Python.3.12_qbz5n2kfra8p0\\LocalCache\\local-packages\\Python312\\site-packages\\numpy\\lib\\function_base.py:2897: RuntimeWarning: invalid value encountered in divide\n",
      "  c /= stddev[:, None]\n",
      "C:\\Users\\moham\\AppData\\Local\\Packages\\PythonSoftwareFoundation.Python.3.12_qbz5n2kfra8p0\\LocalCache\\local-packages\\Python312\\site-packages\\numpy\\lib\\function_base.py:2898: RuntimeWarning: invalid value encountered in divide\n",
      "  c /= stddev[None, :]\n",
      "C:\\Users\\moham\\AppData\\Local\\Packages\\PythonSoftwareFoundation.Python.3.12_qbz5n2kfra8p0\\LocalCache\\local-packages\\Python312\\site-packages\\numpy\\lib\\function_base.py:2897: RuntimeWarning: invalid value encountered in divide\n",
      "  c /= stddev[:, None]\n",
      "C:\\Users\\moham\\AppData\\Local\\Packages\\PythonSoftwareFoundation.Python.3.12_qbz5n2kfra8p0\\LocalCache\\local-packages\\Python312\\site-packages\\numpy\\lib\\function_base.py:2898: RuntimeWarning: invalid value encountered in divide\n",
      "  c /= stddev[None, :]\n"
     ]
    },
    {
     "name": "stdout",
     "output_type": "stream",
     "text": [
      "Model Number: 1561 with model LastValueNaive in generation 12 of 20\n",
      "Model Number: 1562 with model UnobservedComponents in generation 12 of 20\n",
      "Model Number: 1563 with model SeasonalityMotif in generation 12 of 20\n",
      "Model Number: 1564 with model MultivariateMotif in generation 12 of 20\n",
      "Model Number: 1565 with model WindowRegression in generation 12 of 20\n",
      "Model Number: 1566 with model Cassandra in generation 12 of 20\n"
     ]
    },
    {
     "name": "stderr",
     "output_type": "stream",
     "text": [
      "C:\\Users\\moham\\AppData\\Local\\Packages\\PythonSoftwareFoundation.Python.3.12_qbz5n2kfra8p0\\LocalCache\\local-packages\\Python312\\site-packages\\numpy\\lib\\function_base.py:2897: RuntimeWarning: invalid value encountered in divide\n",
      "  c /= stddev[:, None]\n",
      "C:\\Users\\moham\\AppData\\Local\\Packages\\PythonSoftwareFoundation.Python.3.12_qbz5n2kfra8p0\\LocalCache\\local-packages\\Python312\\site-packages\\numpy\\lib\\function_base.py:2898: RuntimeWarning: invalid value encountered in divide\n",
      "  c /= stddev[None, :]\n"
     ]
    },
    {
     "name": "stdout",
     "output_type": "stream",
     "text": [
      "Model Number: 1567 with model SeasonalNaive in generation 12 of 20\n",
      "Model Number: 1568 with model SeasonalNaive in generation 12 of 20\n",
      "Model Number: 1569 with model MultivariateRegression in generation 12 of 20\n",
      "Template Eval Error: ModuleNotFoundError(\"No module named 'lightgbm'\") in model 1569 in generation 12: MultivariateRegression\n",
      "Model Number: 1570 with model ConstantNaive in generation 12 of 20\n",
      "Model Number: 1571 with model ARIMA in generation 12 of 20\n",
      "Model Number: 1572 with model LastValueNaive in generation 12 of 20\n",
      "Model Number: 1573 with model DMD in generation 12 of 20\n",
      "New Generation: 13 of 20\n",
      "Model Number: 1574 with model ARIMA in generation 13 of 20\n",
      "Template Eval Error: ValueError(\"regression_type='User' but future_regressor not supplied\") in model 1574 in generation 13: ARIMA\n",
      "Model Number: 1575 with model SeasonalNaive in generation 13 of 20\n",
      "Model Number: 1576 with model ARIMA in generation 13 of 20\n",
      "Model Number: 1577 with model Cassandra in generation 13 of 20\n"
     ]
    },
    {
     "name": "stderr",
     "output_type": "stream",
     "text": [
      "C:\\Users\\moham\\AppData\\Local\\Packages\\PythonSoftwareFoundation.Python.3.12_qbz5n2kfra8p0\\LocalCache\\local-packages\\Python312\\site-packages\\numpy\\lib\\function_base.py:2897: RuntimeWarning: invalid value encountered in divide\n",
      "  c /= stddev[:, None]\n",
      "C:\\Users\\moham\\AppData\\Local\\Packages\\PythonSoftwareFoundation.Python.3.12_qbz5n2kfra8p0\\LocalCache\\local-packages\\Python312\\site-packages\\numpy\\lib\\function_base.py:2898: RuntimeWarning: invalid value encountered in divide\n",
      "  c /= stddev[None, :]\n"
     ]
    },
    {
     "name": "stdout",
     "output_type": "stream",
     "text": [
      "Template Eval Error: Exception(\"Transformer AlignLastValue failed on inverse from params quadratic {'0': {}, '1': {'method': 'savgol_filter', 'method_args': {'window_length': 91, 'polyorder': 4, 'deriv': 0, 'mode': 'nearest'}}, '2': {'rows': 1, 'lag': 1, 'method': 'additive', 'strength': 1.0, 'first_value_only': True, 'threshold': 10}, '3': {}}\") in model 1577 in generation 13: Cassandra\n",
      "Model Number: 1578 with model SeasonalityMotif in generation 13 of 20\n",
      "Model Number: 1579 with model AverageValueNaive in generation 13 of 20\n",
      "Model Number: 1580 with model ARDL in generation 13 of 20\n",
      "Model Number: 1581 with model SeasonalNaive in generation 13 of 20\n",
      "Model Number: 1582 with model DMD in generation 13 of 20\n",
      "Model Number: 1583 with model Theta in generation 13 of 20\n",
      "Model Number: 1584 with model WindowRegression in generation 13 of 20\n",
      "Template Eval Error: ValueError(\"regression_type='User' but no future_regressor passed\") in model 1584 in generation 13: WindowRegression\n",
      "Model Number: 1585 with model LastValueNaive in generation 13 of 20\n",
      "Model Number: 1586 with model MetricMotif in generation 13 of 20\n",
      "Model Number: 1587 with model ARIMA in generation 13 of 20\n",
      "Model Number: 1588 with model SeasonalNaive in generation 13 of 20\n",
      "Model Number: 1589 with model AverageValueNaive in generation 13 of 20\n",
      "Model Number: 1590 with model AverageValueNaive in generation 13 of 20\n",
      "Model Number: 1591 with model SeasonalityMotif in generation 13 of 20\n",
      "Model Number: 1592 with model ConstantNaive in generation 13 of 20\n",
      "Model Number: 1593 with model WindowRegression in generation 13 of 20\n",
      "Model Number: 1594 with model Theta in generation 13 of 20\n"
     ]
    },
    {
     "name": "stderr",
     "output_type": "stream",
     "text": [
      "C:\\Users\\moham\\AppData\\Local\\Packages\\PythonSoftwareFoundation.Python.3.12_qbz5n2kfra8p0\\LocalCache\\local-packages\\Python312\\site-packages\\sklearn\\neighbors\\_classification.py:238: DataConversionWarning: A column-vector y was passed when a 1d array was expected. Please change the shape of y to (n_samples,), for example using ravel().\n",
      "  return self._fit(X, y)\n"
     ]
    },
    {
     "name": "stdout",
     "output_type": "stream",
     "text": [
      "Model Number: 1595 with model ARDL in generation 13 of 20\n",
      "Model Number: 1596 with model AverageValueNaive in generation 13 of 20\n",
      "Model Number: 1597 with model AverageValueNaive in generation 13 of 20\n",
      "Model Number: 1598 with model AverageValueNaive in generation 13 of 20\n",
      "Model Number: 1599 with model ARDL in generation 13 of 20\n",
      "Model Number: 1600 with model LastValueNaive in generation 13 of 20\n",
      "Model Number: 1601 with model Cassandra in generation 13 of 20\n"
     ]
    },
    {
     "name": "stderr",
     "output_type": "stream",
     "text": [
      "C:\\Users\\moham\\AppData\\Local\\Packages\\PythonSoftwareFoundation.Python.3.12_qbz5n2kfra8p0\\LocalCache\\local-packages\\Python312\\site-packages\\numpy\\lib\\function_base.py:2897: RuntimeWarning: invalid value encountered in divide\n",
      "  c /= stddev[:, None]\n",
      "C:\\Users\\moham\\AppData\\Local\\Packages\\PythonSoftwareFoundation.Python.3.12_qbz5n2kfra8p0\\LocalCache\\local-packages\\Python312\\site-packages\\numpy\\lib\\function_base.py:2898: RuntimeWarning: invalid value encountered in divide\n",
      "  c /= stddev[None, :]\n"
     ]
    },
    {
     "name": "stdout",
     "output_type": "stream",
     "text": [
      "Model Number: 1602 with model NVAR in generation 13 of 20\n",
      "Model Number: 1603 with model WindowRegression in generation 13 of 20\n",
      "Template Eval Error: ModuleNotFoundError(\"No module named 'lightgbm'\") in model 1603 in generation 13: WindowRegression\n",
      "Model Number: 1604 with model WindowRegression in generation 13 of 20\n",
      "Template Eval Error: ModuleNotFoundError(\"No module named 'lightgbm'\") in model 1604 in generation 13: WindowRegression\n",
      "Model Number: 1605 with model NVAR in generation 13 of 20\n",
      "Model Number: 1606 with model AverageValueNaive in generation 13 of 20\n",
      "Model Number: 1607 with model MultivariateMotif in generation 13 of 20\n",
      "Model Number: 1608 with model Theta in generation 13 of 20\n",
      "Model Number: 1609 with model Theta in generation 13 of 20\n",
      "Model Number: 1610 with model MultivariateMotif in generation 13 of 20\n",
      "Model Number: 1611 with model Theta in generation 13 of 20\n",
      "Model Number: 1612 with model MultivariateRegression in generation 13 of 20\n",
      "Model Number: 1613 with model NVAR in generation 13 of 20\n",
      "Model Number: 1614 with model ARIMA in generation 13 of 20\n",
      "Model Number: 1615 with model ARDL in generation 13 of 20\n",
      "Model Number: 1616 with model ARIMA in generation 13 of 20\n",
      "Template Eval Error: ValueError(\"regression_type='User' but future_regressor not supplied\") in model 1616 in generation 13: ARIMA\n",
      "Model Number: 1617 with model SeasonalNaive in generation 13 of 20\n",
      "Model Number: 1618 with model MultivariateMotif in generation 13 of 20\n",
      "Model Number: 1619 with model SectionalMotif in generation 13 of 20\n",
      "Model Number: 1620 with model AverageValueNaive in generation 13 of 20\n",
      "Model Number: 1621 with model SectionalMotif in generation 13 of 20\n",
      "Template Eval Error: Exception(\"Transformer BTCD failed on fit from params ffill {'0': {'output_distribution': 'normal', 'n_quantiles': 20}, '1': {}, '2': {'regression_model': {'model': 'LinearRegression', 'model_params': {}}, 'max_lags': 2}, '3': {'algorithm': 'parallel', 'fun': 'exp', 'max_iter': 250, 'whiten': True}}\") in model 1621 in generation 13: SectionalMotif\n",
      "Model Number: 1622 with model SectionalMotif in generation 13 of 20\n",
      "Model Number: 1623 with model NVAR in generation 13 of 20\n",
      "Model Number: 1624 with model NVAR in generation 13 of 20\n",
      "Model Number: 1625 with model Cassandra in generation 13 of 20\n"
     ]
    },
    {
     "name": "stderr",
     "output_type": "stream",
     "text": [
      "C:\\Users\\moham\\AppData\\Local\\Packages\\PythonSoftwareFoundation.Python.3.12_qbz5n2kfra8p0\\LocalCache\\local-packages\\Python312\\site-packages\\numpy\\lib\\function_base.py:2897: RuntimeWarning: invalid value encountered in divide\n",
      "  c /= stddev[:, None]\n",
      "C:\\Users\\moham\\AppData\\Local\\Packages\\PythonSoftwareFoundation.Python.3.12_qbz5n2kfra8p0\\LocalCache\\local-packages\\Python312\\site-packages\\numpy\\lib\\function_base.py:2898: RuntimeWarning: invalid value encountered in divide\n",
      "  c /= stddev[None, :]\n"
     ]
    },
    {
     "name": "stdout",
     "output_type": "stream",
     "text": [
      "Model Number: 1626 with model AverageValueNaive in generation 13 of 20\n",
      "Model Number: 1627 with model WindowRegression in generation 13 of 20\n",
      "Model Number: 1628 with model SectionalMotif in generation 13 of 20\n",
      "Model Number: 1629 with model SectionalMotif in generation 13 of 20\n",
      "Model Number: 1630 with model ARIMA in generation 13 of 20\n",
      "Model Number: 1631 with model MultivariateMotif in generation 13 of 20\n",
      "Model Number: 1632 with model LastValueNaive in generation 13 of 20\n",
      "Model Number: 1633 with model MultivariateMotif in generation 13 of 20\n",
      "Model Number: 1634 with model DMD in generation 13 of 20\n",
      "Template Eval Error: Exception(\"Transformer Cointegration failed on fit from params time {'0': {'threshold': 1.0, 'splash_threshold': 0.65, 'use_dayofmonth_holidays': True, 'use_wkdom_holidays': True, 'use_wkdeom_holidays': False, 'use_lunar_holidays': True, 'use_lunar_weekday': False, 'use_islamic_holidays': False, 'use_hebrew_holidays': False, 'anomaly_detector_params': {'method': 'zscore', 'method_params': {'distribution': 'uniform', 'alpha': 0.05}, 'fillna': 'linear', 'transform_dict': {'fillna': None, 'transformations': {'0': 'EWMAFilter'}, 'transformation_params': {'0': {'span': 7}}}, 'isolated_only': False}, 'remove_excess_anomalies': True, 'impact': 'regression', 'regression_params': {}}, '1': {'det_order': 1, 'k_ar_diff': 0}, '2': {'rows': 1, 'lag': 1, 'method': 'additive', 'strength': 1.0, 'first_value_only': False, 'threshold': 10}}\") in model 1634 in generation 13: DMD\n",
      "Model Number: 1635 with model Theta in generation 13 of 20\n",
      "Model Number: 1636 with model ARIMA in generation 13 of 20\n",
      "Model Number: 1637 with model SeasonalNaive in generation 13 of 20\n",
      "Model Number: 1638 with model UnobservedComponents in generation 13 of 20\n",
      "Model Number: 1639 with model AverageValueNaive in generation 13 of 20\n",
      "Model Number: 1640 with model SeasonalNaive in generation 13 of 20\n",
      "Model Number: 1641 with model NVAR in generation 13 of 20\n",
      "Model Number: 1642 with model ConstantNaive in generation 13 of 20\n",
      "Model Number: 1643 with model ARIMA in generation 13 of 20\n"
     ]
    },
    {
     "name": "stderr",
     "output_type": "stream",
     "text": [
      "C:\\Users\\moham\\AppData\\Local\\Packages\\PythonSoftwareFoundation.Python.3.12_qbz5n2kfra8p0\\LocalCache\\local-packages\\Python312\\site-packages\\sklearn\\decomposition\\_fastica.py:589: UserWarning: Ignoring n_components with whiten=False.\n",
      "  warnings.warn(\"Ignoring n_components with whiten=False.\")\n"
     ]
    },
    {
     "name": "stdout",
     "output_type": "stream",
     "text": [
      "Model Number: 1644 with model UnobservedComponents in generation 13 of 20\n",
      "Model Number: 1645 with model Cassandra in generation 13 of 20\n"
     ]
    },
    {
     "name": "stderr",
     "output_type": "stream",
     "text": [
      "C:\\Users\\moham\\AppData\\Local\\Packages\\PythonSoftwareFoundation.Python.3.12_qbz5n2kfra8p0\\LocalCache\\local-packages\\Python312\\site-packages\\numpy\\lib\\function_base.py:2897: RuntimeWarning: invalid value encountered in divide\n",
      "  c /= stddev[:, None]\n",
      "C:\\Users\\moham\\AppData\\Local\\Packages\\PythonSoftwareFoundation.Python.3.12_qbz5n2kfra8p0\\LocalCache\\local-packages\\Python312\\site-packages\\numpy\\lib\\function_base.py:2898: RuntimeWarning: invalid value encountered in divide\n",
      "  c /= stddev[None, :]\n"
     ]
    },
    {
     "name": "stdout",
     "output_type": "stream",
     "text": [
      "Model Number: 1646 with model MultivariateMotif in generation 13 of 20\n",
      "Template Eval Error: ValueError('Model MultivariateMotif returned NaN for one or more series. fail_on_forecast_nan=True') in model 1646 in generation 13: MultivariateMotif\n",
      "Model Number: 1647 with model MetricMotif in generation 13 of 20\n",
      "Model Number: 1648 with model DMD in generation 13 of 20\n",
      "Model Number: 1649 with model NVAR in generation 13 of 20\n",
      "Model Number: 1650 with model Cassandra in generation 13 of 20\n",
      "Template Eval Error: ValueError('transformed data is all zeroes') in model 1650 in generation 13: Cassandra\n",
      "Model Number: 1651 with model SeasonalNaive in generation 13 of 20\n"
     ]
    },
    {
     "name": "stderr",
     "output_type": "stream",
     "text": [
      "C:\\Users\\moham\\AppData\\Local\\Packages\\PythonSoftwareFoundation.Python.3.12_qbz5n2kfra8p0\\LocalCache\\local-packages\\Python312\\site-packages\\numpy\\core\\_methods.py:49: RuntimeWarning: invalid value encountered in reduce\n",
      "  return umr_sum(a, axis, dtype, out, keepdims, initial, where)\n",
      "C:\\Users\\moham\\AppData\\Local\\Packages\\PythonSoftwareFoundation.Python.3.12_qbz5n2kfra8p0\\LocalCache\\local-packages\\Python312\\site-packages\\numpy\\lib\\function_base.py:553: RuntimeWarning: invalid value encountered in divide\n",
      "  avg = avg_as_array = np.multiply(a, wgt,\n"
     ]
    },
    {
     "name": "stdout",
     "output_type": "stream",
     "text": [
      "Model Number: 1652 with model SectionalMotif in generation 13 of 20\n",
      "Model Number: 1653 with model WindowRegression in generation 13 of 20\n",
      "Model Number: 1654 with model LastValueNaive in generation 13 of 20\n",
      "Model Number: 1655 with model MultivariateRegression in generation 13 of 20\n",
      "Model Number: 1656 with model ARIMA in generation 13 of 20\n",
      "Template Eval Error: ValueError(\"regression_type='User' but future_regressor not supplied\") in model 1656 in generation 13: ARIMA\n",
      "Model Number: 1657 with model SeasonalNaive in generation 13 of 20\n",
      "New Generation: 14 of 20\n",
      "Model Number: 1658 with model SectionalMotif in generation 14 of 20\n",
      "Model Number: 1659 with model ARIMA in generation 14 of 20\n",
      "Model Number: 1660 with model ARIMA in generation 14 of 20\n",
      "Template Eval Error: Exception(\"Transformer AlignLastValue failed on inverse from params rolling_mean_24 {'0': {'rows': 4, 'lag': 1, 'method': 'additive', 'strength': 1.0, 'first_value_only': True, 'threshold': 1}, '1': {'lag_1': 44, 'method': 'LastValue'}, '2': {'model': 'GLS', 'phi': 1, 'window': None, 'transform_dict': None}}\") in model 1660 in generation 14: ARIMA\n",
      "Model Number: 1661 with model UnobservedComponents in generation 14 of 20\n",
      "Model Number: 1662 with model Theta in generation 14 of 20\n",
      "Model Number: 1663 with model NVAR in generation 14 of 20\n",
      "Model Number: 1664 with model Theta in generation 14 of 20\n",
      "Model Number: 1665 with model Theta in generation 14 of 20\n",
      "Model Number: 1666 with model SectionalMotif in generation 14 of 20\n",
      "Model Number: 1667 with model Cassandra in generation 14 of 20\n"
     ]
    },
    {
     "name": "stderr",
     "output_type": "stream",
     "text": [
      "C:\\Users\\moham\\AppData\\Local\\Packages\\PythonSoftwareFoundation.Python.3.12_qbz5n2kfra8p0\\LocalCache\\local-packages\\Python312\\site-packages\\numpy\\lib\\function_base.py:2897: RuntimeWarning: invalid value encountered in divide\n",
      "  c /= stddev[:, None]\n",
      "C:\\Users\\moham\\AppData\\Local\\Packages\\PythonSoftwareFoundation.Python.3.12_qbz5n2kfra8p0\\LocalCache\\local-packages\\Python312\\site-packages\\numpy\\lib\\function_base.py:2898: RuntimeWarning: invalid value encountered in divide\n",
      "  c /= stddev[None, :]\n"
     ]
    },
    {
     "name": "stdout",
     "output_type": "stream",
     "text": [
      "Model Number: 1668 with model ARDL in generation 14 of 20\n",
      "Template Eval Error: ValueError(\"regression_type='User' but future_regressor not supplied\") in model 1668 in generation 14: ARDL\n",
      "Model Number: 1669 with model ARDL in generation 14 of 20\n",
      "Model Number: 1670 with model DMD in generation 14 of 20\n",
      "ECR rank is 0\n",
      "Model Number: 1671 with model MetricMotif in generation 14 of 20\n",
      "Model Number: 1672 with model Theta in generation 14 of 20\n",
      "Model Number: 1673 with model AverageValueNaive in generation 14 of 20\n",
      "Template Eval Error: Exception(\"Transformer BTCD failed on fit from params rolling_mean {'0': {'regression_model': {'model': 'LinearRegression', 'model_params': {}}, 'max_lags': 1}, '1': {}, '2': {'rows': 1, 'lag': 1, 'method': 'additive', 'strength': 0.7, 'first_value_only': False, 'threshold': None}}\") in model 1673 in generation 14: AverageValueNaive\n",
      "Model Number: 1674 with model WindowRegression in generation 14 of 20\n",
      "Model Number: 1675 with model MetricMotif in generation 14 of 20\n",
      "Model Number: 1676 with model ConstantNaive in generation 14 of 20\n",
      "Model Number: 1677 with model MetricMotif in generation 14 of 20\n",
      "Model Number: 1678 with model MultivariateMotif in generation 14 of 20\n",
      "Model Number: 1679 with model NVAR in generation 14 of 20\n",
      "Model Number: 1680 with model LastValueNaive in generation 14 of 20\n",
      "Model Number: 1681 with model AverageValueNaive in generation 14 of 20\n",
      "Model Number: 1682 with model WindowRegression in generation 14 of 20\n",
      "Template Eval Error: ValueError(\"regression_type='User' but no future_regressor passed\") in model 1682 in generation 14: WindowRegression\n",
      "Model Number: 1683 with model UnobservedComponents in generation 14 of 20\n",
      "Model Number: 1684 with model NVAR in generation 14 of 20\n",
      "Model Number: 1685 with model LastValueNaive in generation 14 of 20\n",
      "Model Number: 1686 with model MultivariateMotif in generation 14 of 20\n",
      "Model Number: 1687 with model SectionalMotif in generation 14 of 20\n",
      "Model Number: 1688 with model AverageValueNaive in generation 14 of 20\n",
      "Model Number: 1689 with model Cassandra in generation 14 of 20\n",
      "Template Eval Error: ValueError('negative dimensions are not allowed') in model 1689 in generation 14: Cassandra\n",
      "Model Number: 1690 with model SeasonalNaive in generation 14 of 20\n",
      "Model Number: 1691 with model AverageValueNaive in generation 14 of 20\n",
      "Model Number: 1692 with model Theta in generation 14 of 20\n",
      "Model Number: 1693 with model MultivariateMotif in generation 14 of 20\n",
      "Template Eval Error: Exception(\"Transformer Cointegration failed on fit from params time {'0': {'rows': 1, 'lag': 1, 'method': 'additive', 'strength': 0.9, 'first_value_only': False, 'threshold': 1}, '1': {'model': 'Linear', 'phi': 1, 'window': None, 'transform_dict': {'fillna': None, 'transformations': {'0': 'EWMAFilter'}, 'transformation_params': {'0': {'span': 2}}}}, '2': {'rows': 1, 'lag': 1, 'method': 'additive', 'strength': 1.0, 'first_value_only': False, 'threshold': 10}, '3': {'rows': 1, 'lag': 1, 'method': 'additive', 'strength': 1.0, 'first_value_only': False, 'threshold': 10}, '4': {'det_order': 1, 'k_ar_diff': 1}, '5': {'span': 2}}\") in model 1693 in generation 14: MultivariateMotif\n",
      "Model Number: 1694 with model AverageValueNaive in generation 14 of 20\n",
      "Model Number: 1695 with model MultivariateMotif in generation 14 of 20\n",
      "Model Number: 1696 with model NVAR in generation 14 of 20\n",
      "Model Number: 1697 with model AverageValueNaive in generation 14 of 20\n",
      "Template Eval Error: Exception(\"Transformer BTCD failed on fit from params rolling_mean {'0': {'regression_model': {'model': 'LinearRegression', 'model_params': {}}, 'max_lags': 1}, '1': {'method': 'savgol_filter', 'method_args': {'window_length': 91, 'polyorder': 2, 'deriv': 0, 'mode': 'interp'}}}\") in model 1697 in generation 14: AverageValueNaive\n",
      "Model Number: 1698 with model AverageValueNaive in generation 14 of 20\n",
      "Model Number: 1699 with model ARIMA in generation 14 of 20\n",
      "Model Number: 1700 with model SeasonalityMotif in generation 14 of 20\n",
      "Model Number: 1701 with model WindowRegression in generation 14 of 20\n",
      "Template Eval Error: ValueError(\"regression_type='User' but no future_regressor passed\") in model 1701 in generation 14: WindowRegression\n",
      "Model Number: 1702 with model MultivariateMotif in generation 14 of 20\n",
      "Template Eval Error: Exception(\"Transformer FastICA failed on fit from params fake_date {'0': {}, '1': {'algorithm': 'deflation', 'fun': 'cube', 'max_iter': 250, 'whiten': True}, '2': {'span': 2}}\") in model 1702 in generation 14: MultivariateMotif\n",
      "Model Number: 1703 with model NVAR in generation 14 of 20\n",
      "Model Number: 1704 with model Cassandra in generation 14 of 20\n"
     ]
    },
    {
     "name": "stderr",
     "output_type": "stream",
     "text": [
      "C:\\Users\\moham\\AppData\\Local\\Packages\\PythonSoftwareFoundation.Python.3.12_qbz5n2kfra8p0\\LocalCache\\local-packages\\Python312\\site-packages\\numpy\\lib\\function_base.py:2897: RuntimeWarning: invalid value encountered in divide\n",
      "  c /= stddev[:, None]\n",
      "C:\\Users\\moham\\AppData\\Local\\Packages\\PythonSoftwareFoundation.Python.3.12_qbz5n2kfra8p0\\LocalCache\\local-packages\\Python312\\site-packages\\numpy\\lib\\function_base.py:2898: RuntimeWarning: invalid value encountered in divide\n",
      "  c /= stddev[None, :]\n"
     ]
    },
    {
     "name": "stdout",
     "output_type": "stream",
     "text": [
      "Model Number: 1705 with model SeasonalNaive in generation 14 of 20\n",
      "Model Number: 1706 with model MultivariateMotif in generation 14 of 20\n",
      "Template Eval Error: Exception(\"Transformer AlignLastValue failed on inverse from params pchip {'0': {'rows': 1, 'lag': 28, 'method': 'additive', 'strength': 1.0, 'first_value_only': True, 'threshold': None}, '1': {'model': 'Linear', 'phi': 1, 'window': None}, '2': {'lag_1': 12, 'method': 5}}\") in model 1706 in generation 14: MultivariateMotif\n",
      "Model Number: 1707 with model AverageValueNaive in generation 14 of 20\n",
      "Model Number: 1708 with model SectionalMotif in generation 14 of 20\n",
      "Model Number: 1709 with model Cassandra in generation 14 of 20\n",
      "Model Number: 1710 with model NVAR in generation 14 of 20\n",
      "Model Number: 1711 with model DMD in generation 14 of 20\n",
      "Model Number: 1712 with model SectionalMotif in generation 14 of 20\n"
     ]
    },
    {
     "name": "stderr",
     "output_type": "stream",
     "text": [
      "C:\\Users\\moham\\AppData\\Local\\Packages\\PythonSoftwareFoundation.Python.3.12_qbz5n2kfra8p0\\LocalCache\\local-packages\\Python312\\site-packages\\numpy\\lib\\function_base.py:2897: RuntimeWarning: invalid value encountered in divide\n",
      "  c /= stddev[:, None]\n",
      "C:\\Users\\moham\\AppData\\Local\\Packages\\PythonSoftwareFoundation.Python.3.12_qbz5n2kfra8p0\\LocalCache\\local-packages\\Python312\\site-packages\\numpy\\lib\\function_base.py:2898: RuntimeWarning: invalid value encountered in divide\n",
      "  c /= stddev[None, :]\n"
     ]
    },
    {
     "name": "stdout",
     "output_type": "stream",
     "text": [
      "Model Number: 1713 with model UnobservedComponents in generation 14 of 20\n",
      "Model Number: 1714 with model Theta in generation 14 of 20\n",
      "Model Number: 1715 with model ConstantNaive in generation 14 of 20\n",
      "Model Number: 1716 with model MetricMotif in generation 14 of 20\n",
      "Model Number: 1717 with model ARIMA in generation 14 of 20\n"
     ]
    },
    {
     "name": "stderr",
     "output_type": "stream",
     "text": [
      "C:\\Users\\moham\\AppData\\Local\\Packages\\PythonSoftwareFoundation.Python.3.12_qbz5n2kfra8p0\\LocalCache\\local-packages\\Python312\\site-packages\\autots\\tools\\percentile.py:47: RuntimeWarning: All-NaN slice encountered\n",
      "  max_val = np.nanmax(arr)\n"
     ]
    },
    {
     "name": "stdout",
     "output_type": "stream",
     "text": [
      "Model Number: 1718 with model NVAR in generation 14 of 20\n",
      "Model Number: 1719 with model MultivariateRegression in generation 14 of 20\n",
      "Model Number: 1720 with model UnobservedComponents in generation 14 of 20\n",
      "Template Eval Error: LinAlgError('Singular matrix') in model 1720 in generation 14: UnobservedComponents\n",
      "Model Number: 1721 with model UnobservedComponents in generation 14 of 20\n",
      "Template Eval Error: Exception(\"Transformer BTCD failed on fit from params cubic {'0': {'regression_model': {'model': 'FastRidge', 'model_params': {}}, 'max_lags': 2}, '1': {'n_harmonics': None, 'detrend': 'linear'}}\") in model 1721 in generation 14: UnobservedComponents\n",
      "Model Number: 1722 with model NVAR in generation 14 of 20\n",
      "Model Number: 1723 with model MultivariateMotif in generation 14 of 20\n",
      "Model Number: 1724 with model SeasonalityMotif in generation 14 of 20\n",
      "Template Eval Error: Exception(\"Transformer BTCD failed on fit from params ffill {'0': {'method': 'remove', 'std_threshold': 1, 'fillna': 'mean'}, '1': {'regression_model': {'model': 'LinearRegression', 'model_params': {}}, 'max_lags': 2}, '2': {}}\") in model 1724 in generation 14: SeasonalityMotif\n",
      "Model Number: 1725 with model Cassandra in generation 14 of 20\n",
      "Model Number: 1726 with model AverageValueNaive in generation 14 of 20\n",
      "Model Number: 1727 with model AverageValueNaive in generation 14 of 20\n",
      "Model Number: 1728 with model NVAR in generation 14 of 20\n"
     ]
    },
    {
     "name": "stderr",
     "output_type": "stream",
     "text": [
      "C:\\Users\\moham\\AppData\\Local\\Packages\\PythonSoftwareFoundation.Python.3.12_qbz5n2kfra8p0\\LocalCache\\local-packages\\Python312\\site-packages\\numpy\\lib\\function_base.py:2897: RuntimeWarning: invalid value encountered in divide\n",
      "  c /= stddev[:, None]\n",
      "C:\\Users\\moham\\AppData\\Local\\Packages\\PythonSoftwareFoundation.Python.3.12_qbz5n2kfra8p0\\LocalCache\\local-packages\\Python312\\site-packages\\numpy\\lib\\function_base.py:2898: RuntimeWarning: invalid value encountered in divide\n",
      "  c /= stddev[None, :]\n"
     ]
    },
    {
     "name": "stdout",
     "output_type": "stream",
     "text": [
      "Model Number: 1729 with model Cassandra in generation 14 of 20\n",
      "Template Eval Error: ValueError('more than 1 year of data is required for holiday detection.') in model 1729 in generation 14: Cassandra\n",
      "Model Number: 1730 with model MultivariateMotif in generation 14 of 20\n",
      "Model Number: 1731 with model SeasonalNaive in generation 14 of 20\n",
      "Model Number: 1732 with model LastValueNaive in generation 14 of 20\n",
      "Model Number: 1733 with model DMD in generation 14 of 20\n",
      "Model Number: 1734 with model WindowRegression in generation 14 of 20\n",
      "Template Eval Error: ValueError(\"Some value(s) of y are out of the valid range of the loss 'HalfPoissonLoss'.\") in model 1734 in generation 14: WindowRegression\n",
      "Model Number: 1735 with model SectionalMotif in generation 14 of 20\n",
      "Model Number: 1736 with model AverageValueNaive in generation 14 of 20\n",
      "Model Number: 1737 with model SectionalMotif in generation 14 of 20\n",
      "Model Number: 1738 with model UnobservedComponents in generation 14 of 20\n",
      "Template Eval Error: Exception(\"Transformer SeasonalDifference failed on fit from params time {'0': {'rows': 1, 'lag': 1, 'method': 'additive', 'strength': 1.0, 'first_value_only': False, 'threshold': 1}, '1': {}, '2': {'model': 'Linear', 'phi': 1, 'window': None}, '3': {'lag_1': 4, 'method': 'Median'}, '4': {'lag_1': 364, 'method': 2}}\") in model 1738 in generation 14: UnobservedComponents\n",
      "Model Number: 1739 with model Theta in generation 14 of 20\n",
      "Model Number: 1740 with model ARIMA in generation 14 of 20\n",
      "Template Eval Error: ValueError(\"regression_type='User' but future_regressor not supplied\") in model 1740 in generation 14: ARIMA\n",
      "Model Number: 1741 with model WindowRegression in generation 14 of 20\n",
      "Template Eval Error: ModuleNotFoundError(\"No module named 'lightgbm'\") in model 1741 in generation 14: WindowRegression\n",
      "New Generation: 15 of 20\n",
      "Model Number: 1742 with model LastValueNaive in generation 15 of 20\n",
      "Model Number: 1743 with model SeasonalNaive in generation 15 of 20\n",
      "Model Number: 1744 with model AverageValueNaive in generation 15 of 20\n",
      "Model Number: 1745 with model SectionalMotif in generation 15 of 20\n",
      "Model Number: 1746 with model AverageValueNaive in generation 15 of 20\n",
      "Model Number: 1747 with model NVAR in generation 15 of 20\n",
      "Model Number: 1748 with model MultivariateMotif in generation 15 of 20\n",
      "Model Number: 1749 with model SeasonalNaive in generation 15 of 20\n",
      "Model Number: 1750 with model Theta in generation 15 of 20\n",
      "Model Number: 1751 with model Cassandra in generation 15 of 20\n",
      "Model Number: 1752 with model SeasonalNaive in generation 15 of 20\n",
      "Model Number: 1753 with model Theta in generation 15 of 20\n"
     ]
    },
    {
     "name": "stderr",
     "output_type": "stream",
     "text": [
      "C:\\Users\\moham\\AppData\\Local\\Packages\\PythonSoftwareFoundation.Python.3.12_qbz5n2kfra8p0\\LocalCache\\local-packages\\Python312\\site-packages\\numpy\\lib\\function_base.py:2897: RuntimeWarning: invalid value encountered in divide\n",
      "  c /= stddev[:, None]\n",
      "C:\\Users\\moham\\AppData\\Local\\Packages\\PythonSoftwareFoundation.Python.3.12_qbz5n2kfra8p0\\LocalCache\\local-packages\\Python312\\site-packages\\numpy\\lib\\function_base.py:2898: RuntimeWarning: invalid value encountered in divide\n",
      "  c /= stddev[None, :]\n"
     ]
    },
    {
     "name": "stdout",
     "output_type": "stream",
     "text": [
      "Model Number: 1754 with model MetricMotif in generation 15 of 20\n",
      "Model Number: 1755 with model ARIMA in generation 15 of 20\n",
      "Model Number: 1756 with model MultivariateRegression in generation 15 of 20\n",
      "Template Eval Error: ValueError(\"regression_type='User' but not future_regressor supplied.\") in model 1756 in generation 15: MultivariateRegression\n",
      "Model Number: 1757 with model SectionalMotif in generation 15 of 20\n",
      "Model Number: 1758 with model SeasonalityMotif in generation 15 of 20\n",
      "Model Number: 1759 with model ConstantNaive in generation 15 of 20\n",
      "Model Number: 1760 with model AverageValueNaive in generation 15 of 20\n",
      "Model Number: 1761 with model Cassandra in generation 15 of 20\n",
      "Model Number: 1762 with model DMD in generation 15 of 20\n",
      "Model Number: 1763 with model Theta in generation 15 of 20\n",
      "Template Eval Error: Exception(\"Transformer Cointegration failed on fit from params rolling_mean_24 {'0': {}, '1': {'lag': 1, 'fill': 'bfill'}, '2': {'det_order': 0, 'k_ar_diff': 1}, '3': {'rows': 2, 'displacement_rows': 1, 'quantile': 1.0, 'decay_span': None}}\") in model 1763 in generation 15: Theta\n",
      "Model Number: 1764 with model LastValueNaive in generation 15 of 20\n",
      "Model Number: 1765 with model LastValueNaive in generation 15 of 20\n",
      "Model Number: 1766 with model Theta in generation 15 of 20\n"
     ]
    },
    {
     "name": "stderr",
     "output_type": "stream",
     "text": [
      "C:\\Users\\moham\\AppData\\Local\\Packages\\PythonSoftwareFoundation.Python.3.12_qbz5n2kfra8p0\\LocalCache\\local-packages\\Python312\\site-packages\\numpy\\lib\\function_base.py:2897: RuntimeWarning: invalid value encountered in divide\n",
      "  c /= stddev[:, None]\n",
      "C:\\Users\\moham\\AppData\\Local\\Packages\\PythonSoftwareFoundation.Python.3.12_qbz5n2kfra8p0\\LocalCache\\local-packages\\Python312\\site-packages\\numpy\\lib\\function_base.py:2898: RuntimeWarning: invalid value encountered in divide\n",
      "  c /= stddev[None, :]\n",
      "C:\\Users\\moham\\AppData\\Local\\Packages\\PythonSoftwareFoundation.Python.3.12_qbz5n2kfra8p0\\LocalCache\\local-packages\\Python312\\site-packages\\autots\\tools\\transform.py:5472: FutureWarning: Downcasting object dtype arrays on .fillna, .ffill, .bfill is deprecated and will change in a future version. Call result.infer_objects(copy=False) instead. To opt-in to the future behavior, set `pd.set_option('future.no_silent_downcasting', True)`\n",
      "  df = df.fillna(0)\n",
      "C:\\Users\\moham\\AppData\\Local\\Packages\\PythonSoftwareFoundation.Python.3.12_qbz5n2kfra8p0\\LocalCache\\local-packages\\Python312\\site-packages\\autots\\tools\\transform.py:5472: FutureWarning: Downcasting object dtype arrays on .fillna, .ffill, .bfill is deprecated and will change in a future version. Call result.infer_objects(copy=False) instead. To opt-in to the future behavior, set `pd.set_option('future.no_silent_downcasting', True)`\n",
      "  df = df.fillna(0)\n"
     ]
    },
    {
     "name": "stdout",
     "output_type": "stream",
     "text": [
      "Model Number: 1767 with model NVAR in generation 15 of 20\n",
      "Model Number: 1768 with model ConstantNaive in generation 15 of 20\n",
      "Model Number: 1769 with model ARDL in generation 15 of 20\n",
      "Model Number: 1770 with model ARIMA in generation 15 of 20\n",
      "Model Number: 1771 with model MultivariateRegression in generation 15 of 20\n",
      "Model Number: 1772 with model UnobservedComponents in generation 15 of 20\n",
      "Model Number: 1773 with model Cassandra in generation 15 of 20\n",
      "Template Eval Error: Exception(\"Transformer Detrend failed on fit from params None {'0': {'model': 'Linear', 'phi': 1, 'window': None, 'transform_dict': {'fillna': None, 'transformations': {'0': 'EWMAFilter'}, 'transformation_params': {'0': {'span': 2}}}}}\") in model 1773 in generation 15: Cassandra\n",
      "Model Number: 1774 with model MultivariateMotif in generation 15 of 20\n",
      "Model Number: 1775 with model ARDL in generation 15 of 20\n",
      "Model Number: 1776 with model AverageValueNaive in generation 15 of 20\n",
      "Model Number: 1777 with model Theta in generation 15 of 20\n",
      "Model Number: 1778 with model ConstantNaive in generation 15 of 20\n",
      "Model Number: 1779 with model ARIMA in generation 15 of 20\n",
      "Model Number: 1780 with model UnobservedComponents in generation 15 of 20\n",
      "Model Number: 1781 with model ARDL in generation 15 of 20\n",
      "Model Number: 1782 with model NVAR in generation 15 of 20\n",
      "Model Number: 1783 with model SeasonalNaive in generation 15 of 20\n",
      "Model Number: 1784 with model MultivariateMotif in generation 15 of 20\n",
      "Model Number: 1785 with model UnobservedComponents in generation 15 of 20\n",
      "Model Number: 1786 with model MultivariateMotif in generation 15 of 20\n",
      "Model Number: 1787 with model UnobservedComponents in generation 15 of 20\n"
     ]
    },
    {
     "name": "stderr",
     "output_type": "stream",
     "text": [
      "C:\\Users\\moham\\AppData\\Local\\Packages\\PythonSoftwareFoundation.Python.3.12_qbz5n2kfra8p0\\LocalCache\\local-packages\\Python312\\site-packages\\autots\\tools\\transform.py:5472: FutureWarning: Downcasting object dtype arrays on .fillna, .ffill, .bfill is deprecated and will change in a future version. Call result.infer_objects(copy=False) instead. To opt-in to the future behavior, set `pd.set_option('future.no_silent_downcasting', True)`\n",
      "  df = df.fillna(0)\n",
      "C:\\Users\\moham\\AppData\\Local\\Packages\\PythonSoftwareFoundation.Python.3.12_qbz5n2kfra8p0\\LocalCache\\local-packages\\Python312\\site-packages\\autots\\tools\\transform.py:5472: FutureWarning: Downcasting object dtype arrays on .fillna, .ffill, .bfill is deprecated and will change in a future version. Call result.infer_objects(copy=False) instead. To opt-in to the future behavior, set `pd.set_option('future.no_silent_downcasting', True)`\n",
      "  df = df.fillna(0)\n"
     ]
    },
    {
     "name": "stdout",
     "output_type": "stream",
     "text": [
      "Model Number: 1788 with model SectionalMotif in generation 15 of 20\n",
      "Model Number: 1789 with model LastValueNaive in generation 15 of 20\n",
      "Model Number: 1790 with model ARDL in generation 15 of 20\n",
      "Model Number: 1791 with model WindowRegression in generation 15 of 20\n",
      "Model Number: 1792 with model AverageValueNaive in generation 15 of 20\n",
      "Model Number: 1793 with model NVAR in generation 15 of 20\n",
      "Model Number: 1794 with model NVAR in generation 15 of 20\n",
      "Model Number: 1795 with model MultivariateMotif in generation 15 of 20\n",
      "Model Number: 1796 with model ARIMA in generation 15 of 20\n",
      "Model Number: 1797 with model UnobservedComponents in generation 15 of 20\n",
      "Model Number: 1798 with model ARIMA in generation 15 of 20\n",
      "Model Number: 1799 with model WindowRegression in generation 15 of 20\n",
      "Model Number: 1800 with model ARDL in generation 15 of 20\n",
      "Template Eval Error: ValueError(\"regression_type='User' but future_regressor not supplied\") in model 1800 in generation 15: ARDL\n",
      "Model Number: 1801 with model Theta in generation 15 of 20\n",
      "Model Number: 1802 with model ARIMA in generation 15 of 20\n",
      "Model Number: 1803 with model SeasonalNaive in generation 15 of 20\n",
      "Template Eval Error: Exception(\"Transformer ReplaceConstant failed on fit from params akima {'0': {'window_size': 30, 'alpha': 3.0, 'grouping_forward_limit': 2, 'max_level_shifts': 10, 'alignment': 'rolling_diff_3nn'}, '1': {'constant': 1, 'reintroduction_model': {'model': 'xgboost', 'model_params': {'n_estimators': 7, 'max_leaves': 4, 'min_child_weight': 2.5, 'learning_rate': 0.35, 'subsample': 0.95, 'colsample_bylevel': 0.56, 'colsample_bytree': 0.46, 'reg_alpha': 0.0016, 'reg_lambda': 5.3}, 'datepart_method': 'simple_2'}, 'fillna': 'linear'}, '2': {'rows': 1, 'lag': 1, 'method': 'additive', 'strength': 0.7, 'first_value_only': False, 'threshold': None}}\") in model 1803 in generation 15: SeasonalNaive\n",
      "Model Number: 1804 with model MetricMotif in generation 15 of 20\n",
      "Model Number: 1805 with model SeasonalityMotif in generation 15 of 20\n",
      "Template Eval Error: Exception(\"Transformer AlignLastValue failed on inverse from params ffill {'0': {'rows': 1, 'lag': 1, 'method': 'additive', 'strength': 1.0, 'first_value_only': True, 'threshold': None}, '1': {'fixed': True, 'window': 60, 'macro_micro': False, 'center': True}, '2': {'regression_model': {'model': 'DecisionTree', 'model_params': {'max_depth': 9, 'min_samples_split': 0.05}}, 'datepart_method': 'simple_binarized', 'polynomial_degree': None, 'transform_dict': {'fillna': None, 'transformations': {'0': 'Discretize'}, 'transformation_params': {'0': {'discretization': 'center', 'n_bins': 20}}}, 'holiday_countries_used': True}}\") in model 1805 in generation 15: SeasonalityMotif\n",
      "Model Number: 1806 with model AverageValueNaive in generation 15 of 20\n",
      "Model Number: 1807 with model MultivariateMotif in generation 15 of 20\n",
      "Model Number: 1808 with model NVAR in generation 15 of 20\n",
      "Model Number: 1809 with model Theta in generation 15 of 20\n",
      "Model Number: 1810 with model UnobservedComponents in generation 15 of 20\n",
      "Model Number: 1811 with model NVAR in generation 15 of 20\n",
      "Template Eval Error: Exception(\"Transformer RegressionFilter failed on fit from params fake_date {'0': {'sigma': 2.5, 'rolling_window': 90, 'run_order': 'trend_first', 'regression_params': {'regression_model': {'model': 'DecisionTree', 'model_params': {'max_depth': 3, 'min_samples_split': 2}}, 'datepart_method': 'simple', 'polynomial_degree': None, 'transform_dict': {'fillna': None, 'transformations': {'0': 'ClipOutliers'}, 'transformation_params': {'0': {'method': 'clip', 'std_threshold': 4}}}, 'holiday_countries_used': False}, 'holiday_params': {'threshold': 0.8, 'splash_threshold': None, 'use_dayofmonth_holidays': True, 'use_wkdom_holidays': False, 'use_wkdeom_holidays': False, 'use_lunar_holidays': True, 'use_lunar_weekday': False, 'use_islamic_holidays': True, 'use_hebrew_holidays': False, 'anomaly_detector_params': {'method': 'rolling_zscore', 'method_params': {'distribution': 'cauchy', 'alpha': 0.05, 'rolling_periods': 90, 'center': False}, 'fillna': 'fake_date', 'transform_dict': {'fillna': 'akima', 'transformations': {'0': 'AlignLastValue'}, 'transformation_params': {'0': {'rows': 2, 'lag': 1, 'method': 'additive', 'strength': 1.0, 'first_value_only': False, 'threshold': 1}}}, 'isolated_only': False}, 'remove_excess_anomalies': True, 'impact': 'datepart_regression', 'regression_params': {'regression_model': {'model': 'DecisionTree', 'model_params': {'max_depth': 3, 'min_samples_split': 2}}, 'datepart_method': 'simple', 'polynomial_degree': None, 'transform_dict': {'fillna': None, 'transformations': {'0': 'ClipOutliers'}, 'transformation_params': {'0': {'method': 'clip', 'std_threshold': 4}}}, 'holiday_countries_used': False}}, 'trend_method': 'rolling_mean'}, '1': {}}\") in model 1811 in generation 15: NVAR\n",
      "Model Number: 1812 with model SeasonalityMotif in generation 15 of 20\n",
      "Model Number: 1813 with model ARDL in generation 15 of 20\n",
      "Template Eval Error: ValueError(\"regression_type='User' but future_regressor not supplied\") in model 1813 in generation 15: ARDL\n",
      "Model Number: 1814 with model AverageValueNaive in generation 15 of 20\n",
      "Model Number: 1815 with model ARIMA in generation 15 of 20\n",
      "Model Number: 1816 with model Theta in generation 15 of 20\n",
      "Model Number: 1817 with model ARIMA in generation 15 of 20\n"
     ]
    },
    {
     "name": "stderr",
     "output_type": "stream",
     "text": [
      "C:\\Users\\moham\\AppData\\Local\\Packages\\PythonSoftwareFoundation.Python.3.12_qbz5n2kfra8p0\\LocalCache\\local-packages\\Python312\\site-packages\\autots\\tools\\transform.py:5472: FutureWarning: Downcasting object dtype arrays on .fillna, .ffill, .bfill is deprecated and will change in a future version. Call result.infer_objects(copy=False) instead. To opt-in to the future behavior, set `pd.set_option('future.no_silent_downcasting', True)`\n",
      "  df = df.fillna(0)\n",
      "C:\\Users\\moham\\AppData\\Local\\Packages\\PythonSoftwareFoundation.Python.3.12_qbz5n2kfra8p0\\LocalCache\\local-packages\\Python312\\site-packages\\autots\\tools\\transform.py:5472: FutureWarning: Downcasting object dtype arrays on .fillna, .ffill, .bfill is deprecated and will change in a future version. Call result.infer_objects(copy=False) instead. To opt-in to the future behavior, set `pd.set_option('future.no_silent_downcasting', True)`\n",
      "  df = df.fillna(0)\n"
     ]
    },
    {
     "name": "stdout",
     "output_type": "stream",
     "text": [
      "Model Number: 1818 with model Cassandra in generation 15 of 20\n",
      "Template Eval Error: Exception(\"Transformer Detrend failed on fit from params ffill {'0': {'rows': 1, 'lag': 1, 'method': 'additive', 'strength': 1.0, 'first_value_only': False, 'threshold': 1}, '1': {'model': 'Gamma', 'phi': 1, 'window': 10, 'transform_dict': {'fillna': 'ffill', 'transformations': {'0': 'MaxAbsScaler'}, 'transformation_params': {'0': {}}}}, '2': {'algorithm': 'parallel', 'fun': 'cube', 'max_iter': 250, 'whiten': True}, '3': {'lag': 1, 'fill': 'bfill'}}\") in model 1818 in generation 15: Cassandra\n",
      "Model Number: 1819 with model ARIMA in generation 15 of 20\n",
      "Model Number: 1820 with model MultivariateMotif in generation 15 of 20\n",
      "Model Number: 1821 with model MultivariateMotif in generation 15 of 20\n",
      "Model Number: 1822 with model AverageValueNaive in generation 15 of 20\n",
      "Model Number: 1823 with model SectionalMotif in generation 15 of 20\n",
      "Model Number: 1824 with model MultivariateMotif in generation 15 of 20\n",
      "Model Number: 1825 with model NVAR in generation 15 of 20\n",
      "New Generation: 16 of 20\n",
      "Model Number: 1826 with model SectionalMotif in generation 16 of 20\n",
      "Model Number: 1827 with model ARDL in generation 16 of 20\n",
      "Model Number: 1828 with model ARIMA in generation 16 of 20\n",
      "Model Number: 1829 with model LastValueNaive in generation 16 of 20\n",
      "Model Number: 1830 with model ARIMA in generation 16 of 20\n",
      "Model Number: 1831 with model MultivariateRegression in generation 16 of 20\n",
      "Template Eval Error: ModuleNotFoundError(\"No module named 'lightgbm'\") in model 1831 in generation 16: MultivariateRegression\n",
      "Model Number: 1832 with model ConstantNaive in generation 16 of 20\n",
      "Model Number: 1833 with model ARDL in generation 16 of 20\n",
      "Model Number: 1834 with model SeasonalityMotif in generation 16 of 20\n",
      "Model Number: 1835 with model SectionalMotif in generation 16 of 20\n",
      "Template Eval Error: Exception(\"Transformer Cointegration failed on fit from params time {'0': {'rows': 2, 'lag': 1, 'method': 'additive', 'strength': 1.0, 'first_value_only': False, 'threshold': 1}, '1': {'constant': 0, 'reintroduction_model': None, 'fillna': 'pchip'}, '2': {'det_order': 0, 'k_ar_diff': 1}, '3': {'rows': 1, 'lag': 1, 'method': 'additive', 'strength': 1.0, 'first_value_only': False, 'threshold': 10}}\") in model 1835 in generation 16: SectionalMotif\n",
      "Model Number: 1836 with model WindowRegression in generation 16 of 20\n",
      "Model Number: 1837 with model LastValueNaive in generation 16 of 20\n",
      "Model Number: 1838 with model Theta in generation 16 of 20\n",
      "Model Number: 1839 with model AverageValueNaive in generation 16 of 20\n",
      "Model Number: 1840 with model ARIMA in generation 16 of 20\n",
      "Model Number: 1841 with model Theta in generation 16 of 20\n",
      "Model Number: 1842 with model ConstantNaive in generation 16 of 20\n",
      "Model Number: 1843 with model Theta in generation 16 of 20\n",
      "Model Number: 1844 with model Theta in generation 16 of 20\n",
      "Model Number: 1845 with model NVAR in generation 16 of 20\n",
      "Model Number: 1846 with model SeasonalNaive in generation 16 of 20\n",
      "Model Number: 1847 with model UnobservedComponents in generation 16 of 20\n",
      "Model Number: 1848 with model SectionalMotif in generation 16 of 20\n",
      "Model Number: 1849 with model Theta in generation 16 of 20\n",
      "Model Number: 1850 with model AverageValueNaive in generation 16 of 20\n",
      "Model Number: 1851 with model Theta in generation 16 of 20\n",
      "Model Number: 1852 with model NVAR in generation 16 of 20\n",
      "Model Number: 1853 with model ConstantNaive in generation 16 of 20\n",
      "Model Number: 1854 with model ARIMA in generation 16 of 20\n",
      "Model Number: 1855 with model Cassandra in generation 16 of 20\n",
      "Template Eval Error: ValueError('negative dimensions are not allowed') in model 1855 in generation 16: Cassandra\n",
      "Model Number: 1856 with model ConstantNaive in generation 16 of 20\n",
      "Model Number: 1857 with model MultivariateMotif in generation 16 of 20\n",
      "Model Number: 1858 with model ARDL in generation 16 of 20\n"
     ]
    },
    {
     "name": "stderr",
     "output_type": "stream",
     "text": [
      "C:\\Users\\moham\\AppData\\Local\\Packages\\PythonSoftwareFoundation.Python.3.12_qbz5n2kfra8p0\\LocalCache\\local-packages\\Python312\\site-packages\\numpy\\lib\\function_base.py:2897: RuntimeWarning: invalid value encountered in divide\n",
      "  c /= stddev[:, None]\n",
      "C:\\Users\\moham\\AppData\\Local\\Packages\\PythonSoftwareFoundation.Python.3.12_qbz5n2kfra8p0\\LocalCache\\local-packages\\Python312\\site-packages\\numpy\\lib\\function_base.py:2898: RuntimeWarning: invalid value encountered in divide\n",
      "  c /= stddev[None, :]\n",
      "C:\\Users\\moham\\AppData\\Local\\Packages\\PythonSoftwareFoundation.Python.3.12_qbz5n2kfra8p0\\LocalCache\\local-packages\\Python312\\site-packages\\autots\\tools\\transform.py:1489: FutureWarning: The behavior of DataFrame concatenation with empty or all-NA entries is deprecated. In a future version, this will no longer exclude empty or all-NA columns when determining the result dtypes. To retain the old behavior, exclude the relevant entries before the concat operation.\n",
      "  df_with_last = pd.concat([self.last_values, df])\n",
      "C:\\Users\\moham\\AppData\\Local\\Packages\\PythonSoftwareFoundation.Python.3.12_qbz5n2kfra8p0\\LocalCache\\local-packages\\Python312\\site-packages\\autots\\tools\\transform.py:1489: FutureWarning: The behavior of DataFrame concatenation with empty or all-NA entries is deprecated. In a future version, this will no longer exclude empty or all-NA columns when determining the result dtypes. To retain the old behavior, exclude the relevant entries before the concat operation.\n",
      "  df_with_last = pd.concat([self.last_values, df])\n"
     ]
    },
    {
     "name": "stdout",
     "output_type": "stream",
     "text": [
      "Model Number: 1859 with model MultivariateMotif in generation 16 of 20\n",
      "Model Number: 1860 with model Cassandra in generation 16 of 20\n"
     ]
    },
    {
     "name": "stderr",
     "output_type": "stream",
     "text": [
      "C:\\Users\\moham\\AppData\\Local\\Packages\\PythonSoftwareFoundation.Python.3.12_qbz5n2kfra8p0\\LocalCache\\local-packages\\Python312\\site-packages\\numpy\\lib\\function_base.py:2897: RuntimeWarning: invalid value encountered in divide\n",
      "  c /= stddev[:, None]\n",
      "C:\\Users\\moham\\AppData\\Local\\Packages\\PythonSoftwareFoundation.Python.3.12_qbz5n2kfra8p0\\LocalCache\\local-packages\\Python312\\site-packages\\numpy\\lib\\function_base.py:2898: RuntimeWarning: invalid value encountered in divide\n",
      "  c /= stddev[None, :]\n"
     ]
    },
    {
     "name": "stdout",
     "output_type": "stream",
     "text": [
      "Template Eval Error: Exception(\"Transformer AlignLastValue failed on inverse from params time {'0': {'rows': 1, 'lag': 1, 'method': 'additive', 'strength': 1.0, 'first_value_only': True, 'threshold': None}, '1': {}, '2': {'rows': 1, 'lag': 1, 'method': 'additive', 'strength': 1.0, 'first_value_only': False, 'threshold': None}, '3': {'rows': 1, 'lag': 1, 'method': 'additive', 'strength': 1.0, 'first_value_only': False, 'threshold': 10}}\") in model 1860 in generation 16: Cassandra\n",
      "Model Number: 1861 with model LastValueNaive in generation 16 of 20\n",
      "Model Number: 1862 with model DMD in generation 16 of 20\n",
      "Model Number: 1863 with model MultivariateRegression in generation 16 of 20\n",
      "Template Eval Error: ModuleNotFoundError(\"No module named 'xgboost'\") in model 1863 in generation 16: MultivariateRegression\n",
      "Model Number: 1864 with model NVAR in generation 16 of 20\n",
      "Model Number: 1865 with model WindowRegression in generation 16 of 20\n",
      "Model Number: 1866 with model AverageValueNaive in generation 16 of 20\n",
      "Model Number: 1867 with model AverageValueNaive in generation 16 of 20\n",
      "Model Number: 1868 with model MultivariateMotif in generation 16 of 20\n",
      "Model Number: 1869 with model ARIMA in generation 16 of 20\n",
      "Template Eval Error: Exception(\"Transformer AlignLastValue failed on inverse from params nearest {'0': {'rows': 1, 'lag': 7, 'method': 'additive', 'strength': 0.5, 'first_value_only': True, 'threshold': None}, '1': {'lag': 1, 'fill': 'bfill'}, '2': {}, '3': {}}\") in model 1869 in generation 16: ARIMA\n",
      "Model Number: 1870 with model SectionalMotif in generation 16 of 20\n",
      "Model Number: 1871 with model UnobservedComponents in generation 16 of 20\n",
      "Model Number: 1872 with model Cassandra in generation 16 of 20\n"
     ]
    },
    {
     "name": "stderr",
     "output_type": "stream",
     "text": [
      "C:\\Users\\moham\\AppData\\Local\\Packages\\PythonSoftwareFoundation.Python.3.12_qbz5n2kfra8p0\\LocalCache\\local-packages\\Python312\\site-packages\\numpy\\lib\\function_base.py:2897: RuntimeWarning: invalid value encountered in divide\n",
      "  c /= stddev[:, None]\n",
      "C:\\Users\\moham\\AppData\\Local\\Packages\\PythonSoftwareFoundation.Python.3.12_qbz5n2kfra8p0\\LocalCache\\local-packages\\Python312\\site-packages\\numpy\\lib\\function_base.py:2898: RuntimeWarning: invalid value encountered in divide\n",
      "  c /= stddev[None, :]\n"
     ]
    },
    {
     "name": "stdout",
     "output_type": "stream",
     "text": [
      "Model Number: 1873 with model SeasonalNaive in generation 16 of 20\n",
      "Model Number: 1874 with model Theta in generation 16 of 20\n",
      "Template Eval Error: Exception(\"Transformer AlignLastValue failed on inverse from params akima {'0': {}, '1': {'lag_1': 7, 'method': 'LastValue'}, '2': {'rows': 1, 'lag': 1, 'method': 'additive', 'strength': 0.9, 'first_value_only': True, 'threshold': 1}, '3': {'rows': 1, 'lag': 1, 'method': 'additive', 'strength': 1.0, 'first_value_only': False, 'threshold': None}, '4': {'window_size': 30, 'alpha': 1.0, 'grouping_forward_limit': 4, 'max_level_shifts': 30, 'alignment': 'rolling_diff'}, '5': {}}\") in model 1874 in generation 16: Theta\n",
      "Model Number: 1875 with model ARIMA in generation 16 of 20\n",
      "Model Number: 1876 with model MultivariateRegression in generation 16 of 20\n",
      "Template Eval Error: ModuleNotFoundError(\"No module named 'lightgbm'\") in model 1876 in generation 16: MultivariateRegression\n",
      "Model Number: 1877 with model SectionalMotif in generation 16 of 20\n",
      "Model Number: 1878 with model LastValueNaive in generation 16 of 20\n",
      "Model Number: 1879 with model ARIMA in generation 16 of 20\n",
      "Template Eval Error: Exception(\"Transformer AlignLastValue failed on inverse from params time {'0': {'rows': 1, 'lag': 28, 'method': 'additive', 'strength': 1.0, 'first_value_only': False, 'threshold': 10}, '1': {}, '2': {'rows': 1, 'lag': 1, 'method': 'additive', 'strength': 1.0, 'first_value_only': False, 'threshold': None}, '3': {}, '4': {'rows': 1, 'lag': 1, 'method': 'additive', 'strength': 0.9, 'first_value_only': True, 'threshold': 10}, '5': {}}\") in model 1879 in generation 16: ARIMA\n",
      "Model Number: 1880 with model MultivariateRegression in generation 16 of 20\n",
      "Template Eval Error: Exception(\"Transformer AlignLastValue failed on inverse from params mean {'0': {'method': 'clip', 'std_threshold': 4, 'fillna': None}, '1': {'rows': 1, 'lag': 1, 'method': 'additive', 'strength': 1.0, 'first_value_only': True, 'threshold': 10}, '2': {'rows': 1, 'lag': 1, 'method': 'additive', 'strength': 1.0, 'first_value_only': False, 'threshold': 1}}\") in model 1880 in generation 16: MultivariateRegression\n",
      "Model Number: 1881 with model MultivariateMotif in generation 16 of 20\n",
      "Model Number: 1882 with model AverageValueNaive in generation 16 of 20\n",
      "Model Number: 1883 with model Cassandra in generation 16 of 20\n",
      "Model Number: 1884 with model ARIMA in generation 16 of 20\n"
     ]
    },
    {
     "name": "stderr",
     "output_type": "stream",
     "text": [
      "C:\\Users\\moham\\AppData\\Local\\Packages\\PythonSoftwareFoundation.Python.3.12_qbz5n2kfra8p0\\LocalCache\\local-packages\\Python312\\site-packages\\numpy\\lib\\function_base.py:2897: RuntimeWarning: invalid value encountered in divide\n",
      "  c /= stddev[:, None]\n",
      "C:\\Users\\moham\\AppData\\Local\\Packages\\PythonSoftwareFoundation.Python.3.12_qbz5n2kfra8p0\\LocalCache\\local-packages\\Python312\\site-packages\\numpy\\lib\\function_base.py:2898: RuntimeWarning: invalid value encountered in divide\n",
      "  c /= stddev[None, :]\n"
     ]
    },
    {
     "name": "stdout",
     "output_type": "stream",
     "text": [
      "Model Number: 1885 with model Theta in generation 16 of 20\n",
      "Model Number: 1886 with model NVAR in generation 16 of 20\n",
      "Model Number: 1887 with model MultivariateMotif in generation 16 of 20\n",
      "Model Number: 1888 with model NVAR in generation 16 of 20\n",
      "Model Number: 1889 with model Cassandra in generation 16 of 20\n"
     ]
    },
    {
     "name": "stderr",
     "output_type": "stream",
     "text": [
      "C:\\Users\\moham\\AppData\\Local\\Packages\\PythonSoftwareFoundation.Python.3.12_qbz5n2kfra8p0\\LocalCache\\local-packages\\Python312\\site-packages\\numpy\\lib\\function_base.py:2897: RuntimeWarning: invalid value encountered in divide\n",
      "  c /= stddev[:, None]\n",
      "C:\\Users\\moham\\AppData\\Local\\Packages\\PythonSoftwareFoundation.Python.3.12_qbz5n2kfra8p0\\LocalCache\\local-packages\\Python312\\site-packages\\numpy\\lib\\function_base.py:2898: RuntimeWarning: invalid value encountered in divide\n",
      "  c /= stddev[None, :]\n"
     ]
    },
    {
     "name": "stdout",
     "output_type": "stream",
     "text": [
      "Model Number: 1890 with model MultivariateMotif in generation 16 of 20\n",
      "Model Number: 1891 with model WindowRegression in generation 16 of 20\n",
      "Model Number: 1892 with model ARDL in generation 16 of 20\n",
      "Model Number: 1893 with model SectionalMotif in generation 16 of 20\n",
      "Model Number: 1894 with model MultivariateMotif in generation 16 of 20\n",
      "Model Number: 1895 with model Theta in generation 16 of 20\n",
      "Model Number: 1896 with model AverageValueNaive in generation 16 of 20\n",
      "Model Number: 1897 with model UnobservedComponents in generation 16 of 20\n",
      "Model Number: 1898 with model Theta in generation 16 of 20\n",
      "Model Number: 1899 with model SeasonalNaive in generation 16 of 20\n",
      "Model Number: 1900 with model UnobservedComponents in generation 16 of 20\n",
      "Model Number: 1901 with model LastValueNaive in generation 16 of 20\n",
      "Model Number: 1902 with model ARDL in generation 16 of 20\n",
      "Template Eval Error: Exception(\"Transformer ReplaceConstant failed on fit from params mean {'0': {'sigma': 2, 'rolling_window': 90, 'run_order': 'trend_first', 'regression_params': {'regression_model': {'model': 'ElasticNet', 'model_params': {'l1_ratio': 0.5, 'fit_intercept': True, 'selection': 'cyclic'}}, 'datepart_method': 'common_fourier_rw', 'polynomial_degree': None, 'transform_dict': {'fillna': None, 'transformations': {'0': 'EWMAFilter'}, 'transformation_params': {'0': {'span': 7}}}, 'holiday_countries_used': False}, 'holiday_params': None, 'trend_method': 'rolling_mean'}, '1': {'rows': 1, 'lag': 28, 'method': 'additive', 'strength': 1.0, 'first_value_only': False, 'threshold': None}, '2': {'constant': 0, 'reintroduction_model': {'model': 'xgboost', 'model_params': {'booster': 'gblinear', 'max_depth': 6, 'eta': 0.01, 'min_child_weight': 1, 'subsample': 1, 'colsample_bylevel': 1, 'reg_alpha': 0, 'reg_lambda': 1, 'grow_policy': 'lossguide'}, 'datepart_method': ['weekdaymonthofyear', 'dayofmonthofyear', 168]}, 'fillna': 'akima'}, '3': {}}\") in model 1902 in generation 16: ARDL\n",
      "Model Number: 1903 with model MetricMotif in generation 16 of 20\n",
      "Model Number: 1904 with model SectionalMotif in generation 16 of 20\n",
      "Model Number: 1905 with model Cassandra in generation 16 of 20\n"
     ]
    },
    {
     "name": "stderr",
     "output_type": "stream",
     "text": [
      "C:\\Users\\moham\\AppData\\Local\\Packages\\PythonSoftwareFoundation.Python.3.12_qbz5n2kfra8p0\\LocalCache\\local-packages\\Python312\\site-packages\\numpy\\lib\\function_base.py:2897: RuntimeWarning: invalid value encountered in divide\n",
      "  c /= stddev[:, None]\n",
      "C:\\Users\\moham\\AppData\\Local\\Packages\\PythonSoftwareFoundation.Python.3.12_qbz5n2kfra8p0\\LocalCache\\local-packages\\Python312\\site-packages\\numpy\\lib\\function_base.py:2898: RuntimeWarning: invalid value encountered in divide\n",
      "  c /= stddev[None, :]\n"
     ]
    },
    {
     "name": "stdout",
     "output_type": "stream",
     "text": [
      "Template Eval Error: Exception(\"Transformer AlignLastValue failed on inverse from params fake_date {'0': {}, '1': {}, '2': {'rows': 1, 'lag': 1, 'method': 'additive', 'strength': 1.0, 'first_value_only': True, 'threshold': 1}, '3': {'rows': 1, 'lag': 1, 'method': 'additive', 'strength': 1.0, 'first_value_only': False, 'threshold': 1}}\") in model 1905 in generation 16: Cassandra\n",
      "Model Number: 1906 with model MetricMotif in generation 16 of 20\n",
      "Model Number: 1907 with model MultivariateMotif in generation 16 of 20\n",
      "Model Number: 1908 with model SectionalMotif in generation 16 of 20\n",
      "Template Eval Error: Exception(\"Transformer ReplaceConstant failed on fit from params time {'0': {'constant': 0, 'reintroduction_model': {'model': 'xgboost', 'model_params': {'booster': 'gbtree', 'colsample_bylevel': 0.54, 'learning_rate': 0.0125, 'max_depth': 11, 'min_child_weight': 0.0127203, 'n_estimators': 319}, 'datepart_method': ['db2_365.25_12_0.5', 'morlet_7_7_1']}, 'fillna': 'ffill'}, '1': {}, '2': {'model': 'Linear', 'phi': 1, 'window': None}, '3': {'lag': 1, 'fill': 'bfill'}}\") in model 1908 in generation 16: SectionalMotif\n",
      "Model Number: 1909 with model Theta in generation 16 of 20\n",
      "New Generation: 17 of 20\n",
      "Model Number: 1910 with model ARDL in generation 17 of 20\n",
      "Template Eval Error: ValueError(\"regression_type='User' but future_regressor not supplied\") in model 1910 in generation 17: ARDL\n",
      "Model Number: 1911 with model WindowRegression in generation 17 of 20\n",
      "Model Number: 1912 with model MultivariateRegression in generation 17 of 20\n",
      "Model Number: 1913 with model SeasonalNaive in generation 17 of 20\n",
      "Model Number: 1914 with model ARIMA in generation 17 of 20\n",
      "Template Eval Error: ValueError(\"regression_type='User' but future_regressor not supplied\") in model 1914 in generation 17: ARIMA\n",
      "Model Number: 1915 with model ARDL in generation 17 of 20\n",
      "Model Number: 1916 with model UnobservedComponents in generation 17 of 20\n",
      "Model Number: 1917 with model SectionalMotif in generation 17 of 20\n",
      "Model Number: 1918 with model Cassandra in generation 17 of 20\n",
      "Model Number: 1919 with model SectionalMotif in generation 17 of 20\n",
      "Model Number: 1920 with model ARDL in generation 17 of 20\n",
      "Model Number: 1921 with model LastValueNaive in generation 17 of 20\n",
      "Model Number: 1922 with model NVAR in generation 17 of 20\n",
      "Model Number: 1923 with model SeasonalityMotif in generation 17 of 20\n",
      "Model Number: 1924 with model Theta in generation 17 of 20\n",
      "Model Number: 1925 with model UnobservedComponents in generation 17 of 20\n",
      "Model Number: 1926 with model ConstantNaive in generation 17 of 20\n",
      "Model Number: 1927 with model Theta in generation 17 of 20\n",
      "Model Number: 1928 with model LastValueNaive in generation 17 of 20\n",
      "Template Eval Error: Exception(\"Transformer AlignLastValue failed on inverse from params nearest {'0': {}, '1': {'rows': 1, 'lag': 7, 'method': 'additive', 'strength': 1.0, 'first_value_only': True, 'threshold': None}, '2': {'method': 'mad', 'method_params': {'distribution': 'uniform', 'alpha': 0.03}, 'fillna': 'rolling_mean_24', 'transform_dict': {'fillna': 'ffill', 'transformations': {'0': 'DifferencedTransformer'}, 'transformation_params': {'0': {'lag': 1, 'fill': 'zero'}}}, 'isolated_only': False}, '3': {'center': 'median'}, '4': {}, '5': {'rows': 1, 'lag': 2, 'method': 'additive', 'strength': 1.0, 'first_value_only': False, 'threshold': 1}}\") in model 1928 in generation 17: LastValueNaive\n",
      "Model Number: 1929 with model SeasonalNaive in generation 17 of 20\n",
      "Template Eval Error: Exception(\"Transformer BTCD failed on fit from params quadratic {'0': {'regression_model': {'model': 'FastRidge', 'model_params': {}}, 'max_lags': 2}, '1': {}, '2': {'rows': 1, 'lag': 1, 'method': 'additive', 'strength': 0.2, 'first_value_only': False, 'threshold': 1}, '3': {}}\") in model 1929 in generation 17: SeasonalNaive\n",
      "Model Number: 1930 with model ConstantNaive in generation 17 of 20\n",
      "Model Number: 1931 with model Cassandra in generation 17 of 20\n",
      "Model Number: 1932 with model Theta in generation 17 of 20\n",
      "Model Number: 1933 with model AverageValueNaive in generation 17 of 20\n"
     ]
    },
    {
     "name": "stderr",
     "output_type": "stream",
     "text": [
      "C:\\Users\\moham\\AppData\\Local\\Packages\\PythonSoftwareFoundation.Python.3.12_qbz5n2kfra8p0\\LocalCache\\local-packages\\Python312\\site-packages\\autots\\tools\\thresholding.py:204: RuntimeWarning: overflow encountered in scalar power\n",
      "  (1 + mean_perc_decrease) ** self.mean_weight\n",
      "C:\\Users\\moham\\AppData\\Local\\Packages\\PythonSoftwareFoundation.Python.3.12_qbz5n2kfra8p0\\LocalCache\\local-packages\\Python312\\site-packages\\numpy\\lib\\function_base.py:2897: RuntimeWarning: invalid value encountered in divide\n",
      "  c /= stddev[:, None]\n",
      "C:\\Users\\moham\\AppData\\Local\\Packages\\PythonSoftwareFoundation.Python.3.12_qbz5n2kfra8p0\\LocalCache\\local-packages\\Python312\\site-packages\\numpy\\lib\\function_base.py:2898: RuntimeWarning: invalid value encountered in divide\n",
      "  c /= stddev[None, :]\n"
     ]
    },
    {
     "name": "stdout",
     "output_type": "stream",
     "text": [
      "Model Number: 1934 with model MetricMotif in generation 17 of 20\n",
      "Template Eval Error: Exception(\"Transformer Cointegration failed on fit from params fake_date {'0': {'method': 'savgol_filter', 'method_args': {'window_length': 31, 'polyorder': 1, 'deriv': 0, 'mode': 'mirror'}}, '1': {'det_order': 1, 'k_ar_diff': 2}, '2': {'rolling_window': 0.1, 'n_tails': 0.1, 'n_future': 90, 'method': 'mean', 'macro_micro': True}, '3': {}}\") in model 1934 in generation 17: MetricMotif\n",
      "Model Number: 1935 with model NVAR in generation 17 of 20\n",
      "Model Number: 1936 with model NVAR in generation 17 of 20\n",
      "Template Eval Error: Exception(\"Transformer AlignLastValue failed on inverse from params ffill {'0': {}, '1': {'rows': 1, 'lag': 1, 'method': 'additive', 'strength': 1.0, 'first_value_only': True, 'threshold': 10}, '2': {'rows': 2}}\") in model 1936 in generation 17: NVAR\n",
      "Model Number: 1937 with model ARIMA in generation 17 of 20\n",
      "Model Number: 1938 with model NVAR in generation 17 of 20\n",
      "Model Number: 1939 with model MultivariateMotif in generation 17 of 20\n",
      "Template Eval Error: ValueError('Model MultivariateMotif returned NaN for one or more series. fail_on_forecast_nan=True') in model 1939 in generation 17: MultivariateMotif\n",
      "Model Number: 1940 with model Theta in generation 17 of 20\n",
      "Model Number: 1941 with model ARIMA in generation 17 of 20\n"
     ]
    },
    {
     "name": "stderr",
     "output_type": "stream",
     "text": [
      "C:\\Users\\moham\\AppData\\Local\\Packages\\PythonSoftwareFoundation.Python.3.12_qbz5n2kfra8p0\\LocalCache\\local-packages\\Python312\\site-packages\\numpy\\lib\\function_base.py:553: RuntimeWarning: invalid value encountered in divide\n",
      "  avg = avg_as_array = np.multiply(a, wgt,\n"
     ]
    },
    {
     "name": "stdout",
     "output_type": "stream",
     "text": [
      "Model Number: 1942 with model NVAR in generation 17 of 20\n",
      "Template Eval Error: Exception(\"Transformer ReplaceConstant failed on fit from params ffill {'0': {'output_distribution': 'uniform', 'n_quantiles': 63}, '1': {'rolling_window': 0.1, 'n_tails': 0.1, 'n_future': 0.1, 'method': 'mean', 'macro_micro': True}, '2': {}, '3': {'rows': 1, 'lag': 7, 'method': 'additive', 'strength': 0.5, 'first_value_only': False, 'threshold': 10}, '4': {'rows': None, 'displacement_rows': 1, 'quantile': 1.0, 'decay_span': None}, '5': {'constant': 0, 'reintroduction_model': {'model': 'xgboost', 'model_params': {'booster': 'gbtree', 'max_depth': 2, 'eta': 0.3, 'min_child_weight': 1, 'subsample': 1, 'colsample_bylevel': 1, 'reg_alpha': 0.001, 'reg_lambda': 0.2, 'n_estimators': 100, 'grow_policy': 'lossguide', 'multi_strategy': 'multi_output_tree', 'tree_method': 'hist'}, 'datepart_method': 'simple'}, 'fillna': 'mean'}}\") in model 1942 in generation 17: NVAR\n",
      "Model Number: 1943 with model MultivariateMotif in generation 17 of 20\n",
      "Model Number: 1944 with model Theta in generation 17 of 20\n",
      "Model Number: 1945 with model WindowRegression in generation 17 of 20\n",
      "Model Number: 1946 with model Cassandra in generation 17 of 20\n"
     ]
    },
    {
     "name": "stderr",
     "output_type": "stream",
     "text": [
      "C:\\Users\\moham\\AppData\\Local\\Packages\\PythonSoftwareFoundation.Python.3.12_qbz5n2kfra8p0\\LocalCache\\local-packages\\Python312\\site-packages\\numpy\\lib\\function_base.py:2897: RuntimeWarning: invalid value encountered in divide\n",
      "  c /= stddev[:, None]\n",
      "C:\\Users\\moham\\AppData\\Local\\Packages\\PythonSoftwareFoundation.Python.3.12_qbz5n2kfra8p0\\LocalCache\\local-packages\\Python312\\site-packages\\numpy\\lib\\function_base.py:2898: RuntimeWarning: invalid value encountered in divide\n",
      "  c /= stddev[None, :]\n"
     ]
    },
    {
     "name": "stdout",
     "output_type": "stream",
     "text": [
      "Model Number: 1947 with model MultivariateMotif in generation 17 of 20\n",
      "Model Number: 1948 with model SectionalMotif in generation 17 of 20\n",
      "Model Number: 1949 with model ARDL in generation 17 of 20\n",
      "Model Number: 1950 with model MultivariateMotif in generation 17 of 20\n",
      "Model Number: 1951 with model SeasonalNaive in generation 17 of 20\n",
      "Template Eval Error: Exception(\"Transformer HolidayTransformer failed on fit from params fake_date {'0': {'window_size': 30, 'alpha': 3.0, 'grouping_forward_limit': 2, 'max_level_shifts': 10, 'alignment': 'rolling_diff_3nn'}, '1': {}, '2': {'threshold': 0.8, 'splash_threshold': 0.65, 'use_dayofmonth_holidays': True, 'use_wkdom_holidays': True, 'use_wkdeom_holidays': False, 'use_lunar_holidays': False, 'use_lunar_weekday': False, 'use_islamic_holidays': False, 'use_hebrew_holidays': False, 'anomaly_detector_params': {'method': 'zscore', 'method_params': {'distribution': 'norm', 'alpha': 0.05}, 'fillna': 'rolling_mean_24', 'transform_dict': None, 'isolated_only': False}, 'remove_excess_anomalies': True, 'impact': 'median_value', 'regression_params': {}}, '3': {'discretization': 'sklearn-kmeans', 'n_bins': 20}}\") in model 1951 in generation 17: SeasonalNaive\n",
      "Model Number: 1952 with model AverageValueNaive in generation 17 of 20\n",
      "Model Number: 1953 with model SeasonalNaive in generation 17 of 20\n",
      "Model Number: 1954 with model ARIMA in generation 17 of 20\n",
      "Model Number: 1955 with model AverageValueNaive in generation 17 of 20\n",
      "Model Number: 1956 with model WindowRegression in generation 17 of 20\n",
      "Template Eval Error: ValueError(\"regression_type='User' but no future_regressor passed\") in model 1956 in generation 17: WindowRegression\n",
      "Model Number: 1957 with model SectionalMotif in generation 17 of 20\n",
      "Model Number: 1958 with model Theta in generation 17 of 20\n",
      "Model Number: 1959 with model SectionalMotif in generation 17 of 20\n",
      "Template Eval Error: Exception(\"Transformer Cointegration failed on fit from params time {'0': {'rows': 1, 'lag': 1, 'method': 'additive', 'strength': 0.9, 'first_value_only': False, 'threshold': 1}, '1': {'det_order': 0, 'k_ar_diff': 1}, '2': {'rows': 1, 'lag': 1, 'method': 'additive', 'strength': 1.0, 'first_value_only': False, 'threshold': None}, '3': {'rows': 4}}\") in model 1959 in generation 17: SectionalMotif\n",
      "Model Number: 1960 with model MetricMotif in generation 17 of 20\n",
      "Model Number: 1961 with model NVAR in generation 17 of 20\n",
      "Model Number: 1962 with model MultivariateRegression in generation 17 of 20\n",
      "Template Eval Error: Exception(\"Transformer SeasonalDifference failed on fit from params time {'0': {'lag_1': 364, 'method': 2}, '1': {'lag': 1, 'fill': 'bfill'}, '2': {'rows': 1, 'lag': 1, 'method': 'additive', 'strength': 1.0, 'first_value_only': True, 'threshold': None}}\") in model 1962 in generation 17: MultivariateRegression\n",
      "Model Number: 1963 with model AverageValueNaive in generation 17 of 20\n",
      "Model Number: 1964 with model AverageValueNaive in generation 17 of 20\n",
      "Model Number: 1965 with model AverageValueNaive in generation 17 of 20\n"
     ]
    },
    {
     "name": "stderr",
     "output_type": "stream",
     "text": [
      "C:\\Users\\moham\\AppData\\Local\\Packages\\PythonSoftwareFoundation.Python.3.12_qbz5n2kfra8p0\\LocalCache\\local-packages\\Python312\\site-packages\\autots\\tools\\transform.py:5472: FutureWarning: Downcasting object dtype arrays on .fillna, .ffill, .bfill is deprecated and will change in a future version. Call result.infer_objects(copy=False) instead. To opt-in to the future behavior, set `pd.set_option('future.no_silent_downcasting', True)`\n",
      "  df = df.fillna(0)\n",
      "C:\\Users\\moham\\AppData\\Local\\Packages\\PythonSoftwareFoundation.Python.3.12_qbz5n2kfra8p0\\LocalCache\\local-packages\\Python312\\site-packages\\autots\\tools\\transform.py:5472: FutureWarning: Downcasting object dtype arrays on .fillna, .ffill, .bfill is deprecated and will change in a future version. Call result.infer_objects(copy=False) instead. To opt-in to the future behavior, set `pd.set_option('future.no_silent_downcasting', True)`\n",
      "  df = df.fillna(0)\n"
     ]
    },
    {
     "name": "stdout",
     "output_type": "stream",
     "text": [
      "Model Number: 1966 with model Theta in generation 17 of 20\n",
      "Model Number: 1967 with model MultivariateMotif in generation 17 of 20\n",
      "Model Number: 1968 with model ARIMA in generation 17 of 20\n",
      "Model Number: 1969 with model ARIMA in generation 17 of 20\n"
     ]
    },
    {
     "name": "stderr",
     "output_type": "stream",
     "text": [
      "C:\\Users\\moham\\AppData\\Local\\Packages\\PythonSoftwareFoundation.Python.3.12_qbz5n2kfra8p0\\LocalCache\\local-packages\\Python312\\site-packages\\sklearn\\neighbors\\_classification.py:238: DataConversionWarning: A column-vector y was passed when a 1d array was expected. Please change the shape of y to (n_samples,), for example using ravel().\n",
      "  return self._fit(X, y)\n"
     ]
    },
    {
     "name": "stdout",
     "output_type": "stream",
     "text": [
      "Model Number: 1970 with model Theta in generation 17 of 20\n",
      "Model Number: 1971 with model SectionalMotif in generation 17 of 20\n",
      "Template Eval Error: Exception(\"Transformer ReplaceConstant failed on fit from params time {'0': {'constant': 0, 'reintroduction_model': {'model': 'xgboost', 'model_params': {'booster': 'gbtree', 'max_depth': 3, 'eta': 0.01, 'min_child_weight': 10, 'subsample': 1, 'colsample_bylevel': 1, 'reg_alpha': 0, 'reg_lambda': 1, 'n_estimators': 10, 'quantile_alpha': 0.5, 'tree_method': 'hist'}, 'datepart_method': 'simple'}, 'fillna': 'ffill'}, '1': {}, '2': {'rolling_window': 0.1, 'n_tails': 0.1, 'n_future': 360, 'method': 'median', 'macro_micro': True}, '3': {'rows': 4}}\") in model 1971 in generation 17: SectionalMotif\n",
      "Model Number: 1972 with model NVAR in generation 17 of 20\n",
      "Model Number: 1973 with model SectionalMotif in generation 17 of 20\n",
      "Model Number: 1974 with model NVAR in generation 17 of 20\n",
      "Model Number: 1975 with model NVAR in generation 17 of 20\n",
      "Model Number: 1976 with model UnobservedComponents in generation 17 of 20\n",
      "Model Number: 1977 with model NVAR in generation 17 of 20\n",
      "Model Number: 1978 with model DMD in generation 17 of 20\n",
      "Model Number: 1979 with model MultivariateMotif in generation 17 of 20\n",
      "Model Number: 1980 with model ARIMA in generation 17 of 20\n",
      "Template Eval Error: ValueError(\"regression_type='User' but future_regressor not supplied\") in model 1980 in generation 17: ARIMA\n",
      "Model Number: 1981 with model ARDL in generation 17 of 20\n",
      "Model Number: 1982 with model SeasonalNaive in generation 17 of 20\n",
      "Model Number: 1983 with model SectionalMotif in generation 17 of 20\n",
      "Model Number: 1984 with model MultivariateMotif in generation 17 of 20\n",
      "Model Number: 1985 with model ARDL in generation 17 of 20\n"
     ]
    },
    {
     "name": "stderr",
     "output_type": "stream",
     "text": [
      "C:\\Users\\moham\\AppData\\Local\\Packages\\PythonSoftwareFoundation.Python.3.12_qbz5n2kfra8p0\\LocalCache\\local-packages\\Python312\\site-packages\\sklearn\\decomposition\\_fastica.py:589: UserWarning: Ignoring n_components with whiten=False.\n",
      "  warnings.warn(\"Ignoring n_components with whiten=False.\")\n",
      "C:\\Users\\moham\\AppData\\Local\\Packages\\PythonSoftwareFoundation.Python.3.12_qbz5n2kfra8p0\\LocalCache\\local-packages\\Python312\\site-packages\\sklearn\\decomposition\\_fastica.py:128: ConvergenceWarning: FastICA did not converge. Consider increasing tolerance or the maximum number of iterations.\n",
      "  warnings.warn(\n"
     ]
    },
    {
     "name": "stdout",
     "output_type": "stream",
     "text": [
      "Model Number: 1986 with model MultivariateRegression in generation 17 of 20\n",
      "Template Eval Error: Exception(\"Transformer StandardScaler failed on fit from params quadratic {'0': {'decimals': 0, 'on_transform': False, 'on_inverse': True}, '1': {}, '2': {'method': 'nonparametric', 'method_params': {'p': None, 'z_init': 1.5, 'z_limit': 12, 'z_step': 0.5, 'inverse': False, 'max_contamination': 0.25, 'mean_weight': 25, 'sd_weight': 25, 'anomaly_count_weight': 1.0}, 'fillna': 'fake_date', 'transform_dict': {'fillna': None, 'transformations': {'0': 'ClipOutliers'}, 'transformation_params': {'0': {'method': 'clip', 'std_threshold': 6}}}, 'isolated_only': False}, '3': {}, '4': {}, '5': {'lag_1': 2, 'method': 5}}\") in model 1986 in generation 17: MultivariateRegression\n",
      "Model Number: 1987 with model WindowRegression in generation 17 of 20\n",
      "Model Number: 1988 with model Cassandra in generation 17 of 20\n"
     ]
    },
    {
     "name": "stderr",
     "output_type": "stream",
     "text": [
      "C:\\Users\\moham\\AppData\\Local\\Packages\\PythonSoftwareFoundation.Python.3.12_qbz5n2kfra8p0\\LocalCache\\local-packages\\Python312\\site-packages\\numpy\\lib\\function_base.py:2897: RuntimeWarning: invalid value encountered in divide\n",
      "  c /= stddev[:, None]\n",
      "C:\\Users\\moham\\AppData\\Local\\Packages\\PythonSoftwareFoundation.Python.3.12_qbz5n2kfra8p0\\LocalCache\\local-packages\\Python312\\site-packages\\numpy\\lib\\function_base.py:2898: RuntimeWarning: invalid value encountered in divide\n",
      "  c /= stddev[None, :]\n"
     ]
    },
    {
     "name": "stdout",
     "output_type": "stream",
     "text": [
      "Model Number: 1989 with model MultivariateMotif in generation 17 of 20\n",
      "Template Eval Error: Exception(\"Transformer AlignLastValue failed on inverse from params zero {'0': {'rows': 1, 'lag': 1, 'method': 'additive', 'strength': 0.5, 'first_value_only': True, 'threshold': 10}, '1': {'n_harmonics': 20, 'detrend': 'linear'}, '2': {'lag': 1, 'fill': 'bfill'}, '3': {'rows': 4}}\") in model 1989 in generation 17: MultivariateMotif\n",
      "Model Number: 1990 with model Theta in generation 17 of 20\n",
      "Model Number: 1991 with model LastValueNaive in generation 17 of 20\n",
      "Model Number: 1992 with model ARIMA in generation 17 of 20\n",
      "Model Number: 1993 with model SectionalMotif in generation 17 of 20\n",
      "Template Eval Error: Exception(\"Transformer Cointegration failed on fit from params akima {'0': {'rows': 1, 'lag': 1, 'method': 'additive', 'strength': 1.0, 'first_value_only': False, 'threshold': 10}, '1': {'det_order': 0, 'k_ar_diff': 1}, '2': {'method': 'rolling_zscore', 'method_params': {'distribution': 'uniform', 'alpha': 0.2, 'rolling_periods': 28, 'center': False}, 'fillna': 'rolling_mean_24', 'transform_dict': None, 'isolated_only': False}}\") in model 1993 in generation 17: SectionalMotif\n",
      "New Generation: 18 of 20\n",
      "Model Number: 1994 with model Theta in generation 18 of 20\n",
      "Model Number: 1995 with model AverageValueNaive in generation 18 of 20\n",
      "Model Number: 1996 with model MultivariateMotif in generation 18 of 20\n",
      "Model Number: 1997 with model MultivariateMotif in generation 18 of 20\n",
      "Model Number: 1998 with model Cassandra in generation 18 of 20\n"
     ]
    },
    {
     "name": "stderr",
     "output_type": "stream",
     "text": [
      "C:\\Users\\moham\\AppData\\Local\\Packages\\PythonSoftwareFoundation.Python.3.12_qbz5n2kfra8p0\\LocalCache\\local-packages\\Python312\\site-packages\\numpy\\lib\\function_base.py:2897: RuntimeWarning: invalid value encountered in divide\n",
      "  c /= stddev[:, None]\n",
      "C:\\Users\\moham\\AppData\\Local\\Packages\\PythonSoftwareFoundation.Python.3.12_qbz5n2kfra8p0\\LocalCache\\local-packages\\Python312\\site-packages\\numpy\\lib\\function_base.py:2898: RuntimeWarning: invalid value encountered in divide\n",
      "  c /= stddev[None, :]\n"
     ]
    },
    {
     "name": "stdout",
     "output_type": "stream",
     "text": [
      "Model Number: 1999 with model AverageValueNaive in generation 18 of 20\n",
      "Template Eval Error: Exception(\"Transformer BTCD failed on fit from params time {'0': {'rows': 1, 'lag': 1, 'method': 'additive', 'strength': 0.9, 'first_value_only': False, 'threshold': 1}, '1': {}, '2': {'rows': 1, 'lag': 1, 'method': 'multiplicative', 'strength': 1.0, 'first_value_only': False, 'threshold': 1}, '3': {'rows': 4}, '4': {'regression_model': {'model': 'FastRidge', 'model_params': {}}, 'max_lags': 1}}\") in model 1999 in generation 18: AverageValueNaive\n",
      "Model Number: 2000 with model MetricMotif in generation 18 of 20\n",
      "Model Number: 2001 with model LastValueNaive in generation 18 of 20\n",
      "Model Number: 2002 with model Theta in generation 18 of 20\n",
      "Model Number: 2003 with model UnobservedComponents in generation 18 of 20\n",
      "Template Eval Error: ValueError(\"regression_type='User' but no future_regressor supplied\") in model 2003 in generation 18: UnobservedComponents\n",
      "Model Number: 2004 with model NVAR in generation 18 of 20\n",
      "Template Eval Error: Exception(\"Transformer AlignLastValue failed on inverse from params ffill {'0': {'rows': 1, 'lag': 1, 'method': 'additive', 'strength': 0.2, 'first_value_only': False, 'threshold': None}, '1': {'rows': 1, 'lag': 1, 'method': 'additive', 'strength': 1.0, 'first_value_only': True, 'threshold': None}, '2': {'model_name': 'holt_winters_damped', 'state_transition': [[1.0045, 0.995, 0.0, 0.0, 0.0, 0.0, 0.0, 0.0, 0.0], [0.0015000000000000013, 0.995, 0.0, 0.0, 0.0, 0.0, 0.0, 0.0, 0.0], [0.0, 0.0, 0.0, 0.0, 0.0, 0.0, 0.0, 0.0, 1.0], [0.0, 0.0, 0.0, 0.0, 0.0, 0.0, 0.0, 0.0, 0.0], [0.0, 0.0, 1.0, 0.0, 0.0, 0.0, 0.0, 0.0, 0.0], [0.0, 0.0, 0.0, 1.0, 0.0, 0.0, 0.0, 0.0, 0.0], [0.0, 0.0, 0.0, 0.0, 1.0, 0.0, 0.0, 0.0, 0.0], [0.0, 0.0, 0.0, 0.0, 0.0, 1.0, 0.0, 0.0, 0.0], [0.0, 0.0, 0.0, 0.0, 0.0, 0.0, 1.0, 0.0, 0.0]], 'process_noise': [[0.9, 0.0, 0.0, 0.0, 0.0, 0.0, 0.0, 0.0, 0.0], [0.0, 0.3, 0.0, 0.0, 0.0, 0.0, 0.0, 0.0, 0.0], [0.0, 0.0, 0.3, 0.0, 0.0, 0.0, 0.0, 0.0, 0.0], [0.0, 0.0, 0.0, 0.3, 0.0, 0.0, 0.0, 0.0, 0.0], [0.0, 0.0, 0.0, 0.0, 0.3, 0.0, 0.0, 0.0, 0.0], [0.0, 0.0, 0.0, 0.0, 0.0, 0.3, 0.0, 0.0, 0.0], [0.0, 0.0, 0.0, 0.0, 0.0, 0.0, 0.3, 0.0, 0.0], [0.0, 0.0, 0.0, 0.0, 0.0, 0.0, 0.0, 0.3, 0.0], [0.0, 0.0, 0.0, 0.0, 0.0, 0.0, 0.0, 0.0, 0.3]], 'observation_model': [[1.0, 1.0, 0.0, 0.0, 0.0, 0.0, 0.0, 0.0, 1.0]], 'observation_noise': 1, 'em_iter': None, 'on_transform': False, 'on_inverse': True}}\") in model 2004 in generation 18: NVAR\n",
      "Model Number: 2005 with model MultivariateMotif in generation 18 of 20\n",
      "Model Number: 2006 with model SectionalMotif in generation 18 of 20\n"
     ]
    },
    {
     "name": "stderr",
     "output_type": "stream",
     "text": [
      "C:\\Users\\moham\\AppData\\Local\\Packages\\PythonSoftwareFoundation.Python.3.12_qbz5n2kfra8p0\\LocalCache\\local-packages\\Python312\\site-packages\\sklearn\\svm\\_classes.py:31: FutureWarning: The default value of `dual` will change from `True` to `'auto'` in 1.5. Set the value of `dual` explicitly to suppress the warning.\n",
      "  warnings.warn(\n",
      "C:\\Users\\moham\\AppData\\Local\\Packages\\PythonSoftwareFoundation.Python.3.12_qbz5n2kfra8p0\\LocalCache\\local-packages\\Python312\\site-packages\\sklearn\\svm\\_base.py:1237: ConvergenceWarning: Liblinear failed to converge, increase the number of iterations.\n",
      "  warnings.warn(\n"
     ]
    },
    {
     "name": "stdout",
     "output_type": "stream",
     "text": [
      "Model Number: 2007 with model Cassandra in generation 18 of 20\n",
      "Model Number: 2008 with model LastValueNaive in generation 18 of 20\n",
      "Model Number: 2009 with model UnobservedComponents in generation 18 of 20\n",
      "Model Number: 2010 with model SectionalMotif in generation 18 of 20\n",
      "Model Number: 2011 with model NVAR in generation 18 of 20\n",
      "Model Number: 2012 with model MultivariateRegression in generation 18 of 20\n",
      "Template Eval Error: ModuleNotFoundError(\"No module named 'lightgbm'\") in model 2012 in generation 18: MultivariateRegression\n",
      "Model Number: 2013 with model SeasonalNaive in generation 18 of 20\n"
     ]
    },
    {
     "name": "stderr",
     "output_type": "stream",
     "text": [
      "C:\\Users\\moham\\AppData\\Local\\Packages\\PythonSoftwareFoundation.Python.3.12_qbz5n2kfra8p0\\LocalCache\\local-packages\\Python312\\site-packages\\numpy\\lib\\function_base.py:2897: RuntimeWarning: invalid value encountered in divide\n",
      "  c /= stddev[:, None]\n",
      "C:\\Users\\moham\\AppData\\Local\\Packages\\PythonSoftwareFoundation.Python.3.12_qbz5n2kfra8p0\\LocalCache\\local-packages\\Python312\\site-packages\\numpy\\lib\\function_base.py:2898: RuntimeWarning: invalid value encountered in divide\n",
      "  c /= stddev[None, :]\n"
     ]
    },
    {
     "name": "stdout",
     "output_type": "stream",
     "text": [
      "Model Number: 2014 with model ARDL in generation 18 of 20\n",
      "Template Eval Error: ValueError(\"regression_type='User' but future_regressor not supplied\") in model 2014 in generation 18: ARDL\n",
      "Model Number: 2015 with model UnobservedComponents in generation 18 of 20\n",
      "Model Number: 2016 with model ARIMA in generation 18 of 20\n",
      "Model Number: 2017 with model AverageValueNaive in generation 18 of 20\n",
      "Model Number: 2018 with model SeasonalNaive in generation 18 of 20\n",
      "Model Number: 2019 with model Theta in generation 18 of 20\n"
     ]
    },
    {
     "name": "stderr",
     "output_type": "stream",
     "text": [
      "C:\\Users\\moham\\AppData\\Local\\Packages\\PythonSoftwareFoundation.Python.3.12_qbz5n2kfra8p0\\LocalCache\\local-packages\\Python312\\site-packages\\sklearn\\neighbors\\_classification.py:238: DataConversionWarning: A column-vector y was passed when a 1d array was expected. Please change the shape of y to (n_samples,), for example using ravel().\n",
      "  return self._fit(X, y)\n"
     ]
    },
    {
     "name": "stdout",
     "output_type": "stream",
     "text": [
      "Model Number: 2020 with model ARDL in generation 18 of 20\n",
      "Template Eval Error: ValueError(\"ARDL series Close failed with error ValueError('The number of regressors (552) including deterministics, lags of the endog, lags of the exogenous, and fixed regressors is larger than the sample available for estimation (189).') exog train              dp0  dp1        dp2  dp3  dp4  dp5  dp6  dp7  dp8  dp9  ...  \\\\\\nDate                                                                 ...   \\n2023-12-09   9.0  1.0  2460287.5  0.0  0.0  0.0  0.0  0.0  0.0  0.0  ...   \\n2023-12-10  10.0  1.0  2460288.5  0.0  0.0  0.0  0.0  0.0  0.0  0.0  ...   \\n2023-12-11  11.0  0.0  2460289.5  0.0  0.0  0.0  0.0  0.0  0.0  0.0  ...   \\n2023-12-12  12.0  0.0  2460290.5  0.0  0.0  0.0  0.0  0.0  0.0  0.0  ...   \\n2023-12-13  13.0  0.0  2460291.5  0.0  0.0  0.0  0.0  0.0  0.0  0.0  ...   \\n...          ...  ...        ...  ...  ...  ...  ...  ...  ...  ...  ...   \\n2024-06-11  11.0  0.0  2460472.5  0.0  0.0  0.0  0.0  0.0  1.0  0.0  ...   \\n2024-06-12  12.0  0.0  2460473.5  0.0  0.0  0.0  0.0  0.0  1.0  0.0  ...   \\n2024-06-13  13.0  0.0  2460474.5  0.0  0.0  0.0  0.0  0.0  1.0  0.0  ...   \\n2024-06-14  14.0  0.0  2460475.5  0.0  0.0  0.0  0.0  0.0  1.0  0.0  ...   \\n2024-06-15  15.0  1.0  2460476.5  0.0  0.0  0.0  0.0  0.0  1.0  0.0  ...   \\n\\n            dp265  dp266  dp267  dp268  dp269  dp270  dp271  dp272  dp273  \\\\\\nDate                                                                        \\n2023-12-09    0.0    0.0    0.0    0.0    0.0    0.0    0.0    1.0    0.0   \\n2023-12-10    0.0    0.0    0.0    0.0    0.0    0.0    0.0    0.0    0.0   \\n2023-12-11    0.0    0.0    0.0    0.0    0.0    0.0    0.0    0.0    0.0   \\n2023-12-12    0.0    0.0    0.0    0.0    0.0    0.0    0.0    0.0    0.0   \\n2023-12-13    0.0    0.0    0.0    0.0    0.0    0.0    0.0    0.0    0.0   \\n...           ...    ...    ...    ...    ...    ...    ...    ...    ...   \\n2024-06-11    0.0    0.0    0.0    0.0    0.0    0.0    0.0    0.0    0.0   \\n2024-06-12    0.0    0.0    0.0    0.0    0.0    0.0    0.0    0.0    0.0   \\n2024-06-13    1.0    0.0    0.0    0.0    0.0    0.0    0.0    0.0    0.0   \\n2024-06-14    0.0    0.0    0.0    0.0    1.0    0.0    0.0    0.0    0.0   \\n2024-06-15    0.0    0.0    0.0    0.0    0.0    0.0    0.0    1.0    0.0   \\n\\n            dp274  \\nDate               \\n2023-12-09    0.0  \\n2023-12-10    1.0  \\n2023-12-11    0.0  \\n2023-12-12    0.0  \\n2023-12-13    0.0  \\n...           ...  \\n2024-06-11    0.0  \\n2024-06-12    0.0  \\n2024-06-13    0.0  \\n2024-06-14    0.0  \\n2024-06-15    0.0  \\n\\n[190 rows x 275 columns] and predict              dp0  dp1        dp2  dp3  dp4  dp5  dp6  dp7  dp8  dp9  ...  \\\\\\n2024-06-16  16.0  1.0  2460477.5  0.0  0.0  0.0  0.0  0.0  1.0  0.0  ...   \\n2024-06-17  17.0  0.0  2460478.5  0.0  0.0  0.0  0.0  0.0  1.0  0.0  ...   \\n2024-06-18  18.0  0.0  2460479.5  0.0  0.0  0.0  0.0  0.0  1.0  0.0  ...   \\n2024-06-19  19.0  0.0  2460480.5  0.0  0.0  0.0  0.0  0.0  1.0  0.0  ...   \\n2024-06-20  20.0  0.0  2460481.5  0.0  0.0  0.0  0.0  0.0  1.0  0.0  ...   \\n2024-06-21  21.0  0.0  2460482.5  0.0  0.0  0.0  0.0  0.0  1.0  0.0  ...   \\n2024-06-22  22.0  1.0  2460483.5  0.0  0.0  0.0  0.0  0.0  1.0  0.0  ...   \\n2024-06-23  23.0  1.0  2460484.5  0.0  0.0  0.0  0.0  0.0  1.0  0.0  ...   \\n2024-06-24  24.0  0.0  2460485.5  0.0  0.0  0.0  0.0  0.0  1.0  0.0  ...   \\n2024-06-25  25.0  0.0  2460486.5  0.0  0.0  0.0  0.0  0.0  1.0  0.0  ...   \\n\\n            dp265  dp266  dp267  dp268  dp269  dp270  dp271  dp272  dp273  \\\\\\n2024-06-16    0.0    0.0    0.0    0.0    0.0    0.0    0.0    0.0    0.0   \\n2024-06-17    0.0    0.0    0.0    0.0    0.0    0.0    0.0    0.0    0.0   \\n2024-06-18    0.0    0.0    0.0    0.0    0.0    0.0    0.0    0.0    0.0   \\n2024-06-19    0.0    0.0    0.0    0.0    0.0    0.0    0.0    0.0    0.0   \\n2024-06-20    1.0    0.0    0.0    0.0    0.0    0.0    0.0    0.0    0.0   \\n2024-06-21    0.0    0.0    0.0    0.0    1.0    0.0    0.0    0.0    0.0   \\n2024-06-22    0.0    0.0    0.0    0.0    0.0    0.0    0.0    1.0    0.0   \\n2024-06-23    0.0    0.0    0.0    0.0    0.0    0.0    0.0    0.0    0.0   \\n2024-06-24    0.0    0.0    0.0    0.0    0.0    0.0    0.0    0.0    0.0   \\n2024-06-25    0.0    0.0    0.0    0.0    0.0    0.0    0.0    0.0    0.0   \\n\\n            dp274  \\n2024-06-16    1.0  \\n2024-06-17    0.0  \\n2024-06-18    0.0  \\n2024-06-19    0.0  \\n2024-06-20    0.0  \\n2024-06-21    0.0  \\n2024-06-22    0.0  \\n2024-06-23    1.0  \\n2024-06-24    0.0  \\n2024-06-25    0.0  \\n\\n[10 rows x 275 columns]\") in model 2020 in generation 18: ARDL\n",
      "Model Number: 2021 with model SeasonalNaive in generation 18 of 20\n",
      "Model Number: 2022 with model SectionalMotif in generation 18 of 20\n",
      "Model Number: 2023 with model WindowRegression in generation 18 of 20\n",
      "Model Number: 2024 with model MultivariateMotif in generation 18 of 20\n",
      "Template Eval Error: Exception(\"Transformer AlignLastValue failed on inverse from params rolling_mean {'0': {'rows': 1, 'lag': 28, 'method': 'additive', 'strength': 0.5, 'first_value_only': True, 'threshold': 1}, '1': {'fixed': True, 'window': 2, 'macro_micro': False, 'center': False}, '2': {}, '3': {'window': 100}}\") in model 2024 in generation 18: MultivariateMotif\n",
      "Model Number: 2025 with model DMD in generation 18 of 20\n",
      "Model Number: 2026 with model Cassandra in generation 18 of 20\n"
     ]
    },
    {
     "name": "stderr",
     "output_type": "stream",
     "text": [
      "C:\\Users\\moham\\AppData\\Local\\Packages\\PythonSoftwareFoundation.Python.3.12_qbz5n2kfra8p0\\LocalCache\\local-packages\\Python312\\site-packages\\sklearn\\neighbors\\_classification.py:238: DataConversionWarning: A column-vector y was passed when a 1d array was expected. Please change the shape of y to (n_samples,), for example using ravel().\n",
      "  return self._fit(X, y)\n",
      "C:\\Users\\moham\\AppData\\Local\\Packages\\PythonSoftwareFoundation.Python.3.12_qbz5n2kfra8p0\\LocalCache\\local-packages\\Python312\\site-packages\\autots\\tools\\thresholding.py:204: RuntimeWarning: overflow encountered in scalar power\n",
      "  (1 + mean_perc_decrease) ** self.mean_weight\n",
      "C:\\Users\\moham\\AppData\\Local\\Packages\\PythonSoftwareFoundation.Python.3.12_qbz5n2kfra8p0\\LocalCache\\local-packages\\Python312\\site-packages\\numpy\\lib\\function_base.py:2897: RuntimeWarning: invalid value encountered in divide\n",
      "  c /= stddev[:, None]\n",
      "C:\\Users\\moham\\AppData\\Local\\Packages\\PythonSoftwareFoundation.Python.3.12_qbz5n2kfra8p0\\LocalCache\\local-packages\\Python312\\site-packages\\numpy\\lib\\function_base.py:2898: RuntimeWarning: invalid value encountered in divide\n",
      "  c /= stddev[None, :]\n"
     ]
    },
    {
     "name": "stdout",
     "output_type": "stream",
     "text": [
      "Model Number: 2027 with model WindowRegression in generation 18 of 20\n",
      "Template Eval Error: ValueError(\"regression_type='User' but no future_regressor passed\") in model 2027 in generation 18: WindowRegression\n",
      "Model Number: 2028 with model ConstantNaive in generation 18 of 20\n",
      "Model Number: 2029 with model Theta in generation 18 of 20\n",
      "Model Number: 2030 with model LastValueNaive in generation 18 of 20\n",
      "Model Number: 2031 with model Theta in generation 18 of 20\n",
      "Model Number: 2032 with model Theta in generation 18 of 20\n"
     ]
    },
    {
     "name": "stderr",
     "output_type": "stream",
     "text": [
      "C:\\Users\\moham\\AppData\\Local\\Packages\\PythonSoftwareFoundation.Python.3.12_qbz5n2kfra8p0\\LocalCache\\local-packages\\Python312\\site-packages\\sklearn\\neighbors\\_classification.py:238: DataConversionWarning: A column-vector y was passed when a 1d array was expected. Please change the shape of y to (n_samples,), for example using ravel().\n",
      "  return self._fit(X, y)\n"
     ]
    },
    {
     "name": "stdout",
     "output_type": "stream",
     "text": [
      "Model Number: 2033 with model MultivariateMotif in generation 18 of 20\n",
      "Model Number: 2034 with model SectionalMotif in generation 18 of 20\n",
      "Model Number: 2035 with model SectionalMotif in generation 18 of 20\n",
      "Model Number: 2036 with model AverageValueNaive in generation 18 of 20\n",
      "Model Number: 2037 with model AverageValueNaive in generation 18 of 20\n",
      "Model Number: 2038 with model LastValueNaive in generation 18 of 20\n",
      "Model Number: 2039 with model NVAR in generation 18 of 20\n",
      "Model Number: 2040 with model MultivariateMotif in generation 18 of 20\n",
      "Model Number: 2041 with model NVAR in generation 18 of 20\n",
      "Model Number: 2042 with model LastValueNaive in generation 18 of 20\n",
      "Model Number: 2043 with model ConstantNaive in generation 18 of 20\n",
      "Model Number: 2044 with model WindowRegression in generation 18 of 20\n",
      "Model Number: 2045 with model MultivariateRegression in generation 18 of 20\n",
      "Model Number: 2046 with model Theta in generation 18 of 20\n",
      "Model Number: 2047 with model SectionalMotif in generation 18 of 20\n",
      "Model Number: 2048 with model ARDL in generation 18 of 20\n"
     ]
    },
    {
     "name": "stderr",
     "output_type": "stream",
     "text": [
      "C:\\Users\\moham\\AppData\\Local\\Packages\\PythonSoftwareFoundation.Python.3.12_qbz5n2kfra8p0\\LocalCache\\local-packages\\Python312\\site-packages\\sklearn\\neighbors\\_classification.py:238: DataConversionWarning: A column-vector y was passed when a 1d array was expected. Please change the shape of y to (n_samples,), for example using ravel().\n",
      "  return self._fit(X, y)\n"
     ]
    },
    {
     "name": "stdout",
     "output_type": "stream",
     "text": [
      "Template Eval Error: Exception(\"Transformer AlignLastValue failed on inverse from params rolling_mean_24 {'0': {'fixed': True, 'window': 7, 'macro_micro': False, 'center': False}, '1': {'output_distribution': 'uniform', 'n_quantiles': 63}, '2': {'rows': 1, 'lag': 1, 'method': 'additive', 'strength': 1.0, 'first_value_only': True, 'threshold': None}, '3': {'n_harmonics': 10, 'detrend': None}}\") in model 2048 in generation 18: ARDL\n",
      "Model Number: 2049 with model ARDL in generation 18 of 20\n",
      "Template Eval Error: ValueError(\"regression_type='User' but future_regressor not supplied\") in model 2049 in generation 18: ARDL\n",
      "Model Number: 2050 with model UnobservedComponents in generation 18 of 20\n",
      "Model Number: 2051 with model SeasonalNaive in generation 18 of 20\n",
      "Template Eval Error: Exception(\"Transformer AlignLastValue failed on inverse from params linear {'0': {'constant': 0, 'reintroduction_model': None, 'fillna': 'mean'}, '1': {'lag': 1, 'fill': 'bfill'}, '2': {}, '3': {'rows': 7, 'lag': 1, 'method': 'additive', 'strength': 1.0, 'first_value_only': True, 'threshold': None}}\") in model 2051 in generation 18: SeasonalNaive\n",
      "Model Number: 2052 with model MetricMotif in generation 18 of 20\n",
      "Model Number: 2053 with model AverageValueNaive in generation 18 of 20\n",
      "Model Number: 2054 with model ARIMA in generation 18 of 20\n",
      "Model Number: 2055 with model NVAR in generation 18 of 20\n",
      "Model Number: 2056 with model MultivariateRegression in generation 18 of 20\n"
     ]
    },
    {
     "name": "stderr",
     "output_type": "stream",
     "text": [
      "C:\\Users\\moham\\AppData\\Local\\Packages\\PythonSoftwareFoundation.Python.3.12_qbz5n2kfra8p0\\LocalCache\\local-packages\\Python312\\site-packages\\autots\\tools\\transform.py:5472: FutureWarning: Downcasting object dtype arrays on .fillna, .ffill, .bfill is deprecated and will change in a future version. Call result.infer_objects(copy=False) instead. To opt-in to the future behavior, set `pd.set_option('future.no_silent_downcasting', True)`\n",
      "  df = df.fillna(0)\n",
      "C:\\Users\\moham\\AppData\\Local\\Packages\\PythonSoftwareFoundation.Python.3.12_qbz5n2kfra8p0\\LocalCache\\local-packages\\Python312\\site-packages\\autots\\tools\\transform.py:5472: FutureWarning: Downcasting object dtype arrays on .fillna, .ffill, .bfill is deprecated and will change in a future version. Call result.infer_objects(copy=False) instead. To opt-in to the future behavior, set `pd.set_option('future.no_silent_downcasting', True)`\n",
      "  df = df.fillna(0)\n"
     ]
    },
    {
     "name": "stdout",
     "output_type": "stream",
     "text": [
      "Model Number: 2057 with model MultivariateMotif in generation 18 of 20\n",
      "Model Number: 2058 with model Theta in generation 18 of 20\n",
      "Model Number: 2059 with model Theta in generation 18 of 20\n",
      "Model Number: 2060 with model SeasonalNaive in generation 18 of 20\n",
      "Model Number: 2061 with model ARIMA in generation 18 of 20\n",
      "Model Number: 2062 with model SeasonalityMotif in generation 18 of 20\n",
      "Model Number: 2063 with model NVAR in generation 18 of 20\n",
      "Model Number: 2064 with model SeasonalNaive in generation 18 of 20\n",
      "Model Number: 2065 with model SectionalMotif in generation 18 of 20\n",
      "Model Number: 2066 with model MetricMotif in generation 18 of 20\n",
      "Model Number: 2067 with model Theta in generation 18 of 20\n",
      "Model Number: 2068 with model SectionalMotif in generation 18 of 20\n"
     ]
    },
    {
     "name": "stderr",
     "output_type": "stream",
     "text": [
      "C:\\Users\\moham\\AppData\\Local\\Packages\\PythonSoftwareFoundation.Python.3.12_qbz5n2kfra8p0\\LocalCache\\local-packages\\Python312\\site-packages\\scipy\\signal\\_signaltools.py:1659: RuntimeWarning: divide by zero encountered in divide\n",
      "  res *= (1 - noise / lVar)\n",
      "C:\\Users\\moham\\AppData\\Local\\Packages\\PythonSoftwareFoundation.Python.3.12_qbz5n2kfra8p0\\LocalCache\\local-packages\\Python312\\site-packages\\scipy\\signal\\_signaltools.py:1659: RuntimeWarning: invalid value encountered in multiply\n",
      "  res *= (1 - noise / lVar)\n"
     ]
    },
    {
     "name": "stdout",
     "output_type": "stream",
     "text": [
      "Model Number: 2069 with model UnobservedComponents in generation 18 of 20\n",
      "Template Eval Error: ValueError('Model UnobservedComponents returned NaN for one or more series. fail_on_forecast_nan=True') in model 2069 in generation 18: UnobservedComponents\n",
      "Model Number: 2070 with model ARIMA in generation 18 of 20\n",
      "Model Number: 2071 with model SectionalMotif in generation 18 of 20\n",
      "Model Number: 2072 with model Theta in generation 18 of 20\n",
      "Template Eval Error: Exception(\"Transformer Cointegration failed on fit from params fake_date {'0': {'rows': 1, 'lag': 1, 'method': 'additive', 'strength': 1.0, 'first_value_only': False, 'threshold': 10}, '1': {'det_order': 1, 'k_ar_diff': 0}, '2': {}}\") in model 2072 in generation 18: Theta\n",
      "Model Number: 2073 with model MultivariateMotif in generation 18 of 20\n",
      "Model Number: 2074 with model AverageValueNaive in generation 18 of 20\n",
      "Model Number: 2075 with model MultivariateMotif in generation 18 of 20\n",
      "Model Number: 2076 with model ARDL in generation 18 of 20\n",
      "Model Number: 2077 with model AverageValueNaive in generation 18 of 20\n",
      "New Generation: 19 of 20\n",
      "Model Number: 2078 with model LastValueNaive in generation 19 of 20\n",
      "Model Number: 2079 with model ARIMA in generation 19 of 20\n",
      "Model Number: 2080 with model AverageValueNaive in generation 19 of 20\n",
      "Model Number: 2081 with model ARIMA in generation 19 of 20\n"
     ]
    },
    {
     "name": "stderr",
     "output_type": "stream",
     "text": [
      "C:\\Users\\moham\\AppData\\Local\\Packages\\PythonSoftwareFoundation.Python.3.12_qbz5n2kfra8p0\\LocalCache\\local-packages\\Python312\\site-packages\\autots\\tools\\percentile.py:47: RuntimeWarning: All-NaN slice encountered\n",
      "  max_val = np.nanmax(arr)\n"
     ]
    },
    {
     "name": "stdout",
     "output_type": "stream",
     "text": [
      "Model Number: 2082 with model AverageValueNaive in generation 19 of 20\n",
      "Model Number: 2083 with model DMD in generation 19 of 20\n",
      "Template Eval Error: Exception(\"Transformer FastICA failed on fit from params ffill {'0': {'threshold': 0.9, 'splash_threshold': None, 'use_dayofmonth_holidays': True, 'use_wkdom_holidays': False, 'use_wkdeom_holidays': False, 'use_lunar_holidays': True, 'use_lunar_weekday': False, 'use_islamic_holidays': False, 'use_hebrew_holidays': False, 'anomaly_detector_params': {'method': 'zscore', 'method_params': {'distribution': 'norm', 'alpha': 0.05}, 'fillna': 'rolling_mean_24', 'transform_dict': {'fillna': None, 'transformations': {'0': 'ClipOutliers'}, 'transformation_params': {'0': {'method': 'clip', 'std_threshold': 6}}}, 'isolated_only': False}, 'remove_excess_anomalies': False, 'impact': None, 'regression_params': {}}, '1': {'lag_1': 7, 'method': 'LastValue'}, '2': {'algorithm': 'parallel', 'fun': 'logcosh', 'max_iter': 100, 'whiten': True}}\") in model 2083 in generation 19: DMD\n",
      "Model Number: 2084 with model Theta in generation 19 of 20\n",
      "Model Number: 2085 with model NVAR in generation 19 of 20\n",
      "Model Number: 2086 with model LastValueNaive in generation 19 of 20\n",
      "Model Number: 2087 with model Cassandra in generation 19 of 20\n",
      "Template Eval Error: Exception(\"Transformer ReplaceConstant failed on fit from params zero {'0': {'rows': 1, 'lag': 1, 'method': 'additive', 'strength': 1.0, 'first_value_only': True, 'threshold': None}, '1': {'lag': 1, 'fill': 'zero'}, '2': {}, '3': {'constant': 0, 'reintroduction_model': {'model': 'xgboost', 'model_params': {'booster': 'gbtree', 'max_depth': 6, 'eta': 0.05, 'min_child_weight': 1, 'subsample': 1, 'colsample_bylevel': 1, 'reg_alpha': 0, 'reg_lambda': 1, 'grow_policy': 'lossguide'}, 'datepart_method': [168, 'hour']}, 'fillna': 'linear'}}\") in model 2087 in generation 19: Cassandra\n",
      "Model Number: 2088 with model MultivariateRegression in generation 19 of 20\n",
      "Model Number: 2089 with model MultivariateRegression in generation 19 of 20\n",
      "Model Number: 2090 with model ARDL in generation 19 of 20\n",
      "Template Eval Error: Exception(\"Transformer AlignLastValue failed on inverse from params ffill_mean_biased {'0': {'rows': 1, 'lag': 1, 'method': 'additive', 'strength': 0.5, 'first_value_only': True, 'threshold': None}}\") in model 2090 in generation 19: ARDL\n",
      "Model Number: 2091 with model MultivariateMotif in generation 19 of 20\n",
      "Model Number: 2092 with model MultivariateMotif in generation 19 of 20\n",
      "Model Number: 2093 with model SectionalMotif in generation 19 of 20\n",
      "Template Eval Error: Exception(\"Transformer MinMaxScaler failed on fit from params fake_date {'0': {'low': 28, 'high': 32, 'K': 1, 'lanczos_factor': False, 'return_diff': False, 'on_transform': True, 'on_inverse': False}, '1': {}}\") in model 2093 in generation 19: SectionalMotif\n",
      "Model Number: 2094 with model Cassandra in generation 19 of 20\n",
      "Template Eval Error: IndexError('positional indexers are out-of-bounds') in model 2094 in generation 19: Cassandra\n",
      "Model Number: 2095 with model ARIMA in generation 19 of 20\n",
      "Template Eval Error: Exception(\"Transformer FastICA failed on fit from params rolling_mean {'0': {}, '1': {'lag': 1, 'fill': 'zero'}, '2': {'algorithm': 'deflation', 'fun': 'logcosh', 'max_iter': 250, 'whiten': True}}\") in model 2095 in generation 19: ARIMA\n",
      "Model Number: 2096 with model AverageValueNaive in generation 19 of 20\n",
      "Model Number: 2097 with model ARDL in generation 19 of 20\n",
      "Template Eval Error: ValueError(\"regression_type='User' but future_regressor not supplied\") in model 2097 in generation 19: ARDL\n",
      "Model Number: 2098 with model SeasonalNaive in generation 19 of 20\n",
      "Template Eval Error: Exception(\"Transformer FastICA failed on fit from params mean {'0': {'rolling_window': 0.1, 'n_tails': 30, 'n_future': 0.2, 'method': 'mean', 'macro_micro': True}, '1': {'algorithm': 'deflation', 'fun': 'cube', 'max_iter': 250, 'whiten': True}, '2': {'rows': 1, 'lag': 1, 'method': 'additive', 'strength': 0.7, 'first_value_only': False, 'threshold': None}, '3': {'method': 'butter', 'method_args': {'N': 5, 'window_size': 52, 'btype': 'lowpass', 'analog': False, 'output': 'sos'}}, '4': {}}\") in model 2098 in generation 19: SeasonalNaive\n",
      "Model Number: 2099 with model WindowRegression in generation 19 of 20\n",
      "Template Eval Error: ModuleNotFoundError(\"No module named 'lightgbm'\") in model 2099 in generation 19: WindowRegression\n",
      "Model Number: 2100 with model AverageValueNaive in generation 19 of 20\n",
      "Model Number: 2101 with model ARIMA in generation 19 of 20\n",
      "Model Number: 2102 with model AverageValueNaive in generation 19 of 20\n",
      "Template Eval Error: Exception(\"Transformer BTCD failed on fit from params fake_date {'0': {'lag_1': 4, 'method': 20}, '1': {'output_distribution': 'normal', 'n_quantiles': 25}, '2': {'regression_model': {'model': 'FastRidge', 'model_params': {}}, 'max_lags': 1}, '3': {'window_size': 364, 'alpha': 4.0, 'grouping_forward_limit': 4, 'max_level_shifts': 10, 'alignment': 'rolling_diff'}}\") in model 2102 in generation 19: AverageValueNaive\n",
      "Model Number: 2103 with model MetricMotif in generation 19 of 20\n",
      "Model Number: 2104 with model NVAR in generation 19 of 20\n",
      "Model Number: 2105 with model NVAR in generation 19 of 20\n",
      "Template Eval Error: Exception(\"Transformer HolidayTransformer failed on fit from params fake_date {'0': {'rows': 1, 'lag': 1, 'method': 'additive', 'strength': 0.9, 'first_value_only': False, 'threshold': 1}, '1': {}, '2': {'window_size': 90, 'alpha': 4.0, 'grouping_forward_limit': 2, 'max_level_shifts': 5, 'alignment': 'average'}, '3': {'threshold': 0.8, 'splash_threshold': None, 'use_dayofmonth_holidays': True, 'use_wkdom_holidays': True, 'use_wkdeom_holidays': False, 'use_lunar_holidays': False, 'use_lunar_weekday': False, 'use_islamic_holidays': False, 'use_hebrew_holidays': True, 'anomaly_detector_params': {'method': 'rolling_zscore', 'method_params': {'distribution': 'chi2', 'alpha': 0.05, 'rolling_periods': 300, 'center': False}, 'fillna': 'ffill', 'transform_dict': {'transformations': {'0': 'DatepartRegression'}, 'transformation_params': {'0': {'datepart_method': 'simple_3', 'regression_model': {'model': 'FastRidge', 'model_params': {}}}}}, 'isolated_only': False}, 'remove_excess_anomalies': False, 'impact': 'median_value', 'regression_params': {}}}\") in model 2105 in generation 19: NVAR\n",
      "Model Number: 2106 with model ARIMA in generation 19 of 20\n"
     ]
    },
    {
     "name": "stderr",
     "output_type": "stream",
     "text": [
      "C:\\Users\\moham\\AppData\\Local\\Packages\\PythonSoftwareFoundation.Python.3.12_qbz5n2kfra8p0\\LocalCache\\local-packages\\Python312\\site-packages\\sklearn\\linear_model\\_ridge.py:204: LinAlgWarning: Ill-conditioned matrix (rcond=1.03465e-24): result may not be accurate.\n",
      "  return linalg.solve(A, Xy, assume_a=\"pos\", overwrite_a=True).T\n"
     ]
    },
    {
     "name": "stdout",
     "output_type": "stream",
     "text": [
      "Model Number: 2107 with model LastValueNaive in generation 19 of 20\n",
      "Model Number: 2108 with model NVAR in generation 19 of 20\n",
      "Model Number: 2109 with model NVAR in generation 19 of 20\n",
      "Model Number: 2110 with model MetricMotif in generation 19 of 20\n",
      "Template Eval Error: Exception(\"Transformer HolidayTransformer failed on fit from params rolling_mean {'0': {'method': 100}, '1': {'method': 'remove', 'std_threshold': 3.5, 'fillna': 'ffill'}, '2': {}, '3': {'threshold': 0.9, 'splash_threshold': None, 'use_dayofmonth_holidays': True, 'use_wkdom_holidays': True, 'use_wkdeom_holidays': False, 'use_lunar_holidays': False, 'use_lunar_weekday': False, 'use_islamic_holidays': False, 'use_hebrew_holidays': False, 'anomaly_detector_params': {'method': 'IQR', 'method_params': {'iqr_threshold': 2.0, 'iqr_quantiles': [0.4, 0.6]}, 'fillna': 'ffill', 'transform_dict': {'transformations': {'0': 'DifferencedTransformer'}, 'transformation_params': {'0': {}}}, 'isolated_only': False}, 'remove_excess_anomalies': True, 'impact': 'median_value', 'regression_params': {}}}\") in model 2110 in generation 19: MetricMotif\n",
      "Model Number: 2111 with model NVAR in generation 19 of 20\n",
      "Model Number: 2112 with model MultivariateMotif in generation 19 of 20\n",
      "Model Number: 2113 with model MultivariateMotif in generation 19 of 20\n",
      "Model Number: 2114 with model AverageValueNaive in generation 19 of 20\n",
      "Template Eval Error: Exception(\"Transformer BTCD failed on fit from params rolling_mean_24 {'0': {'rows': 1, 'lag': 1, 'method': 'additive', 'strength': 1.0, 'first_value_only': False, 'threshold': None}, '1': {'rows': 5}, '2': {}, '3': {'rows': 4}, '4': {'regression_model': {'model': 'LinearRegression', 'model_params': {}}, 'max_lags': 1}}\") in model 2114 in generation 19: AverageValueNaive\n",
      "Model Number: 2115 with model MultivariateMotif in generation 19 of 20\n"
     ]
    },
    {
     "name": "stderr",
     "output_type": "stream",
     "text": [
      "C:\\Users\\moham\\AppData\\Local\\Packages\\PythonSoftwareFoundation.Python.3.12_qbz5n2kfra8p0\\LocalCache\\local-packages\\Python312\\site-packages\\numpy\\core\\_methods.py:176: RuntimeWarning: overflow encountered in multiply\n",
      "  x = um.multiply(x, x, out=x)\n",
      "C:\\Users\\moham\\AppData\\Local\\Packages\\PythonSoftwareFoundation.Python.3.12_qbz5n2kfra8p0\\LocalCache\\local-packages\\Python312\\site-packages\\numpy\\core\\_methods.py:187: RuntimeWarning: overflow encountered in reduce\n",
      "  ret = umr_sum(x, axis, dtype, out, keepdims=keepdims, where=where)\n",
      "C:\\Users\\moham\\AppData\\Local\\Packages\\PythonSoftwareFoundation.Python.3.12_qbz5n2kfra8p0\\LocalCache\\local-packages\\Python312\\site-packages\\sklearn\\neighbors\\_classification.py:238: DataConversionWarning: A column-vector y was passed when a 1d array was expected. Please change the shape of y to (n_samples,), for example using ravel().\n",
      "  return self._fit(X, y)\n"
     ]
    },
    {
     "name": "stdout",
     "output_type": "stream",
     "text": [
      "Model Number: 2116 with model SectionalMotif in generation 19 of 20\n",
      "Model Number: 2117 with model SectionalMotif in generation 19 of 20\n",
      "Model Number: 2118 with model WindowRegression in generation 19 of 20\n",
      "Template Eval Error: ValueError(\"regression_type='User' but no future_regressor passed\") in model 2118 in generation 19: WindowRegression\n",
      "Model Number: 2119 with model UnobservedComponents in generation 19 of 20\n",
      "Model Number: 2120 with model SeasonalNaive in generation 19 of 20\n",
      "Model Number: 2121 with model Cassandra in generation 19 of 20\n",
      "Template Eval Error: ValueError('more than 1 year of data is required for holiday detection.') in model 2121 in generation 19: Cassandra\n",
      "Model Number: 2122 with model SectionalMotif in generation 19 of 20\n",
      "Model Number: 2123 with model Theta in generation 19 of 20\n",
      "Model Number: 2124 with model ARDL in generation 19 of 20\n",
      "Template Eval Error: ValueError(\"regression_type='User' but future_regressor not supplied\") in model 2124 in generation 19: ARDL\n",
      "Model Number: 2125 with model SeasonalNaive in generation 19 of 20\n",
      "Model Number: 2126 with model MultivariateMotif in generation 19 of 20\n",
      "Model Number: 2127 with model NVAR in generation 19 of 20\n",
      "Model Number: 2128 with model SectionalMotif in generation 19 of 20\n",
      "Model Number: 2129 with model WindowRegression in generation 19 of 20\n"
     ]
    },
    {
     "name": "stderr",
     "output_type": "stream",
     "text": [
      "C:\\Users\\moham\\AppData\\Local\\Packages\\PythonSoftwareFoundation.Python.3.12_qbz5n2kfra8p0\\LocalCache\\local-packages\\Python312\\site-packages\\sklearn\\linear_model\\_ridge.py:204: LinAlgWarning: Ill-conditioned matrix (rcond=4.74746e-25): result may not be accurate.\n",
      "  return linalg.solve(A, Xy, assume_a=\"pos\", overwrite_a=True).T\n",
      "C:\\Users\\moham\\AppData\\Local\\Packages\\PythonSoftwareFoundation.Python.3.12_qbz5n2kfra8p0\\LocalCache\\local-packages\\Python312\\site-packages\\autots\\tools\\transform.py:5472: FutureWarning: Downcasting object dtype arrays on .fillna, .ffill, .bfill is deprecated and will change in a future version. Call result.infer_objects(copy=False) instead. To opt-in to the future behavior, set `pd.set_option('future.no_silent_downcasting', True)`\n",
      "  df = df.fillna(0)\n",
      "C:\\Users\\moham\\AppData\\Local\\Packages\\PythonSoftwareFoundation.Python.3.12_qbz5n2kfra8p0\\LocalCache\\local-packages\\Python312\\site-packages\\autots\\tools\\transform.py:5472: FutureWarning: Downcasting object dtype arrays on .fillna, .ffill, .bfill is deprecated and will change in a future version. Call result.infer_objects(copy=False) instead. To opt-in to the future behavior, set `pd.set_option('future.no_silent_downcasting', True)`\n",
      "  df = df.fillna(0)\n"
     ]
    },
    {
     "name": "stdout",
     "output_type": "stream",
     "text": [
      "Model Number: 2130 with model AverageValueNaive in generation 19 of 20\n",
      "Model Number: 2131 with model ConstantNaive in generation 19 of 20\n"
     ]
    },
    {
     "name": "stderr",
     "output_type": "stream",
     "text": [
      "C:\\Users\\moham\\AppData\\Local\\Packages\\PythonSoftwareFoundation.Python.3.12_qbz5n2kfra8p0\\LocalCache\\local-packages\\Python312\\site-packages\\sklearn\\neural_network\\_multilayer_perceptron.py:546: ConvergenceWarning: lbfgs failed to converge (status=1):\n",
      "STOP: TOTAL NO. of ITERATIONS REACHED LIMIT.\n",
      "\n",
      "Increase the number of iterations (max_iter) or scale the data as shown in:\n",
      "    https://scikit-learn.org/stable/modules/preprocessing.html\n",
      "  self.n_iter_ = _check_optimize_result(\"lbfgs\", opt_res, self.max_iter)\n"
     ]
    },
    {
     "name": "stdout",
     "output_type": "stream",
     "text": [
      "Model Number: 2132 with model Theta in generation 19 of 20\n",
      "Template Eval Error: Exception(\"Transformer DatepartRegression failed on inverse from params fake_date {'0': {'rows': 1, 'displacement_rows': 1, 'quantile': 1.0, 'decay_span': None}, '1': {'method': 'butter', 'method_args': {'N': 5, 'btype': 'lowpass', 'analog': False, 'output': 'sos', 'Wn': 0.041666666666666664}}, '2': {}, '3': {'regression_model': {'model': 'ElasticNet', 'model_params': {'l1_ratio': 0.5, 'fit_intercept': False, 'selection': 'cyclic'}}, 'datepart_method': ['dayofyear', 'days_from_epoch', 'is_month_start'], 'polynomial_degree': None, 'transform_dict': {'fillna': None, 'transformations': {'0': 'bkfilter'}, 'transformation_params': {'0': {}}}, 'holiday_countries_used': False}, '4': {'part': 'trend', 'lamb': 1600}}\") in model 2132 in generation 19: Theta\n",
      "Model Number: 2133 with model UnobservedComponents in generation 19 of 20\n",
      "Model Number: 2134 with model Theta in generation 19 of 20\n",
      "Model Number: 2135 with model Theta in generation 19 of 20\n",
      "Model Number: 2136 with model AverageValueNaive in generation 19 of 20\n",
      "Template Eval Error: Exception(\"Transformer QuantileTransformer failed on fit from params zero {'0': {'low': 7, 'high': 32, 'K': 1, 'lanczos_factor': False, 'return_diff': False, 'on_transform': True, 'on_inverse': False}, '1': {'rows': 1, 'lag': 1, 'method': 'additive', 'strength': 1.0, 'first_value_only': False, 'threshold': 10}, '2': {'span': 77}, '3': {'model_name': 'local linear hidden state with seasonal 7', 'state_transition': [[1.0, 0.0, 0.0, 0.0, 0.0, 0.0, 0.0, 0.0], [0.0, -1.0, -1.0, -1.0, -1.0, -1.0, -1.0, 0.0], [0.0, 1.0, 0.0, 0.0, 0.0, 0.0, 0.0, 0.0], [0.0, 0.0, 1.0, 0.0, 0.0, 0.0, 0.0, 0.0], [0.0, 0.0, 0.0, 1.0, 0.0, 0.0, 0.0, 0.0], [0.0, 0.0, 0.0, 0.0, 1.0, 0.0, 0.0, 0.0], [0.0, 0.0, 0.0, 0.0, 0.0, 1.0, 0.0, 0.0], [0.0, 0.0, 0.0, 0.0, 0.0, 0.0, 1.0, 0.0]], 'process_noise': [[0.04000000000000001, 0.0, 0.0, 0.0, 0.0, 0.0, 0.0, 0.0], [0.0, 1e-08, 0.0, 0.0, 0.0, 0.0, 0.0, 0.0], [0.0, 0.0, 0.0, 0.0, 0.0, 0.0, 0.0, 0.0], [0.0, 0.0, 0.0, 0.0, 0.0, 0.0, 0.0, 0.0], [0.0, 0.0, 0.0, 0.0, 0.0, 0.0, 0.0, 0.0], [0.0, 0.0, 0.0, 0.0, 0.0, 0.0, 0.0, 0.0], [0.0, 0.0, 0.0, 0.0, 0.0, 0.0, 0.0, 0.0], [0.0, 0.0, 0.0, 0.0, 0.0, 0.0, 0.0, 0.0]], 'observation_model': [[1, 1, 0, 0, 0, 0, 0, 0]], 'observation_noise': 0.04, 'em_iter': 30, 'on_transform': False, 'on_inverse': True}, '4': {'rows': 2}, '5': {'output_distribution': 'uniform', 'n_quantiles': 18}}\") in model 2136 in generation 19: AverageValueNaive\n",
      "Model Number: 2137 with model ARIMA in generation 19 of 20\n",
      "Model Number: 2138 with model UnobservedComponents in generation 19 of 20\n",
      "Model Number: 2139 with model WindowRegression in generation 19 of 20\n",
      "Model Number: 2140 with model UnobservedComponents in generation 19 of 20\n",
      "Model Number: 2141 with model ConstantNaive in generation 19 of 20\n",
      "Model Number: 2142 with model ConstantNaive in generation 19 of 20\n",
      "Model Number: 2143 with model LastValueNaive in generation 19 of 20\n",
      "Model Number: 2144 with model SectionalMotif in generation 19 of 20\n",
      "Model Number: 2145 with model SectionalMotif in generation 19 of 20\n",
      "Model Number: 2146 with model MultivariateMotif in generation 19 of 20\n",
      "Model Number: 2147 with model MultivariateMotif in generation 19 of 20\n",
      "Model Number: 2148 with model MetricMotif in generation 19 of 20\n",
      "Model Number: 2149 with model MetricMotif in generation 19 of 20\n",
      "Model Number: 2150 with model ARIMA in generation 19 of 20\n",
      "Model Number: 2151 with model Theta in generation 19 of 20\n",
      "Model Number: 2152 with model ConstantNaive in generation 19 of 20\n",
      "Model Number: 2153 with model LastValueNaive in generation 19 of 20\n",
      "Model Number: 2154 with model NVAR in generation 19 of 20\n",
      "Model Number: 2155 with model ARDL in generation 19 of 20\n",
      "Model Number: 2156 with model LastValueNaive in generation 19 of 20\n",
      "Model Number: 2157 with model ARDL in generation 19 of 20\n",
      "Model Number: 2158 with model Theta in generation 19 of 20\n",
      "Model Number: 2159 with model ARIMA in generation 19 of 20\n",
      "Model Number: 2160 with model MetricMotif in generation 19 of 20\n",
      "Model Number: 2161 with model Cassandra in generation 19 of 20\n",
      "New Generation: 20 of 20\n",
      "Model Number: 2162 with model NVAR in generation 20 of 20\n",
      "Model Number: 2163 with model MultivariateRegression in generation 20 of 20\n",
      "Model Number: 2164 with model ARDL in generation 20 of 20\n",
      "Template Eval Error: Exception(\"Transformer Cointegration failed on fit from params ffill {'0': {'rows': 1, 'lag': 1, 'method': 'additive', 'strength': 0.9, 'first_value_only': False, 'threshold': 1}, '1': {'det_order': 0, 'k_ar_diff': 1}, '2': {'model': 'Linear', 'phi': 1, 'window': None}, '3': {'output_distribution': 'uniform', 'n_quantiles': 63}, '4': {'method': 'clip', 'std_threshold': 3.5, 'fillna': None}}\") in model 2164 in generation 20: ARDL\n",
      "Model Number: 2165 with model SectionalMotif in generation 20 of 20\n",
      "Model Number: 2166 with model LastValueNaive in generation 20 of 20\n",
      "Model Number: 2167 with model AverageValueNaive in generation 20 of 20\n",
      "Model Number: 2168 with model Theta in generation 20 of 20\n",
      "Model Number: 2169 with model MultivariateMotif in generation 20 of 20\n",
      "Model Number: 2170 with model LastValueNaive in generation 20 of 20\n",
      "Model Number: 2171 with model ARIMA in generation 20 of 20\n"
     ]
    },
    {
     "name": "stderr",
     "output_type": "stream",
     "text": [
      "C:\\Users\\moham\\AppData\\Local\\Packages\\PythonSoftwareFoundation.Python.3.12_qbz5n2kfra8p0\\LocalCache\\local-packages\\Python312\\site-packages\\autots\\tools\\transform.py:5472: FutureWarning: Downcasting object dtype arrays on .fillna, .ffill, .bfill is deprecated and will change in a future version. Call result.infer_objects(copy=False) instead. To opt-in to the future behavior, set `pd.set_option('future.no_silent_downcasting', True)`\n",
      "  df = df.fillna(0)\n",
      "C:\\Users\\moham\\AppData\\Local\\Packages\\PythonSoftwareFoundation.Python.3.12_qbz5n2kfra8p0\\LocalCache\\local-packages\\Python312\\site-packages\\autots\\tools\\transform.py:5472: FutureWarning: Downcasting object dtype arrays on .fillna, .ffill, .bfill is deprecated and will change in a future version. Call result.infer_objects(copy=False) instead. To opt-in to the future behavior, set `pd.set_option('future.no_silent_downcasting', True)`\n",
      "  df = df.fillna(0)\n"
     ]
    },
    {
     "name": "stdout",
     "output_type": "stream",
     "text": [
      "Model Number: 2172 with model LastValueNaive in generation 20 of 20\n",
      "Model Number: 2173 with model SeasonalNaive in generation 20 of 20\n",
      "Model Number: 2174 with model NVAR in generation 20 of 20\n",
      "Model Number: 2175 with model Theta in generation 20 of 20\n",
      "Template Eval Error: Exception(\"Transformer AlignLastValue failed on inverse from params time {'0': {'rows': 1, 'lag': 1, 'method': 'additive', 'strength': 0.9, 'first_value_only': False, 'threshold': 1}, '1': {}, '2': {'rows': 1, 'lag': 7, 'method': 'additive', 'strength': 1.0, 'first_value_only': False, 'threshold': 10}, '3': {'rows': 1, 'lag': 1, 'method': 'additive', 'strength': 1.0, 'first_value_only': True, 'threshold': None}}\") in model 2175 in generation 20: Theta\n",
      "Model Number: 2176 with model UnobservedComponents in generation 20 of 20\n",
      "Model Number: 2177 with model AverageValueNaive in generation 20 of 20\n",
      "Model Number: 2178 with model SectionalMotif in generation 20 of 20\n",
      "Model Number: 2179 with model ARDL in generation 20 of 20\n",
      "Model Number: 2180 with model Cassandra in generation 20 of 20\n"
     ]
    },
    {
     "name": "stderr",
     "output_type": "stream",
     "text": [
      "C:\\Users\\moham\\AppData\\Local\\Packages\\PythonSoftwareFoundation.Python.3.12_qbz5n2kfra8p0\\LocalCache\\local-packages\\Python312\\site-packages\\autots\\tools\\thresholding.py:204: RuntimeWarning: overflow encountered in scalar power\n",
      "  (1 + mean_perc_decrease) ** self.mean_weight\n"
     ]
    },
    {
     "name": "stdout",
     "output_type": "stream",
     "text": [
      "Model Number: 2181 with model SectionalMotif in generation 20 of 20\n",
      "Model Number: 2182 with model SectionalMotif in generation 20 of 20\n",
      "Model Number: 2183 with model MultivariateMotif in generation 20 of 20\n",
      "Model Number: 2184 with model MultivariateMotif in generation 20 of 20\n",
      "Model Number: 2185 with model MultivariateMotif in generation 20 of 20\n",
      "Model Number: 2186 with model SectionalMotif in generation 20 of 20\n",
      "Model Number: 2187 with model WindowRegression in generation 20 of 20\n"
     ]
    },
    {
     "name": "stderr",
     "output_type": "stream",
     "text": [
      "C:\\Users\\moham\\AppData\\Local\\Packages\\PythonSoftwareFoundation.Python.3.12_qbz5n2kfra8p0\\LocalCache\\local-packages\\Python312\\site-packages\\sklearn\\neighbors\\_classification.py:238: DataConversionWarning: A column-vector y was passed when a 1d array was expected. Please change the shape of y to (n_samples,), for example using ravel().\n",
      "  return self._fit(X, y)\n",
      "C:\\Users\\moham\\AppData\\Local\\Packages\\PythonSoftwareFoundation.Python.3.12_qbz5n2kfra8p0\\LocalCache\\local-packages\\Python312\\site-packages\\sklearn\\linear_model\\_ridge.py:204: LinAlgWarning: Ill-conditioned matrix (rcond=4.74746e-25): result may not be accurate.\n",
      "  return linalg.solve(A, Xy, assume_a=\"pos\", overwrite_a=True).T\n"
     ]
    },
    {
     "name": "stdout",
     "output_type": "stream",
     "text": [
      "Model Number: 2188 with model AverageValueNaive in generation 20 of 20\n",
      "Template Eval Error: Exception(\"Transformer AlignLastValue failed on inverse from params ffill {'0': {'rows': 1, 'lag': 2, 'method': 'additive', 'strength': 0.5, 'first_value_only': False, 'threshold': 10}, '1': {'threshold': 1.0, 'splash_threshold': None, 'use_dayofmonth_holidays': True, 'use_wkdom_holidays': True, 'use_wkdeom_holidays': False, 'use_lunar_holidays': False, 'use_lunar_weekday': False, 'use_islamic_holidays': False, 'use_hebrew_holidays': False, 'anomaly_detector_params': {'method': 'med_diff', 'method_params': {'distribution': 'gamma', 'alpha': 0.05}, 'fillna': 'ffill', 'transform_dict': {'transformations': {'0': 'DatepartRegression'}, 'transformation_params': {'0': {'datepart_method': 'simple_3', 'regression_model': {'model': 'FastRidge', 'model_params': {}}}}}, 'isolated_only': False}, 'remove_excess_anomalies': True, 'impact': 'anomaly_score', 'regression_params': {}}, '2': {}, '3': {'rows': 1, 'lag': 1, 'method': 'additive', 'strength': 0.7, 'first_value_only': True, 'threshold': None}}\") in model 2188 in generation 20: AverageValueNaive\n",
      "Model Number: 2189 with model AverageValueNaive in generation 20 of 20\n",
      "Model Number: 2190 with model ARIMA in generation 20 of 20\n",
      "Model Number: 2191 with model AverageValueNaive in generation 20 of 20\n",
      "Model Number: 2192 with model AverageValueNaive in generation 20 of 20\n",
      "Model Number: 2193 with model SeasonalNaive in generation 20 of 20\n",
      "Model Number: 2194 with model ARDL in generation 20 of 20\n",
      "Model Number: 2195 with model MultivariateMotif in generation 20 of 20\n",
      "Model Number: 2196 with model SectionalMotif in generation 20 of 20\n",
      "Model Number: 2197 with model NVAR in generation 20 of 20\n",
      "Model Number: 2198 with model NVAR in generation 20 of 20\n",
      "Model Number: 2199 with model MultivariateMotif in generation 20 of 20\n",
      "Model Number: 2200 with model NVAR in generation 20 of 20\n",
      "Model Number: 2201 with model MultivariateMotif in generation 20 of 20\n",
      "Model Number: 2202 with model ARDL in generation 20 of 20\n"
     ]
    },
    {
     "name": "stderr",
     "output_type": "stream",
     "text": [
      "C:\\Users\\moham\\AppData\\Local\\Packages\\PythonSoftwareFoundation.Python.3.12_qbz5n2kfra8p0\\LocalCache\\local-packages\\Python312\\site-packages\\autots\\tools\\transform.py:5472: FutureWarning: Downcasting object dtype arrays on .fillna, .ffill, .bfill is deprecated and will change in a future version. Call result.infer_objects(copy=False) instead. To opt-in to the future behavior, set `pd.set_option('future.no_silent_downcasting', True)`\n",
      "  df = df.fillna(0)\n",
      "C:\\Users\\moham\\AppData\\Local\\Packages\\PythonSoftwareFoundation.Python.3.12_qbz5n2kfra8p0\\LocalCache\\local-packages\\Python312\\site-packages\\autots\\tools\\transform.py:5472: FutureWarning: Downcasting object dtype arrays on .fillna, .ffill, .bfill is deprecated and will change in a future version. Call result.infer_objects(copy=False) instead. To opt-in to the future behavior, set `pd.set_option('future.no_silent_downcasting', True)`\n",
      "  df = df.fillna(0)\n"
     ]
    },
    {
     "name": "stdout",
     "output_type": "stream",
     "text": [
      "Model Number: 2203 with model MultivariateMotif in generation 20 of 20\n",
      "Model Number: 2204 with model ARIMA in generation 20 of 20\n",
      "Model Number: 2205 with model MultivariateMotif in generation 20 of 20\n",
      "Model Number: 2206 with model MultivariateMotif in generation 20 of 20\n",
      "Model Number: 2207 with model SectionalMotif in generation 20 of 20\n",
      "Template Eval Error: ValueError(\"regression_type=='User' but no future_regressor supplied\") in model 2207 in generation 20: SectionalMotif\n",
      "Model Number: 2208 with model AverageValueNaive in generation 20 of 20\n",
      "Model Number: 2209 with model Theta in generation 20 of 20\n"
     ]
    },
    {
     "name": "stderr",
     "output_type": "stream",
     "text": [
      "C:\\Users\\moham\\AppData\\Local\\Packages\\PythonSoftwareFoundation.Python.3.12_qbz5n2kfra8p0\\LocalCache\\local-packages\\Python312\\site-packages\\sklearn\\neighbors\\_classification.py:238: DataConversionWarning: A column-vector y was passed when a 1d array was expected. Please change the shape of y to (n_samples,), for example using ravel().\n",
      "  return self._fit(X, y)\n",
      "C:\\Users\\moham\\AppData\\Local\\Packages\\PythonSoftwareFoundation.Python.3.12_qbz5n2kfra8p0\\LocalCache\\local-packages\\Python312\\site-packages\\sklearn\\neighbors\\_classification.py:238: DataConversionWarning: A column-vector y was passed when a 1d array was expected. Please change the shape of y to (n_samples,), for example using ravel().\n",
      "  return self._fit(X, y)\n"
     ]
    },
    {
     "name": "stdout",
     "output_type": "stream",
     "text": [
      "Model Number: 2210 with model SectionalMotif in generation 20 of 20\n",
      "Model Number: 2211 with model SectionalMotif in generation 20 of 20\n",
      "Model Number: 2212 with model AverageValueNaive in generation 20 of 20\n",
      "Model Number: 2213 with model NVAR in generation 20 of 20\n",
      "Template Eval Error: Exception(\"Transformer Cointegration failed on fit from params rolling_mean_24 {'0': {'rows': 1, 'lag': 1, 'method': 'additive', 'strength': 0.9, 'first_value_only': False, 'threshold': 1}, '1': {'det_order': 1, 'k_ar_diff': 2}, '2': {'rows': 1, 'lag': 1, 'method': 'additive', 'strength': 1.0, 'first_value_only': False, 'threshold': None}, '3': {'rows': 4}}\") in model 2213 in generation 20: NVAR\n",
      "Model Number: 2214 with model WindowRegression in generation 20 of 20\n",
      "Model Number: 2215 with model ARIMA in generation 20 of 20\n",
      "Model Number: 2216 with model Theta in generation 20 of 20\n",
      "Model Number: 2217 with model WindowRegression in generation 20 of 20\n",
      "Model Number: 2218 with model Ensemble in generation 21 of Ensembles\n",
      "Model Number: 2219 with model Ensemble in generation 21 of Ensembles\n"
     ]
    },
    {
     "name": "stderr",
     "output_type": "stream",
     "text": [
      "C:\\Users\\moham\\AppData\\Local\\Packages\\PythonSoftwareFoundation.Python.3.12_qbz5n2kfra8p0\\LocalCache\\local-packages\\Python312\\site-packages\\sklearn\\neighbors\\_classification.py:238: DataConversionWarning: A column-vector y was passed when a 1d array was expected. Please change the shape of y to (n_samples,), for example using ravel().\n",
      "  return self._fit(X, y)\n",
      "C:\\Users\\moham\\AppData\\Local\\Packages\\PythonSoftwareFoundation.Python.3.12_qbz5n2kfra8p0\\LocalCache\\local-packages\\Python312\\site-packages\\sklearn\\neighbors\\_classification.py:238: DataConversionWarning: A column-vector y was passed when a 1d array was expected. Please change the shape of y to (n_samples,), for example using ravel().\n",
      "  return self._fit(X, y)\n"
     ]
    },
    {
     "name": "stdout",
     "output_type": "stream",
     "text": [
      "Model Number: 2220 with model Ensemble in generation 21 of Ensembles\n",
      "Model Number: 2221 with model Ensemble in generation 21 of Ensembles\n"
     ]
    },
    {
     "name": "stderr",
     "output_type": "stream",
     "text": [
      "C:\\Users\\moham\\AppData\\Local\\Packages\\PythonSoftwareFoundation.Python.3.12_qbz5n2kfra8p0\\LocalCache\\local-packages\\Python312\\site-packages\\sklearn\\neighbors\\_classification.py:238: DataConversionWarning: A column-vector y was passed when a 1d array was expected. Please change the shape of y to (n_samples,), for example using ravel().\n",
      "  return self._fit(X, y)\n",
      "C:\\Users\\moham\\AppData\\Local\\Packages\\PythonSoftwareFoundation.Python.3.12_qbz5n2kfra8p0\\LocalCache\\local-packages\\Python312\\site-packages\\sklearn\\neighbors\\_classification.py:238: DataConversionWarning: A column-vector y was passed when a 1d array was expected. Please change the shape of y to (n_samples,), for example using ravel().\n",
      "  return self._fit(X, y)\n"
     ]
    },
    {
     "name": "stdout",
     "output_type": "stream",
     "text": [
      "Model Number: 2222 with model Ensemble in generation 21 of Ensembles\n",
      "Model Number: 2223 with model Ensemble in generation 21 of Ensembles\n"
     ]
    },
    {
     "name": "stderr",
     "output_type": "stream",
     "text": [
      "C:\\Users\\moham\\AppData\\Local\\Packages\\PythonSoftwareFoundation.Python.3.12_qbz5n2kfra8p0\\LocalCache\\local-packages\\Python312\\site-packages\\sklearn\\neighbors\\_classification.py:238: DataConversionWarning: A column-vector y was passed when a 1d array was expected. Please change the shape of y to (n_samples,), for example using ravel().\n",
      "  return self._fit(X, y)\n",
      "C:\\Users\\moham\\AppData\\Local\\Packages\\PythonSoftwareFoundation.Python.3.12_qbz5n2kfra8p0\\LocalCache\\local-packages\\Python312\\site-packages\\sklearn\\neighbors\\_classification.py:238: DataConversionWarning: A column-vector y was passed when a 1d array was expected. Please change the shape of y to (n_samples,), for example using ravel().\n",
      "  return self._fit(X, y)\n"
     ]
    },
    {
     "name": "stdout",
     "output_type": "stream",
     "text": [
      "Model Number: 2224 with model Ensemble in generation 21 of Ensembles\n",
      "Model Number: 2225 with model Ensemble in generation 21 of Ensembles\n"
     ]
    },
    {
     "name": "stderr",
     "output_type": "stream",
     "text": [
      "C:\\Users\\moham\\AppData\\Local\\Packages\\PythonSoftwareFoundation.Python.3.12_qbz5n2kfra8p0\\LocalCache\\local-packages\\Python312\\site-packages\\sklearn\\neighbors\\_classification.py:238: DataConversionWarning: A column-vector y was passed when a 1d array was expected. Please change the shape of y to (n_samples,), for example using ravel().\n",
      "  return self._fit(X, y)\n",
      "C:\\Users\\moham\\AppData\\Local\\Packages\\PythonSoftwareFoundation.Python.3.12_qbz5n2kfra8p0\\LocalCache\\local-packages\\Python312\\site-packages\\sklearn\\neighbors\\_classification.py:238: DataConversionWarning: A column-vector y was passed when a 1d array was expected. Please change the shape of y to (n_samples,), for example using ravel().\n",
      "  return self._fit(X, y)\n"
     ]
    },
    {
     "name": "stdout",
     "output_type": "stream",
     "text": [
      "Validation Round: 1\n",
      "Model Number: 1 of 309 with model Ensemble for Validation 1\n",
      "📈 1 - Ensemble with avg smape 2.8: \n",
      "Model Number: 2 of 309 with model MultivariateMotif for Validation 1\n",
      "📈 2 - MultivariateMotif with avg smape 2.71: \n",
      "Model Number: 3 of 309 with model Ensemble for Validation 1\n"
     ]
    },
    {
     "name": "stderr",
     "output_type": "stream",
     "text": [
      "C:\\Users\\moham\\AppData\\Local\\Packages\\PythonSoftwareFoundation.Python.3.12_qbz5n2kfra8p0\\LocalCache\\local-packages\\Python312\\site-packages\\sklearn\\neighbors\\_classification.py:238: DataConversionWarning: A column-vector y was passed when a 1d array was expected. Please change the shape of y to (n_samples,), for example using ravel().\n",
      "  return self._fit(X, y)\n",
      "C:\\Users\\moham\\AppData\\Local\\Packages\\PythonSoftwareFoundation.Python.3.12_qbz5n2kfra8p0\\LocalCache\\local-packages\\Python312\\site-packages\\sklearn\\neighbors\\_classification.py:238: DataConversionWarning: A column-vector y was passed when a 1d array was expected. Please change the shape of y to (n_samples,), for example using ravel().\n",
      "  return self._fit(X, y)\n"
     ]
    },
    {
     "name": "stdout",
     "output_type": "stream",
     "text": [
      "3 - Ensemble with avg smape 2.77: \n",
      "Model Number: 4 of 309 with model Ensemble for Validation 1\n",
      "📈 4 - Ensemble with avg smape 2.66: \n",
      "Model Number: 5 of 309 with model Ensemble for Validation 1\n"
     ]
    },
    {
     "name": "stderr",
     "output_type": "stream",
     "text": [
      "C:\\Users\\moham\\AppData\\Local\\Packages\\PythonSoftwareFoundation.Python.3.12_qbz5n2kfra8p0\\LocalCache\\local-packages\\Python312\\site-packages\\sklearn\\neighbors\\_classification.py:238: DataConversionWarning: A column-vector y was passed when a 1d array was expected. Please change the shape of y to (n_samples,), for example using ravel().\n",
      "  return self._fit(X, y)\n",
      "C:\\Users\\moham\\AppData\\Local\\Packages\\PythonSoftwareFoundation.Python.3.12_qbz5n2kfra8p0\\LocalCache\\local-packages\\Python312\\site-packages\\sklearn\\neighbors\\_classification.py:238: DataConversionWarning: A column-vector y was passed when a 1d array was expected. Please change the shape of y to (n_samples,), for example using ravel().\n",
      "  return self._fit(X, y)\n"
     ]
    },
    {
     "name": "stdout",
     "output_type": "stream",
     "text": [
      "5 - Ensemble with avg smape 2.66: \n",
      "Model Number: 6 of 309 with model Ensemble for Validation 1\n",
      "6 - Ensemble with avg smape 2.66: \n",
      "Model Number: 7 of 309 with model SectionalMotif for Validation 1\n",
      "7 - SectionalMotif with avg smape 2.9: \n",
      "Model Number: 8 of 309 with model Ensemble for Validation 1\n"
     ]
    },
    {
     "name": "stderr",
     "output_type": "stream",
     "text": [
      "C:\\Users\\moham\\AppData\\Local\\Packages\\PythonSoftwareFoundation.Python.3.12_qbz5n2kfra8p0\\LocalCache\\local-packages\\Python312\\site-packages\\sklearn\\neighbors\\_classification.py:238: DataConversionWarning: A column-vector y was passed when a 1d array was expected. Please change the shape of y to (n_samples,), for example using ravel().\n",
      "  return self._fit(X, y)\n",
      "C:\\Users\\moham\\AppData\\Local\\Packages\\PythonSoftwareFoundation.Python.3.12_qbz5n2kfra8p0\\LocalCache\\local-packages\\Python312\\site-packages\\sklearn\\neighbors\\_classification.py:238: DataConversionWarning: A column-vector y was passed when a 1d array was expected. Please change the shape of y to (n_samples,), for example using ravel().\n",
      "  return self._fit(X, y)\n"
     ]
    },
    {
     "name": "stdout",
     "output_type": "stream",
     "text": [
      "8 - Ensemble with avg smape 2.81: \n",
      "Model Number: 9 of 309 with model SectionalMotif for Validation 1\n",
      "9 - SectionalMotif with avg smape 2.8: \n",
      "Model Number: 10 of 309 with model SectionalMotif for Validation 1\n",
      "10 - SectionalMotif with avg smape 2.82: \n",
      "Model Number: 11 of 309 with model SectionalMotif for Validation 1\n",
      "11 - SectionalMotif with avg smape 2.82: \n",
      "Model Number: 12 of 309 with model SectionalMotif for Validation 1\n",
      "12 - SectionalMotif with avg smape 2.82: \n",
      "Model Number: 13 of 309 with model SectionalMotif for Validation 1\n",
      "13 - SectionalMotif with avg smape 2.82: \n",
      "Model Number: 14 of 309 with model SectionalMotif for Validation 1\n"
     ]
    },
    {
     "name": "stderr",
     "output_type": "stream",
     "text": [
      "C:\\Users\\moham\\AppData\\Local\\Packages\\PythonSoftwareFoundation.Python.3.12_qbz5n2kfra8p0\\LocalCache\\local-packages\\Python312\\site-packages\\sklearn\\neighbors\\_classification.py:238: DataConversionWarning: A column-vector y was passed when a 1d array was expected. Please change the shape of y to (n_samples,), for example using ravel().\n",
      "  return self._fit(X, y)\n"
     ]
    },
    {
     "name": "stdout",
     "output_type": "stream",
     "text": [
      "14 - SectionalMotif with avg smape 2.82: \n",
      "Model Number: 15 of 309 with model SectionalMotif for Validation 1\n",
      "15 - SectionalMotif with avg smape 2.82: \n",
      "Model Number: 16 of 309 with model SectionalMotif for Validation 1\n",
      "16 - SectionalMotif with avg smape 2.82: \n",
      "Model Number: 17 of 309 with model Ensemble for Validation 1\n"
     ]
    },
    {
     "name": "stderr",
     "output_type": "stream",
     "text": [
      "C:\\Users\\moham\\AppData\\Local\\Packages\\PythonSoftwareFoundation.Python.3.12_qbz5n2kfra8p0\\LocalCache\\local-packages\\Python312\\site-packages\\sklearn\\neighbors\\_classification.py:238: DataConversionWarning: A column-vector y was passed when a 1d array was expected. Please change the shape of y to (n_samples,), for example using ravel().\n",
      "  return self._fit(X, y)\n"
     ]
    },
    {
     "name": "stdout",
     "output_type": "stream",
     "text": [
      "📈 17 - Ensemble with avg smape 2.58: \n",
      "Model Number: 18 of 309 with model MultivariateMotif for Validation 1\n",
      "18 - MultivariateMotif with avg smape 3.39: \n",
      "Model Number: 19 of 309 with model SectionalMotif for Validation 1\n",
      "19 - SectionalMotif with avg smape 2.77: \n",
      "Model Number: 20 of 309 with model Ensemble for Validation 1\n",
      "📈 20 - Ensemble with avg smape 2.53: \n",
      "Model Number: 21 of 309 with model SectionalMotif for Validation 1\n",
      "21 - SectionalMotif with avg smape 4.24: \n",
      "Model Number: 22 of 309 with model SectionalMotif for Validation 1\n"
     ]
    },
    {
     "name": "stderr",
     "output_type": "stream",
     "text": [
      "C:\\Users\\moham\\AppData\\Local\\Packages\\PythonSoftwareFoundation.Python.3.12_qbz5n2kfra8p0\\LocalCache\\local-packages\\Python312\\site-packages\\sklearn\\neighbors\\_classification.py:238: DataConversionWarning: A column-vector y was passed when a 1d array was expected. Please change the shape of y to (n_samples,), for example using ravel().\n",
      "  return self._fit(X, y)\n"
     ]
    },
    {
     "name": "stdout",
     "output_type": "stream",
     "text": [
      "22 - SectionalMotif with avg smape 3.56: \n",
      "Model Number: 23 of 309 with model AverageValueNaive for Validation 1\n",
      "📈 23 - AverageValueNaive with avg smape 2.36: \n",
      "Model Number: 24 of 309 with model MultivariateMotif for Validation 1\n",
      "24 - MultivariateMotif with avg smape 3.29: \n",
      "Model Number: 25 of 309 with model NVAR for Validation 1\n",
      "📈 25 - NVAR with avg smape 2.31: \n",
      "Model Number: 26 of 309 with model AverageValueNaive for Validation 1\n",
      "26 - AverageValueNaive with avg smape 2.52: \n",
      "Model Number: 27 of 309 with model NVAR for Validation 1\n",
      "27 - NVAR with avg smape 2.31: \n",
      "Model Number: 28 of 309 with model SectionalMotif for Validation 1\n",
      "28 - SectionalMotif with avg smape 4.03: \n",
      "Model Number: 29 of 309 with model MultivariateMotif for Validation 1\n",
      "29 - MultivariateMotif with avg smape 3.0: \n",
      "Model Number: 30 of 309 with model AverageValueNaive for Validation 1\n",
      "30 - AverageValueNaive with avg smape 2.5: \n",
      "Model Number: 31 of 309 with model NVAR for Validation 1\n",
      "Template Eval Error: Exception(\"Transformer PowerTransformer failed on fit from params fake_date {'0': {'rows': 1, 'lag': 1, 'method': 'additive', 'strength': 0.9, 'first_value_only': False, 'threshold': 1}, '1': {}, '2': {}}\") in model 31 in generation 0: NVAR\n",
      "Model Number: 32 of 309 with model NVAR for Validation 1\n",
      "📈 32 - NVAR with avg smape 2.23: \n",
      "Model Number: 33 of 309 with model NVAR for Validation 1\n",
      "33 - NVAR with avg smape 2.23: \n",
      "Model Number: 34 of 309 with model NVAR for Validation 1\n",
      "34 - NVAR with avg smape 2.23: \n",
      "Model Number: 35 of 309 with model NVAR for Validation 1\n"
     ]
    },
    {
     "name": "stderr",
     "output_type": "stream",
     "text": [
      "C:\\Users\\moham\\AppData\\Local\\Packages\\PythonSoftwareFoundation.Python.3.12_qbz5n2kfra8p0\\LocalCache\\local-packages\\Python312\\site-packages\\sklearn\\preprocessing\\_data.py:3412: RuntimeWarning: overflow encountered in power\n",
      "  out[~pos] = -(np.power(-x[~pos] + 1, 2 - lmbda) - 1) / (2 - lmbda)\n"
     ]
    },
    {
     "name": "stdout",
     "output_type": "stream",
     "text": [
      "35 - NVAR with avg smape 2.23: \n",
      "Model Number: 36 of 309 with model Theta for Validation 1\n",
      "36 - Theta with avg smape 2.52: \n",
      "Model Number: 37 of 309 with model MultivariateMotif for Validation 1\n",
      "37 - MultivariateMotif with avg smape 2.91: \n",
      "Model Number: 38 of 309 with model MultivariateMotif for Validation 1\n",
      "38 - MultivariateMotif with avg smape 2.71: \n",
      "Model Number: 39 of 309 with model AverageValueNaive for Validation 1\n",
      "39 - AverageValueNaive with avg smape 2.52: \n",
      "Model Number: 40 of 309 with model AverageValueNaive for Validation 1\n",
      "40 - AverageValueNaive with avg smape 2.52: \n",
      "Model Number: 41 of 309 with model Theta for Validation 1\n",
      "41 - Theta with avg smape 2.52: \n",
      "Model Number: 42 of 309 with model Theta for Validation 1\n",
      "42 - Theta with avg smape 2.52: \n",
      "Model Number: 43 of 309 with model Theta for Validation 1\n",
      "43 - Theta with avg smape 2.52: \n",
      "Model Number: 44 of 309 with model Theta for Validation 1\n",
      "44 - Theta with avg smape 2.52: \n",
      "Model Number: 45 of 309 with model Theta for Validation 1\n",
      "45 - Theta with avg smape 2.52: \n",
      "Model Number: 46 of 309 with model Theta for Validation 1\n",
      "46 - Theta with avg smape 2.52: \n",
      "Model Number: 47 of 309 with model AverageValueNaive for Validation 1\n",
      "47 - AverageValueNaive with avg smape 5.77: \n",
      "Model Number: 48 of 309 with model Theta for Validation 1\n",
      "48 - Theta with avg smape 2.52: \n",
      "Model Number: 49 of 309 with model Theta for Validation 1\n",
      "49 - Theta with avg smape 2.52: \n",
      "Model Number: 50 of 309 with model Theta for Validation 1\n",
      "50 - Theta with avg smape 2.52: \n",
      "Model Number: 51 of 309 with model AverageValueNaive for Validation 1\n",
      "51 - AverageValueNaive with avg smape 2.56: \n",
      "Model Number: 52 of 309 with model AverageValueNaive for Validation 1\n",
      "52 - AverageValueNaive with avg smape 2.52: \n",
      "Model Number: 53 of 309 with model AverageValueNaive for Validation 1\n",
      "53 - AverageValueNaive with avg smape 2.52: \n",
      "Model Number: 54 of 309 with model NVAR for Validation 1\n",
      "54 - NVAR with avg smape 2.35: \n",
      "Model Number: 55 of 309 with model NVAR for Validation 1\n",
      "55 - NVAR with avg smape 2.3: \n",
      "Model Number: 56 of 309 with model NVAR for Validation 1\n",
      "56 - NVAR with avg smape 2.26: \n",
      "Model Number: 57 of 309 with model Theta for Validation 1\n",
      "57 - Theta with avg smape 2.52: \n",
      "Model Number: 58 of 309 with model Theta for Validation 1\n",
      "58 - Theta with avg smape 2.52: \n",
      "Model Number: 59 of 309 with model MultivariateMotif for Validation 1\n",
      "59 - MultivariateMotif with avg smape 3.42: \n",
      "Model Number: 60 of 309 with model AverageValueNaive for Validation 1\n",
      "60 - AverageValueNaive with avg smape 2.52: \n",
      "Model Number: 61 of 309 with model MultivariateMotif for Validation 1\n",
      "61 - MultivariateMotif with avg smape 3.02: \n",
      "Model Number: 62 of 309 with model Theta for Validation 1\n",
      "62 - Theta with avg smape 2.55: \n",
      "Model Number: 63 of 309 with model LastValueNaive for Validation 1\n",
      "63 - LastValueNaive with avg smape 2.52: \n",
      "Model Number: 64 of 309 with model MultivariateMotif for Validation 1\n",
      "64 - MultivariateMotif with avg smape 3.1: \n",
      "Model Number: 65 of 309 with model ARIMA for Validation 1\n",
      "65 - ARIMA with avg smape 2.6: \n",
      "Model Number: 66 of 309 with model ARIMA for Validation 1\n",
      "66 - ARIMA with avg smape 2.61: \n",
      "Model Number: 67 of 309 with model AverageValueNaive for Validation 1\n",
      "67 - AverageValueNaive with avg smape 2.52: \n",
      "Model Number: 68 of 309 with model AverageValueNaive for Validation 1\n",
      "68 - AverageValueNaive with avg smape 2.52: \n",
      "Model Number: 69 of 309 with model UnobservedComponents for Validation 1\n",
      "69 - UnobservedComponents with avg smape 2.52: \n",
      "Model Number: 70 of 309 with model ARIMA for Validation 1\n",
      "70 - ARIMA with avg smape 2.58: \n",
      "Model Number: 71 of 309 with model AverageValueNaive for Validation 1\n",
      "71 - AverageValueNaive with avg smape 2.61: \n",
      "Model Number: 72 of 309 with model ARDL for Validation 1\n",
      "72 - ARDL with avg smape 2.68: \n",
      "Model Number: 73 of 309 with model ARDL for Validation 1\n",
      "73 - ARDL with avg smape 2.7: \n",
      "Model Number: 74 of 309 with model ARDL for Validation 1\n",
      "74 - ARDL with avg smape 6.49: \n",
      "Model Number: 75 of 309 with model ARIMA for Validation 1\n",
      "75 - ARIMA with avg smape 2.45: \n",
      "Model Number: 76 of 309 with model ARIMA for Validation 1\n",
      "76 - ARIMA with avg smape 2.5: \n",
      "Model Number: 77 of 309 with model UnobservedComponents for Validation 1\n",
      "77 - UnobservedComponents with avg smape 2.35: \n",
      "Model Number: 78 of 309 with model UnobservedComponents for Validation 1\n",
      "78 - UnobservedComponents with avg smape 21.3: \n",
      "Model Number: 79 of 309 with model UnobservedComponents for Validation 1\n",
      "79 - UnobservedComponents with avg smape 21.3: \n",
      "Model Number: 80 of 309 with model NVAR for Validation 1\n",
      "📈 80 - NVAR with avg smape 2.22: \n",
      "Model Number: 81 of 309 with model WindowRegression for Validation 1\n",
      "81 - WindowRegression with avg smape 2.52: \n",
      "Model Number: 82 of 309 with model WindowRegression for Validation 1\n",
      "82 - WindowRegression with avg smape 2.52: \n",
      "Model Number: 83 of 309 with model SeasonalNaive for Validation 1\n",
      "83 - SeasonalNaive with avg smape 6.72: \n",
      "Model Number: 84 of 309 with model ARDL for Validation 1\n",
      "84 - ARDL with avg smape 6.8: \n",
      "Model Number: 85 of 309 with model MultivariateMotif for Validation 1\n",
      "85 - MultivariateMotif with avg smape 3.77: \n",
      "Model Number: 86 of 309 with model LastValueNaive for Validation 1\n",
      "86 - LastValueNaive with avg smape 21.3: \n",
      "Model Number: 87 of 309 with model LastValueNaive for Validation 1\n",
      "87 - LastValueNaive with avg smape 21.3: \n",
      "Model Number: 88 of 309 with model Cassandra for Validation 1\n"
     ]
    },
    {
     "name": "stderr",
     "output_type": "stream",
     "text": [
      "C:\\Users\\moham\\AppData\\Local\\Packages\\PythonSoftwareFoundation.Python.3.12_qbz5n2kfra8p0\\LocalCache\\local-packages\\Python312\\site-packages\\numpy\\lib\\function_base.py:2897: RuntimeWarning: invalid value encountered in divide\n",
      "  c /= stddev[:, None]\n",
      "C:\\Users\\moham\\AppData\\Local\\Packages\\PythonSoftwareFoundation.Python.3.12_qbz5n2kfra8p0\\LocalCache\\local-packages\\Python312\\site-packages\\numpy\\lib\\function_base.py:2898: RuntimeWarning: invalid value encountered in divide\n",
      "  c /= stddev[None, :]\n"
     ]
    },
    {
     "name": "stdout",
     "output_type": "stream",
     "text": [
      "88 - Cassandra with avg smape 4.74: \n",
      "Model Number: 89 of 309 with model LastValueNaive for Validation 1\n",
      "89 - LastValueNaive with avg smape 8.55: \n",
      "Model Number: 90 of 309 with model SeasonalNaive for Validation 1\n",
      "90 - SeasonalNaive with avg smape 10.4: \n",
      "Model Number: 91 of 309 with model SeasonalNaive for Validation 1\n",
      "91 - SeasonalNaive with avg smape 10.74: \n",
      "Model Number: 92 of 309 with model SeasonalNaive for Validation 1\n",
      "92 - SeasonalNaive with avg smape 9.0: \n",
      "Model Number: 93 of 309 with model MultivariateMotif for Validation 1\n",
      "93 - MultivariateMotif with avg smape 5.47: \n",
      "Model Number: 94 of 309 with model ConstantNaive for Validation 1\n",
      "94 - ConstantNaive with avg smape 21.33: \n",
      "Model Number: 95 of 309 with model ConstantNaive for Validation 1\n",
      "95 - ConstantNaive with avg smape 21.3: \n",
      "Model Number: 96 of 309 with model ConstantNaive for Validation 1\n",
      "96 - ConstantNaive with avg smape 21.3: \n",
      "Model Number: 97 of 309 with model ConstantNaive for Validation 1\n",
      "97 - ConstantNaive with avg smape 21.3: \n",
      "Model Number: 98 of 309 with model ConstantNaive for Validation 1\n",
      "98 - ConstantNaive with avg smape 21.3: \n",
      "Model Number: 99 of 309 with model LastValueNaive for Validation 1\n"
     ]
    },
    {
     "name": "stderr",
     "output_type": "stream",
     "text": [
      "C:\\Users\\moham\\AppData\\Local\\Packages\\PythonSoftwareFoundation.Python.3.12_qbz5n2kfra8p0\\LocalCache\\local-packages\\Python312\\site-packages\\sklearn\\neighbors\\_classification.py:238: DataConversionWarning: A column-vector y was passed when a 1d array was expected. Please change the shape of y to (n_samples,), for example using ravel().\n",
      "  return self._fit(X, y)\n"
     ]
    },
    {
     "name": "stdout",
     "output_type": "stream",
     "text": [
      "99 - LastValueNaive with avg smape 2.52: \n",
      "Model Number: 100 of 309 with model LastValueNaive for Validation 1\n",
      "100 - LastValueNaive with avg smape 2.52: \n",
      "Model Number: 101 of 309 with model LastValueNaive for Validation 1\n",
      "101 - LastValueNaive with avg smape 2.52: \n",
      "Model Number: 102 of 309 with model ARDL for Validation 1\n",
      "102 - ARDL with avg smape 2.6: \n",
      "Model Number: 103 of 309 with model NVAR for Validation 1\n",
      "103 - NVAR with avg smape 5.15: \n",
      "Model Number: 104 of 309 with model NVAR for Validation 1\n",
      "104 - NVAR with avg smape 5.15: \n",
      "Model Number: 105 of 309 with model MultivariateMotif for Validation 1\n",
      "105 - MultivariateMotif with avg smape 3.16: \n",
      "Model Number: 106 of 309 with model Cassandra for Validation 1\n"
     ]
    },
    {
     "name": "stderr",
     "output_type": "stream",
     "text": [
      "C:\\Users\\moham\\AppData\\Local\\Packages\\PythonSoftwareFoundation.Python.3.12_qbz5n2kfra8p0\\LocalCache\\local-packages\\Python312\\site-packages\\autots\\tools\\thresholding.py:204: RuntimeWarning: overflow encountered in scalar power\n",
      "  (1 + mean_perc_decrease) ** self.mean_weight\n",
      "C:\\Users\\moham\\AppData\\Local\\Packages\\PythonSoftwareFoundation.Python.3.12_qbz5n2kfra8p0\\LocalCache\\local-packages\\Python312\\site-packages\\numpy\\lib\\function_base.py:2897: RuntimeWarning: invalid value encountered in divide\n",
      "  c /= stddev[:, None]\n",
      "C:\\Users\\moham\\AppData\\Local\\Packages\\PythonSoftwareFoundation.Python.3.12_qbz5n2kfra8p0\\LocalCache\\local-packages\\Python312\\site-packages\\numpy\\lib\\function_base.py:2898: RuntimeWarning: invalid value encountered in divide\n",
      "  c /= stddev[None, :]\n"
     ]
    },
    {
     "name": "stdout",
     "output_type": "stream",
     "text": [
      "106 - Cassandra with avg smape 5.77: \n",
      "Model Number: 107 of 309 with model ARIMA for Validation 1\n",
      "107 - ARIMA with avg smape 2.63: \n",
      "Model Number: 108 of 309 with model MultivariateMotif for Validation 1\n",
      "108 - MultivariateMotif with avg smape 2.9: \n",
      "Model Number: 109 of 309 with model MultivariateRegression for Validation 1\n",
      "109 - MultivariateRegression with avg smape 2.81: \n",
      "Model Number: 110 of 309 with model LastValueNaive for Validation 1\n",
      "110 - LastValueNaive with avg smape 2.55: \n",
      "Model Number: 111 of 309 with model ARDL for Validation 1\n",
      "111 - ARDL with avg smape 6.96: \n",
      "Model Number: 112 of 309 with model ARIMA for Validation 1\n",
      "112 - ARIMA with avg smape 6.93: \n",
      "Model Number: 113 of 309 with model WindowRegression for Validation 1\n",
      "113 - WindowRegression with avg smape 3.34: \n",
      "Model Number: 114 of 309 with model SeasonalNaive for Validation 1\n",
      "114 - SeasonalNaive with avg smape 10.24: \n",
      "Model Number: 115 of 309 with model ARIMA for Validation 1\n",
      "115 - ARIMA with avg smape 6.55: \n",
      "Model Number: 116 of 309 with model MetricMotif for Validation 1\n",
      "116 - MetricMotif with avg smape 7.44: \n",
      "Model Number: 117 of 309 with model WindowRegression for Validation 1\n",
      "117 - WindowRegression with avg smape 3.64: \n",
      "Model Number: 118 of 309 with model MultivariateRegression for Validation 1\n",
      "118 - MultivariateRegression with avg smape 3.34: \n",
      "Model Number: 119 of 309 with model UnobservedComponents for Validation 1\n",
      "119 - UnobservedComponents with avg smape 26.09: \n",
      "Model Number: 120 of 309 with model SeasonalNaive for Validation 1\n",
      "120 - SeasonalNaive with avg smape 7.98: \n",
      "Model Number: 121 of 309 with model ARIMA for Validation 1\n"
     ]
    },
    {
     "name": "stderr",
     "output_type": "stream",
     "text": [
      "C:\\Users\\moham\\AppData\\Local\\Packages\\PythonSoftwareFoundation.Python.3.12_qbz5n2kfra8p0\\LocalCache\\local-packages\\Python312\\site-packages\\sklearn\\neighbors\\_classification.py:238: DataConversionWarning: A column-vector y was passed when a 1d array was expected. Please change the shape of y to (n_samples,), for example using ravel().\n",
      "  return self._fit(X, y)\n"
     ]
    },
    {
     "name": "stdout",
     "output_type": "stream",
     "text": [
      "121 - ARIMA with avg smape 6.72: \n",
      "Model Number: 122 of 309 with model ARIMA for Validation 1\n",
      "122 - ARIMA with avg smape 3.37: \n",
      "Model Number: 123 of 309 with model Cassandra for Validation 1\n"
     ]
    },
    {
     "name": "stderr",
     "output_type": "stream",
     "text": [
      "C:\\Users\\moham\\AppData\\Local\\Packages\\PythonSoftwareFoundation.Python.3.12_qbz5n2kfra8p0\\LocalCache\\local-packages\\Python312\\site-packages\\numpy\\lib\\function_base.py:2897: RuntimeWarning: invalid value encountered in divide\n",
      "  c /= stddev[:, None]\n",
      "C:\\Users\\moham\\AppData\\Local\\Packages\\PythonSoftwareFoundation.Python.3.12_qbz5n2kfra8p0\\LocalCache\\local-packages\\Python312\\site-packages\\numpy\\lib\\function_base.py:2898: RuntimeWarning: invalid value encountered in divide\n",
      "  c /= stddev[None, :]\n"
     ]
    },
    {
     "name": "stdout",
     "output_type": "stream",
     "text": [
      "123 - Cassandra with avg smape 2.8: \n",
      "Model Number: 124 of 309 with model ARIMA for Validation 1\n",
      "124 - ARIMA with avg smape 6.3: \n",
      "Model Number: 125 of 309 with model ARIMA for Validation 1\n",
      "125 - ARIMA with avg smape 7.28: \n",
      "Model Number: 126 of 309 with model ARIMA for Validation 1\n",
      "126 - ARIMA with avg smape 3.19: \n",
      "Model Number: 127 of 309 with model UnobservedComponents for Validation 1\n",
      "127 - UnobservedComponents with avg smape 2.35: \n",
      "Model Number: 128 of 309 with model MetricMotif for Validation 1\n",
      "128 - MetricMotif with avg smape 12.8: \n",
      "Model Number: 129 of 309 with model DMD for Validation 1\n",
      "129 - DMD with avg smape 2.88: \n",
      "Model Number: 130 of 309 with model UnobservedComponents for Validation 1\n",
      "130 - UnobservedComponents with avg smape 7.27: \n",
      "Model Number: 131 of 309 with model MultivariateRegression for Validation 1\n",
      "131 - MultivariateRegression with avg smape 5.58: \n",
      "Model Number: 132 of 309 with model Cassandra for Validation 1\n"
     ]
    },
    {
     "name": "stderr",
     "output_type": "stream",
     "text": [
      "C:\\Users\\moham\\AppData\\Local\\Packages\\PythonSoftwareFoundation.Python.3.12_qbz5n2kfra8p0\\LocalCache\\local-packages\\Python312\\site-packages\\numpy\\lib\\function_base.py:2897: RuntimeWarning: invalid value encountered in divide\n",
      "  c /= stddev[:, None]\n",
      "C:\\Users\\moham\\AppData\\Local\\Packages\\PythonSoftwareFoundation.Python.3.12_qbz5n2kfra8p0\\LocalCache\\local-packages\\Python312\\site-packages\\numpy\\lib\\function_base.py:2898: RuntimeWarning: invalid value encountered in divide\n",
      "  c /= stddev[None, :]\n"
     ]
    },
    {
     "name": "stdout",
     "output_type": "stream",
     "text": [
      "132 - Cassandra with avg smape 11.41: \n",
      "Model Number: 133 of 309 with model MetricMotif for Validation 1\n",
      "133 - MetricMotif with avg smape 4.73: \n",
      "Model Number: 134 of 309 with model WindowRegression for Validation 1\n",
      "134 - WindowRegression with avg smape 3.47: \n",
      "Model Number: 135 of 309 with model Cassandra for Validation 1\n"
     ]
    },
    {
     "name": "stderr",
     "output_type": "stream",
     "text": [
      "C:\\Users\\moham\\AppData\\Local\\Packages\\PythonSoftwareFoundation.Python.3.12_qbz5n2kfra8p0\\LocalCache\\local-packages\\Python312\\site-packages\\numpy\\lib\\function_base.py:2897: RuntimeWarning: invalid value encountered in divide\n",
      "  c /= stddev[:, None]\n",
      "C:\\Users\\moham\\AppData\\Local\\Packages\\PythonSoftwareFoundation.Python.3.12_qbz5n2kfra8p0\\LocalCache\\local-packages\\Python312\\site-packages\\numpy\\lib\\function_base.py:2898: RuntimeWarning: invalid value encountered in divide\n",
      "  c /= stddev[None, :]\n"
     ]
    },
    {
     "name": "stdout",
     "output_type": "stream",
     "text": [
      "135 - Cassandra with avg smape 2.32: \n",
      "Model Number: 136 of 309 with model MultivariateRegression for Validation 1\n",
      "136 - MultivariateRegression with avg smape 3.28: \n",
      "Model Number: 137 of 309 with model UnobservedComponents for Validation 1\n",
      "137 - UnobservedComponents with avg smape 2.73: \n",
      "Model Number: 138 of 309 with model WindowRegression for Validation 1\n",
      "138 - WindowRegression with avg smape 2.72: \n",
      "Model Number: 139 of 309 with model WindowRegression for Validation 1\n",
      "139 - WindowRegression with avg smape 2.72: \n",
      "Model Number: 140 of 309 with model SeasonalNaive for Validation 1\n",
      "140 - SeasonalNaive with avg smape 3.07: \n",
      "Model Number: 141 of 309 with model DMD for Validation 1\n",
      "141 - DMD with avg smape 7.51: \n",
      "Model Number: 142 of 309 with model SeasonalNaive for Validation 1\n",
      "142 - SeasonalNaive with avg smape 2.27: \n",
      "Model Number: 143 of 309 with model UnobservedComponents for Validation 1\n",
      "143 - UnobservedComponents with avg smape 2.46: \n",
      "Model Number: 144 of 309 with model UnobservedComponents for Validation 1\n",
      "144 - UnobservedComponents with avg smape 2.45: \n",
      "Model Number: 145 of 309 with model LastValueNaive for Validation 1\n",
      "145 - LastValueNaive with avg smape 19.09: \n",
      "Model Number: 146 of 309 with model MultivariateRegression for Validation 1\n",
      "146 - MultivariateRegression with avg smape 2.8: \n",
      "Model Number: 147 of 309 with model DMD for Validation 1\n",
      "147 - DMD with avg smape 3.09: \n",
      "Model Number: 148 of 309 with model SeasonalNaive for Validation 1\n",
      "148 - SeasonalNaive with avg smape 12.82: \n",
      "Model Number: 149 of 309 with model WindowRegression for Validation 1\n",
      "📈 149 - WindowRegression with avg smape 2.19: \n",
      "Model Number: 150 of 309 with model WindowRegression for Validation 1\n",
      "150 - WindowRegression with avg smape 5.22: \n",
      "Model Number: 151 of 309 with model SeasonalNaive for Validation 1\n",
      "151 - SeasonalNaive with avg smape 2.8: \n",
      "Model Number: 152 of 309 with model SeasonalNaive for Validation 1\n",
      "152 - SeasonalNaive with avg smape 6.09: \n",
      "Model Number: 153 of 309 with model SeasonalNaive for Validation 1\n",
      "153 - SeasonalNaive with avg smape 10.17: \n",
      "Model Number: 154 of 309 with model DMD for Validation 1\n",
      "154 - DMD with avg smape 3.01: \n",
      "Model Number: 155 of 309 with model Cassandra for Validation 1\n",
      "155 - Cassandra with avg smape 7.35: \n",
      "Model Number: 156 of 309 with model ARDL for Validation 1\n"
     ]
    },
    {
     "name": "stderr",
     "output_type": "stream",
     "text": [
      "C:\\Users\\moham\\AppData\\Local\\Packages\\PythonSoftwareFoundation.Python.3.12_qbz5n2kfra8p0\\LocalCache\\local-packages\\Python312\\site-packages\\numpy\\lib\\function_base.py:2897: RuntimeWarning: invalid value encountered in divide\n",
      "  c /= stddev[:, None]\n",
      "C:\\Users\\moham\\AppData\\Local\\Packages\\PythonSoftwareFoundation.Python.3.12_qbz5n2kfra8p0\\LocalCache\\local-packages\\Python312\\site-packages\\numpy\\lib\\function_base.py:2898: RuntimeWarning: invalid value encountered in divide\n",
      "  c /= stddev[None, :]\n"
     ]
    },
    {
     "name": "stdout",
     "output_type": "stream",
     "text": [
      "156 - ARDL with avg smape 3.27: \n",
      "Model Number: 157 of 309 with model WindowRegression for Validation 1\n",
      "157 - WindowRegression with avg smape 6.74: \n",
      "Model Number: 158 of 309 with model MultivariateRegression for Validation 1\n",
      "158 - MultivariateRegression with avg smape 3.06: \n",
      "Model Number: 159 of 309 with model WindowRegression for Validation 1\n",
      "159 - WindowRegression with avg smape 4.47: \n",
      "Model Number: 160 of 309 with model WindowRegression for Validation 1\n",
      "160 - WindowRegression with avg smape 4.46: \n",
      "Model Number: 161 of 309 with model MultivariateRegression for Validation 1\n",
      "161 - MultivariateRegression with avg smape 3.04: \n",
      "Model Number: 162 of 309 with model MultivariateRegression for Validation 1\n",
      "162 - MultivariateRegression with avg smape 3.05: \n",
      "Model Number: 163 of 309 with model SeasonalityMotif for Validation 1\n",
      "163 - SeasonalityMotif with avg smape 6.22: \n",
      "Model Number: 164 of 309 with model MultivariateRegression for Validation 1\n",
      "164 - MultivariateRegression with avg smape 3.27: \n",
      "Model Number: 165 of 309 with model ARDL for Validation 1\n",
      "165 - ARDL with avg smape 2.98: \n",
      "Model Number: 166 of 309 with model ARDL for Validation 1\n",
      "166 - ARDL with avg smape 2.99: \n",
      "Model Number: 167 of 309 with model MultivariateRegression for Validation 1\n",
      "167 - MultivariateRegression with avg smape 2.74: \n",
      "Model Number: 168 of 309 with model DMD for Validation 1\n",
      "168 - DMD with avg smape 7.83: \n",
      "Model Number: 169 of 309 with model SeasonalNaive for Validation 1\n",
      "169 - SeasonalNaive with avg smape 7.91: \n",
      "Model Number: 170 of 309 with model DMD for Validation 1\n",
      "170 - DMD with avg smape 2.8: \n",
      "Model Number: 171 of 309 with model DMD for Validation 1\n",
      "171 - DMD with avg smape 2.8: \n",
      "Model Number: 172 of 309 with model DMD for Validation 1\n",
      "172 - DMD with avg smape 2.8: \n",
      "Model Number: 173 of 309 with model DMD for Validation 1\n",
      "173 - DMD with avg smape 2.8: \n",
      "Model Number: 174 of 309 with model WindowRegression for Validation 1\n",
      "174 - WindowRegression with avg smape 2.68: \n",
      "Model Number: 175 of 309 with model ARDL for Validation 1\n",
      "175 - ARDL with avg smape 2.82: \n",
      "Model Number: 176 of 309 with model MultivariateRegression for Validation 1\n",
      "176 - MultivariateRegression with avg smape 4.08: \n",
      "Model Number: 177 of 309 with model DMD for Validation 1\n",
      "177 - DMD with avg smape 5.09: \n",
      "Model Number: 178 of 309 with model MultivariateRegression for Validation 1\n",
      "178 - MultivariateRegression with avg smape 3.76: \n",
      "Model Number: 179 of 309 with model UnobservedComponents for Validation 1\n",
      "179 - UnobservedComponents with avg smape 21.3: \n",
      "Model Number: 180 of 309 with model Cassandra for Validation 1\n"
     ]
    },
    {
     "name": "stderr",
     "output_type": "stream",
     "text": [
      "C:\\Users\\moham\\AppData\\Local\\Packages\\PythonSoftwareFoundation.Python.3.12_qbz5n2kfra8p0\\LocalCache\\local-packages\\Python312\\site-packages\\numpy\\lib\\function_base.py:2897: RuntimeWarning: invalid value encountered in divide\n",
      "  c /= stddev[:, None]\n",
      "C:\\Users\\moham\\AppData\\Local\\Packages\\PythonSoftwareFoundation.Python.3.12_qbz5n2kfra8p0\\LocalCache\\local-packages\\Python312\\site-packages\\numpy\\lib\\function_base.py:2898: RuntimeWarning: invalid value encountered in divide\n",
      "  c /= stddev[None, :]\n"
     ]
    },
    {
     "name": "stdout",
     "output_type": "stream",
     "text": [
      "180 - Cassandra with avg smape 4.82: \n",
      "Model Number: 181 of 309 with model DMD for Validation 1\n",
      "181 - DMD with avg smape 2.88: \n",
      "Model Number: 182 of 309 with model Cassandra for Validation 1\n",
      "182 - Cassandra with avg smape 3.07: \n",
      "Model Number: 183 of 309 with model Cassandra for Validation 1\n"
     ]
    },
    {
     "name": "stderr",
     "output_type": "stream",
     "text": [
      "C:\\Users\\moham\\AppData\\Local\\Packages\\PythonSoftwareFoundation.Python.3.12_qbz5n2kfra8p0\\LocalCache\\local-packages\\Python312\\site-packages\\numpy\\lib\\function_base.py:2897: RuntimeWarning: invalid value encountered in divide\n",
      "  c /= stddev[:, None]\n",
      "C:\\Users\\moham\\AppData\\Local\\Packages\\PythonSoftwareFoundation.Python.3.12_qbz5n2kfra8p0\\LocalCache\\local-packages\\Python312\\site-packages\\numpy\\lib\\function_base.py:2898: RuntimeWarning: invalid value encountered in divide\n",
      "  c /= stddev[None, :]\n",
      "C:\\Users\\moham\\AppData\\Local\\Packages\\PythonSoftwareFoundation.Python.3.12_qbz5n2kfra8p0\\LocalCache\\local-packages\\Python312\\site-packages\\numpy\\lib\\function_base.py:2897: RuntimeWarning: invalid value encountered in divide\n",
      "  c /= stddev[:, None]\n",
      "C:\\Users\\moham\\AppData\\Local\\Packages\\PythonSoftwareFoundation.Python.3.12_qbz5n2kfra8p0\\LocalCache\\local-packages\\Python312\\site-packages\\numpy\\lib\\function_base.py:2898: RuntimeWarning: invalid value encountered in divide\n",
      "  c /= stddev[None, :]\n"
     ]
    },
    {
     "name": "stdout",
     "output_type": "stream",
     "text": [
      "📈 183 - Cassandra with avg smape 2.17: \n",
      "Model Number: 184 of 309 with model DMD for Validation 1\n",
      "184 - DMD with avg smape 27.5: \n",
      "Model Number: 185 of 309 with model MultivariateRegression for Validation 1\n",
      "185 - MultivariateRegression with avg smape 9.91: \n",
      "Model Number: 186 of 309 with model UnobservedComponents for Validation 1\n",
      "186 - UnobservedComponents with avg smape 6.53: \n",
      "Model Number: 187 of 309 with model UnobservedComponents for Validation 1\n",
      "187 - UnobservedComponents with avg smape 17.74: \n",
      "Model Number: 188 of 309 with model ARDL for Validation 1\n",
      "188 - ARDL with avg smape 2.55: \n",
      "Model Number: 189 of 309 with model Cassandra for Validation 1\n",
      "189 - Cassandra with avg smape 6.61: \n",
      "Model Number: 190 of 309 with model LastValueNaive for Validation 1\n",
      "190 - LastValueNaive with avg smape 21.3: \n",
      "Model Number: 191 of 309 with model DMD for Validation 1\n",
      "191 - DMD with avg smape 43.5: \n",
      "Model Number: 192 of 309 with model LastValueNaive for Validation 1\n",
      "192 - LastValueNaive with avg smape 21.33: \n",
      "Model Number: 193 of 309 with model SeasonalityMotif for Validation 1\n",
      "193 - SeasonalityMotif with avg smape 10.29: \n",
      "Model Number: 194 of 309 with model ARDL for Validation 1\n"
     ]
    },
    {
     "name": "stderr",
     "output_type": "stream",
     "text": [
      "C:\\Users\\moham\\AppData\\Local\\Packages\\PythonSoftwareFoundation.Python.3.12_qbz5n2kfra8p0\\LocalCache\\local-packages\\Python312\\site-packages\\numpy\\lib\\function_base.py:2897: RuntimeWarning: invalid value encountered in divide\n",
      "  c /= stddev[:, None]\n",
      "C:\\Users\\moham\\AppData\\Local\\Packages\\PythonSoftwareFoundation.Python.3.12_qbz5n2kfra8p0\\LocalCache\\local-packages\\Python312\\site-packages\\numpy\\lib\\function_base.py:2898: RuntimeWarning: invalid value encountered in divide\n",
      "  c /= stddev[None, :]\n",
      "C:\\Users\\moham\\AppData\\Local\\Packages\\PythonSoftwareFoundation.Python.3.12_qbz5n2kfra8p0\\LocalCache\\local-packages\\Python312\\site-packages\\sklearn\\linear_model\\_ridge.py:204: LinAlgWarning: Ill-conditioned matrix (rcond=5.02372e-25): result may not be accurate.\n",
      "  return linalg.solve(A, Xy, assume_a=\"pos\", overwrite_a=True).T\n"
     ]
    },
    {
     "name": "stdout",
     "output_type": "stream",
     "text": [
      "194 - ARDL with avg smape 2.88: \n",
      "Model Number: 195 of 309 with model LastValueNaive for Validation 1\n",
      "195 - LastValueNaive with avg smape 4.46: \n",
      "Model Number: 196 of 309 with model ARDL for Validation 1\n",
      "196 - ARDL with avg smape 2.88: \n",
      "Model Number: 197 of 309 with model LastValueNaive for Validation 1\n",
      "197 - LastValueNaive with avg smape 6.53: \n",
      "Model Number: 198 of 309 with model Cassandra for Validation 1\n"
     ]
    },
    {
     "name": "stderr",
     "output_type": "stream",
     "text": [
      "C:\\Users\\moham\\AppData\\Local\\Packages\\PythonSoftwareFoundation.Python.3.12_qbz5n2kfra8p0\\LocalCache\\local-packages\\Python312\\site-packages\\numpy\\lib\\function_base.py:2897: RuntimeWarning: invalid value encountered in divide\n",
      "  c /= stddev[:, None]\n",
      "C:\\Users\\moham\\AppData\\Local\\Packages\\PythonSoftwareFoundation.Python.3.12_qbz5n2kfra8p0\\LocalCache\\local-packages\\Python312\\site-packages\\numpy\\lib\\function_base.py:2898: RuntimeWarning: invalid value encountered in divide\n",
      "  c /= stddev[None, :]\n"
     ]
    },
    {
     "name": "stdout",
     "output_type": "stream",
     "text": [
      "198 - Cassandra with avg smape 8.41: \n",
      "Model Number: 199 of 309 with model SeasonalityMotif for Validation 1\n",
      "199 - SeasonalityMotif with avg smape 3.17: \n",
      "Model Number: 200 of 309 with model SeasonalityMotif for Validation 1\n",
      "200 - SeasonalityMotif with avg smape 9.95: \n",
      "Model Number: 201 of 309 with model Cassandra for Validation 1\n",
      "201 - Cassandra with avg smape 2.74: \n",
      "Model Number: 202 of 309 with model MetricMotif for Validation 1\n",
      "202 - MetricMotif with avg smape 4.77: \n",
      "Model Number: 203 of 309 with model MetricMotif for Validation 1\n",
      "203 - MetricMotif with avg smape 4.97: \n",
      "Model Number: 204 of 309 with model SeasonalityMotif for Validation 1\n"
     ]
    },
    {
     "name": "stderr",
     "output_type": "stream",
     "text": [
      "C:\\Users\\moham\\AppData\\Local\\Packages\\PythonSoftwareFoundation.Python.3.12_qbz5n2kfra8p0\\LocalCache\\local-packages\\Python312\\site-packages\\numpy\\lib\\function_base.py:2897: RuntimeWarning: invalid value encountered in divide\n",
      "  c /= stddev[:, None]\n",
      "C:\\Users\\moham\\AppData\\Local\\Packages\\PythonSoftwareFoundation.Python.3.12_qbz5n2kfra8p0\\LocalCache\\local-packages\\Python312\\site-packages\\numpy\\lib\\function_base.py:2898: RuntimeWarning: invalid value encountered in divide\n",
      "  c /= stddev[None, :]\n"
     ]
    },
    {
     "name": "stdout",
     "output_type": "stream",
     "text": [
      "204 - SeasonalityMotif with avg smape 13.11: \n",
      "Model Number: 205 of 309 with model Cassandra for Validation 1\n",
      "205 - Cassandra with avg smape 2.8: \n",
      "Model Number: 206 of 309 with model SeasonalityMotif for Validation 1\n",
      "206 - SeasonalityMotif with avg smape 9.89: \n",
      "Model Number: 207 of 309 with model ConstantNaive for Validation 1\n",
      "207 - ConstantNaive with avg smape 4.32: \n",
      "Model Number: 208 of 309 with model ConstantNaive for Validation 1\n",
      "208 - ConstantNaive with avg smape 6.76: \n",
      "Model Number: 209 of 309 with model SeasonalityMotif for Validation 1\n"
     ]
    },
    {
     "name": "stderr",
     "output_type": "stream",
     "text": [
      "C:\\Users\\moham\\AppData\\Local\\Packages\\PythonSoftwareFoundation.Python.3.12_qbz5n2kfra8p0\\LocalCache\\local-packages\\Python312\\site-packages\\numpy\\lib\\function_base.py:2897: RuntimeWarning: invalid value encountered in divide\n",
      "  c /= stddev[:, None]\n",
      "C:\\Users\\moham\\AppData\\Local\\Packages\\PythonSoftwareFoundation.Python.3.12_qbz5n2kfra8p0\\LocalCache\\local-packages\\Python312\\site-packages\\numpy\\lib\\function_base.py:2898: RuntimeWarning: invalid value encountered in divide\n",
      "  c /= stddev[None, :]\n"
     ]
    },
    {
     "name": "stdout",
     "output_type": "stream",
     "text": [
      "209 - SeasonalityMotif with avg smape 5.35: \n",
      "Model Number: 210 of 309 with model MetricMotif for Validation 1\n",
      "210 - MetricMotif with avg smape 24.22: \n",
      "Model Number: 211 of 309 with model MetricMotif for Validation 1\n",
      "211 - MetricMotif with avg smape 5.37: \n",
      "Model Number: 212 of 309 with model SeasonalityMotif for Validation 1\n",
      "212 - SeasonalityMotif with avg smape 6.74: \n",
      "Model Number: 213 of 309 with model MetricMotif for Validation 1\n",
      "213 - MetricMotif with avg smape 4.46: \n",
      "Model Number: 214 of 309 with model ConstantNaive for Validation 1\n",
      "214 - ConstantNaive with avg smape 3.48: \n",
      "Model Number: 215 of 309 with model SeasonalityMotif for Validation 1\n",
      "215 - SeasonalityMotif with avg smape 12.65: \n",
      "Model Number: 216 of 309 with model ConstantNaive for Validation 1\n",
      "216 - ConstantNaive with avg smape 3.21: \n",
      "Model Number: 217 of 309 with model SeasonalityMotif for Validation 1\n"
     ]
    },
    {
     "name": "stderr",
     "output_type": "stream",
     "text": [
      "C:\\Users\\moham\\AppData\\Local\\Packages\\PythonSoftwareFoundation.Python.3.12_qbz5n2kfra8p0\\LocalCache\\local-packages\\Python312\\site-packages\\autots\\tools\\percentile.py:47: RuntimeWarning: All-NaN slice encountered\n",
      "  max_val = np.nanmax(arr)\n"
     ]
    },
    {
     "name": "stdout",
     "output_type": "stream",
     "text": [
      "217 - SeasonalityMotif with avg smape 6.3: \n",
      "Model Number: 218 of 309 with model SeasonalityMotif for Validation 1\n",
      "218 - SeasonalityMotif with avg smape 7.63: \n",
      "Model Number: 219 of 309 with model DatepartRegression for Validation 1\n",
      "219 - DatepartRegression with avg smape 25.0: \n",
      "Model Number: 220 of 309 with model ConstantNaive for Validation 1\n",
      "220 - ConstantNaive with avg smape 3.92: \n",
      "Model Number: 221 of 309 with model SeasonalityMotif for Validation 1\n",
      "221 - SeasonalityMotif with avg smape 12.54: \n",
      "Model Number: 222 of 309 with model MetricMotif for Validation 1\n"
     ]
    },
    {
     "name": "stderr",
     "output_type": "stream",
     "text": [
      "C:\\Users\\moham\\AppData\\Local\\Packages\\PythonSoftwareFoundation.Python.3.12_qbz5n2kfra8p0\\LocalCache\\local-packages\\Python312\\site-packages\\sklearn\\neural_network\\_multilayer_perceptron.py:546: ConvergenceWarning: lbfgs failed to converge (status=1):\n",
      "STOP: TOTAL NO. of ITERATIONS REACHED LIMIT.\n",
      "\n",
      "Increase the number of iterations (max_iter) or scale the data as shown in:\n",
      "    https://scikit-learn.org/stable/modules/preprocessing.html\n",
      "  self.n_iter_ = _check_optimize_result(\"lbfgs\", opt_res, self.max_iter)\n"
     ]
    },
    {
     "name": "stdout",
     "output_type": "stream",
     "text": [
      "222 - MetricMotif with avg smape 5.11: \n",
      "Model Number: 223 of 309 with model ConstantNaive for Validation 1\n",
      "223 - ConstantNaive with avg smape 2.8: \n",
      "Model Number: 224 of 309 with model ConstantNaive for Validation 1\n",
      "224 - ConstantNaive with avg smape 2.8: \n",
      "Model Number: 225 of 309 with model SeasonalityMotif for Validation 1\n",
      "225 - SeasonalityMotif with avg smape 5.97: \n",
      "Model Number: 226 of 309 with model DatepartRegression for Validation 1\n",
      "226 - DatepartRegression with avg smape 2.72: \n",
      "Model Number: 227 of 309 with model GLS for Validation 1\n",
      "227 - GLS with avg smape 2.89: \n",
      "Model Number: 228 of 309 with model ConstantNaive for Validation 1\n",
      "228 - ConstantNaive with avg smape 2.7: \n",
      "Model Number: 229 of 309 with model DatepartRegression for Validation 1\n",
      "229 - DatepartRegression with avg smape 2.66: \n",
      "Model Number: 230 of 309 with model DatepartRegression for Validation 1\n",
      "230 - DatepartRegression with avg smape 2.66: \n",
      "Model Number: 231 of 309 with model DatepartRegression for Validation 1\n",
      "231 - DatepartRegression with avg smape 2.66: \n",
      "Model Number: 232 of 309 with model GLS for Validation 1\n",
      "232 - GLS with avg smape 3.6: \n",
      "Model Number: 233 of 309 with model GLS for Validation 1\n",
      "233 - GLS with avg smape 2.8: \n",
      "Model Number: 234 of 309 with model MetricMotif for Validation 1\n",
      "234 - MetricMotif with avg smape 2.8: \n",
      "Model Number: 235 of 309 with model GLS for Validation 1\n",
      "235 - GLS with avg smape 2.8: \n",
      "Model Number: 236 of 309 with model MetricMotif for Validation 1\n",
      "236 - MetricMotif with avg smape 2.77: \n",
      "Model Number: 237 of 309 with model MetricMotif for Validation 1\n",
      "237 - MetricMotif with avg smape 2.8: \n",
      "Model Number: 238 of 309 with model MetricMotif for Validation 1\n",
      "238 - MetricMotif with avg smape 2.8: \n",
      "Model Number: 239 of 309 with model DatepartRegression for Validation 1\n",
      "239 - DatepartRegression with avg smape 29.81: \n",
      "Model Number: 240 of 309 with model GLS for Validation 1\n",
      "240 - GLS with avg smape 4.98: \n",
      "Model Number: 241 of 309 with model RRVAR for Validation 1\n"
     ]
    },
    {
     "name": "stderr",
     "output_type": "stream",
     "text": [
      "C:\\Users\\moham\\AppData\\Local\\Packages\\PythonSoftwareFoundation.Python.3.12_qbz5n2kfra8p0\\LocalCache\\local-packages\\Python312\\site-packages\\sklearn\\neural_network\\_multilayer_perceptron.py:546: ConvergenceWarning: lbfgs failed to converge (status=1):\n",
      "STOP: TOTAL NO. of ITERATIONS REACHED LIMIT.\n",
      "\n",
      "Increase the number of iterations (max_iter) or scale the data as shown in:\n",
      "    https://scikit-learn.org/stable/modules/preprocessing.html\n",
      "  self.n_iter_ = _check_optimize_result(\"lbfgs\", opt_res, self.max_iter)\n"
     ]
    },
    {
     "name": "stdout",
     "output_type": "stream",
     "text": [
      "241 - RRVAR with avg smape 8.55: \n",
      "Model Number: 242 of 309 with model GLS for Validation 1\n",
      "242 - GLS with avg smape 4.81: \n",
      "Model Number: 243 of 309 with model DatepartRegression for Validation 1\n"
     ]
    },
    {
     "name": "stderr",
     "output_type": "stream",
     "text": [
      "C:\\Users\\moham\\AppData\\Local\\Packages\\PythonSoftwareFoundation.Python.3.12_qbz5n2kfra8p0\\LocalCache\\local-packages\\Python312\\site-packages\\sklearn\\neural_network\\_multilayer_perceptron.py:546: ConvergenceWarning: lbfgs failed to converge (status=1):\n",
      "STOP: TOTAL NO. of ITERATIONS REACHED LIMIT.\n",
      "\n",
      "Increase the number of iterations (max_iter) or scale the data as shown in:\n",
      "    https://scikit-learn.org/stable/modules/preprocessing.html\n",
      "  self.n_iter_ = _check_optimize_result(\"lbfgs\", opt_res, self.max_iter)\n"
     ]
    },
    {
     "name": "stdout",
     "output_type": "stream",
     "text": [
      "243 - DatepartRegression with avg smape 5.15: \n",
      "Model Number: 244 of 309 with model DatepartRegression for Validation 1\n",
      "244 - DatepartRegression with avg smape 2.8: \n",
      "Model Number: 245 of 309 with model GLS for Validation 1\n",
      "245 - GLS with avg smape 3.15: \n",
      "Model Number: 246 of 309 with model ETS for Validation 1\n",
      "246 - ETS with avg smape 3.05: \n",
      "Model Number: 247 of 309 with model DatepartRegression for Validation 1\n",
      "247 - DatepartRegression with avg smape 7.17: \n",
      "Model Number: 248 of 309 with model GLS for Validation 1\n",
      "248 - GLS with avg smape 3.08: \n",
      "Model Number: 249 of 309 with model RRVAR for Validation 1\n",
      "249 - RRVAR with avg smape 6.53: \n",
      "Model Number: 250 of 309 with model GLS for Validation 1\n",
      "250 - GLS with avg smape 5.28: \n",
      "Model Number: 251 of 309 with model RRVAR for Validation 1\n",
      "251 - RRVAR with avg smape 6.53: \n",
      "Model Number: 252 of 309 with model RRVAR for Validation 1\n",
      "252 - RRVAR with avg smape 6.53: \n",
      "Model Number: 253 of 309 with model DatepartRegression for Validation 1\n",
      "253 - DatepartRegression with avg smape 28.95: \n",
      "Model Number: 254 of 309 with model RRVAR for Validation 1\n",
      "254 - RRVAR with avg smape 2.66: \n",
      "Model Number: 255 of 309 with model RRVAR for Validation 1\n",
      "255 - RRVAR with avg smape 2.66: \n",
      "Model Number: 256 of 309 with model GLS for Validation 1\n"
     ]
    },
    {
     "name": "stderr",
     "output_type": "stream",
     "text": [
      "C:\\Users\\moham\\AppData\\Local\\Packages\\PythonSoftwareFoundation.Python.3.12_qbz5n2kfra8p0\\LocalCache\\local-packages\\Python312\\site-packages\\sklearn\\neural_network\\_multilayer_perceptron.py:546: ConvergenceWarning: lbfgs failed to converge (status=1):\n",
      "STOP: TOTAL NO. of ITERATIONS REACHED LIMIT.\n",
      "\n",
      "Increase the number of iterations (max_iter) or scale the data as shown in:\n",
      "    https://scikit-learn.org/stable/modules/preprocessing.html\n",
      "  self.n_iter_ = _check_optimize_result(\"lbfgs\", opt_res, self.max_iter)\n"
     ]
    },
    {
     "name": "stdout",
     "output_type": "stream",
     "text": [
      "256 - GLS with avg smape 5.31: \n",
      "Model Number: 257 of 309 with model DatepartRegression for Validation 1\n",
      "257 - DatepartRegression with avg smape 6.87: \n",
      "Model Number: 258 of 309 with model ETS for Validation 1\n",
      "258 - ETS with avg smape 2.85: \n",
      "Model Number: 259 of 309 with model GLM for Validation 1\n",
      "259 - GLM with avg smape 3.2: \n",
      "Model Number: 260 of 309 with model DatepartRegression for Validation 1\n",
      "260 - DatepartRegression with avg smape 13.96: \n",
      "Model Number: 261 of 309 with model UnivariateMotif for Validation 1\n",
      "261 - UnivariateMotif with avg smape 11.74: \n",
      "Model Number: 262 of 309 with model GLM for Validation 1\n",
      "262 - GLM with avg smape 2.8: \n",
      "Model Number: 263 of 309 with model GLS for Validation 1\n",
      "263 - GLS with avg smape 2.47: \n",
      "Model Number: 264 of 309 with model DatepartRegression for Validation 1\n",
      "264 - DatepartRegression with avg smape 8.18: \n",
      "Model Number: 265 of 309 with model GLS for Validation 1\n",
      "265 - GLS with avg smape 3.03: \n",
      "Model Number: 266 of 309 with model GLS for Validation 1\n",
      "266 - GLS with avg smape 3.04: \n",
      "Model Number: 267 of 309 with model GLM for Validation 1\n",
      "267 - GLM with avg smape 2.8: \n",
      "Model Number: 268 of 309 with model ETS for Validation 1\n",
      "268 - ETS with avg smape 2.8: \n",
      "Model Number: 269 of 309 with model UnivariateMotif for Validation 1\n",
      "269 - UnivariateMotif with avg smape 5.16: \n",
      "Model Number: 270 of 309 with model RRVAR for Validation 1\n",
      "270 - RRVAR with avg smape 5.7: \n",
      "Model Number: 271 of 309 with model UnivariateMotif for Validation 1\n",
      "271 - UnivariateMotif with avg smape 12.64: \n",
      "Model Number: 272 of 309 with model RRVAR for Validation 1\n",
      "272 - RRVAR with avg smape 8.17: \n",
      "Model Number: 273 of 309 with model UnivariateMotif for Validation 1\n",
      "273 - UnivariateMotif with avg smape 6.21: \n",
      "Model Number: 274 of 309 with model ETS for Validation 1\n",
      "274 - ETS with avg smape 8.1: \n",
      "Model Number: 275 of 309 with model ETS for Validation 1\n",
      "275 - ETS with avg smape 4.74: \n",
      "Model Number: 276 of 309 with model ETS for Validation 1\n",
      "📈 276 - ETS with avg smape 2.16: \n",
      "Model Number: 277 of 309 with model GLM for Validation 1\n",
      "277 - GLM with avg smape 3.9: \n",
      "Model Number: 278 of 309 with model ETS for Validation 1\n",
      "278 - ETS with avg smape 9.2: \n",
      "Model Number: 279 of 309 with model RRVAR for Validation 1\n",
      "279 - RRVAR with avg smape 4.56: \n",
      "Model Number: 280 of 309 with model RRVAR for Validation 1\n",
      "280 - RRVAR with avg smape 3.94: \n",
      "Model Number: 281 of 309 with model GLM for Validation 1\n",
      "281 - GLM with avg smape 10.41: \n",
      "Model Number: 282 of 309 with model UnivariateMotif for Validation 1\n",
      "282 - UnivariateMotif with avg smape 12.14: \n",
      "Model Number: 283 of 309 with model UnivariateMotif for Validation 1\n",
      "283 - UnivariateMotif with avg smape 12.08: \n",
      "Model Number: 284 of 309 with model RRVAR for Validation 1\n",
      "284 - RRVAR with avg smape 2.54: \n",
      "Model Number: 285 of 309 with model UnivariateMotif for Validation 1\n",
      "285 - UnivariateMotif with avg smape 15.51: \n",
      "Model Number: 286 of 309 with model UnivariateMotif for Validation 1\n",
      "286 - UnivariateMotif with avg smape 19.71: \n",
      "Model Number: 287 of 309 with model RRVAR for Validation 1\n",
      "287 - RRVAR with avg smape 3.55: \n",
      "Model Number: 288 of 309 with model ETS for Validation 1\n",
      "288 - ETS with avg smape 5.19: \n",
      "Model Number: 289 of 309 with model ETS for Validation 1\n",
      "📈 289 - ETS with avg smape 1.95: \n",
      "Model Number: 290 of 309 with model RRVAR for Validation 1\n",
      "290 - RRVAR with avg smape 9.08: \n",
      "Model Number: 291 of 309 with model UnivariateMotif for Validation 1\n",
      "291 - UnivariateMotif with avg smape 12.28: \n",
      "Model Number: 292 of 309 with model UnivariateMotif for Validation 1\n",
      "292 - UnivariateMotif with avg smape 19.14: \n",
      "Model Number: 293 of 309 with model ETS for Validation 1\n",
      "293 - ETS with avg smape 27.63: \n",
      "Model Number: 294 of 309 with model GLM for Validation 1\n",
      "294 - GLM with avg smape 2.8: \n",
      "Model Number: 295 of 309 with model GLM for Validation 1\n",
      "295 - GLM with avg smape 3.39: \n",
      "Model Number: 296 of 309 with model UnivariateMotif for Validation 1\n",
      "296 - UnivariateMotif with avg smape 16.31: \n",
      "Model Number: 297 of 309 with model UnivariateMotif for Validation 1\n",
      "297 - UnivariateMotif with avg smape 23.65: \n",
      "Model Number: 298 of 309 with model UnivariateMotif for Validation 1\n",
      "298 - UnivariateMotif with avg smape 24.4: \n",
      "Model Number: 299 of 309 with model ETS for Validation 1\n",
      "299 - ETS with avg smape 11.28: \n",
      "Model Number: 300 of 309 with model ETS for Validation 1\n",
      "300 - ETS with avg smape 11.37: \n",
      "Model Number: 301 of 309 with model ETS for Validation 1\n",
      "301 - ETS with avg smape 26.52: \n",
      "Model Number: 302 of 309 with model GLM for Validation 1\n"
     ]
    },
    {
     "name": "stderr",
     "output_type": "stream",
     "text": [
      "C:\\Users\\moham\\AppData\\Local\\Packages\\PythonSoftwareFoundation.Python.3.12_qbz5n2kfra8p0\\LocalCache\\local-packages\\Python312\\site-packages\\statsmodels\\genmod\\families\\links.py:198: RuntimeWarning: overflow encountered in exp\n",
      "  t = np.exp(-z)\n"
     ]
    },
    {
     "name": "stdout",
     "output_type": "stream",
     "text": [
      "302 - GLM with avg smape 29.82: \n",
      "Model Number: 303 of 309 with model GLM for Validation 1\n",
      "303 - GLM with avg smape 46.39: \n",
      "Model Number: 304 of 309 with model FFT for Validation 1\n",
      "304 - FFT with avg smape 80.37: \n",
      "Model Number: 305 of 309 with model GLM for Validation 1\n",
      "305 - GLM with avg smape 196.81: \n",
      "Model Number: 306 of 309 with model GLM for Validation 1\n",
      "306 - GLM with avg smape 196.81: \n",
      "Model Number: 307 of 309 with model GLM for Validation 1\n",
      "307 - GLM with avg smape 146.06: \n",
      "Model Number: 308 of 309 with model FFT for Validation 1\n",
      "308 - FFT with avg smape 191.73: \n",
      "Model Number: 309 of 309 with model GLM for Validation 1\n",
      "309 - GLM with avg smape 171.6: \n",
      "Validation Round: 2\n",
      "Model Number: 1 of 309 with model Ensemble for Validation 2\n",
      "📈 1 - Ensemble with avg smape 8.87: \n",
      "Model Number: 2 of 309 with model MultivariateMotif for Validation 2\n"
     ]
    },
    {
     "name": "stderr",
     "output_type": "stream",
     "text": [
      "C:\\Users\\moham\\AppData\\Local\\Packages\\PythonSoftwareFoundation.Python.3.12_qbz5n2kfra8p0\\LocalCache\\local-packages\\Python312\\site-packages\\sklearn\\neighbors\\_classification.py:238: DataConversionWarning: A column-vector y was passed when a 1d array was expected. Please change the shape of y to (n_samples,), for example using ravel().\n",
      "  return self._fit(X, y)\n",
      "C:\\Users\\moham\\AppData\\Local\\Packages\\PythonSoftwareFoundation.Python.3.12_qbz5n2kfra8p0\\LocalCache\\local-packages\\Python312\\site-packages\\sklearn\\neighbors\\_classification.py:238: DataConversionWarning: A column-vector y was passed when a 1d array was expected. Please change the shape of y to (n_samples,), for example using ravel().\n",
      "  return self._fit(X, y)\n"
     ]
    },
    {
     "name": "stdout",
     "output_type": "stream",
     "text": [
      "2 - MultivariateMotif with avg smape 9.15: \n",
      "Model Number: 3 of 309 with model Ensemble for Validation 2\n",
      "3 - Ensemble with avg smape 9.11: \n",
      "Model Number: 4 of 309 with model Ensemble for Validation 2\n",
      "📈 4 - Ensemble with avg smape 8.18: \n",
      "Model Number: 5 of 309 with model Ensemble for Validation 2\n"
     ]
    },
    {
     "name": "stderr",
     "output_type": "stream",
     "text": [
      "C:\\Users\\moham\\AppData\\Local\\Packages\\PythonSoftwareFoundation.Python.3.12_qbz5n2kfra8p0\\LocalCache\\local-packages\\Python312\\site-packages\\sklearn\\neighbors\\_classification.py:238: DataConversionWarning: A column-vector y was passed when a 1d array was expected. Please change the shape of y to (n_samples,), for example using ravel().\n",
      "  return self._fit(X, y)\n",
      "C:\\Users\\moham\\AppData\\Local\\Packages\\PythonSoftwareFoundation.Python.3.12_qbz5n2kfra8p0\\LocalCache\\local-packages\\Python312\\site-packages\\sklearn\\neighbors\\_classification.py:238: DataConversionWarning: A column-vector y was passed when a 1d array was expected. Please change the shape of y to (n_samples,), for example using ravel().\n",
      "  return self._fit(X, y)\n"
     ]
    },
    {
     "name": "stdout",
     "output_type": "stream",
     "text": [
      "📈 5 - Ensemble with avg smape 8.14: \n",
      "Model Number: 6 of 309 with model Ensemble for Validation 2\n",
      "6 - Ensemble with avg smape 8.14: \n",
      "Model Number: 7 of 309 with model SectionalMotif for Validation 2\n",
      "7 - SectionalMotif with avg smape 8.64: \n",
      "Model Number: 8 of 309 with model Ensemble for Validation 2\n"
     ]
    },
    {
     "name": "stderr",
     "output_type": "stream",
     "text": [
      "C:\\Users\\moham\\AppData\\Local\\Packages\\PythonSoftwareFoundation.Python.3.12_qbz5n2kfra8p0\\LocalCache\\local-packages\\Python312\\site-packages\\sklearn\\neighbors\\_classification.py:238: DataConversionWarning: A column-vector y was passed when a 1d array was expected. Please change the shape of y to (n_samples,), for example using ravel().\n",
      "  return self._fit(X, y)\n",
      "C:\\Users\\moham\\AppData\\Local\\Packages\\PythonSoftwareFoundation.Python.3.12_qbz5n2kfra8p0\\LocalCache\\local-packages\\Python312\\site-packages\\sklearn\\neighbors\\_classification.py:238: DataConversionWarning: A column-vector y was passed when a 1d array was expected. Please change the shape of y to (n_samples,), for example using ravel().\n",
      "  return self._fit(X, y)\n",
      "C:\\Users\\moham\\AppData\\Local\\Packages\\PythonSoftwareFoundation.Python.3.12_qbz5n2kfra8p0\\LocalCache\\local-packages\\Python312\\site-packages\\sklearn\\neighbors\\_classification.py:238: DataConversionWarning: A column-vector y was passed when a 1d array was expected. Please change the shape of y to (n_samples,), for example using ravel().\n",
      "  return self._fit(X, y)\n"
     ]
    },
    {
     "name": "stdout",
     "output_type": "stream",
     "text": [
      "8 - Ensemble with avg smape 8.88: \n",
      "Model Number: 9 of 309 with model SectionalMotif for Validation 2\n",
      "9 - SectionalMotif with avg smape 8.81: \n",
      "Model Number: 10 of 309 with model SectionalMotif for Validation 2\n",
      "10 - SectionalMotif with avg smape 8.98: \n",
      "Model Number: 11 of 309 with model SectionalMotif for Validation 2\n",
      "11 - SectionalMotif with avg smape 8.98: \n",
      "Model Number: 12 of 309 with model SectionalMotif for Validation 2\n",
      "12 - SectionalMotif with avg smape 8.98: \n",
      "Model Number: 13 of 309 with model SectionalMotif for Validation 2\n",
      "13 - SectionalMotif with avg smape 8.95: \n",
      "Model Number: 14 of 309 with model SectionalMotif for Validation 2\n",
      "14 - SectionalMotif with avg smape 8.95: \n",
      "Model Number: 15 of 309 with model SectionalMotif for Validation 2\n",
      "15 - SectionalMotif with avg smape 8.95: \n",
      "Model Number: 16 of 309 with model SectionalMotif for Validation 2\n",
      "16 - SectionalMotif with avg smape 8.95: \n",
      "Model Number: 17 of 309 with model Ensemble for Validation 2\n",
      "📈 17 - Ensemble with avg smape 7.71: \n",
      "Model Number: 18 of 309 with model MultivariateMotif for Validation 2\n"
     ]
    },
    {
     "name": "stderr",
     "output_type": "stream",
     "text": [
      "C:\\Users\\moham\\AppData\\Local\\Packages\\PythonSoftwareFoundation.Python.3.12_qbz5n2kfra8p0\\LocalCache\\local-packages\\Python312\\site-packages\\sklearn\\neighbors\\_classification.py:238: DataConversionWarning: A column-vector y was passed when a 1d array was expected. Please change the shape of y to (n_samples,), for example using ravel().\n",
      "  return self._fit(X, y)\n"
     ]
    },
    {
     "name": "stdout",
     "output_type": "stream",
     "text": [
      "18 - MultivariateMotif with avg smape 8.49: \n",
      "Model Number: 19 of 309 with model SectionalMotif for Validation 2\n",
      "19 - SectionalMotif with avg smape 8.87: \n",
      "Model Number: 20 of 309 with model Ensemble for Validation 2\n",
      "20 - Ensemble with avg smape 8.11: \n",
      "Model Number: 21 of 309 with model SectionalMotif for Validation 2\n",
      "21 - SectionalMotif with avg smape 8.9: \n",
      "Model Number: 22 of 309 with model SectionalMotif for Validation 2\n",
      "22 - SectionalMotif with avg smape 8.9: \n",
      "Model Number: 23 of 309 with model AverageValueNaive for Validation 2\n",
      "📈 23 - AverageValueNaive with avg smape 6.66: \n",
      "Model Number: 24 of 309 with model MultivariateMotif for Validation 2\n",
      "24 - MultivariateMotif with avg smape 8.18: \n",
      "Model Number: 25 of 309 with model NVAR for Validation 2\n"
     ]
    },
    {
     "name": "stderr",
     "output_type": "stream",
     "text": [
      "C:\\Users\\moham\\AppData\\Local\\Packages\\PythonSoftwareFoundation.Python.3.12_qbz5n2kfra8p0\\LocalCache\\local-packages\\Python312\\site-packages\\sklearn\\neighbors\\_classification.py:238: DataConversionWarning: A column-vector y was passed when a 1d array was expected. Please change the shape of y to (n_samples,), for example using ravel().\n",
      "  return self._fit(X, y)\n"
     ]
    },
    {
     "name": "stdout",
     "output_type": "stream",
     "text": [
      "25 - NVAR with avg smape 7.31: \n",
      "Model Number: 26 of 309 with model AverageValueNaive for Validation 2\n",
      "📈 26 - AverageValueNaive with avg smape 5.91: \n",
      "Model Number: 27 of 309 with model NVAR for Validation 2\n",
      "27 - NVAR with avg smape 7.3: \n",
      "Model Number: 28 of 309 with model SectionalMotif for Validation 2\n",
      "28 - SectionalMotif with avg smape 11.61: \n",
      "Model Number: 29 of 309 with model MultivariateMotif for Validation 2\n",
      "29 - MultivariateMotif with avg smape 9.16: \n",
      "Model Number: 30 of 309 with model AverageValueNaive for Validation 2\n",
      "30 - AverageValueNaive with avg smape 7.96: \n",
      "Model Number: 31 of 309 with model NVAR for Validation 2\n",
      "31 - NVAR with avg smape 7.51: \n",
      "Model Number: 32 of 309 with model NVAR for Validation 2\n",
      "32 - NVAR with avg smape 7.86: \n",
      "Model Number: 33 of 309 with model NVAR for Validation 2\n",
      "33 - NVAR with avg smape 7.86: \n",
      "Model Number: 34 of 309 with model NVAR for Validation 2\n",
      "34 - NVAR with avg smape 7.86: \n",
      "Model Number: 35 of 309 with model NVAR for Validation 2\n",
      "35 - NVAR with avg smape 7.86: \n",
      "Model Number: 36 of 309 with model Theta for Validation 2\n",
      "36 - Theta with avg smape 6.59: \n",
      "Model Number: 37 of 309 with model MultivariateMotif for Validation 2\n",
      "37 - MultivariateMotif with avg smape 8.57: \n",
      "Model Number: 38 of 309 with model MultivariateMotif for Validation 2\n",
      "38 - MultivariateMotif with avg smape 9.61: \n",
      "Model Number: 39 of 309 with model AverageValueNaive for Validation 2\n",
      "39 - AverageValueNaive with avg smape 7.85: \n",
      "Model Number: 40 of 309 with model AverageValueNaive for Validation 2\n",
      "40 - AverageValueNaive with avg smape 7.85: \n",
      "Model Number: 41 of 309 with model Theta for Validation 2\n",
      "41 - Theta with avg smape 7.14: \n",
      "Model Number: 42 of 309 with model Theta for Validation 2\n",
      "42 - Theta with avg smape 7.14: \n",
      "Model Number: 43 of 309 with model Theta for Validation 2\n",
      "43 - Theta with avg smape 7.14: \n",
      "Model Number: 44 of 309 with model Theta for Validation 2\n",
      "44 - Theta with avg smape 6.87: \n",
      "Model Number: 45 of 309 with model Theta for Validation 2\n",
      "45 - Theta with avg smape 7.11: \n",
      "Model Number: 46 of 309 with model Theta for Validation 2\n",
      "46 - Theta with avg smape 7.12: \n",
      "Model Number: 47 of 309 with model AverageValueNaive for Validation 2\n",
      "📈 47 - AverageValueNaive with avg smape 5.89: \n",
      "Model Number: 48 of 309 with model Theta for Validation 2\n",
      "48 - Theta with avg smape 7.29: \n",
      "Model Number: 49 of 309 with model Theta for Validation 2\n",
      "49 - Theta with avg smape 7.29: \n",
      "Model Number: 50 of 309 with model Theta for Validation 2\n",
      "50 - Theta with avg smape 6.57: \n",
      "Model Number: 51 of 309 with model AverageValueNaive for Validation 2\n",
      "51 - AverageValueNaive with avg smape 7.66: \n",
      "Model Number: 52 of 309 with model AverageValueNaive for Validation 2\n",
      "52 - AverageValueNaive with avg smape 7.85: \n",
      "Model Number: 53 of 309 with model AverageValueNaive for Validation 2\n",
      "53 - AverageValueNaive with avg smape 7.85: \n",
      "Model Number: 54 of 309 with model NVAR for Validation 2\n",
      "54 - NVAR with avg smape 6.98: \n",
      "Model Number: 55 of 309 with model NVAR for Validation 2\n",
      "📈 55 - NVAR with avg smape 5.52: \n",
      "Model Number: 56 of 309 with model NVAR for Validation 2\n",
      "56 - NVAR with avg smape 5.52: \n",
      "Model Number: 57 of 309 with model Theta for Validation 2\n",
      "57 - Theta with avg smape 5.91: \n",
      "Model Number: 58 of 309 with model Theta for Validation 2\n",
      "58 - Theta with avg smape 5.91: \n",
      "Model Number: 59 of 309 with model MultivariateMotif for Validation 2\n",
      "59 - MultivariateMotif with avg smape 9.06: \n",
      "Model Number: 60 of 309 with model AverageValueNaive for Validation 2\n",
      "60 - AverageValueNaive with avg smape 7.84: \n",
      "Model Number: 61 of 309 with model MultivariateMotif for Validation 2\n",
      "61 - MultivariateMotif with avg smape 9.64: \n",
      "Model Number: 62 of 309 with model Theta for Validation 2\n",
      "62 - Theta with avg smape 7.03: \n",
      "Model Number: 63 of 309 with model LastValueNaive for Validation 2\n",
      "63 - LastValueNaive with avg smape 5.91: \n",
      "Model Number: 64 of 309 with model MultivariateMotif for Validation 2\n",
      "64 - MultivariateMotif with avg smape 10.16: \n",
      "Model Number: 65 of 309 with model ARIMA for Validation 2\n",
      "65 - ARIMA with avg smape 7.23: \n",
      "Model Number: 66 of 309 with model ARIMA for Validation 2\n",
      "66 - ARIMA with avg smape 7.4: \n",
      "Model Number: 67 of 309 with model AverageValueNaive for Validation 2\n",
      "67 - AverageValueNaive with avg smape 5.91: \n",
      "Model Number: 68 of 309 with model AverageValueNaive for Validation 2\n",
      "68 - AverageValueNaive with avg smape 5.91: \n",
      "Model Number: 69 of 309 with model UnobservedComponents for Validation 2\n",
      "69 - UnobservedComponents with avg smape 5.96: \n",
      "Model Number: 70 of 309 with model ARIMA for Validation 2\n",
      "70 - ARIMA with avg smape 8.04: \n",
      "Model Number: 71 of 309 with model AverageValueNaive for Validation 2\n",
      "71 - AverageValueNaive with avg smape 5.85: \n",
      "Model Number: 72 of 309 with model ARDL for Validation 2\n",
      "72 - ARDL with avg smape 9.79: \n",
      "Model Number: 73 of 309 with model ARDL for Validation 2\n",
      "73 - ARDL with avg smape 8.52: \n",
      "Model Number: 74 of 309 with model ARDL for Validation 2\n",
      "74 - ARDL with avg smape 8.47: \n",
      "Model Number: 75 of 309 with model ARIMA for Validation 2\n",
      "75 - ARIMA with avg smape 7.89: \n",
      "Model Number: 76 of 309 with model ARIMA for Validation 2\n",
      "76 - ARIMA with avg smape 7.89: \n",
      "Model Number: 77 of 309 with model UnobservedComponents for Validation 2\n",
      "77 - UnobservedComponents with avg smape 5.75: \n",
      "Model Number: 78 of 309 with model UnobservedComponents for Validation 2\n",
      "78 - UnobservedComponents with avg smape 176.73: \n",
      "Model Number: 79 of 309 with model UnobservedComponents for Validation 2\n",
      "79 - UnobservedComponents with avg smape 176.73: \n",
      "Model Number: 80 of 309 with model NVAR for Validation 2\n",
      "80 - NVAR with avg smape 7.81: \n",
      "Model Number: 81 of 309 with model WindowRegression for Validation 2\n",
      "📈 81 - WindowRegression with avg smape 2.99: \n",
      "Model Number: 82 of 309 with model WindowRegression for Validation 2\n",
      "82 - WindowRegression with avg smape 2.99: \n",
      "Model Number: 83 of 309 with model SeasonalNaive for Validation 2\n",
      "83 - SeasonalNaive with avg smape 11.25: \n",
      "Model Number: 84 of 309 with model ARDL for Validation 2\n",
      "84 - ARDL with avg smape 10.65: \n",
      "Model Number: 85 of 309 with model MultivariateMotif for Validation 2\n",
      "85 - MultivariateMotif with avg smape 8.33: \n",
      "Model Number: 86 of 309 with model LastValueNaive for Validation 2\n",
      "86 - LastValueNaive with avg smape 176.71: \n",
      "Model Number: 87 of 309 with model LastValueNaive for Validation 2\n",
      "87 - LastValueNaive with avg smape 176.71: \n",
      "Model Number: 88 of 309 with model Cassandra for Validation 2\n"
     ]
    },
    {
     "name": "stderr",
     "output_type": "stream",
     "text": [
      "C:\\Users\\moham\\AppData\\Local\\Packages\\PythonSoftwareFoundation.Python.3.12_qbz5n2kfra8p0\\LocalCache\\local-packages\\Python312\\site-packages\\numpy\\lib\\function_base.py:2897: RuntimeWarning: invalid value encountered in divide\n",
      "  c /= stddev[:, None]\n",
      "C:\\Users\\moham\\AppData\\Local\\Packages\\PythonSoftwareFoundation.Python.3.12_qbz5n2kfra8p0\\LocalCache\\local-packages\\Python312\\site-packages\\numpy\\lib\\function_base.py:2898: RuntimeWarning: invalid value encountered in divide\n",
      "  c /= stddev[None, :]\n"
     ]
    },
    {
     "name": "stdout",
     "output_type": "stream",
     "text": [
      "88 - Cassandra with avg smape 14.04: \n",
      "Model Number: 89 of 309 with model LastValueNaive for Validation 2\n",
      "89 - LastValueNaive with avg smape 11.74: \n",
      "Model Number: 90 of 309 with model SeasonalNaive for Validation 2\n",
      "90 - SeasonalNaive with avg smape 9.33: \n",
      "Model Number: 91 of 309 with model SeasonalNaive for Validation 2\n",
      "91 - SeasonalNaive with avg smape 7.23: \n",
      "Model Number: 92 of 309 with model SeasonalNaive for Validation 2\n",
      "92 - SeasonalNaive with avg smape 8.17: \n",
      "Model Number: 93 of 309 with model MultivariateMotif for Validation 2\n",
      "93 - MultivariateMotif with avg smape 13.82: \n",
      "Model Number: 94 of 309 with model ConstantNaive for Validation 2\n",
      "94 - ConstantNaive with avg smape 176.72: \n",
      "Model Number: 95 of 309 with model ConstantNaive for Validation 2\n",
      "95 - ConstantNaive with avg smape 176.71: \n",
      "Model Number: 96 of 309 with model ConstantNaive for Validation 2\n",
      "96 - ConstantNaive with avg smape 176.71: \n",
      "Model Number: 97 of 309 with model ConstantNaive for Validation 2\n",
      "97 - ConstantNaive with avg smape 176.71: \n",
      "Model Number: 98 of 309 with model ConstantNaive for Validation 2\n",
      "98 - ConstantNaive with avg smape 176.71: \n",
      "Model Number: 99 of 309 with model LastValueNaive for Validation 2\n"
     ]
    },
    {
     "name": "stderr",
     "output_type": "stream",
     "text": [
      "C:\\Users\\moham\\AppData\\Local\\Packages\\PythonSoftwareFoundation.Python.3.12_qbz5n2kfra8p0\\LocalCache\\local-packages\\Python312\\site-packages\\sklearn\\neighbors\\_classification.py:238: DataConversionWarning: A column-vector y was passed when a 1d array was expected. Please change the shape of y to (n_samples,), for example using ravel().\n",
      "  return self._fit(X, y)\n"
     ]
    },
    {
     "name": "stdout",
     "output_type": "stream",
     "text": [
      "99 - LastValueNaive with avg smape 7.84: \n",
      "Model Number: 100 of 309 with model LastValueNaive for Validation 2\n",
      "100 - LastValueNaive with avg smape 7.84: \n",
      "Model Number: 101 of 309 with model LastValueNaive for Validation 2\n",
      "101 - LastValueNaive with avg smape 7.84: \n",
      "Model Number: 102 of 309 with model ARDL for Validation 2\n",
      "102 - ARDL with avg smape 7.59: \n",
      "Model Number: 103 of 309 with model NVAR for Validation 2\n",
      "103 - NVAR with avg smape 9.53: \n",
      "Model Number: 104 of 309 with model NVAR for Validation 2\n",
      "104 - NVAR with avg smape 9.53: \n",
      "Model Number: 105 of 309 with model MultivariateMotif for Validation 2\n",
      "105 - MultivariateMotif with avg smape 9.17: \n",
      "Model Number: 106 of 309 with model Cassandra for Validation 2\n"
     ]
    },
    {
     "name": "stderr",
     "output_type": "stream",
     "text": [
      "C:\\Users\\moham\\AppData\\Local\\Packages\\PythonSoftwareFoundation.Python.3.12_qbz5n2kfra8p0\\LocalCache\\local-packages\\Python312\\site-packages\\autots\\tools\\thresholding.py:204: RuntimeWarning: overflow encountered in scalar power\n",
      "  (1 + mean_perc_decrease) ** self.mean_weight\n",
      "C:\\Users\\moham\\AppData\\Local\\Packages\\PythonSoftwareFoundation.Python.3.12_qbz5n2kfra8p0\\LocalCache\\local-packages\\Python312\\site-packages\\numpy\\lib\\function_base.py:2897: RuntimeWarning: invalid value encountered in divide\n",
      "  c /= stddev[:, None]\n",
      "C:\\Users\\moham\\AppData\\Local\\Packages\\PythonSoftwareFoundation.Python.3.12_qbz5n2kfra8p0\\LocalCache\\local-packages\\Python312\\site-packages\\numpy\\lib\\function_base.py:2898: RuntimeWarning: invalid value encountered in divide\n",
      "  c /= stddev[None, :]\n"
     ]
    },
    {
     "name": "stdout",
     "output_type": "stream",
     "text": [
      "106 - Cassandra with avg smape 6.92: \n",
      "Model Number: 107 of 309 with model ARIMA for Validation 2\n",
      "107 - ARIMA with avg smape 6.59: \n",
      "Model Number: 108 of 309 with model MultivariateMotif for Validation 2\n",
      "108 - MultivariateMotif with avg smape 8.19: \n",
      "Model Number: 109 of 309 with model MultivariateRegression for Validation 2\n",
      "109 - MultivariateRegression with avg smape 8.14: \n",
      "Model Number: 110 of 309 with model LastValueNaive for Validation 2\n",
      "110 - LastValueNaive with avg smape 7.68: \n",
      "Model Number: 111 of 309 with model ARDL for Validation 2\n",
      "111 - ARDL with avg smape 11.84: \n",
      "Model Number: 112 of 309 with model ARIMA for Validation 2\n",
      "112 - ARIMA with avg smape 9.41: \n",
      "Model Number: 113 of 309 with model WindowRegression for Validation 2\n",
      "113 - WindowRegression with avg smape 4.26: \n",
      "Model Number: 114 of 309 with model SeasonalNaive for Validation 2\n",
      "114 - SeasonalNaive with avg smape 9.65: \n",
      "Model Number: 115 of 309 with model ARIMA for Validation 2\n",
      "115 - ARIMA with avg smape 9.0: \n",
      "Model Number: 116 of 309 with model MetricMotif for Validation 2\n",
      "116 - MetricMotif with avg smape 6.87: \n",
      "Model Number: 117 of 309 with model WindowRegression for Validation 2\n",
      "117 - WindowRegression with avg smape 5.46: \n",
      "Model Number: 118 of 309 with model MultivariateRegression for Validation 2\n",
      "118 - MultivariateRegression with avg smape 8.93: \n",
      "Model Number: 119 of 309 with model UnobservedComponents for Validation 2\n",
      "119 - UnobservedComponents with avg smape 129.88: \n",
      "Model Number: 120 of 309 with model SeasonalNaive for Validation 2\n",
      "120 - SeasonalNaive with avg smape 9.63: \n",
      "Model Number: 121 of 309 with model ARIMA for Validation 2\n"
     ]
    },
    {
     "name": "stderr",
     "output_type": "stream",
     "text": [
      "C:\\Users\\moham\\AppData\\Local\\Packages\\PythonSoftwareFoundation.Python.3.12_qbz5n2kfra8p0\\LocalCache\\local-packages\\Python312\\site-packages\\sklearn\\neighbors\\_classification.py:238: DataConversionWarning: A column-vector y was passed when a 1d array was expected. Please change the shape of y to (n_samples,), for example using ravel().\n",
      "  return self._fit(X, y)\n"
     ]
    },
    {
     "name": "stdout",
     "output_type": "stream",
     "text": [
      "121 - ARIMA with avg smape 11.41: \n",
      "Model Number: 122 of 309 with model ARIMA for Validation 2\n",
      "122 - ARIMA with avg smape 8.59: \n",
      "Model Number: 123 of 309 with model Cassandra for Validation 2\n"
     ]
    },
    {
     "name": "stderr",
     "output_type": "stream",
     "text": [
      "C:\\Users\\moham\\AppData\\Local\\Packages\\PythonSoftwareFoundation.Python.3.12_qbz5n2kfra8p0\\LocalCache\\local-packages\\Python312\\site-packages\\numpy\\lib\\function_base.py:2897: RuntimeWarning: invalid value encountered in divide\n",
      "  c /= stddev[:, None]\n",
      "C:\\Users\\moham\\AppData\\Local\\Packages\\PythonSoftwareFoundation.Python.3.12_qbz5n2kfra8p0\\LocalCache\\local-packages\\Python312\\site-packages\\numpy\\lib\\function_base.py:2898: RuntimeWarning: invalid value encountered in divide\n",
      "  c /= stddev[None, :]\n"
     ]
    },
    {
     "name": "stdout",
     "output_type": "stream",
     "text": [
      "123 - Cassandra with avg smape 13.04: \n",
      "Model Number: 124 of 309 with model ARIMA for Validation 2\n",
      "124 - ARIMA with avg smape 10.73: \n",
      "Model Number: 125 of 309 with model ARIMA for Validation 2\n",
      "125 - ARIMA with avg smape 8.76: \n",
      "Model Number: 126 of 309 with model ARIMA for Validation 2\n",
      "126 - ARIMA with avg smape 8.77: \n",
      "Model Number: 127 of 309 with model UnobservedComponents for Validation 2\n",
      "127 - UnobservedComponents with avg smape 5.76: \n",
      "Model Number: 128 of 309 with model MetricMotif for Validation 2\n",
      "128 - MetricMotif with avg smape 6.78: \n",
      "Model Number: 129 of 309 with model DMD for Validation 2\n",
      "129 - DMD with avg smape 6.95: \n",
      "Model Number: 130 of 309 with model UnobservedComponents for Validation 2\n",
      "130 - UnobservedComponents with avg smape 8.52: \n",
      "Model Number: 131 of 309 with model MultivariateRegression for Validation 2\n",
      "131 - MultivariateRegression with avg smape 7.72: \n",
      "Model Number: 132 of 309 with model Cassandra for Validation 2\n"
     ]
    },
    {
     "name": "stderr",
     "output_type": "stream",
     "text": [
      "C:\\Users\\moham\\AppData\\Local\\Packages\\PythonSoftwareFoundation.Python.3.12_qbz5n2kfra8p0\\LocalCache\\local-packages\\Python312\\site-packages\\numpy\\lib\\function_base.py:2897: RuntimeWarning: invalid value encountered in divide\n",
      "  c /= stddev[:, None]\n",
      "C:\\Users\\moham\\AppData\\Local\\Packages\\PythonSoftwareFoundation.Python.3.12_qbz5n2kfra8p0\\LocalCache\\local-packages\\Python312\\site-packages\\numpy\\lib\\function_base.py:2898: RuntimeWarning: invalid value encountered in divide\n",
      "  c /= stddev[None, :]\n"
     ]
    },
    {
     "name": "stdout",
     "output_type": "stream",
     "text": [
      "132 - Cassandra with avg smape 8.53: \n",
      "Model Number: 133 of 309 with model MetricMotif for Validation 2\n",
      "133 - MetricMotif with avg smape 9.4: \n",
      "Model Number: 134 of 309 with model WindowRegression for Validation 2\n",
      "134 - WindowRegression with avg smape 5.16: \n",
      "Model Number: 135 of 309 with model Cassandra for Validation 2\n"
     ]
    },
    {
     "name": "stderr",
     "output_type": "stream",
     "text": [
      "C:\\Users\\moham\\AppData\\Local\\Packages\\PythonSoftwareFoundation.Python.3.12_qbz5n2kfra8p0\\LocalCache\\local-packages\\Python312\\site-packages\\numpy\\lib\\function_base.py:2897: RuntimeWarning: invalid value encountered in divide\n",
      "  c /= stddev[:, None]\n",
      "C:\\Users\\moham\\AppData\\Local\\Packages\\PythonSoftwareFoundation.Python.3.12_qbz5n2kfra8p0\\LocalCache\\local-packages\\Python312\\site-packages\\numpy\\lib\\function_base.py:2898: RuntimeWarning: invalid value encountered in divide\n",
      "  c /= stddev[None, :]\n"
     ]
    },
    {
     "name": "stdout",
     "output_type": "stream",
     "text": [
      "135 - Cassandra with avg smape 24.13: \n",
      "Model Number: 136 of 309 with model MultivariateRegression for Validation 2\n",
      "136 - MultivariateRegression with avg smape 7.5: \n",
      "Model Number: 137 of 309 with model UnobservedComponents for Validation 2\n",
      "137 - UnobservedComponents with avg smape 7.82: \n",
      "Model Number: 138 of 309 with model WindowRegression for Validation 2\n",
      "138 - WindowRegression with avg smape 5.83: \n",
      "Model Number: 139 of 309 with model WindowRegression for Validation 2\n",
      "139 - WindowRegression with avg smape 5.83: \n",
      "Model Number: 140 of 309 with model SeasonalNaive for Validation 2\n",
      "140 - SeasonalNaive with avg smape 6.56: \n",
      "Model Number: 141 of 309 with model DMD for Validation 2\n",
      "141 - DMD with avg smape 7.25: \n",
      "Model Number: 142 of 309 with model SeasonalNaive for Validation 2\n",
      "142 - SeasonalNaive with avg smape 6.74: \n",
      "Model Number: 143 of 309 with model UnobservedComponents for Validation 2\n",
      "143 - UnobservedComponents with avg smape 7.43: \n",
      "Model Number: 144 of 309 with model UnobservedComponents for Validation 2\n",
      "144 - UnobservedComponents with avg smape 7.42: \n",
      "Model Number: 145 of 309 with model LastValueNaive for Validation 2\n",
      "145 - LastValueNaive with avg smape 173.89: \n",
      "Model Number: 146 of 309 with model MultivariateRegression for Validation 2\n",
      "146 - MultivariateRegression with avg smape 7.37: \n",
      "Model Number: 147 of 309 with model DMD for Validation 2\n",
      "147 - DMD with avg smape 6.89: \n",
      "Model Number: 148 of 309 with model SeasonalNaive for Validation 2\n",
      "148 - SeasonalNaive with avg smape 5.97: \n",
      "Model Number: 149 of 309 with model WindowRegression for Validation 2\n",
      "149 - WindowRegression with avg smape 4.55: \n",
      "Model Number: 150 of 309 with model WindowRegression for Validation 2\n",
      "150 - WindowRegression with avg smape 20.47: \n",
      "Model Number: 151 of 309 with model SeasonalNaive for Validation 2\n",
      "151 - SeasonalNaive with avg smape 7.28: \n",
      "Model Number: 152 of 309 with model SeasonalNaive for Validation 2\n",
      "152 - SeasonalNaive with avg smape 6.31: \n",
      "Model Number: 153 of 309 with model SeasonalNaive for Validation 2\n",
      "153 - SeasonalNaive with avg smape 12.86: \n",
      "Model Number: 154 of 309 with model DMD for Validation 2\n",
      "154 - DMD with avg smape 6.82: \n",
      "Model Number: 155 of 309 with model Cassandra for Validation 2\n",
      "155 - Cassandra with avg smape 29.52: \n",
      "Model Number: 156 of 309 with model ARDL for Validation 2\n"
     ]
    },
    {
     "name": "stderr",
     "output_type": "stream",
     "text": [
      "C:\\Users\\moham\\AppData\\Local\\Packages\\PythonSoftwareFoundation.Python.3.12_qbz5n2kfra8p0\\LocalCache\\local-packages\\Python312\\site-packages\\numpy\\lib\\function_base.py:2897: RuntimeWarning: invalid value encountered in divide\n",
      "  c /= stddev[:, None]\n",
      "C:\\Users\\moham\\AppData\\Local\\Packages\\PythonSoftwareFoundation.Python.3.12_qbz5n2kfra8p0\\LocalCache\\local-packages\\Python312\\site-packages\\numpy\\lib\\function_base.py:2898: RuntimeWarning: invalid value encountered in divide\n",
      "  c /= stddev[None, :]\n"
     ]
    },
    {
     "name": "stdout",
     "output_type": "stream",
     "text": [
      "156 - ARDL with avg smape 7.56: \n",
      "Model Number: 157 of 309 with model WindowRegression for Validation 2\n",
      "157 - WindowRegression with avg smape 12.31: \n",
      "Model Number: 158 of 309 with model MultivariateRegression for Validation 2\n",
      "158 - MultivariateRegression with avg smape 7.52: \n",
      "Model Number: 159 of 309 with model WindowRegression for Validation 2\n",
      "159 - WindowRegression with avg smape 17.83: \n",
      "Model Number: 160 of 309 with model WindowRegression for Validation 2\n",
      "160 - WindowRegression with avg smape 18.46: \n",
      "Model Number: 161 of 309 with model MultivariateRegression for Validation 2\n",
      "161 - MultivariateRegression with avg smape 20.27: \n",
      "Model Number: 162 of 309 with model MultivariateRegression for Validation 2\n",
      "162 - MultivariateRegression with avg smape 20.12: \n",
      "Model Number: 163 of 309 with model SeasonalityMotif for Validation 2\n",
      "163 - SeasonalityMotif with avg smape 16.26: \n",
      "Model Number: 164 of 309 with model MultivariateRegression for Validation 2\n",
      "164 - MultivariateRegression with avg smape 20.28: \n",
      "Model Number: 165 of 309 with model ARDL for Validation 2\n",
      "165 - ARDL with avg smape 7.85: \n",
      "Model Number: 166 of 309 with model ARDL for Validation 2\n",
      "166 - ARDL with avg smape 6.85: \n",
      "Model Number: 167 of 309 with model MultivariateRegression for Validation 2\n",
      "167 - MultivariateRegression with avg smape 19.52: \n",
      "Model Number: 168 of 309 with model DMD for Validation 2\n",
      "168 - DMD with avg smape 9.17: \n",
      "Model Number: 169 of 309 with model SeasonalNaive for Validation 2\n",
      "169 - SeasonalNaive with avg smape 11.6: \n",
      "Model Number: 170 of 309 with model DMD for Validation 2\n",
      "170 - DMD with avg smape 9.17: \n",
      "Model Number: 171 of 309 with model DMD for Validation 2\n",
      "171 - DMD with avg smape 8.81: \n",
      "Model Number: 172 of 309 with model DMD for Validation 2\n",
      "172 - DMD with avg smape 7.36: \n",
      "Model Number: 173 of 309 with model DMD for Validation 2\n",
      "173 - DMD with avg smape 7.36: \n",
      "Model Number: 174 of 309 with model WindowRegression for Validation 2\n",
      "174 - WindowRegression with avg smape 5.69: \n",
      "Model Number: 175 of 309 with model ARDL for Validation 2\n",
      "175 - ARDL with avg smape 6.28: \n",
      "Model Number: 176 of 309 with model MultivariateRegression for Validation 2\n",
      "176 - MultivariateRegression with avg smape 8.16: \n",
      "Model Number: 177 of 309 with model DMD for Validation 2\n",
      "177 - DMD with avg smape 10.27: \n",
      "Model Number: 178 of 309 with model MultivariateRegression for Validation 2\n",
      "178 - MultivariateRegression with avg smape 22.0: \n",
      "Model Number: 179 of 309 with model UnobservedComponents for Validation 2\n",
      "179 - UnobservedComponents with avg smape 7.36: \n",
      "Model Number: 180 of 309 with model Cassandra for Validation 2\n"
     ]
    },
    {
     "name": "stderr",
     "output_type": "stream",
     "text": [
      "C:\\Users\\moham\\AppData\\Local\\Packages\\PythonSoftwareFoundation.Python.3.12_qbz5n2kfra8p0\\LocalCache\\local-packages\\Python312\\site-packages\\numpy\\lib\\function_base.py:2897: RuntimeWarning: invalid value encountered in divide\n",
      "  c /= stddev[:, None]\n",
      "C:\\Users\\moham\\AppData\\Local\\Packages\\PythonSoftwareFoundation.Python.3.12_qbz5n2kfra8p0\\LocalCache\\local-packages\\Python312\\site-packages\\numpy\\lib\\function_base.py:2898: RuntimeWarning: invalid value encountered in divide\n",
      "  c /= stddev[None, :]\n"
     ]
    },
    {
     "name": "stdout",
     "output_type": "stream",
     "text": [
      "180 - Cassandra with avg smape 23.34: \n",
      "Model Number: 181 of 309 with model DMD for Validation 2\n",
      "181 - DMD with avg smape 7.46: \n",
      "Model Number: 182 of 309 with model Cassandra for Validation 2\n",
      "182 - Cassandra with avg smape 26.54: \n",
      "Model Number: 183 of 309 with model Cassandra for Validation 2\n"
     ]
    },
    {
     "name": "stderr",
     "output_type": "stream",
     "text": [
      "C:\\Users\\moham\\AppData\\Local\\Packages\\PythonSoftwareFoundation.Python.3.12_qbz5n2kfra8p0\\LocalCache\\local-packages\\Python312\\site-packages\\numpy\\lib\\function_base.py:2897: RuntimeWarning: invalid value encountered in divide\n",
      "  c /= stddev[:, None]\n",
      "C:\\Users\\moham\\AppData\\Local\\Packages\\PythonSoftwareFoundation.Python.3.12_qbz5n2kfra8p0\\LocalCache\\local-packages\\Python312\\site-packages\\numpy\\lib\\function_base.py:2898: RuntimeWarning: invalid value encountered in divide\n",
      "  c /= stddev[None, :]\n",
      "C:\\Users\\moham\\AppData\\Local\\Packages\\PythonSoftwareFoundation.Python.3.12_qbz5n2kfra8p0\\LocalCache\\local-packages\\Python312\\site-packages\\numpy\\lib\\function_base.py:2897: RuntimeWarning: invalid value encountered in divide\n",
      "  c /= stddev[:, None]\n",
      "C:\\Users\\moham\\AppData\\Local\\Packages\\PythonSoftwareFoundation.Python.3.12_qbz5n2kfra8p0\\LocalCache\\local-packages\\Python312\\site-packages\\numpy\\lib\\function_base.py:2898: RuntimeWarning: invalid value encountered in divide\n",
      "  c /= stddev[None, :]\n"
     ]
    },
    {
     "name": "stdout",
     "output_type": "stream",
     "text": [
      "183 - Cassandra with avg smape 5.56: \n",
      "Model Number: 184 of 309 with model DMD for Validation 2\n",
      "184 - DMD with avg smape 11.58: \n",
      "Model Number: 185 of 309 with model MultivariateRegression for Validation 2\n",
      "📈 185 - MultivariateRegression with avg smape 2.37: \n",
      "Model Number: 186 of 309 with model UnobservedComponents for Validation 2\n",
      "186 - UnobservedComponents with avg smape 7.36: \n",
      "Model Number: 187 of 309 with model UnobservedComponents for Validation 2\n",
      "187 - UnobservedComponents with avg smape 7.36: \n",
      "Model Number: 188 of 309 with model ARDL for Validation 2\n",
      "188 - ARDL with avg smape 7.67: \n",
      "Model Number: 189 of 309 with model Cassandra for Validation 2\n",
      "189 - Cassandra with avg smape 26.84: \n",
      "Model Number: 190 of 309 with model LastValueNaive for Validation 2\n",
      "190 - LastValueNaive with avg smape 7.36: \n",
      "Model Number: 191 of 309 with model DMD for Validation 2\n",
      "191 - DMD with avg smape 8.19: \n",
      "Model Number: 192 of 309 with model LastValueNaive for Validation 2\n"
     ]
    },
    {
     "name": "stderr",
     "output_type": "stream",
     "text": [
      "C:\\Users\\moham\\AppData\\Local\\Packages\\PythonSoftwareFoundation.Python.3.12_qbz5n2kfra8p0\\LocalCache\\local-packages\\Python312\\site-packages\\numpy\\lib\\function_base.py:2897: RuntimeWarning: invalid value encountered in divide\n",
      "  c /= stddev[:, None]\n",
      "C:\\Users\\moham\\AppData\\Local\\Packages\\PythonSoftwareFoundation.Python.3.12_qbz5n2kfra8p0\\LocalCache\\local-packages\\Python312\\site-packages\\numpy\\lib\\function_base.py:2898: RuntimeWarning: invalid value encountered in divide\n",
      "  c /= stddev[None, :]\n",
      "C:\\Users\\moham\\AppData\\Local\\Packages\\PythonSoftwareFoundation.Python.3.12_qbz5n2kfra8p0\\LocalCache\\local-packages\\Python312\\site-packages\\sklearn\\linear_model\\_ridge.py:204: LinAlgWarning: Ill-conditioned matrix (rcond=5.48035e-25): result may not be accurate.\n",
      "  return linalg.solve(A, Xy, assume_a=\"pos\", overwrite_a=True).T\n"
     ]
    },
    {
     "name": "stdout",
     "output_type": "stream",
     "text": [
      "192 - LastValueNaive with avg smape 7.35: \n",
      "Model Number: 193 of 309 with model SeasonalityMotif for Validation 2\n",
      "193 - SeasonalityMotif with avg smape 15.66: \n",
      "Model Number: 194 of 309 with model ARDL for Validation 2\n",
      "194 - ARDL with avg smape 7.55: \n",
      "Model Number: 195 of 309 with model LastValueNaive for Validation 2\n",
      "195 - LastValueNaive with avg smape 9.49: \n",
      "Model Number: 196 of 309 with model ARDL for Validation 2\n",
      "Template Eval Error: Exception(\"Transformer LocalLinearTrend failed on fit from params cubic {'0': {'rolling_window': 360, 'n_tails': 0.1, 'n_future': 0.2, 'method': 'median', 'macro_micro': True}, '1': {'threshold': 0.8, 'splash_threshold': None, 'use_dayofmonth_holidays': True, 'use_wkdom_holidays': True, 'use_wkdeom_holidays': False, 'use_lunar_holidays': False, 'use_lunar_weekday': False, 'use_islamic_holidays': False, 'use_hebrew_holidays': False, 'anomaly_detector_params': {'method': 'IQR', 'method_params': {'iqr_threshold': 2.0, 'iqr_quantiles': [0.25, 0.75]}, 'fillna': 'ffill', 'transform_dict': None, 'isolated_only': False}, 'remove_excess_anomalies': True, 'impact': 'anomaly_score', 'regression_params': {}}}\") in model 196 in generation 0: ARDL\n",
      "Model Number: 197 of 309 with model LastValueNaive for Validation 2\n",
      "197 - LastValueNaive with avg smape 10.01: \n",
      "Model Number: 198 of 309 with model Cassandra for Validation 2\n"
     ]
    },
    {
     "name": "stderr",
     "output_type": "stream",
     "text": [
      "C:\\Users\\moham\\AppData\\Local\\Packages\\PythonSoftwareFoundation.Python.3.12_qbz5n2kfra8p0\\LocalCache\\local-packages\\Python312\\site-packages\\numpy\\lib\\function_base.py:2897: RuntimeWarning: invalid value encountered in divide\n",
      "  c /= stddev[:, None]\n",
      "C:\\Users\\moham\\AppData\\Local\\Packages\\PythonSoftwareFoundation.Python.3.12_qbz5n2kfra8p0\\LocalCache\\local-packages\\Python312\\site-packages\\numpy\\lib\\function_base.py:2898: RuntimeWarning: invalid value encountered in divide\n",
      "  c /= stddev[None, :]\n"
     ]
    },
    {
     "name": "stdout",
     "output_type": "stream",
     "text": [
      "198 - Cassandra with avg smape 9.02: \n",
      "Model Number: 199 of 309 with model SeasonalityMotif for Validation 2\n",
      "199 - SeasonalityMotif with avg smape 6.32: \n",
      "Model Number: 200 of 309 with model SeasonalityMotif for Validation 2\n",
      "200 - SeasonalityMotif with avg smape 11.43: \n",
      "Model Number: 201 of 309 with model Cassandra for Validation 2\n",
      "201 - Cassandra with avg smape 12.68: \n",
      "Model Number: 202 of 309 with model MetricMotif for Validation 2\n",
      "202 - MetricMotif with avg smape 15.94: \n",
      "Model Number: 203 of 309 with model MetricMotif for Validation 2\n"
     ]
    },
    {
     "name": "stderr",
     "output_type": "stream",
     "text": [
      "C:\\Users\\moham\\AppData\\Local\\Packages\\PythonSoftwareFoundation.Python.3.12_qbz5n2kfra8p0\\LocalCache\\local-packages\\Python312\\site-packages\\numpy\\lib\\function_base.py:2897: RuntimeWarning: invalid value encountered in divide\n",
      "  c /= stddev[:, None]\n",
      "C:\\Users\\moham\\AppData\\Local\\Packages\\PythonSoftwareFoundation.Python.3.12_qbz5n2kfra8p0\\LocalCache\\local-packages\\Python312\\site-packages\\numpy\\lib\\function_base.py:2898: RuntimeWarning: invalid value encountered in divide\n",
      "  c /= stddev[None, :]\n"
     ]
    },
    {
     "name": "stdout",
     "output_type": "stream",
     "text": [
      "203 - MetricMotif with avg smape 7.82: \n",
      "Model Number: 204 of 309 with model SeasonalityMotif for Validation 2\n",
      "204 - SeasonalityMotif with avg smape 16.37: \n",
      "Model Number: 205 of 309 with model Cassandra for Validation 2\n",
      "205 - Cassandra with avg smape 21.14: \n",
      "Model Number: 206 of 309 with model SeasonalityMotif for Validation 2\n",
      "206 - SeasonalityMotif with avg smape 11.32: \n",
      "Model Number: 207 of 309 with model ConstantNaive for Validation 2\n",
      "207 - ConstantNaive with avg smape 9.45: \n",
      "Model Number: 208 of 309 with model ConstantNaive for Validation 2\n",
      "208 - ConstantNaive with avg smape 11.55: \n",
      "Model Number: 209 of 309 with model SeasonalityMotif for Validation 2\n"
     ]
    },
    {
     "name": "stderr",
     "output_type": "stream",
     "text": [
      "C:\\Users\\moham\\AppData\\Local\\Packages\\PythonSoftwareFoundation.Python.3.12_qbz5n2kfra8p0\\LocalCache\\local-packages\\Python312\\site-packages\\numpy\\lib\\function_base.py:2897: RuntimeWarning: invalid value encountered in divide\n",
      "  c /= stddev[:, None]\n",
      "C:\\Users\\moham\\AppData\\Local\\Packages\\PythonSoftwareFoundation.Python.3.12_qbz5n2kfra8p0\\LocalCache\\local-packages\\Python312\\site-packages\\numpy\\lib\\function_base.py:2898: RuntimeWarning: invalid value encountered in divide\n",
      "  c /= stddev[None, :]\n"
     ]
    },
    {
     "name": "stdout",
     "output_type": "stream",
     "text": [
      "209 - SeasonalityMotif with avg smape 8.64: \n",
      "Model Number: 210 of 309 with model MetricMotif for Validation 2\n",
      "210 - MetricMotif with avg smape 5.71: \n",
      "Model Number: 211 of 309 with model MetricMotif for Validation 2\n",
      "211 - MetricMotif with avg smape 10.38: \n",
      "Model Number: 212 of 309 with model SeasonalityMotif for Validation 2\n",
      "212 - SeasonalityMotif with avg smape 7.59: \n",
      "Model Number: 213 of 309 with model MetricMotif for Validation 2\n",
      "213 - MetricMotif with avg smape 6.13: \n",
      "Model Number: 214 of 309 with model ConstantNaive for Validation 2\n",
      "214 - ConstantNaive with avg smape 50.0: \n",
      "Model Number: 215 of 309 with model SeasonalityMotif for Validation 2\n",
      "215 - SeasonalityMotif with avg smape 13.11: \n",
      "Model Number: 216 of 309 with model ConstantNaive for Validation 2\n"
     ]
    },
    {
     "name": "stderr",
     "output_type": "stream",
     "text": [
      "C:\\Users\\moham\\AppData\\Local\\Packages\\PythonSoftwareFoundation.Python.3.12_qbz5n2kfra8p0\\LocalCache\\local-packages\\Python312\\site-packages\\autots\\tools\\percentile.py:47: RuntimeWarning: All-NaN slice encountered\n",
      "  max_val = np.nanmax(arr)\n"
     ]
    },
    {
     "name": "stdout",
     "output_type": "stream",
     "text": [
      "216 - ConstantNaive with avg smape 8.43: \n",
      "Model Number: 217 of 309 with model SeasonalityMotif for Validation 2\n",
      "217 - SeasonalityMotif with avg smape 36.55: \n",
      "Model Number: 218 of 309 with model SeasonalityMotif for Validation 2\n",
      "218 - SeasonalityMotif with avg smape 5.18: \n",
      "Model Number: 219 of 309 with model DatepartRegression for Validation 2\n",
      "219 - DatepartRegression with avg smape 11.04: \n",
      "Model Number: 220 of 309 with model ConstantNaive for Validation 2\n",
      "220 - ConstantNaive with avg smape 9.44: \n",
      "Model Number: 221 of 309 with model SeasonalityMotif for Validation 2\n",
      "221 - SeasonalityMotif with avg smape 17.13: \n",
      "Model Number: 222 of 309 with model MetricMotif for Validation 2\n",
      "222 - MetricMotif with avg smape 9.69: \n",
      "Model Number: 223 of 309 with model ConstantNaive for Validation 2\n"
     ]
    },
    {
     "name": "stderr",
     "output_type": "stream",
     "text": [
      "C:\\Users\\moham\\AppData\\Local\\Packages\\PythonSoftwareFoundation.Python.3.12_qbz5n2kfra8p0\\LocalCache\\local-packages\\Python312\\site-packages\\sklearn\\neural_network\\_multilayer_perceptron.py:546: ConvergenceWarning: lbfgs failed to converge (status=1):\n",
      "STOP: TOTAL NO. of ITERATIONS REACHED LIMIT.\n",
      "\n",
      "Increase the number of iterations (max_iter) or scale the data as shown in:\n",
      "    https://scikit-learn.org/stable/modules/preprocessing.html\n",
      "  self.n_iter_ = _check_optimize_result(\"lbfgs\", opt_res, self.max_iter)\n"
     ]
    },
    {
     "name": "stdout",
     "output_type": "stream",
     "text": [
      "223 - ConstantNaive with avg smape 34.43: \n",
      "Model Number: 224 of 309 with model ConstantNaive for Validation 2\n",
      "224 - ConstantNaive with avg smape 34.43: \n",
      "Model Number: 225 of 309 with model SeasonalityMotif for Validation 2\n",
      "225 - SeasonalityMotif with avg smape 14.41: \n",
      "Model Number: 226 of 309 with model DatepartRegression for Validation 2\n",
      "226 - DatepartRegression with avg smape 7.74: \n",
      "Model Number: 227 of 309 with model GLS for Validation 2\n",
      "227 - GLS with avg smape 11.44: \n",
      "Model Number: 228 of 309 with model ConstantNaive for Validation 2\n",
      "228 - ConstantNaive with avg smape 7.68: \n",
      "Model Number: 229 of 309 with model DatepartRegression for Validation 2\n",
      "229 - DatepartRegression with avg smape 7.36: \n",
      "Model Number: 230 of 309 with model DatepartRegression for Validation 2\n",
      "230 - DatepartRegression with avg smape 7.36: \n",
      "Model Number: 231 of 309 with model DatepartRegression for Validation 2\n",
      "231 - DatepartRegression with avg smape 7.36: \n",
      "Model Number: 232 of 309 with model GLS for Validation 2\n",
      "232 - GLS with avg smape 7.36: \n",
      "Model Number: 233 of 309 with model GLS for Validation 2\n",
      "233 - GLS with avg smape 7.36: \n",
      "Model Number: 234 of 309 with model MetricMotif for Validation 2\n",
      "234 - MetricMotif with avg smape 7.36: \n",
      "Model Number: 235 of 309 with model GLS for Validation 2\n",
      "235 - GLS with avg smape 4.32: \n",
      "Model Number: 236 of 309 with model MetricMotif for Validation 2\n",
      "236 - MetricMotif with avg smape 7.37: \n",
      "Model Number: 237 of 309 with model MetricMotif for Validation 2\n",
      "237 - MetricMotif with avg smape 7.36: \n",
      "Model Number: 238 of 309 with model MetricMotif for Validation 2\n",
      "238 - MetricMotif with avg smape 7.36: \n",
      "Model Number: 239 of 309 with model DatepartRegression for Validation 2\n",
      "239 - DatepartRegression with avg smape 14.89: \n",
      "Model Number: 240 of 309 with model GLS for Validation 2\n",
      "240 - GLS with avg smape 8.15: \n",
      "Model Number: 241 of 309 with model RRVAR for Validation 2\n",
      "241 - RRVAR with avg smape 9.61: \n",
      "Model Number: 242 of 309 with model GLS for Validation 2\n"
     ]
    },
    {
     "name": "stderr",
     "output_type": "stream",
     "text": [
      "C:\\Users\\moham\\AppData\\Local\\Packages\\PythonSoftwareFoundation.Python.3.12_qbz5n2kfra8p0\\LocalCache\\local-packages\\Python312\\site-packages\\sklearn\\neural_network\\_multilayer_perceptron.py:546: ConvergenceWarning: lbfgs failed to converge (status=1):\n",
      "STOP: TOTAL NO. of ITERATIONS REACHED LIMIT.\n",
      "\n",
      "Increase the number of iterations (max_iter) or scale the data as shown in:\n",
      "    https://scikit-learn.org/stable/modules/preprocessing.html\n",
      "  self.n_iter_ = _check_optimize_result(\"lbfgs\", opt_res, self.max_iter)\n"
     ]
    },
    {
     "name": "stdout",
     "output_type": "stream",
     "text": [
      "242 - GLS with avg smape 8.15: \n",
      "Model Number: 243 of 309 with model DatepartRegression for Validation 2\n"
     ]
    },
    {
     "name": "stderr",
     "output_type": "stream",
     "text": [
      "C:\\Users\\moham\\AppData\\Local\\Packages\\PythonSoftwareFoundation.Python.3.12_qbz5n2kfra8p0\\LocalCache\\local-packages\\Python312\\site-packages\\sklearn\\neural_network\\_multilayer_perceptron.py:546: ConvergenceWarning: lbfgs failed to converge (status=1):\n",
      "STOP: TOTAL NO. of ITERATIONS REACHED LIMIT.\n",
      "\n",
      "Increase the number of iterations (max_iter) or scale the data as shown in:\n",
      "    https://scikit-learn.org/stable/modules/preprocessing.html\n",
      "  self.n_iter_ = _check_optimize_result(\"lbfgs\", opt_res, self.max_iter)\n"
     ]
    },
    {
     "name": "stdout",
     "output_type": "stream",
     "text": [
      "243 - DatepartRegression with avg smape 14.89: \n",
      "Model Number: 244 of 309 with model DatepartRegression for Validation 2\n",
      "244 - DatepartRegression with avg smape 7.81: \n",
      "Model Number: 245 of 309 with model GLS for Validation 2\n",
      "245 - GLS with avg smape 5.05: \n",
      "Model Number: 246 of 309 with model ETS for Validation 2\n",
      "246 - ETS with avg smape 13.76: \n",
      "Model Number: 247 of 309 with model DatepartRegression for Validation 2\n",
      "247 - DatepartRegression with avg smape 9.52: \n",
      "Model Number: 248 of 309 with model GLS for Validation 2\n",
      "248 - GLS with avg smape 5.19: \n",
      "Model Number: 249 of 309 with model RRVAR for Validation 2\n",
      "249 - RRVAR with avg smape 7.36: \n",
      "Model Number: 250 of 309 with model GLS for Validation 2\n",
      "250 - GLS with avg smape 10.29: \n",
      "Model Number: 251 of 309 with model RRVAR for Validation 2\n",
      "251 - RRVAR with avg smape 7.36: \n",
      "Model Number: 252 of 309 with model RRVAR for Validation 2\n",
      "252 - RRVAR with avg smape 7.36: \n",
      "Model Number: 253 of 309 with model DatepartRegression for Validation 2\n",
      "253 - DatepartRegression with avg smape 19.04: \n",
      "Model Number: 254 of 309 with model RRVAR for Validation 2\n",
      "254 - RRVAR with avg smape 7.36: \n",
      "Model Number: 255 of 309 with model RRVAR for Validation 2\n",
      "255 - RRVAR with avg smape 7.36: \n",
      "Model Number: 256 of 309 with model GLS for Validation 2\n"
     ]
    },
    {
     "name": "stderr",
     "output_type": "stream",
     "text": [
      "C:\\Users\\moham\\AppData\\Local\\Packages\\PythonSoftwareFoundation.Python.3.12_qbz5n2kfra8p0\\LocalCache\\local-packages\\Python312\\site-packages\\sklearn\\neural_network\\_multilayer_perceptron.py:546: ConvergenceWarning: lbfgs failed to converge (status=1):\n",
      "STOP: TOTAL NO. of ITERATIONS REACHED LIMIT.\n",
      "\n",
      "Increase the number of iterations (max_iter) or scale the data as shown in:\n",
      "    https://scikit-learn.org/stable/modules/preprocessing.html\n",
      "  self.n_iter_ = _check_optimize_result(\"lbfgs\", opt_res, self.max_iter)\n"
     ]
    },
    {
     "name": "stdout",
     "output_type": "stream",
     "text": [
      "256 - GLS with avg smape 10.32: \n",
      "Model Number: 257 of 309 with model DatepartRegression for Validation 2\n",
      "257 - DatepartRegression with avg smape 10.35: \n",
      "Model Number: 258 of 309 with model ETS for Validation 2\n",
      "258 - ETS with avg smape 7.04: \n",
      "Model Number: 259 of 309 with model GLM for Validation 2\n",
      "259 - GLM with avg smape 25.78: \n",
      "Model Number: 260 of 309 with model DatepartRegression for Validation 2\n",
      "260 - DatepartRegression with avg smape 14.44: \n",
      "Model Number: 261 of 309 with model UnivariateMotif for Validation 2\n",
      "261 - UnivariateMotif with avg smape 11.63: \n",
      "Model Number: 262 of 309 with model GLM for Validation 2\n",
      "262 - GLM with avg smape 7.37: \n",
      "Model Number: 263 of 309 with model GLS for Validation 2\n",
      "263 - GLS with avg smape 5.99: \n",
      "Model Number: 264 of 309 with model DatepartRegression for Validation 2\n",
      "264 - DatepartRegression with avg smape 9.94: \n",
      "Model Number: 265 of 309 with model GLS for Validation 2\n",
      "265 - GLS with avg smape 5.27: \n",
      "Model Number: 266 of 309 with model GLS for Validation 2\n",
      "266 - GLS with avg smape 5.29: \n",
      "Model Number: 267 of 309 with model GLM for Validation 2\n",
      "267 - GLM with avg smape 7.36: \n",
      "Model Number: 268 of 309 with model ETS for Validation 2\n",
      "268 - ETS with avg smape 7.36: \n",
      "Model Number: 269 of 309 with model UnivariateMotif for Validation 2\n",
      "269 - UnivariateMotif with avg smape 11.58: \n",
      "Model Number: 270 of 309 with model RRVAR for Validation 2\n",
      "270 - RRVAR with avg smape 7.96: \n",
      "Model Number: 271 of 309 with model UnivariateMotif for Validation 2\n",
      "271 - UnivariateMotif with avg smape 11.93: \n",
      "Model Number: 272 of 309 with model RRVAR for Validation 2\n",
      "272 - RRVAR with avg smape 13.84: \n",
      "Model Number: 273 of 309 with model UnivariateMotif for Validation 2\n",
      "273 - UnivariateMotif with avg smape 8.65: \n",
      "Model Number: 274 of 309 with model ETS for Validation 2\n",
      "274 - ETS with avg smape 34.43: \n",
      "Model Number: 275 of 309 with model ETS for Validation 2\n",
      "275 - ETS with avg smape 5.44: \n",
      "Model Number: 276 of 309 with model ETS for Validation 2\n",
      "276 - ETS with avg smape 5.27: \n",
      "Model Number: 277 of 309 with model GLM for Validation 2\n",
      "277 - GLM with avg smape 30.42: \n",
      "Model Number: 278 of 309 with model ETS for Validation 2\n",
      "278 - ETS with avg smape 14.76: \n",
      "Model Number: 279 of 309 with model RRVAR for Validation 2\n",
      "279 - RRVAR with avg smape 5.41: \n",
      "Model Number: 280 of 309 with model RRVAR for Validation 2\n",
      "280 - RRVAR with avg smape 4.85: \n",
      "Model Number: 281 of 309 with model GLM for Validation 2\n",
      "281 - GLM with avg smape 32.61: \n",
      "Model Number: 282 of 309 with model UnivariateMotif for Validation 2\n",
      "282 - UnivariateMotif with avg smape 24.93: \n",
      "Model Number: 283 of 309 with model UnivariateMotif for Validation 2\n",
      "283 - UnivariateMotif with avg smape 24.99: \n",
      "Model Number: 284 of 309 with model RRVAR for Validation 2\n",
      "284 - RRVAR with avg smape 4.8: \n",
      "Model Number: 285 of 309 with model UnivariateMotif for Validation 2\n",
      "285 - UnivariateMotif with avg smape 14.76: \n",
      "Model Number: 286 of 309 with model UnivariateMotif for Validation 2\n",
      "286 - UnivariateMotif with avg smape 22.9: \n",
      "Model Number: 287 of 309 with model RRVAR for Validation 2\n",
      "287 - RRVAR with avg smape 13.37: \n",
      "Model Number: 288 of 309 with model ETS for Validation 2\n",
      "288 - ETS with avg smape 200.0: \n",
      "Model Number: 289 of 309 with model ETS for Validation 2\n",
      "289 - ETS with avg smape 12.93: \n",
      "Model Number: 290 of 309 with model RRVAR for Validation 2\n",
      "290 - RRVAR with avg smape 26.19: \n",
      "Model Number: 291 of 309 with model UnivariateMotif for Validation 2\n",
      "291 - UnivariateMotif with avg smape 8.35: \n",
      "Model Number: 292 of 309 with model UnivariateMotif for Validation 2\n",
      "292 - UnivariateMotif with avg smape 28.38: \n",
      "Model Number: 293 of 309 with model ETS for Validation 2\n",
      "293 - ETS with avg smape 88.36: \n",
      "Model Number: 294 of 309 with model GLM for Validation 2\n",
      "294 - GLM with avg smape 23.09: \n",
      "Model Number: 295 of 309 with model GLM for Validation 2\n",
      "295 - GLM with avg smape 38.79: \n",
      "Model Number: 296 of 309 with model UnivariateMotif for Validation 2\n",
      "296 - UnivariateMotif with avg smape 13.4: \n",
      "Model Number: 297 of 309 with model UnivariateMotif for Validation 2\n",
      "297 - UnivariateMotif with avg smape 18.73: \n",
      "Model Number: 298 of 309 with model UnivariateMotif for Validation 2\n",
      "298 - UnivariateMotif with avg smape 24.78: \n",
      "Model Number: 299 of 309 with model ETS for Validation 2\n",
      "299 - ETS with avg smape 18.71: \n",
      "Model Number: 300 of 309 with model ETS for Validation 2\n",
      "300 - ETS with avg smape 19.18: \n",
      "Model Number: 301 of 309 with model ETS for Validation 2\n",
      "301 - ETS with avg smape 17.37: \n",
      "Model Number: 302 of 309 with model GLM for Validation 2\n"
     ]
    },
    {
     "name": "stderr",
     "output_type": "stream",
     "text": [
      "C:\\Users\\moham\\AppData\\Local\\Packages\\PythonSoftwareFoundation.Python.3.12_qbz5n2kfra8p0\\LocalCache\\local-packages\\Python312\\site-packages\\statsmodels\\genmod\\families\\links.py:198: RuntimeWarning: overflow encountered in exp\n",
      "  t = np.exp(-z)\n"
     ]
    },
    {
     "name": "stdout",
     "output_type": "stream",
     "text": [
      "302 - GLM with avg smape 28.25: \n",
      "Model Number: 303 of 309 with model GLM for Validation 2\n",
      "303 - GLM with avg smape 41.41: \n",
      "Model Number: 304 of 309 with model FFT for Validation 2\n",
      "304 - FFT with avg smape 75.46: \n",
      "Model Number: 305 of 309 with model GLM for Validation 2\n",
      "305 - GLM with avg smape 196.54: \n",
      "Model Number: 306 of 309 with model GLM for Validation 2\n",
      "306 - GLM with avg smape 196.54: \n",
      "Model Number: 307 of 309 with model GLM for Validation 2\n",
      "307 - GLM with avg smape 144.58: \n",
      "Model Number: 308 of 309 with model FFT for Validation 2\n",
      "308 - FFT with avg smape 191.63: \n",
      "Model Number: 309 of 309 with model GLM for Validation 2\n",
      "309 - GLM with avg smape 200.0: \n",
      "Validation Round: 3\n",
      "Model Number: 1 of 309 with model Ensemble for Validation 3\n",
      "📈 1 - Ensemble with avg smape 5.77: \n",
      "Model Number: 2 of 309 with model MultivariateMotif for Validation 3\n",
      "📈 2 - MultivariateMotif with avg smape 4.52: \n",
      "Model Number: 3 of 309 with model Ensemble for Validation 3\n"
     ]
    },
    {
     "name": "stderr",
     "output_type": "stream",
     "text": [
      "C:\\Users\\moham\\AppData\\Local\\Packages\\PythonSoftwareFoundation.Python.3.12_qbz5n2kfra8p0\\LocalCache\\local-packages\\Python312\\site-packages\\sklearn\\neighbors\\_classification.py:238: DataConversionWarning: A column-vector y was passed when a 1d array was expected. Please change the shape of y to (n_samples,), for example using ravel().\n",
      "  return self._fit(X, y)\n",
      "C:\\Users\\moham\\AppData\\Local\\Packages\\PythonSoftwareFoundation.Python.3.12_qbz5n2kfra8p0\\LocalCache\\local-packages\\Python312\\site-packages\\sklearn\\neighbors\\_classification.py:238: DataConversionWarning: A column-vector y was passed when a 1d array was expected. Please change the shape of y to (n_samples,), for example using ravel().\n",
      "  return self._fit(X, y)\n"
     ]
    },
    {
     "name": "stdout",
     "output_type": "stream",
     "text": [
      "📈 3 - Ensemble with avg smape 4.34: \n",
      "Model Number: 4 of 309 with model Ensemble for Validation 3\n",
      "4 - Ensemble with avg smape 5.92: \n",
      "Model Number: 5 of 309 with model Ensemble for Validation 3\n",
      "5 - Ensemble with avg smape 5.97: \n",
      "Model Number: 6 of 309 with model Ensemble for Validation 3\n"
     ]
    },
    {
     "name": "stderr",
     "output_type": "stream",
     "text": [
      "C:\\Users\\moham\\AppData\\Local\\Packages\\PythonSoftwareFoundation.Python.3.12_qbz5n2kfra8p0\\LocalCache\\local-packages\\Python312\\site-packages\\sklearn\\neighbors\\_classification.py:238: DataConversionWarning: A column-vector y was passed when a 1d array was expected. Please change the shape of y to (n_samples,), for example using ravel().\n",
      "  return self._fit(X, y)\n",
      "C:\\Users\\moham\\AppData\\Local\\Packages\\PythonSoftwareFoundation.Python.3.12_qbz5n2kfra8p0\\LocalCache\\local-packages\\Python312\\site-packages\\sklearn\\neighbors\\_classification.py:238: DataConversionWarning: A column-vector y was passed when a 1d array was expected. Please change the shape of y to (n_samples,), for example using ravel().\n",
      "  return self._fit(X, y)\n"
     ]
    },
    {
     "name": "stdout",
     "output_type": "stream",
     "text": [
      "6 - Ensemble with avg smape 5.97: \n",
      "Model Number: 7 of 309 with model SectionalMotif for Validation 3\n",
      "7 - SectionalMotif with avg smape 6.62: \n",
      "Model Number: 8 of 309 with model Ensemble for Validation 3\n"
     ]
    },
    {
     "name": "stderr",
     "output_type": "stream",
     "text": [
      "C:\\Users\\moham\\AppData\\Local\\Packages\\PythonSoftwareFoundation.Python.3.12_qbz5n2kfra8p0\\LocalCache\\local-packages\\Python312\\site-packages\\sklearn\\neighbors\\_classification.py:238: DataConversionWarning: A column-vector y was passed when a 1d array was expected. Please change the shape of y to (n_samples,), for example using ravel().\n",
      "  return self._fit(X, y)\n",
      "C:\\Users\\moham\\AppData\\Local\\Packages\\PythonSoftwareFoundation.Python.3.12_qbz5n2kfra8p0\\LocalCache\\local-packages\\Python312\\site-packages\\sklearn\\neighbors\\_classification.py:238: DataConversionWarning: A column-vector y was passed when a 1d array was expected. Please change the shape of y to (n_samples,), for example using ravel().\n",
      "  return self._fit(X, y)\n",
      "C:\\Users\\moham\\AppData\\Local\\Packages\\PythonSoftwareFoundation.Python.3.12_qbz5n2kfra8p0\\LocalCache\\local-packages\\Python312\\site-packages\\sklearn\\neighbors\\_classification.py:238: DataConversionWarning: A column-vector y was passed when a 1d array was expected. Please change the shape of y to (n_samples,), for example using ravel().\n",
      "  return self._fit(X, y)\n"
     ]
    },
    {
     "name": "stdout",
     "output_type": "stream",
     "text": [
      "8 - Ensemble with avg smape 6.44: \n",
      "Model Number: 9 of 309 with model SectionalMotif for Validation 3\n",
      "9 - SectionalMotif with avg smape 6.79: \n",
      "Model Number: 10 of 309 with model SectionalMotif for Validation 3\n",
      "10 - SectionalMotif with avg smape 6.44: \n",
      "Model Number: 11 of 309 with model SectionalMotif for Validation 3\n",
      "11 - SectionalMotif with avg smape 6.44: \n",
      "Model Number: 12 of 309 with model SectionalMotif for Validation 3\n",
      "12 - SectionalMotif with avg smape 6.44: \n",
      "Model Number: 13 of 309 with model SectionalMotif for Validation 3\n",
      "13 - SectionalMotif with avg smape 6.41: \n",
      "Model Number: 14 of 309 with model SectionalMotif for Validation 3\n",
      "14 - SectionalMotif with avg smape 6.41: \n",
      "Model Number: 15 of 309 with model SectionalMotif for Validation 3\n",
      "15 - SectionalMotif with avg smape 6.41: \n",
      "Model Number: 16 of 309 with model SectionalMotif for Validation 3\n",
      "16 - SectionalMotif with avg smape 6.41: \n",
      "Model Number: 17 of 309 with model Ensemble for Validation 3\n",
      "17 - Ensemble with avg smape 6.99: \n",
      "Model Number: 18 of 309 with model MultivariateMotif for Validation 3\n",
      "18 - MultivariateMotif with avg smape 8.42: \n",
      "Model Number: 19 of 309 with model SectionalMotif for Validation 3\n"
     ]
    },
    {
     "name": "stderr",
     "output_type": "stream",
     "text": [
      "C:\\Users\\moham\\AppData\\Local\\Packages\\PythonSoftwareFoundation.Python.3.12_qbz5n2kfra8p0\\LocalCache\\local-packages\\Python312\\site-packages\\sklearn\\neighbors\\_classification.py:238: DataConversionWarning: A column-vector y was passed when a 1d array was expected. Please change the shape of y to (n_samples,), for example using ravel().\n",
      "  return self._fit(X, y)\n",
      "C:\\Users\\moham\\AppData\\Local\\Packages\\PythonSoftwareFoundation.Python.3.12_qbz5n2kfra8p0\\LocalCache\\local-packages\\Python312\\site-packages\\sklearn\\neighbors\\_classification.py:238: DataConversionWarning: A column-vector y was passed when a 1d array was expected. Please change the shape of y to (n_samples,), for example using ravel().\n",
      "  return self._fit(X, y)\n"
     ]
    },
    {
     "name": "stdout",
     "output_type": "stream",
     "text": [
      "19 - SectionalMotif with avg smape 6.3: \n",
      "Model Number: 20 of 309 with model Ensemble for Validation 3\n",
      "20 - Ensemble with avg smape 5.42: \n",
      "Model Number: 21 of 309 with model SectionalMotif for Validation 3\n",
      "21 - SectionalMotif with avg smape 6.33: \n",
      "Model Number: 22 of 309 with model SectionalMotif for Validation 3\n",
      "22 - SectionalMotif with avg smape 6.23: \n",
      "Model Number: 23 of 309 with model AverageValueNaive for Validation 3\n",
      "23 - AverageValueNaive with avg smape 7.38: \n",
      "Model Number: 24 of 309 with model MultivariateMotif for Validation 3\n",
      "24 - MultivariateMotif with avg smape 9.2: \n",
      "Model Number: 25 of 309 with model NVAR for Validation 3\n",
      "25 - NVAR with avg smape 7.94: \n",
      "Model Number: 26 of 309 with model AverageValueNaive for Validation 3\n",
      "26 - AverageValueNaive with avg smape 7.03: \n",
      "Model Number: 27 of 309 with model NVAR for Validation 3\n",
      "27 - NVAR with avg smape 8.05: \n",
      "Model Number: 28 of 309 with model SectionalMotif for Validation 3\n",
      "28 - SectionalMotif with avg smape 8.22: \n",
      "Model Number: 29 of 309 with model MultivariateMotif for Validation 3\n",
      "29 - MultivariateMotif with avg smape 5.03: \n",
      "Model Number: 30 of 309 with model AverageValueNaive for Validation 3\n",
      "30 - AverageValueNaive with avg smape 7.07: \n",
      "Model Number: 31 of 309 with model NVAR for Validation 3\n",
      "31 - NVAR with avg smape 8.57: \n",
      "Model Number: 32 of 309 with model NVAR for Validation 3\n",
      "32 - NVAR with avg smape 8.52: \n",
      "Model Number: 33 of 309 with model NVAR for Validation 3\n",
      "33 - NVAR with avg smape 8.67: \n",
      "Model Number: 34 of 309 with model NVAR for Validation 3\n",
      "34 - NVAR with avg smape 8.67: \n",
      "Model Number: 35 of 309 with model NVAR for Validation 3\n",
      "35 - NVAR with avg smape 8.67: \n",
      "Model Number: 36 of 309 with model Theta for Validation 3\n",
      "36 - Theta with avg smape 6.99: \n",
      "Model Number: 37 of 309 with model MultivariateMotif for Validation 3\n",
      "37 - MultivariateMotif with avg smape 5.0: \n",
      "Model Number: 38 of 309 with model MultivariateMotif for Validation 3\n",
      "38 - MultivariateMotif with avg smape 4.52: \n",
      "Model Number: 39 of 309 with model AverageValueNaive for Validation 3\n",
      "39 - AverageValueNaive with avg smape 7.0: \n",
      "Model Number: 40 of 309 with model AverageValueNaive for Validation 3\n",
      "40 - AverageValueNaive with avg smape 7.0: \n",
      "Model Number: 41 of 309 with model Theta for Validation 3\n",
      "41 - Theta with avg smape 6.99: \n",
      "Model Number: 42 of 309 with model Theta for Validation 3\n",
      "42 - Theta with avg smape 6.99: \n",
      "Model Number: 43 of 309 with model Theta for Validation 3\n",
      "43 - Theta with avg smape 6.99: \n",
      "Model Number: 44 of 309 with model Theta for Validation 3\n",
      "44 - Theta with avg smape 7.04: \n",
      "Model Number: 45 of 309 with model Theta for Validation 3\n",
      "45 - Theta with avg smape 7.04: \n",
      "Model Number: 46 of 309 with model Theta for Validation 3\n",
      "46 - Theta with avg smape 7.03: \n",
      "Model Number: 47 of 309 with model AverageValueNaive for Validation 3\n",
      "47 - AverageValueNaive with avg smape 5.78: \n",
      "Model Number: 48 of 309 with model Theta for Validation 3\n",
      "48 - Theta with avg smape 7.03: \n",
      "Model Number: 49 of 309 with model Theta for Validation 3\n",
      "49 - Theta with avg smape 7.03: \n",
      "Model Number: 50 of 309 with model Theta for Validation 3\n",
      "50 - Theta with avg smape 7.03: \n",
      "Model Number: 51 of 309 with model AverageValueNaive for Validation 3\n",
      "51 - AverageValueNaive with avg smape 6.87: \n",
      "Model Number: 52 of 309 with model AverageValueNaive for Validation 3\n",
      "52 - AverageValueNaive with avg smape 7.0: \n",
      "Model Number: 53 of 309 with model AverageValueNaive for Validation 3\n",
      "53 - AverageValueNaive with avg smape 7.0: \n",
      "Model Number: 54 of 309 with model NVAR for Validation 3\n",
      "54 - NVAR with avg smape 7.7: \n",
      "Model Number: 55 of 309 with model NVAR for Validation 3\n",
      "55 - NVAR with avg smape 8.81: \n",
      "Model Number: 56 of 309 with model NVAR for Validation 3\n",
      "56 - NVAR with avg smape 8.8: \n",
      "Model Number: 57 of 309 with model Theta for Validation 3\n",
      "57 - Theta with avg smape 7.03: \n",
      "Model Number: 58 of 309 with model Theta for Validation 3\n",
      "58 - Theta with avg smape 7.03: \n",
      "Model Number: 59 of 309 with model MultivariateMotif for Validation 3\n",
      "59 - MultivariateMotif with avg smape 4.68: \n",
      "Model Number: 60 of 309 with model AverageValueNaive for Validation 3\n",
      "60 - AverageValueNaive with avg smape 7.04: \n",
      "Model Number: 61 of 309 with model MultivariateMotif for Validation 3\n",
      "📈 61 - MultivariateMotif with avg smape 4.21: \n",
      "Model Number: 62 of 309 with model Theta for Validation 3\n",
      "62 - Theta with avg smape 7.45: \n",
      "Model Number: 63 of 309 with model LastValueNaive for Validation 3\n",
      "63 - LastValueNaive with avg smape 7.03: \n",
      "Model Number: 64 of 309 with model MultivariateMotif for Validation 3\n",
      "📈 64 - MultivariateMotif with avg smape 4.12: \n",
      "Model Number: 65 of 309 with model ARIMA for Validation 3\n",
      "65 - ARIMA with avg smape 6.97: \n",
      "Model Number: 66 of 309 with model ARIMA for Validation 3\n",
      "66 - ARIMA with avg smape 7.07: \n",
      "Model Number: 67 of 309 with model AverageValueNaive for Validation 3\n",
      "67 - AverageValueNaive with avg smape 7.03: \n",
      "Model Number: 68 of 309 with model AverageValueNaive for Validation 3\n",
      "68 - AverageValueNaive with avg smape 7.03: \n",
      "Model Number: 69 of 309 with model UnobservedComponents for Validation 3\n",
      "69 - UnobservedComponents with avg smape 6.99: \n",
      "Model Number: 70 of 309 with model ARIMA for Validation 3\n",
      "70 - ARIMA with avg smape 7.8: \n",
      "Model Number: 71 of 309 with model AverageValueNaive for Validation 3\n",
      "71 - AverageValueNaive with avg smape 7.79: \n",
      "Model Number: 72 of 309 with model ARDL for Validation 3\n",
      "📈 72 - ARDL with avg smape 3.54: \n",
      "Model Number: 73 of 309 with model ARDL for Validation 3\n",
      "73 - ARDL with avg smape 3.54: \n",
      "Model Number: 74 of 309 with model ARDL for Validation 3\n",
      "74 - ARDL with avg smape 6.46: \n",
      "Model Number: 75 of 309 with model ARIMA for Validation 3\n",
      "75 - ARIMA with avg smape 7.39: \n",
      "Model Number: 76 of 309 with model ARIMA for Validation 3\n",
      "76 - ARIMA with avg smape 7.41: \n",
      "Model Number: 77 of 309 with model UnobservedComponents for Validation 3\n",
      "77 - UnobservedComponents with avg smape 6.64: \n",
      "Model Number: 78 of 309 with model UnobservedComponents for Validation 3\n",
      "78 - UnobservedComponents with avg smape 5.69: \n",
      "Model Number: 79 of 309 with model UnobservedComponents for Validation 3\n",
      "79 - UnobservedComponents with avg smape 5.69: \n",
      "Model Number: 80 of 309 with model NVAR for Validation 3\n",
      "80 - NVAR with avg smape 8.49: \n",
      "Model Number: 81 of 309 with model WindowRegression for Validation 3\n",
      "📈 81 - WindowRegression with avg smape 3.29: \n",
      "Model Number: 82 of 309 with model WindowRegression for Validation 3\n",
      "82 - WindowRegression with avg smape 3.29: \n",
      "Model Number: 83 of 309 with model SeasonalNaive for Validation 3\n",
      "83 - SeasonalNaive with avg smape 8.4: \n",
      "Model Number: 84 of 309 with model ARDL for Validation 3\n",
      "84 - ARDL with avg smape 6.26: \n",
      "Model Number: 85 of 309 with model MultivariateMotif for Validation 3\n",
      "85 - MultivariateMotif with avg smape 4.54: \n",
      "Model Number: 86 of 309 with model LastValueNaive for Validation 3\n",
      "86 - LastValueNaive with avg smape 5.69: \n",
      "Model Number: 87 of 309 with model LastValueNaive for Validation 3\n",
      "87 - LastValueNaive with avg smape 5.69: \n",
      "Model Number: 88 of 309 with model Cassandra for Validation 3\n"
     ]
    },
    {
     "name": "stderr",
     "output_type": "stream",
     "text": [
      "C:\\Users\\moham\\AppData\\Local\\Packages\\PythonSoftwareFoundation.Python.3.12_qbz5n2kfra8p0\\LocalCache\\local-packages\\Python312\\site-packages\\numpy\\lib\\function_base.py:2897: RuntimeWarning: invalid value encountered in divide\n",
      "  c /= stddev[:, None]\n",
      "C:\\Users\\moham\\AppData\\Local\\Packages\\PythonSoftwareFoundation.Python.3.12_qbz5n2kfra8p0\\LocalCache\\local-packages\\Python312\\site-packages\\numpy\\lib\\function_base.py:2898: RuntimeWarning: invalid value encountered in divide\n",
      "  c /= stddev[None, :]\n"
     ]
    },
    {
     "name": "stdout",
     "output_type": "stream",
     "text": [
      "88 - Cassandra with avg smape 5.41: \n",
      "Model Number: 89 of 309 with model LastValueNaive for Validation 3\n",
      "89 - LastValueNaive with avg smape 9.65: \n",
      "Model Number: 90 of 309 with model SeasonalNaive for Validation 3\n",
      "90 - SeasonalNaive with avg smape 9.17: \n",
      "Model Number: 91 of 309 with model SeasonalNaive for Validation 3\n",
      "91 - SeasonalNaive with avg smape 6.36: \n",
      "Model Number: 92 of 309 with model SeasonalNaive for Validation 3\n",
      "92 - SeasonalNaive with avg smape 7.43: \n",
      "Model Number: 93 of 309 with model MultivariateMotif for Validation 3\n",
      "93 - MultivariateMotif with avg smape 10.59: \n",
      "Model Number: 94 of 309 with model ConstantNaive for Validation 3\n",
      "94 - ConstantNaive with avg smape 5.71: \n",
      "Model Number: 95 of 309 with model ConstantNaive for Validation 3\n",
      "95 - ConstantNaive with avg smape 5.69: \n",
      "Model Number: 96 of 309 with model ConstantNaive for Validation 3\n",
      "96 - ConstantNaive with avg smape 5.69: \n",
      "Model Number: 97 of 309 with model ConstantNaive for Validation 3\n",
      "97 - ConstantNaive with avg smape 5.69: \n",
      "Model Number: 98 of 309 with model ConstantNaive for Validation 3\n",
      "98 - ConstantNaive with avg smape 5.69: \n",
      "Model Number: 99 of 309 with model LastValueNaive for Validation 3\n"
     ]
    },
    {
     "name": "stderr",
     "output_type": "stream",
     "text": [
      "C:\\Users\\moham\\AppData\\Local\\Packages\\PythonSoftwareFoundation.Python.3.12_qbz5n2kfra8p0\\LocalCache\\local-packages\\Python312\\site-packages\\sklearn\\neighbors\\_classification.py:238: DataConversionWarning: A column-vector y was passed when a 1d array was expected. Please change the shape of y to (n_samples,), for example using ravel().\n",
      "  return self._fit(X, y)\n"
     ]
    },
    {
     "name": "stdout",
     "output_type": "stream",
     "text": [
      "99 - LastValueNaive with avg smape 7.04: \n",
      "Model Number: 100 of 309 with model LastValueNaive for Validation 3\n",
      "100 - LastValueNaive with avg smape 7.04: \n",
      "Model Number: 101 of 309 with model LastValueNaive for Validation 3\n",
      "101 - LastValueNaive with avg smape 7.04: \n",
      "Model Number: 102 of 309 with model ARDL for Validation 3\n",
      "102 - ARDL with avg smape 3.54: \n",
      "Model Number: 103 of 309 with model NVAR for Validation 3\n",
      "103 - NVAR with avg smape 8.25: \n",
      "Model Number: 104 of 309 with model NVAR for Validation 3\n",
      "104 - NVAR with avg smape 8.25: \n",
      "Model Number: 105 of 309 with model MultivariateMotif for Validation 3\n",
      "105 - MultivariateMotif with avg smape 4.5: \n",
      "Model Number: 106 of 309 with model Cassandra for Validation 3\n"
     ]
    },
    {
     "name": "stderr",
     "output_type": "stream",
     "text": [
      "C:\\Users\\moham\\AppData\\Local\\Packages\\PythonSoftwareFoundation.Python.3.12_qbz5n2kfra8p0\\LocalCache\\local-packages\\Python312\\site-packages\\autots\\tools\\thresholding.py:204: RuntimeWarning: overflow encountered in scalar power\n",
      "  (1 + mean_perc_decrease) ** self.mean_weight\n",
      "C:\\Users\\moham\\AppData\\Local\\Packages\\PythonSoftwareFoundation.Python.3.12_qbz5n2kfra8p0\\LocalCache\\local-packages\\Python312\\site-packages\\numpy\\lib\\function_base.py:2897: RuntimeWarning: invalid value encountered in divide\n",
      "  c /= stddev[:, None]\n",
      "C:\\Users\\moham\\AppData\\Local\\Packages\\PythonSoftwareFoundation.Python.3.12_qbz5n2kfra8p0\\LocalCache\\local-packages\\Python312\\site-packages\\numpy\\lib\\function_base.py:2898: RuntimeWarning: invalid value encountered in divide\n",
      "  c /= stddev[None, :]\n"
     ]
    },
    {
     "name": "stdout",
     "output_type": "stream",
     "text": [
      "106 - Cassandra with avg smape 3.98: \n",
      "Model Number: 107 of 309 with model ARIMA for Validation 3\n",
      "107 - ARIMA with avg smape 6.49: \n",
      "Model Number: 108 of 309 with model MultivariateMotif for Validation 3\n",
      "108 - MultivariateMotif with avg smape 4.54: \n",
      "Model Number: 109 of 309 with model MultivariateRegression for Validation 3\n",
      "109 - MultivariateRegression with avg smape 3.83: \n",
      "Model Number: 110 of 309 with model LastValueNaive for Validation 3\n",
      "110 - LastValueNaive with avg smape 7.4: \n",
      "Model Number: 111 of 309 with model ARDL for Validation 3\n",
      "111 - ARDL with avg smape 5.05: \n",
      "Model Number: 112 of 309 with model ARIMA for Validation 3\n",
      "112 - ARIMA with avg smape 4.16: \n",
      "Model Number: 113 of 309 with model WindowRegression for Validation 3\n",
      "113 - WindowRegression with avg smape 3.29: \n",
      "Model Number: 114 of 309 with model SeasonalNaive for Validation 3\n",
      "114 - SeasonalNaive with avg smape 9.9: \n",
      "Model Number: 115 of 309 with model ARIMA for Validation 3\n",
      "115 - ARIMA with avg smape 3.53: \n",
      "Model Number: 116 of 309 with model MetricMotif for Validation 3\n",
      "📈 116 - MetricMotif with avg smape 3.07: \n",
      "Model Number: 117 of 309 with model WindowRegression for Validation 3\n",
      "117 - WindowRegression with avg smape 3.33: \n",
      "Model Number: 118 of 309 with model MultivariateRegression for Validation 3\n",
      "118 - MultivariateRegression with avg smape 3.85: \n",
      "Model Number: 119 of 309 with model UnobservedComponents for Validation 3\n",
      "119 - UnobservedComponents with avg smape 5.75: \n",
      "Model Number: 120 of 309 with model SeasonalNaive for Validation 3\n",
      "120 - SeasonalNaive with avg smape 10.7: \n",
      "Model Number: 121 of 309 with model ARIMA for Validation 3\n"
     ]
    },
    {
     "name": "stderr",
     "output_type": "stream",
     "text": [
      "C:\\Users\\moham\\AppData\\Local\\Packages\\PythonSoftwareFoundation.Python.3.12_qbz5n2kfra8p0\\LocalCache\\local-packages\\Python312\\site-packages\\sklearn\\neighbors\\_classification.py:238: DataConversionWarning: A column-vector y was passed when a 1d array was expected. Please change the shape of y to (n_samples,), for example using ravel().\n",
      "  return self._fit(X, y)\n"
     ]
    },
    {
     "name": "stdout",
     "output_type": "stream",
     "text": [
      "121 - ARIMA with avg smape 4.43: \n",
      "Model Number: 122 of 309 with model ARIMA for Validation 3\n",
      "122 - ARIMA with avg smape 5.24: \n",
      "Model Number: 123 of 309 with model Cassandra for Validation 3\n"
     ]
    },
    {
     "name": "stderr",
     "output_type": "stream",
     "text": [
      "C:\\Users\\moham\\AppData\\Local\\Packages\\PythonSoftwareFoundation.Python.3.12_qbz5n2kfra8p0\\LocalCache\\local-packages\\Python312\\site-packages\\numpy\\lib\\function_base.py:2897: RuntimeWarning: invalid value encountered in divide\n",
      "  c /= stddev[:, None]\n",
      "C:\\Users\\moham\\AppData\\Local\\Packages\\PythonSoftwareFoundation.Python.3.12_qbz5n2kfra8p0\\LocalCache\\local-packages\\Python312\\site-packages\\numpy\\lib\\function_base.py:2898: RuntimeWarning: invalid value encountered in divide\n",
      "  c /= stddev[None, :]\n"
     ]
    },
    {
     "name": "stdout",
     "output_type": "stream",
     "text": [
      "123 - Cassandra with avg smape 4.93: \n",
      "Model Number: 124 of 309 with model ARIMA for Validation 3\n",
      "124 - ARIMA with avg smape 4.27: \n",
      "Model Number: 125 of 309 with model ARIMA for Validation 3\n",
      "125 - ARIMA with avg smape 5.4: \n",
      "Model Number: 126 of 309 with model ARIMA for Validation 3\n",
      "126 - ARIMA with avg smape 5.49: \n",
      "Model Number: 127 of 309 with model UnobservedComponents for Validation 3\n",
      "127 - UnobservedComponents with avg smape 6.65: \n",
      "Model Number: 128 of 309 with model MetricMotif for Validation 3\n",
      "128 - MetricMotif with avg smape 3.46: \n",
      "Model Number: 129 of 309 with model DMD for Validation 3\n",
      "129 - DMD with avg smape 3.54: \n",
      "Model Number: 130 of 309 with model UnobservedComponents for Validation 3\n",
      "130 - UnobservedComponents with avg smape 4.7: \n",
      "Model Number: 131 of 309 with model MultivariateRegression for Validation 3\n",
      "131 - MultivariateRegression with avg smape 4.02: \n",
      "Model Number: 132 of 309 with model Cassandra for Validation 3\n"
     ]
    },
    {
     "name": "stderr",
     "output_type": "stream",
     "text": [
      "C:\\Users\\moham\\AppData\\Local\\Packages\\PythonSoftwareFoundation.Python.3.12_qbz5n2kfra8p0\\LocalCache\\local-packages\\Python312\\site-packages\\numpy\\lib\\function_base.py:2897: RuntimeWarning: invalid value encountered in divide\n",
      "  c /= stddev[:, None]\n",
      "C:\\Users\\moham\\AppData\\Local\\Packages\\PythonSoftwareFoundation.Python.3.12_qbz5n2kfra8p0\\LocalCache\\local-packages\\Python312\\site-packages\\numpy\\lib\\function_base.py:2898: RuntimeWarning: invalid value encountered in divide\n",
      "  c /= stddev[None, :]\n"
     ]
    },
    {
     "name": "stdout",
     "output_type": "stream",
     "text": [
      "132 - Cassandra with avg smape 4.48: \n",
      "Model Number: 133 of 309 with model MetricMotif for Validation 3\n",
      "133 - MetricMotif with avg smape 3.49: \n",
      "Model Number: 134 of 309 with model WindowRegression for Validation 3\n",
      "134 - WindowRegression with avg smape 3.29: \n",
      "Model Number: 135 of 309 with model Cassandra for Validation 3\n"
     ]
    },
    {
     "name": "stderr",
     "output_type": "stream",
     "text": [
      "C:\\Users\\moham\\AppData\\Local\\Packages\\PythonSoftwareFoundation.Python.3.12_qbz5n2kfra8p0\\LocalCache\\local-packages\\Python312\\site-packages\\numpy\\lib\\function_base.py:2897: RuntimeWarning: invalid value encountered in divide\n",
      "  c /= stddev[:, None]\n",
      "C:\\Users\\moham\\AppData\\Local\\Packages\\PythonSoftwareFoundation.Python.3.12_qbz5n2kfra8p0\\LocalCache\\local-packages\\Python312\\site-packages\\numpy\\lib\\function_base.py:2898: RuntimeWarning: invalid value encountered in divide\n",
      "  c /= stddev[None, :]\n"
     ]
    },
    {
     "name": "stdout",
     "output_type": "stream",
     "text": [
      "135 - Cassandra with avg smape 3.68: \n",
      "Model Number: 136 of 309 with model MultivariateRegression for Validation 3\n",
      "136 - MultivariateRegression with avg smape 3.82: \n",
      "Model Number: 137 of 309 with model UnobservedComponents for Validation 3\n",
      "137 - UnobservedComponents with avg smape 4.33: \n",
      "Model Number: 138 of 309 with model WindowRegression for Validation 3\n",
      "138 - WindowRegression with avg smape 3.5: \n",
      "Model Number: 139 of 309 with model WindowRegression for Validation 3\n",
      "139 - WindowRegression with avg smape 3.5: \n",
      "Model Number: 140 of 309 with model SeasonalNaive for Validation 3\n",
      "140 - SeasonalNaive with avg smape 7.77: \n",
      "Model Number: 141 of 309 with model DMD for Validation 3\n",
      "141 - DMD with avg smape 4.01: \n",
      "Model Number: 142 of 309 with model SeasonalNaive for Validation 3\n",
      "142 - SeasonalNaive with avg smape 5.73: \n",
      "Model Number: 143 of 309 with model UnobservedComponents for Validation 3\n",
      "143 - UnobservedComponents with avg smape 7.27: \n",
      "Model Number: 144 of 309 with model UnobservedComponents for Validation 3\n",
      "144 - UnobservedComponents with avg smape 7.27: \n",
      "Model Number: 145 of 309 with model LastValueNaive for Validation 3\n",
      "145 - LastValueNaive with avg smape 8.76: \n",
      "Model Number: 146 of 309 with model MultivariateRegression for Validation 3\n",
      "146 - MultivariateRegression with avg smape 4.8: \n",
      "Model Number: 147 of 309 with model DMD for Validation 3\n",
      "147 - DMD with avg smape 3.53: \n",
      "Model Number: 148 of 309 with model SeasonalNaive for Validation 3\n",
      "148 - SeasonalNaive with avg smape 5.79: \n",
      "Model Number: 149 of 309 with model WindowRegression for Validation 3\n",
      "149 - WindowRegression with avg smape 4.83: \n",
      "Model Number: 150 of 309 with model WindowRegression for Validation 3\n",
      "150 - WindowRegression with avg smape 3.81: \n",
      "Model Number: 151 of 309 with model SeasonalNaive for Validation 3\n",
      "151 - SeasonalNaive with avg smape 5.15: \n",
      "Model Number: 152 of 309 with model SeasonalNaive for Validation 3\n",
      "152 - SeasonalNaive with avg smape 5.8: \n",
      "Model Number: 153 of 309 with model SeasonalNaive for Validation 3\n",
      "153 - SeasonalNaive with avg smape 9.09: \n",
      "Model Number: 154 of 309 with model DMD for Validation 3\n",
      "154 - DMD with avg smape 3.54: \n",
      "Model Number: 155 of 309 with model Cassandra for Validation 3\n",
      "155 - Cassandra with avg smape 5.73: \n",
      "Model Number: 156 of 309 with model ARDL for Validation 3\n"
     ]
    },
    {
     "name": "stderr",
     "output_type": "stream",
     "text": [
      "C:\\Users\\moham\\AppData\\Local\\Packages\\PythonSoftwareFoundation.Python.3.12_qbz5n2kfra8p0\\LocalCache\\local-packages\\Python312\\site-packages\\numpy\\lib\\function_base.py:2897: RuntimeWarning: invalid value encountered in divide\n",
      "  c /= stddev[:, None]\n",
      "C:\\Users\\moham\\AppData\\Local\\Packages\\PythonSoftwareFoundation.Python.3.12_qbz5n2kfra8p0\\LocalCache\\local-packages\\Python312\\site-packages\\numpy\\lib\\function_base.py:2898: RuntimeWarning: invalid value encountered in divide\n",
      "  c /= stddev[None, :]\n"
     ]
    },
    {
     "name": "stdout",
     "output_type": "stream",
     "text": [
      "156 - ARDL with avg smape 5.84: \n",
      "Model Number: 157 of 309 with model WindowRegression for Validation 3\n",
      "157 - WindowRegression with avg smape 3.67: \n",
      "Model Number: 158 of 309 with model MultivariateRegression for Validation 3\n",
      "158 - MultivariateRegression with avg smape 3.78: \n",
      "Model Number: 159 of 309 with model WindowRegression for Validation 3\n",
      "159 - WindowRegression with avg smape 4.01: \n",
      "Model Number: 160 of 309 with model WindowRegression for Validation 3\n",
      "160 - WindowRegression with avg smape 4.1: \n",
      "Model Number: 161 of 309 with model MultivariateRegression for Validation 3\n",
      "161 - MultivariateRegression with avg smape 3.78: \n",
      "Model Number: 162 of 309 with model MultivariateRegression for Validation 3\n",
      "162 - MultivariateRegression with avg smape 3.75: \n",
      "Model Number: 163 of 309 with model SeasonalityMotif for Validation 3\n",
      "📈 163 - SeasonalityMotif with avg smape 2.56: \n",
      "Model Number: 164 of 309 with model MultivariateRegression for Validation 3\n",
      "164 - MultivariateRegression with avg smape 7.88: \n",
      "Model Number: 165 of 309 with model ARDL for Validation 3\n",
      "165 - ARDL with avg smape 9.23: \n",
      "Model Number: 166 of 309 with model ARDL for Validation 3\n",
      "166 - ARDL with avg smape 3.53: \n",
      "Model Number: 167 of 309 with model MultivariateRegression for Validation 3\n",
      "167 - MultivariateRegression with avg smape 6.97: \n",
      "Model Number: 168 of 309 with model DMD for Validation 3\n",
      "168 - DMD with avg smape 6.98: \n",
      "Model Number: 169 of 309 with model SeasonalNaive for Validation 3\n",
      "169 - SeasonalNaive with avg smape 5.06: \n",
      "Model Number: 170 of 309 with model DMD for Validation 3\n",
      "170 - DMD with avg smape 6.98: \n",
      "Model Number: 171 of 309 with model DMD for Validation 3\n",
      "171 - DMD with avg smape 6.45: \n",
      "Model Number: 172 of 309 with model DMD for Validation 3\n",
      "172 - DMD with avg smape 4.1: \n",
      "Model Number: 173 of 309 with model DMD for Validation 3\n",
      "173 - DMD with avg smape 4.05: \n",
      "Model Number: 174 of 309 with model WindowRegression for Validation 3\n",
      "174 - WindowRegression with avg smape 3.44: \n",
      "Model Number: 175 of 309 with model ARDL for Validation 3\n",
      "175 - ARDL with avg smape 3.52: \n",
      "Model Number: 176 of 309 with model MultivariateRegression for Validation 3\n",
      "176 - MultivariateRegression with avg smape 3.85: \n",
      "Model Number: 177 of 309 with model DMD for Validation 3\n",
      "177 - DMD with avg smape 9.55: \n",
      "Model Number: 178 of 309 with model MultivariateRegression for Validation 3\n",
      "178 - MultivariateRegression with avg smape 5.59: \n",
      "Model Number: 179 of 309 with model UnobservedComponents for Validation 3\n",
      "179 - UnobservedComponents with avg smape 5.69: \n",
      "Model Number: 180 of 309 with model Cassandra for Validation 3\n"
     ]
    },
    {
     "name": "stderr",
     "output_type": "stream",
     "text": [
      "C:\\Users\\moham\\AppData\\Local\\Packages\\PythonSoftwareFoundation.Python.3.12_qbz5n2kfra8p0\\LocalCache\\local-packages\\Python312\\site-packages\\numpy\\lib\\function_base.py:2897: RuntimeWarning: invalid value encountered in divide\n",
      "  c /= stddev[:, None]\n",
      "C:\\Users\\moham\\AppData\\Local\\Packages\\PythonSoftwareFoundation.Python.3.12_qbz5n2kfra8p0\\LocalCache\\local-packages\\Python312\\site-packages\\numpy\\lib\\function_base.py:2898: RuntimeWarning: invalid value encountered in divide\n",
      "  c /= stddev[None, :]\n"
     ]
    },
    {
     "name": "stdout",
     "output_type": "stream",
     "text": [
      "180 - Cassandra with avg smape 3.82: \n",
      "Model Number: 181 of 309 with model DMD for Validation 3\n",
      "181 - DMD with avg smape 4.81: \n",
      "Model Number: 182 of 309 with model Cassandra for Validation 3\n",
      "182 - Cassandra with avg smape 3.73: \n",
      "Model Number: 183 of 309 with model Cassandra for Validation 3\n"
     ]
    },
    {
     "name": "stderr",
     "output_type": "stream",
     "text": [
      "C:\\Users\\moham\\AppData\\Local\\Packages\\PythonSoftwareFoundation.Python.3.12_qbz5n2kfra8p0\\LocalCache\\local-packages\\Python312\\site-packages\\numpy\\lib\\function_base.py:2897: RuntimeWarning: invalid value encountered in divide\n",
      "  c /= stddev[:, None]\n",
      "C:\\Users\\moham\\AppData\\Local\\Packages\\PythonSoftwareFoundation.Python.3.12_qbz5n2kfra8p0\\LocalCache\\local-packages\\Python312\\site-packages\\numpy\\lib\\function_base.py:2898: RuntimeWarning: invalid value encountered in divide\n",
      "  c /= stddev[None, :]\n",
      "C:\\Users\\moham\\AppData\\Local\\Packages\\PythonSoftwareFoundation.Python.3.12_qbz5n2kfra8p0\\LocalCache\\local-packages\\Python312\\site-packages\\numpy\\lib\\function_base.py:2897: RuntimeWarning: invalid value encountered in divide\n",
      "  c /= stddev[:, None]\n",
      "C:\\Users\\moham\\AppData\\Local\\Packages\\PythonSoftwareFoundation.Python.3.12_qbz5n2kfra8p0\\LocalCache\\local-packages\\Python312\\site-packages\\numpy\\lib\\function_base.py:2898: RuntimeWarning: invalid value encountered in divide\n",
      "  c /= stddev[None, :]\n"
     ]
    },
    {
     "name": "stdout",
     "output_type": "stream",
     "text": [
      "183 - Cassandra with avg smape 4.29: \n",
      "Model Number: 184 of 309 with model DMD for Validation 3\n",
      "184 - DMD with avg smape 9.32: \n",
      "Model Number: 185 of 309 with model MultivariateRegression for Validation 3\n",
      "185 - MultivariateRegression with avg smape 5.49: \n",
      "Model Number: 186 of 309 with model UnobservedComponents for Validation 3\n",
      "186 - UnobservedComponents with avg smape 4.15: \n",
      "Model Number: 187 of 309 with model UnobservedComponents for Validation 3\n",
      "187 - UnobservedComponents with avg smape 5.52: \n",
      "Model Number: 188 of 309 with model ARDL for Validation 3\n",
      "188 - ARDL with avg smape 5.66: \n",
      "Model Number: 189 of 309 with model Cassandra for Validation 3\n",
      "189 - Cassandra with avg smape 9.04: \n",
      "Model Number: 190 of 309 with model LastValueNaive for Validation 3\n",
      "190 - LastValueNaive with avg smape 5.69: \n",
      "Model Number: 191 of 309 with model DMD for Validation 3\n",
      "191 - DMD with avg smape 7.54: \n",
      "Model Number: 192 of 309 with model LastValueNaive for Validation 3\n",
      "192 - LastValueNaive with avg smape 5.72: \n",
      "Model Number: 193 of 309 with model SeasonalityMotif for Validation 3\n"
     ]
    },
    {
     "name": "stderr",
     "output_type": "stream",
     "text": [
      "C:\\Users\\moham\\AppData\\Local\\Packages\\PythonSoftwareFoundation.Python.3.12_qbz5n2kfra8p0\\LocalCache\\local-packages\\Python312\\site-packages\\numpy\\lib\\function_base.py:2897: RuntimeWarning: invalid value encountered in divide\n",
      "  c /= stddev[:, None]\n",
      "C:\\Users\\moham\\AppData\\Local\\Packages\\PythonSoftwareFoundation.Python.3.12_qbz5n2kfra8p0\\LocalCache\\local-packages\\Python312\\site-packages\\numpy\\lib\\function_base.py:2898: RuntimeWarning: invalid value encountered in divide\n",
      "  c /= stddev[None, :]\n",
      "C:\\Users\\moham\\AppData\\Local\\Packages\\PythonSoftwareFoundation.Python.3.12_qbz5n2kfra8p0\\LocalCache\\local-packages\\Python312\\site-packages\\sklearn\\linear_model\\_ridge.py:204: LinAlgWarning: Ill-conditioned matrix (rcond=5.89001e-25): result may not be accurate.\n",
      "  return linalg.solve(A, Xy, assume_a=\"pos\", overwrite_a=True).T\n"
     ]
    },
    {
     "name": "stdout",
     "output_type": "stream",
     "text": [
      "193 - SeasonalityMotif with avg smape 7.62: \n",
      "Model Number: 194 of 309 with model ARDL for Validation 3\n",
      "194 - ARDL with avg smape 8.79: \n",
      "Model Number: 195 of 309 with model LastValueNaive for Validation 3\n",
      "195 - LastValueNaive with avg smape 4.93: \n",
      "Model Number: 196 of 309 with model ARDL for Validation 3\n",
      "Template Eval Error: Exception(\"Transformer LocalLinearTrend failed on fit from params cubic {'0': {'rolling_window': 360, 'n_tails': 0.1, 'n_future': 0.2, 'method': 'median', 'macro_micro': True}, '1': {'threshold': 0.8, 'splash_threshold': None, 'use_dayofmonth_holidays': True, 'use_wkdom_holidays': True, 'use_wkdeom_holidays': False, 'use_lunar_holidays': False, 'use_lunar_weekday': False, 'use_islamic_holidays': False, 'use_hebrew_holidays': False, 'anomaly_detector_params': {'method': 'IQR', 'method_params': {'iqr_threshold': 2.0, 'iqr_quantiles': [0.25, 0.75]}, 'fillna': 'ffill', 'transform_dict': None, 'isolated_only': False}, 'remove_excess_anomalies': True, 'impact': 'anomaly_score', 'regression_params': {}}}\") in model 196 in generation 0: ARDL\n",
      "Model Number: 197 of 309 with model LastValueNaive for Validation 3\n",
      "197 - LastValueNaive with avg smape 4.15: \n",
      "Model Number: 198 of 309 with model Cassandra for Validation 3\n"
     ]
    },
    {
     "name": "stderr",
     "output_type": "stream",
     "text": [
      "C:\\Users\\moham\\AppData\\Local\\Packages\\PythonSoftwareFoundation.Python.3.12_qbz5n2kfra8p0\\LocalCache\\local-packages\\Python312\\site-packages\\numpy\\lib\\function_base.py:2897: RuntimeWarning: invalid value encountered in divide\n",
      "  c /= stddev[:, None]\n",
      "C:\\Users\\moham\\AppData\\Local\\Packages\\PythonSoftwareFoundation.Python.3.12_qbz5n2kfra8p0\\LocalCache\\local-packages\\Python312\\site-packages\\numpy\\lib\\function_base.py:2898: RuntimeWarning: invalid value encountered in divide\n",
      "  c /= stddev[None, :]\n"
     ]
    },
    {
     "name": "stdout",
     "output_type": "stream",
     "text": [
      "198 - Cassandra with avg smape 4.2: \n",
      "Model Number: 199 of 309 with model SeasonalityMotif for Validation 3\n",
      "199 - SeasonalityMotif with avg smape 3.09: \n",
      "Model Number: 200 of 309 with model SeasonalityMotif for Validation 3\n",
      "200 - SeasonalityMotif with avg smape 3.05: \n",
      "Model Number: 201 of 309 with model Cassandra for Validation 3\n",
      "201 - Cassandra with avg smape 3.99: \n",
      "Model Number: 202 of 309 with model MetricMotif for Validation 3\n",
      "202 - MetricMotif with avg smape 3.46: \n",
      "Model Number: 203 of 309 with model MetricMotif for Validation 3\n",
      "203 - MetricMotif with avg smape 3.89: \n",
      "Model Number: 204 of 309 with model SeasonalityMotif for Validation 3\n"
     ]
    },
    {
     "name": "stderr",
     "output_type": "stream",
     "text": [
      "C:\\Users\\moham\\AppData\\Local\\Packages\\PythonSoftwareFoundation.Python.3.12_qbz5n2kfra8p0\\LocalCache\\local-packages\\Python312\\site-packages\\numpy\\lib\\function_base.py:2897: RuntimeWarning: invalid value encountered in divide\n",
      "  c /= stddev[:, None]\n",
      "C:\\Users\\moham\\AppData\\Local\\Packages\\PythonSoftwareFoundation.Python.3.12_qbz5n2kfra8p0\\LocalCache\\local-packages\\Python312\\site-packages\\numpy\\lib\\function_base.py:2898: RuntimeWarning: invalid value encountered in divide\n",
      "  c /= stddev[None, :]\n",
      "C:\\Users\\moham\\AppData\\Local\\Packages\\PythonSoftwareFoundation.Python.3.12_qbz5n2kfra8p0\\LocalCache\\local-packages\\Python312\\site-packages\\numpy\\lib\\function_base.py:2897: RuntimeWarning: invalid value encountered in divide\n",
      "  c /= stddev[:, None]\n",
      "C:\\Users\\moham\\AppData\\Local\\Packages\\PythonSoftwareFoundation.Python.3.12_qbz5n2kfra8p0\\LocalCache\\local-packages\\Python312\\site-packages\\numpy\\lib\\function_base.py:2898: RuntimeWarning: invalid value encountered in divide\n",
      "  c /= stddev[None, :]\n"
     ]
    },
    {
     "name": "stdout",
     "output_type": "stream",
     "text": [
      "204 - SeasonalityMotif with avg smape 8.49: \n",
      "Model Number: 205 of 309 with model Cassandra for Validation 3\n",
      "205 - Cassandra with avg smape 8.9: \n",
      "Model Number: 206 of 309 with model SeasonalityMotif for Validation 3\n",
      "206 - SeasonalityMotif with avg smape 3.15: \n",
      "Model Number: 207 of 309 with model ConstantNaive for Validation 3\n",
      "207 - ConstantNaive with avg smape 5.25: \n",
      "Model Number: 208 of 309 with model ConstantNaive for Validation 3\n",
      "208 - ConstantNaive with avg smape 6.72: \n",
      "Model Number: 209 of 309 with model SeasonalityMotif for Validation 3\n",
      "209 - SeasonalityMotif with avg smape 3.0: \n",
      "Model Number: 210 of 309 with model MetricMotif for Validation 3\n",
      "210 - MetricMotif with avg smape 4.23: \n",
      "Model Number: 211 of 309 with model MetricMotif for Validation 3\n",
      "211 - MetricMotif with avg smape 5.88: \n",
      "Model Number: 212 of 309 with model SeasonalityMotif for Validation 3\n",
      "212 - SeasonalityMotif with avg smape 5.02: \n",
      "Model Number: 213 of 309 with model MetricMotif for Validation 3\n",
      "213 - MetricMotif with avg smape 3.91: \n",
      "Model Number: 214 of 309 with model ConstantNaive for Validation 3\n",
      "214 - ConstantNaive with avg smape 4.44: \n",
      "Model Number: 215 of 309 with model SeasonalityMotif for Validation 3\n",
      "215 - SeasonalityMotif with avg smape 5.76: \n",
      "Model Number: 216 of 309 with model ConstantNaive for Validation 3\n"
     ]
    },
    {
     "name": "stderr",
     "output_type": "stream",
     "text": [
      "C:\\Users\\moham\\AppData\\Local\\Packages\\PythonSoftwareFoundation.Python.3.12_qbz5n2kfra8p0\\LocalCache\\local-packages\\Python312\\site-packages\\autots\\tools\\percentile.py:47: RuntimeWarning: All-NaN slice encountered\n",
      "  max_val = np.nanmax(arr)\n"
     ]
    },
    {
     "name": "stdout",
     "output_type": "stream",
     "text": [
      "216 - ConstantNaive with avg smape 5.02: \n",
      "Model Number: 217 of 309 with model SeasonalityMotif for Validation 3\n",
      "217 - SeasonalityMotif with avg smape 4.94: \n",
      "Model Number: 218 of 309 with model SeasonalityMotif for Validation 3\n",
      "218 - SeasonalityMotif with avg smape 4.63: \n",
      "Model Number: 219 of 309 with model DatepartRegression for Validation 3\n",
      "219 - DatepartRegression with avg smape 4.92: \n",
      "Model Number: 220 of 309 with model ConstantNaive for Validation 3\n",
      "220 - ConstantNaive with avg smape 6.57: \n",
      "Model Number: 221 of 309 with model SeasonalityMotif for Validation 3\n",
      "221 - SeasonalityMotif with avg smape 10.61: \n",
      "Model Number: 222 of 309 with model MetricMotif for Validation 3\n",
      "222 - MetricMotif with avg smape 3.63: \n",
      "Model Number: 223 of 309 with model ConstantNaive for Validation 3\n"
     ]
    },
    {
     "name": "stderr",
     "output_type": "stream",
     "text": [
      "C:\\Users\\moham\\AppData\\Local\\Packages\\PythonSoftwareFoundation.Python.3.12_qbz5n2kfra8p0\\LocalCache\\local-packages\\Python312\\site-packages\\sklearn\\neural_network\\_multilayer_perceptron.py:546: ConvergenceWarning: lbfgs failed to converge (status=1):\n",
      "STOP: TOTAL NO. of ITERATIONS REACHED LIMIT.\n",
      "\n",
      "Increase the number of iterations (max_iter) or scale the data as shown in:\n",
      "    https://scikit-learn.org/stable/modules/preprocessing.html\n",
      "  self.n_iter_ = _check_optimize_result(\"lbfgs\", opt_res, self.max_iter)\n"
     ]
    },
    {
     "name": "stdout",
     "output_type": "stream",
     "text": [
      "223 - ConstantNaive with avg smape 4.29: \n",
      "Model Number: 224 of 309 with model ConstantNaive for Validation 3\n",
      "224 - ConstantNaive with avg smape 4.29: \n",
      "Model Number: 225 of 309 with model SeasonalityMotif for Validation 3\n",
      "225 - SeasonalityMotif with avg smape 4.98: \n",
      "Model Number: 226 of 309 with model DatepartRegression for Validation 3\n",
      "226 - DatepartRegression with avg smape 5.48: \n",
      "Model Number: 227 of 309 with model GLS for Validation 3\n",
      "227 - GLS with avg smape 3.89: \n",
      "Model Number: 228 of 309 with model ConstantNaive for Validation 3\n",
      "228 - ConstantNaive with avg smape 4.88: \n",
      "Model Number: 229 of 309 with model DatepartRegression for Validation 3\n",
      "229 - DatepartRegression with avg smape 4.44: \n",
      "Model Number: 230 of 309 with model DatepartRegression for Validation 3\n",
      "230 - DatepartRegression with avg smape 4.44: \n",
      "Model Number: 231 of 309 with model DatepartRegression for Validation 3\n",
      "231 - DatepartRegression with avg smape 4.44: \n",
      "Model Number: 232 of 309 with model GLS for Validation 3\n",
      "232 - GLS with avg smape 4.29: \n",
      "Model Number: 233 of 309 with model GLS for Validation 3\n",
      "233 - GLS with avg smape 4.29: \n",
      "Model Number: 234 of 309 with model MetricMotif for Validation 3\n",
      "234 - MetricMotif with avg smape 9.4: \n",
      "Model Number: 235 of 309 with model GLS for Validation 3\n",
      "235 - GLS with avg smape 3.92: \n",
      "Model Number: 236 of 309 with model MetricMotif for Validation 3\n",
      "236 - MetricMotif with avg smape 7.27: \n",
      "Model Number: 237 of 309 with model MetricMotif for Validation 3\n",
      "237 - MetricMotif with avg smape 7.78: \n",
      "Model Number: 238 of 309 with model MetricMotif for Validation 3\n",
      "238 - MetricMotif with avg smape 58.49: \n",
      "Model Number: 239 of 309 with model DatepartRegression for Validation 3\n",
      "239 - DatepartRegression with avg smape 6.66: \n",
      "Model Number: 240 of 309 with model GLS for Validation 3\n",
      "240 - GLS with avg smape 6.16: \n",
      "Model Number: 241 of 309 with model RRVAR for Validation 3\n",
      "241 - RRVAR with avg smape 5.63: \n",
      "Model Number: 242 of 309 with model GLS for Validation 3\n"
     ]
    },
    {
     "name": "stderr",
     "output_type": "stream",
     "text": [
      "C:\\Users\\moham\\AppData\\Local\\Packages\\PythonSoftwareFoundation.Python.3.12_qbz5n2kfra8p0\\LocalCache\\local-packages\\Python312\\site-packages\\sklearn\\neural_network\\_multilayer_perceptron.py:546: ConvergenceWarning: lbfgs failed to converge (status=1):\n",
      "STOP: TOTAL NO. of ITERATIONS REACHED LIMIT.\n",
      "\n",
      "Increase the number of iterations (max_iter) or scale the data as shown in:\n",
      "    https://scikit-learn.org/stable/modules/preprocessing.html\n",
      "  self.n_iter_ = _check_optimize_result(\"lbfgs\", opt_res, self.max_iter)\n"
     ]
    },
    {
     "name": "stdout",
     "output_type": "stream",
     "text": [
      "242 - GLS with avg smape 6.17: \n",
      "Model Number: 243 of 309 with model DatepartRegression for Validation 3\n",
      "243 - DatepartRegression with avg smape 6.43: \n",
      "Model Number: 244 of 309 with model DatepartRegression for Validation 3\n"
     ]
    },
    {
     "name": "stderr",
     "output_type": "stream",
     "text": [
      "C:\\Users\\moham\\AppData\\Local\\Packages\\PythonSoftwareFoundation.Python.3.12_qbz5n2kfra8p0\\LocalCache\\local-packages\\Python312\\site-packages\\sklearn\\neural_network\\_multilayer_perceptron.py:546: ConvergenceWarning: lbfgs failed to converge (status=1):\n",
      "STOP: TOTAL NO. of ITERATIONS REACHED LIMIT.\n",
      "\n",
      "Increase the number of iterations (max_iter) or scale the data as shown in:\n",
      "    https://scikit-learn.org/stable/modules/preprocessing.html\n",
      "  self.n_iter_ = _check_optimize_result(\"lbfgs\", opt_res, self.max_iter)\n"
     ]
    },
    {
     "name": "stdout",
     "output_type": "stream",
     "text": [
      "244 - DatepartRegression with avg smape 4.6: \n",
      "Model Number: 245 of 309 with model GLS for Validation 3\n",
      "245 - GLS with avg smape 3.49: \n",
      "Model Number: 246 of 309 with model ETS for Validation 3\n",
      "246 - ETS with avg smape 4.72: \n",
      "Model Number: 247 of 309 with model DatepartRegression for Validation 3\n",
      "247 - DatepartRegression with avg smape 5.48: \n",
      "Model Number: 248 of 309 with model GLS for Validation 3\n",
      "248 - GLS with avg smape 3.49: \n",
      "Model Number: 249 of 309 with model RRVAR for Validation 3\n",
      "249 - RRVAR with avg smape 3.93: \n",
      "Model Number: 250 of 309 with model GLS for Validation 3\n",
      "250 - GLS with avg smape 5.75: \n",
      "Model Number: 251 of 309 with model RRVAR for Validation 3\n",
      "251 - RRVAR with avg smape 3.86: \n",
      "Model Number: 252 of 309 with model RRVAR for Validation 3\n",
      "252 - RRVAR with avg smape 3.86: \n",
      "Model Number: 253 of 309 with model DatepartRegression for Validation 3\n",
      "253 - DatepartRegression with avg smape 6.18: \n",
      "Model Number: 254 of 309 with model RRVAR for Validation 3\n",
      "254 - RRVAR with avg smape 4.26: \n",
      "Model Number: 255 of 309 with model RRVAR for Validation 3\n",
      "255 - RRVAR with avg smape 4.26: \n",
      "Model Number: 256 of 309 with model GLS for Validation 3\n"
     ]
    },
    {
     "name": "stderr",
     "output_type": "stream",
     "text": [
      "C:\\Users\\moham\\AppData\\Local\\Packages\\PythonSoftwareFoundation.Python.3.12_qbz5n2kfra8p0\\LocalCache\\local-packages\\Python312\\site-packages\\sklearn\\neural_network\\_multilayer_perceptron.py:546: ConvergenceWarning: lbfgs failed to converge (status=1):\n",
      "STOP: TOTAL NO. of ITERATIONS REACHED LIMIT.\n",
      "\n",
      "Increase the number of iterations (max_iter) or scale the data as shown in:\n",
      "    https://scikit-learn.org/stable/modules/preprocessing.html\n",
      "  self.n_iter_ = _check_optimize_result(\"lbfgs\", opt_res, self.max_iter)\n"
     ]
    },
    {
     "name": "stdout",
     "output_type": "stream",
     "text": [
      "256 - GLS with avg smape 5.81: \n",
      "Model Number: 257 of 309 with model DatepartRegression for Validation 3\n",
      "257 - DatepartRegression with avg smape 5.8: \n",
      "Model Number: 258 of 309 with model ETS for Validation 3\n",
      "258 - ETS with avg smape 4.13: \n",
      "Model Number: 259 of 309 with model GLM for Validation 3\n",
      "259 - GLM with avg smape 4.15: \n",
      "Model Number: 260 of 309 with model DatepartRegression for Validation 3\n",
      "260 - DatepartRegression with avg smape 5.28: \n",
      "Model Number: 261 of 309 with model UnivariateMotif for Validation 3\n",
      "261 - UnivariateMotif with avg smape 4.36: \n",
      "Model Number: 262 of 309 with model GLM for Validation 3\n",
      "262 - GLM with avg smape 4.3: \n",
      "Model Number: 263 of 309 with model GLS for Validation 3\n",
      "263 - GLS with avg smape 3.62: \n",
      "Model Number: 264 of 309 with model DatepartRegression for Validation 3\n",
      "264 - DatepartRegression with avg smape 5.41: \n",
      "Model Number: 265 of 309 with model GLS for Validation 3\n",
      "265 - GLS with avg smape 3.99: \n",
      "Model Number: 266 of 309 with model GLS for Validation 3\n",
      "266 - GLS with avg smape 4.05: \n",
      "Model Number: 267 of 309 with model GLM for Validation 3\n",
      "267 - GLM with avg smape 4.29: \n",
      "Model Number: 268 of 309 with model ETS for Validation 3\n",
      "268 - ETS with avg smape 4.29: \n",
      "Model Number: 269 of 309 with model UnivariateMotif for Validation 3\n",
      "269 - UnivariateMotif with avg smape 3.0: \n",
      "Model Number: 270 of 309 with model RRVAR for Validation 3\n",
      "270 - RRVAR with avg smape 4.97: \n",
      "Model Number: 271 of 309 with model UnivariateMotif for Validation 3\n",
      "271 - UnivariateMotif with avg smape 4.41: \n",
      "Model Number: 272 of 309 with model RRVAR for Validation 3\n",
      "272 - RRVAR with avg smape 5.58: \n",
      "Model Number: 273 of 309 with model UnivariateMotif for Validation 3\n",
      "273 - UnivariateMotif with avg smape 3.93: \n",
      "Model Number: 274 of 309 with model ETS for Validation 3\n",
      "274 - ETS with avg smape 4.29: \n",
      "Model Number: 275 of 309 with model ETS for Validation 3\n",
      "275 - ETS with avg smape 3.7: \n",
      "Model Number: 276 of 309 with model ETS for Validation 3\n",
      "276 - ETS with avg smape 3.37: \n",
      "Model Number: 277 of 309 with model GLM for Validation 3\n",
      "277 - GLM with avg smape 5.22: \n",
      "Model Number: 278 of 309 with model ETS for Validation 3\n",
      "278 - ETS with avg smape 4.71: \n",
      "Model Number: 279 of 309 with model RRVAR for Validation 3\n",
      "279 - RRVAR with avg smape 3.59: \n",
      "Model Number: 280 of 309 with model RRVAR for Validation 3\n",
      "280 - RRVAR with avg smape 3.71: \n",
      "Model Number: 281 of 309 with model GLM for Validation 3\n",
      "281 - GLM with avg smape 9.43: \n",
      "Model Number: 282 of 309 with model UnivariateMotif for Validation 3\n",
      "282 - UnivariateMotif with avg smape 7.79: \n",
      "Model Number: 283 of 309 with model UnivariateMotif for Validation 3\n",
      "283 - UnivariateMotif with avg smape 7.89: \n",
      "Model Number: 284 of 309 with model RRVAR for Validation 3\n",
      "284 - RRVAR with avg smape 3.62: \n",
      "Model Number: 285 of 309 with model UnivariateMotif for Validation 3\n",
      "285 - UnivariateMotif with avg smape 4.31: \n",
      "Model Number: 286 of 309 with model UnivariateMotif for Validation 3\n",
      "286 - UnivariateMotif with avg smape 8.91: \n",
      "Model Number: 287 of 309 with model RRVAR for Validation 3\n",
      "287 - RRVAR with avg smape 3.72: \n",
      "Model Number: 288 of 309 with model ETS for Validation 3\n",
      "288 - ETS with avg smape 3.7: \n",
      "Model Number: 289 of 309 with model ETS for Validation 3\n",
      "289 - ETS with avg smape 3.53: \n",
      "Model Number: 290 of 309 with model RRVAR for Validation 3\n",
      "290 - RRVAR with avg smape 11.5: \n",
      "Model Number: 291 of 309 with model UnivariateMotif for Validation 3\n",
      "291 - UnivariateMotif with avg smape 6.09: \n",
      "Model Number: 292 of 309 with model UnivariateMotif for Validation 3\n",
      "292 - UnivariateMotif with avg smape 5.38: \n",
      "Model Number: 293 of 309 with model ETS for Validation 3\n",
      "293 - ETS with avg smape 22.16: \n",
      "Model Number: 294 of 309 with model GLM for Validation 3\n",
      "294 - GLM with avg smape 4.3: \n",
      "Model Number: 295 of 309 with model GLM for Validation 3\n",
      "295 - GLM with avg smape 4.26: \n",
      "Model Number: 296 of 309 with model UnivariateMotif for Validation 3\n",
      "296 - UnivariateMotif with avg smape 4.55: \n",
      "Model Number: 297 of 309 with model UnivariateMotif for Validation 3\n",
      "297 - UnivariateMotif with avg smape 5.2: \n",
      "Model Number: 298 of 309 with model UnivariateMotif for Validation 3\n",
      "298 - UnivariateMotif with avg smape 7.0: \n",
      "Model Number: 299 of 309 with model ETS for Validation 3\n",
      "299 - ETS with avg smape 3.49: \n",
      "Model Number: 300 of 309 with model ETS for Validation 3\n",
      "300 - ETS with avg smape 3.61: \n",
      "Model Number: 301 of 309 with model ETS for Validation 3\n",
      "301 - ETS with avg smape 14.03: \n",
      "Model Number: 302 of 309 with model GLM for Validation 3\n"
     ]
    },
    {
     "name": "stderr",
     "output_type": "stream",
     "text": [
      "C:\\Users\\moham\\AppData\\Local\\Packages\\PythonSoftwareFoundation.Python.3.12_qbz5n2kfra8p0\\LocalCache\\local-packages\\Python312\\site-packages\\statsmodels\\genmod\\families\\links.py:198: RuntimeWarning: overflow encountered in exp\n",
      "  t = np.exp(-z)\n"
     ]
    },
    {
     "name": "stdout",
     "output_type": "stream",
     "text": [
      "302 - GLM with avg smape 7.96: \n",
      "Model Number: 303 of 309 with model GLM for Validation 3\n",
      "303 - GLM with avg smape 27.68: \n",
      "Model Number: 304 of 309 with model FFT for Validation 3\n",
      "304 - FFT with avg smape 64.29: \n",
      "Model Number: 305 of 309 with model GLM for Validation 3\n",
      "305 - GLM with avg smape 195.95: \n",
      "Model Number: 306 of 309 with model GLM for Validation 3\n",
      "306 - GLM with avg smape 195.95: \n",
      "Model Number: 307 of 309 with model GLM for Validation 3\n",
      "307 - GLM with avg smape 147.29: \n",
      "Model Number: 308 of 309 with model FFT for Validation 3\n",
      "308 - FFT with avg smape 191.41: \n",
      "Model Number: 309 of 309 with model GLM for Validation 3\n",
      "309 - GLM with avg smape 167.0: \n",
      "Model Number: 3153 with model Ensemble in generation 22 of Ensembles\n"
     ]
    },
    {
     "name": "stderr",
     "output_type": "stream",
     "text": [
      "C:\\Users\\moham\\AppData\\Local\\Packages\\PythonSoftwareFoundation.Python.3.12_qbz5n2kfra8p0\\LocalCache\\local-packages\\Python312\\site-packages\\autots\\evaluator\\auto_model.py:2460: FutureWarning: Downcasting behavior in `replace` is deprecated and will be removed in a future version. To retain the old behavior, explicitly call `result.infer_objects(copy=False)`. To opt-in to the future behavior, set `pd.set_option('future.no_silent_downcasting', True)`\n",
      "  validation_results.model_results = validation_results.model_results.replace(\n"
     ]
    },
    {
     "name": "stdout",
     "output_type": "stream",
     "text": [
      "Model Number: 3154 with model Ensemble in generation 22 of Ensembles\n",
      "Model Number: 3155 with model Ensemble in generation 22 of Ensembles\n",
      "Model Number: 3156 with model Ensemble in generation 22 of Ensembles\n",
      "Model Number: 3157 with model Ensemble in generation 22 of Ensembles\n"
     ]
    },
    {
     "name": "stderr",
     "output_type": "stream",
     "text": [
      "C:\\Users\\moham\\AppData\\Local\\Packages\\PythonSoftwareFoundation.Python.3.12_qbz5n2kfra8p0\\LocalCache\\local-packages\\Python312\\site-packages\\numpy\\lib\\function_base.py:2897: RuntimeWarning: invalid value encountered in divide\n",
      "  c /= stddev[:, None]\n",
      "C:\\Users\\moham\\AppData\\Local\\Packages\\PythonSoftwareFoundation.Python.3.12_qbz5n2kfra8p0\\LocalCache\\local-packages\\Python312\\site-packages\\numpy\\lib\\function_base.py:2898: RuntimeWarning: invalid value encountered in divide\n",
      "  c /= stddev[None, :]\n"
     ]
    },
    {
     "name": "stdout",
     "output_type": "stream",
     "text": [
      "Model Number: 3158 with model Ensemble in generation 22 of Ensembles\n"
     ]
    },
    {
     "name": "stderr",
     "output_type": "stream",
     "text": [
      "C:\\Users\\moham\\AppData\\Local\\Packages\\PythonSoftwareFoundation.Python.3.12_qbz5n2kfra8p0\\LocalCache\\local-packages\\Python312\\site-packages\\numpy\\lib\\function_base.py:2897: RuntimeWarning: invalid value encountered in divide\n",
      "  c /= stddev[:, None]\n",
      "C:\\Users\\moham\\AppData\\Local\\Packages\\PythonSoftwareFoundation.Python.3.12_qbz5n2kfra8p0\\LocalCache\\local-packages\\Python312\\site-packages\\numpy\\lib\\function_base.py:2898: RuntimeWarning: invalid value encountered in divide\n",
      "  c /= stddev[None, :]\n"
     ]
    },
    {
     "name": "stdout",
     "output_type": "stream",
     "text": [
      "Model Number: 3159 with model Ensemble in generation 22 of Ensembles\n"
     ]
    },
    {
     "name": "stderr",
     "output_type": "stream",
     "text": [
      "C:\\Users\\moham\\AppData\\Local\\Packages\\PythonSoftwareFoundation.Python.3.12_qbz5n2kfra8p0\\LocalCache\\local-packages\\Python312\\site-packages\\numpy\\lib\\function_base.py:2897: RuntimeWarning: invalid value encountered in divide\n",
      "  c /= stddev[:, None]\n",
      "C:\\Users\\moham\\AppData\\Local\\Packages\\PythonSoftwareFoundation.Python.3.12_qbz5n2kfra8p0\\LocalCache\\local-packages\\Python312\\site-packages\\numpy\\lib\\function_base.py:2898: RuntimeWarning: invalid value encountered in divide\n",
      "  c /= stddev[None, :]\n"
     ]
    },
    {
     "name": "stdout",
     "output_type": "stream",
     "text": [
      "Model Number: 3160 with model Ensemble in generation 22 of Ensembles\n"
     ]
    },
    {
     "name": "stderr",
     "output_type": "stream",
     "text": [
      "C:\\Users\\moham\\AppData\\Local\\Packages\\PythonSoftwareFoundation.Python.3.12_qbz5n2kfra8p0\\LocalCache\\local-packages\\Python312\\site-packages\\numpy\\lib\\function_base.py:2897: RuntimeWarning: invalid value encountered in divide\n",
      "  c /= stddev[:, None]\n",
      "C:\\Users\\moham\\AppData\\Local\\Packages\\PythonSoftwareFoundation.Python.3.12_qbz5n2kfra8p0\\LocalCache\\local-packages\\Python312\\site-packages\\numpy\\lib\\function_base.py:2898: RuntimeWarning: invalid value encountered in divide\n",
      "  c /= stddev[None, :]\n"
     ]
    },
    {
     "name": "stdout",
     "output_type": "stream",
     "text": [
      "Validation Round: 1\n",
      "Model Number: 1 of 8 with model Ensemble for Validation 1\n",
      "📈 1 - Ensemble with avg smape 1.66: \n",
      "Model Number: 2 of 8 with model Ensemble for Validation 1\n",
      "2 - Ensemble with avg smape 1.84: \n",
      "Model Number: 3 of 8 with model Ensemble for Validation 1\n",
      "3 - Ensemble with avg smape 1.66: \n",
      "Model Number: 4 of 8 with model Ensemble for Validation 1\n",
      "4 - Ensemble with avg smape 2.16: \n",
      "Model Number: 5 of 8 with model Ensemble for Validation 1\n"
     ]
    },
    {
     "name": "stderr",
     "output_type": "stream",
     "text": [
      "C:\\Users\\moham\\AppData\\Local\\Packages\\PythonSoftwareFoundation.Python.3.12_qbz5n2kfra8p0\\LocalCache\\local-packages\\Python312\\site-packages\\numpy\\lib\\function_base.py:2897: RuntimeWarning: invalid value encountered in divide\n",
      "  c /= stddev[:, None]\n",
      "C:\\Users\\moham\\AppData\\Local\\Packages\\PythonSoftwareFoundation.Python.3.12_qbz5n2kfra8p0\\LocalCache\\local-packages\\Python312\\site-packages\\numpy\\lib\\function_base.py:2898: RuntimeWarning: invalid value encountered in divide\n",
      "  c /= stddev[None, :]\n"
     ]
    },
    {
     "name": "stdout",
     "output_type": "stream",
     "text": [
      "5 - Ensemble with avg smape 1.89: \n",
      "Model Number: 6 of 8 with model Ensemble for Validation 1\n"
     ]
    },
    {
     "name": "stderr",
     "output_type": "stream",
     "text": [
      "C:\\Users\\moham\\AppData\\Local\\Packages\\PythonSoftwareFoundation.Python.3.12_qbz5n2kfra8p0\\LocalCache\\local-packages\\Python312\\site-packages\\numpy\\lib\\function_base.py:2897: RuntimeWarning: invalid value encountered in divide\n",
      "  c /= stddev[:, None]\n",
      "C:\\Users\\moham\\AppData\\Local\\Packages\\PythonSoftwareFoundation.Python.3.12_qbz5n2kfra8p0\\LocalCache\\local-packages\\Python312\\site-packages\\numpy\\lib\\function_base.py:2898: RuntimeWarning: invalid value encountered in divide\n",
      "  c /= stddev[None, :]\n"
     ]
    },
    {
     "name": "stdout",
     "output_type": "stream",
     "text": [
      "6 - Ensemble with avg smape 2.47: \n",
      "Model Number: 7 of 8 with model Ensemble for Validation 1\n"
     ]
    },
    {
     "name": "stderr",
     "output_type": "stream",
     "text": [
      "C:\\Users\\moham\\AppData\\Local\\Packages\\PythonSoftwareFoundation.Python.3.12_qbz5n2kfra8p0\\LocalCache\\local-packages\\Python312\\site-packages\\numpy\\lib\\function_base.py:2897: RuntimeWarning: invalid value encountered in divide\n",
      "  c /= stddev[:, None]\n",
      "C:\\Users\\moham\\AppData\\Local\\Packages\\PythonSoftwareFoundation.Python.3.12_qbz5n2kfra8p0\\LocalCache\\local-packages\\Python312\\site-packages\\numpy\\lib\\function_base.py:2898: RuntimeWarning: invalid value encountered in divide\n",
      "  c /= stddev[None, :]\n"
     ]
    },
    {
     "name": "stdout",
     "output_type": "stream",
     "text": [
      "7 - Ensemble with avg smape 1.84: \n",
      "Model Number: 8 of 8 with model Ensemble for Validation 1\n"
     ]
    },
    {
     "name": "stderr",
     "output_type": "stream",
     "text": [
      "C:\\Users\\moham\\AppData\\Local\\Packages\\PythonSoftwareFoundation.Python.3.12_qbz5n2kfra8p0\\LocalCache\\local-packages\\Python312\\site-packages\\numpy\\lib\\function_base.py:2897: RuntimeWarning: invalid value encountered in divide\n",
      "  c /= stddev[:, None]\n",
      "C:\\Users\\moham\\AppData\\Local\\Packages\\PythonSoftwareFoundation.Python.3.12_qbz5n2kfra8p0\\LocalCache\\local-packages\\Python312\\site-packages\\numpy\\lib\\function_base.py:2898: RuntimeWarning: invalid value encountered in divide\n",
      "  c /= stddev[None, :]\n"
     ]
    },
    {
     "name": "stdout",
     "output_type": "stream",
     "text": [
      "8 - Ensemble with avg smape 1.81: \n",
      "Validation Round: 2\n",
      "Model Number: 1 of 8 with model Ensemble for Validation 2\n",
      "📈 1 - Ensemble with avg smape 3.27: \n",
      "Model Number: 2 of 8 with model Ensemble for Validation 2\n",
      "2 - Ensemble with avg smape 3.89: \n",
      "Model Number: 3 of 8 with model Ensemble for Validation 2\n",
      "3 - Ensemble with avg smape 3.27: \n",
      "Model Number: 4 of 8 with model Ensemble for Validation 2\n",
      "4 - Ensemble with avg smape 4.28: \n",
      "Model Number: 5 of 8 with model Ensemble for Validation 2\n"
     ]
    },
    {
     "name": "stderr",
     "output_type": "stream",
     "text": [
      "C:\\Users\\moham\\AppData\\Local\\Packages\\PythonSoftwareFoundation.Python.3.12_qbz5n2kfra8p0\\LocalCache\\local-packages\\Python312\\site-packages\\numpy\\lib\\function_base.py:2897: RuntimeWarning: invalid value encountered in divide\n",
      "  c /= stddev[:, None]\n",
      "C:\\Users\\moham\\AppData\\Local\\Packages\\PythonSoftwareFoundation.Python.3.12_qbz5n2kfra8p0\\LocalCache\\local-packages\\Python312\\site-packages\\numpy\\lib\\function_base.py:2898: RuntimeWarning: invalid value encountered in divide\n",
      "  c /= stddev[None, :]\n"
     ]
    },
    {
     "name": "stdout",
     "output_type": "stream",
     "text": [
      "5 - Ensemble with avg smape 4.67: \n",
      "Model Number: 6 of 8 with model Ensemble for Validation 2\n"
     ]
    },
    {
     "name": "stderr",
     "output_type": "stream",
     "text": [
      "C:\\Users\\moham\\AppData\\Local\\Packages\\PythonSoftwareFoundation.Python.3.12_qbz5n2kfra8p0\\LocalCache\\local-packages\\Python312\\site-packages\\numpy\\lib\\function_base.py:2897: RuntimeWarning: invalid value encountered in divide\n",
      "  c /= stddev[:, None]\n",
      "C:\\Users\\moham\\AppData\\Local\\Packages\\PythonSoftwareFoundation.Python.3.12_qbz5n2kfra8p0\\LocalCache\\local-packages\\Python312\\site-packages\\numpy\\lib\\function_base.py:2898: RuntimeWarning: invalid value encountered in divide\n",
      "  c /= stddev[None, :]\n"
     ]
    },
    {
     "name": "stdout",
     "output_type": "stream",
     "text": [
      "6 - Ensemble with avg smape 4.63: \n",
      "Model Number: 7 of 8 with model Ensemble for Validation 2\n"
     ]
    },
    {
     "name": "stderr",
     "output_type": "stream",
     "text": [
      "C:\\Users\\moham\\AppData\\Local\\Packages\\PythonSoftwareFoundation.Python.3.12_qbz5n2kfra8p0\\LocalCache\\local-packages\\Python312\\site-packages\\numpy\\lib\\function_base.py:2897: RuntimeWarning: invalid value encountered in divide\n",
      "  c /= stddev[:, None]\n",
      "C:\\Users\\moham\\AppData\\Local\\Packages\\PythonSoftwareFoundation.Python.3.12_qbz5n2kfra8p0\\LocalCache\\local-packages\\Python312\\site-packages\\numpy\\lib\\function_base.py:2898: RuntimeWarning: invalid value encountered in divide\n",
      "  c /= stddev[None, :]\n"
     ]
    },
    {
     "name": "stdout",
     "output_type": "stream",
     "text": [
      "7 - Ensemble with avg smape 4.64: \n",
      "Model Number: 8 of 8 with model Ensemble for Validation 2\n"
     ]
    },
    {
     "name": "stderr",
     "output_type": "stream",
     "text": [
      "C:\\Users\\moham\\AppData\\Local\\Packages\\PythonSoftwareFoundation.Python.3.12_qbz5n2kfra8p0\\LocalCache\\local-packages\\Python312\\site-packages\\numpy\\lib\\function_base.py:2897: RuntimeWarning: invalid value encountered in divide\n",
      "  c /= stddev[:, None]\n",
      "C:\\Users\\moham\\AppData\\Local\\Packages\\PythonSoftwareFoundation.Python.3.12_qbz5n2kfra8p0\\LocalCache\\local-packages\\Python312\\site-packages\\numpy\\lib\\function_base.py:2898: RuntimeWarning: invalid value encountered in divide\n",
      "  c /= stddev[None, :]\n"
     ]
    },
    {
     "name": "stdout",
     "output_type": "stream",
     "text": [
      "8 - Ensemble with avg smape 6.08: \n",
      "Validation Round: 3\n",
      "Model Number: 1 of 8 with model Ensemble for Validation 3\n",
      "📈 1 - Ensemble with avg smape 3.23: \n",
      "Model Number: 2 of 8 with model Ensemble for Validation 3\n",
      "2 - Ensemble with avg smape 3.29: \n",
      "Model Number: 3 of 8 with model Ensemble for Validation 3\n",
      "3 - Ensemble with avg smape 3.23: \n",
      "Model Number: 4 of 8 with model Ensemble for Validation 3\n",
      "4 - Ensemble with avg smape 3.29: \n",
      "Model Number: 5 of 8 with model Ensemble for Validation 3\n"
     ]
    },
    {
     "name": "stderr",
     "output_type": "stream",
     "text": [
      "C:\\Users\\moham\\AppData\\Local\\Packages\\PythonSoftwareFoundation.Python.3.12_qbz5n2kfra8p0\\LocalCache\\local-packages\\Python312\\site-packages\\numpy\\lib\\function_base.py:2897: RuntimeWarning: invalid value encountered in divide\n",
      "  c /= stddev[:, None]\n",
      "C:\\Users\\moham\\AppData\\Local\\Packages\\PythonSoftwareFoundation.Python.3.12_qbz5n2kfra8p0\\LocalCache\\local-packages\\Python312\\site-packages\\numpy\\lib\\function_base.py:2898: RuntimeWarning: invalid value encountered in divide\n",
      "  c /= stddev[None, :]\n"
     ]
    },
    {
     "name": "stdout",
     "output_type": "stream",
     "text": [
      "5 - Ensemble with avg smape 3.54: \n",
      "Model Number: 6 of 8 with model Ensemble for Validation 3\n"
     ]
    },
    {
     "name": "stderr",
     "output_type": "stream",
     "text": [
      "C:\\Users\\moham\\AppData\\Local\\Packages\\PythonSoftwareFoundation.Python.3.12_qbz5n2kfra8p0\\LocalCache\\local-packages\\Python312\\site-packages\\numpy\\lib\\function_base.py:2897: RuntimeWarning: invalid value encountered in divide\n",
      "  c /= stddev[:, None]\n",
      "C:\\Users\\moham\\AppData\\Local\\Packages\\PythonSoftwareFoundation.Python.3.12_qbz5n2kfra8p0\\LocalCache\\local-packages\\Python312\\site-packages\\numpy\\lib\\function_base.py:2898: RuntimeWarning: invalid value encountered in divide\n",
      "  c /= stddev[None, :]\n"
     ]
    },
    {
     "name": "stdout",
     "output_type": "stream",
     "text": [
      "6 - Ensemble with avg smape 3.53: \n",
      "Model Number: 7 of 8 with model Ensemble for Validation 3\n"
     ]
    },
    {
     "name": "stderr",
     "output_type": "stream",
     "text": [
      "C:\\Users\\moham\\AppData\\Local\\Packages\\PythonSoftwareFoundation.Python.3.12_qbz5n2kfra8p0\\LocalCache\\local-packages\\Python312\\site-packages\\numpy\\lib\\function_base.py:2897: RuntimeWarning: invalid value encountered in divide\n",
      "  c /= stddev[:, None]\n",
      "C:\\Users\\moham\\AppData\\Local\\Packages\\PythonSoftwareFoundation.Python.3.12_qbz5n2kfra8p0\\LocalCache\\local-packages\\Python312\\site-packages\\numpy\\lib\\function_base.py:2898: RuntimeWarning: invalid value encountered in divide\n",
      "  c /= stddev[None, :]\n"
     ]
    },
    {
     "name": "stdout",
     "output_type": "stream",
     "text": [
      "7 - Ensemble with avg smape 3.49: \n",
      "Model Number: 8 of 8 with model Ensemble for Validation 3\n"
     ]
    },
    {
     "name": "stderr",
     "output_type": "stream",
     "text": [
      "C:\\Users\\moham\\AppData\\Local\\Packages\\PythonSoftwareFoundation.Python.3.12_qbz5n2kfra8p0\\LocalCache\\local-packages\\Python312\\site-packages\\numpy\\lib\\function_base.py:2897: RuntimeWarning: invalid value encountered in divide\n",
      "  c /= stddev[:, None]\n",
      "C:\\Users\\moham\\AppData\\Local\\Packages\\PythonSoftwareFoundation.Python.3.12_qbz5n2kfra8p0\\LocalCache\\local-packages\\Python312\\site-packages\\numpy\\lib\\function_base.py:2898: RuntimeWarning: invalid value encountered in divide\n",
      "  c /= stddev[None, :]\n"
     ]
    },
    {
     "name": "stdout",
     "output_type": "stream",
     "text": [
      "8 - Ensemble with avg smape 3.53: \n"
     ]
    },
    {
     "name": "stderr",
     "output_type": "stream",
     "text": [
      "C:\\Users\\moham\\AppData\\Local\\Packages\\PythonSoftwareFoundation.Python.3.12_qbz5n2kfra8p0\\LocalCache\\local-packages\\Python312\\site-packages\\autots\\evaluator\\auto_model.py:2460: FutureWarning: Downcasting behavior in `replace` is deprecated and will be removed in a future version. To retain the old behavior, explicitly call `result.infer_objects(copy=False)`. To opt-in to the future behavior, set `pd.set_option('future.no_silent_downcasting', True)`\n",
      "  validation_results.model_results = validation_results.model_results.replace(\n",
      "C:\\Users\\moham\\AppData\\Local\\Packages\\PythonSoftwareFoundation.Python.3.12_qbz5n2kfra8p0\\LocalCache\\local-packages\\Python312\\site-packages\\autots\\evaluator\\auto_model.py:2460: FutureWarning: Downcasting behavior in `replace` is deprecated and will be removed in a future version. To retain the old behavior, explicitly call `result.infer_objects(copy=False)`. To opt-in to the future behavior, set `pd.set_option('future.no_silent_downcasting', True)`\n",
      "  validation_results.model_results = validation_results.model_results.replace(\n"
     ]
    }
   ],
   "source": [
    "from autots import AutoTS\n",
    "model = AutoTS(forecast_length=10, frequency='infer', \n",
    "               ensemble='simple', drop_data_older_than_periods=200)\n",
    "model = model.fit(data, date_col='Date', value_col='Close', id_col=None)"
   ]
  },
  {
   "cell_type": "code",
   "execution_count": 17,
   "id": "4b7c80af-f874-454f-bca1-0242db334333",
   "metadata": {},
   "outputs": [],
   "source": [
    "prediction = model.predict()"
   ]
  },
  {
   "cell_type": "code",
   "execution_count": 18,
   "id": "4a304019-b27a-4edf-aca4-78b856f97275",
   "metadata": {},
   "outputs": [],
   "source": [
    "forecast = prediction.forecast"
   ]
  },
  {
   "cell_type": "code",
   "execution_count": 19,
   "id": "511b5c0a-ed2a-4abc-9236-7c3573f5ae19",
   "metadata": {},
   "outputs": [
    {
     "name": "stdout",
     "output_type": "stream",
     "text": [
      "Stock Price Predictions for NVIDIA\n"
     ]
    }
   ],
   "source": [
    "print(\"Stock Price Predictions for NVIDIA\")"
   ]
  },
  {
   "cell_type": "code",
   "execution_count": 20,
   "id": "abfb3140-439b-4659-9516-1ff132a47575",
   "metadata": {},
   "outputs": [
    {
     "name": "stdout",
     "output_type": "stream",
     "text": [
      "                 Close\n",
      "2024-06-26  126.172876\n",
      "2024-06-27  126.872706\n",
      "2024-06-28  125.200780\n",
      "2024-06-29  125.246622\n",
      "2024-06-30  123.505856\n",
      "2024-07-01  121.834998\n",
      "2024-07-02  119.674126\n",
      "2024-07-03  121.203711\n",
      "2024-07-04  121.671208\n",
      "2024-07-05  122.216859\n"
     ]
    }
   ],
   "source": [
    "print(forecast)"
   ]
  },
  {
   "cell_type": "code",
   "execution_count": null,
   "id": "9d522120-3da6-4029-9ade-f59aa96808ea",
   "metadata": {},
   "outputs": [],
   "source": []
  }
 ],
 "metadata": {
  "kernelspec": {
   "display_name": "Python 3 (ipykernel)",
   "language": "python",
   "name": "python3"
  },
  "language_info": {
   "codemirror_mode": {
    "name": "ipython",
    "version": 3
   },
   "file_extension": ".py",
   "mimetype": "text/x-python",
   "name": "python",
   "nbconvert_exporter": "python",
   "pygments_lexer": "ipython3",
   "version": "3.12.4"
  }
 },
 "nbformat": 4,
 "nbformat_minor": 5
}
